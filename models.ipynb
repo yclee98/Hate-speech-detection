{
 "cells": [
  {
   "attachments": {},
   "cell_type": "markdown",
   "metadata": {},
   "source": [
    "# Start"
   ]
  },
  {
   "cell_type": "code",
   "execution_count": 2,
   "metadata": {},
   "outputs": [],
   "source": [
    "import pandas as pd\n",
    "import numpy as np\n",
    "import pickle \n",
    "\n",
    "import seaborn as sb\n",
    "import matplotlib.pyplot as plt\n",
    "\n",
    "from sklearn.model_selection import train_test_split\n",
    "\n",
    "from sklearn.metrics import confusion_matrix\n",
    "from sklearn.metrics import classification_report"
   ]
  },
  {
   "cell_type": "code",
   "execution_count": 1,
   "metadata": {},
   "outputs": [],
   "source": [
    "# maximum text\n",
    "# sb.set()\n",
    "# pd.set_option('display.max_colwidth', None)"
   ]
  },
  {
   "attachments": {},
   "cell_type": "markdown",
   "metadata": {},
   "source": [
    "# Load dataset"
   ]
  },
  {
   "attachments": {},
   "cell_type": "markdown",
   "metadata": {},
   "source": [
    "## GabHateCorpus"
   ]
  },
  {
   "cell_type": "code",
   "execution_count": 47,
   "metadata": {},
   "outputs": [
    {
     "data": {
      "text/plain": [
       "class\n",
       "Non-Hate    23769\n",
       "Hate         3344\n",
       "Name: count, dtype: int64"
      ]
     },
     "execution_count": 47,
     "metadata": {},
     "output_type": "execute_result"
    }
   ],
   "source": [
    "dataset_name = \"GabHateCorpus\"\n",
    "filepath = \"Dataset/GabHateCorpus/\"\n",
    "df = pd.read_csv(filepath+\"data_processed.csv\")\n",
    "df['class'].value_counts()"
   ]
  },
  {
   "attachments": {},
   "cell_type": "markdown",
   "metadata": {},
   "source": [
    "## SE2019 dataset"
   ]
  },
  {
   "cell_type": "code",
   "execution_count": 40,
   "metadata": {},
   "outputs": [
    {
     "data": {
      "text/plain": [
       "class\n",
       "Non-Hate    5195\n",
       "Hate        3781\n",
       "Name: count, dtype: int64"
      ]
     },
     "execution_count": 40,
     "metadata": {},
     "output_type": "execute_result"
    }
   ],
   "source": [
    "dataset_name = \"SE2019\"\n",
    "filepath = \"Dataset/SE2019/\"\n",
    "df = pd.read_csv(filepath+\"data_processed.csv\")\n",
    "df['class'].value_counts()"
   ]
  },
  {
   "attachments": {},
   "cell_type": "markdown",
   "metadata": {},
   "source": [
    "## data analyze"
   ]
  },
  {
   "cell_type": "code",
   "execution_count": 4,
   "metadata": {},
   "outputs": [
    {
     "data": {
      "text/html": [
       "<div>\n",
       "<style scoped>\n",
       "    .dataframe tbody tr th:only-of-type {\n",
       "        vertical-align: middle;\n",
       "    }\n",
       "\n",
       "    .dataframe tbody tr th {\n",
       "        vertical-align: top;\n",
       "    }\n",
       "\n",
       "    .dataframe thead th {\n",
       "        text-align: right;\n",
       "    }\n",
       "</style>\n",
       "<table border=\"1\" class=\"dataframe\">\n",
       "  <thead>\n",
       "    <tr style=\"text-align: right;\">\n",
       "      <th></th>\n",
       "      <th>class</th>\n",
       "      <th>text</th>\n",
       "      <th>hate</th>\n",
       "    </tr>\n",
       "  </thead>\n",
       "  <tbody>\n",
       "    <tr>\n",
       "      <th>0</th>\n",
       "      <td>Non-Hate</td>\n",
       "      <td>likely converted islam due nature suitable isl...</td>\n",
       "      <td>0</td>\n",
       "    </tr>\n",
       "    <tr>\n",
       "      <th>1</th>\n",
       "      <td>Non-Hate</td>\n",
       "      <td>ford lied psychologist records seem indicate s...</td>\n",
       "      <td>0</td>\n",
       "    </tr>\n",
       "    <tr>\n",
       "      <th>2</th>\n",
       "      <td>Non-Hate</td>\n",
       "      <td>jobs education ending abuse nation ca</td>\n",
       "      <td>0</td>\n",
       "    </tr>\n",
       "    <tr>\n",
       "      <th>3</th>\n",
       "      <td>Non-Hate</td>\n",
       "      <td>share lot values like many dont call alt right...</td>\n",
       "      <td>0</td>\n",
       "    </tr>\n",
       "    <tr>\n",
       "      <th>4</th>\n",
       "      <td>Non-Hate</td>\n",
       "      <td>ready get back blogging #recipes #foodphotography</td>\n",
       "      <td>0</td>\n",
       "    </tr>\n",
       "  </tbody>\n",
       "</table>\n",
       "</div>"
      ],
      "text/plain": [
       "      class                                               text  hate\n",
       "0  Non-Hate  likely converted islam due nature suitable isl...     0\n",
       "1  Non-Hate  ford lied psychologist records seem indicate s...     0\n",
       "2  Non-Hate              jobs education ending abuse nation ca     0\n",
       "3  Non-Hate  share lot values like many dont call alt right...     0\n",
       "4  Non-Hate  ready get back blogging #recipes #foodphotography     0"
      ]
     },
     "execution_count": 4,
     "metadata": {},
     "output_type": "execute_result"
    }
   ],
   "source": [
    "df.head(5)"
   ]
  },
  {
   "cell_type": "code",
   "execution_count": 5,
   "metadata": {},
   "outputs": [
    {
     "data": {
      "text/html": [
       "<div>\n",
       "<style scoped>\n",
       "    .dataframe tbody tr th:only-of-type {\n",
       "        vertical-align: middle;\n",
       "    }\n",
       "\n",
       "    .dataframe tbody tr th {\n",
       "        vertical-align: top;\n",
       "    }\n",
       "\n",
       "    .dataframe thead th {\n",
       "        text-align: right;\n",
       "    }\n",
       "</style>\n",
       "<table border=\"1\" class=\"dataframe\">\n",
       "  <thead>\n",
       "    <tr style=\"text-align: right;\">\n",
       "      <th></th>\n",
       "      <th>class</th>\n",
       "      <th>text</th>\n",
       "      <th>hate</th>\n",
       "    </tr>\n",
       "  </thead>\n",
       "  <tbody>\n",
       "  </tbody>\n",
       "</table>\n",
       "</div>"
      ],
      "text/plain": [
       "Empty DataFrame\n",
       "Columns: [class, text, hate]\n",
       "Index: []"
      ]
     },
     "execution_count": 5,
     "metadata": {},
     "output_type": "execute_result"
    }
   ],
   "source": [
    "df[df['text'].isnull()]"
   ]
  },
  {
   "attachments": {},
   "cell_type": "markdown",
   "metadata": {},
   "source": [
    "# Split dataset"
   ]
  },
  {
   "cell_type": "code",
   "execution_count": 48,
   "metadata": {},
   "outputs": [
    {
     "name": "stdout",
     "output_type": "stream",
     "text": [
      "Train Set : (18979,) (18979,)\n",
      "Test Set  : (8134,) (8134,)\n"
     ]
    }
   ],
   "source": [
    "x = np.array(df[\"text\"])\n",
    "y = np.array(df[\"class\"])\n",
    "\n",
    "x_train, x_test, y_train, y_test = train_test_split(x,y, test_size = 0.30, random_state=42) #random state ensure same sample\n",
    "print(\"Train Set :\", x_train.shape, y_train.shape) \n",
    "print(\"Test Set  :\", x_test.shape, y_test.shape) \n",
    "\n",
    "# y in digit form\n",
    "y_train_binary = np.array(list(map(lambda x:1 if x==\"Hate\" else 0, y_train)))\n",
    "y_test_binary = np.array(list(map(lambda x:1 if x==\"Hate\" else 0, y_test)))"
   ]
  },
  {
   "attachments": {},
   "cell_type": "markdown",
   "metadata": {},
   "source": [
    "se2019 = 'austria wonder countri refug bill see socialwelfar also help get televisionset refug famili styria ', <br>\n",
    "gab = mainstream muslims murder gays ',"
   ]
  },
  {
   "cell_type": "code",
   "execution_count": 49,
   "metadata": {},
   "outputs": [
    {
     "data": {
      "text/plain": [
       "array(['mainstream muslims murder gays ',\n",
       "       'lds church christian church could stomach ',\n",
       "       'exactly voted really believed himeven stuck around longer one betrayal another cut losses accepted reality imo still refuse bad hillary supporters maybe worse',\n",
       "       'didnt say anything trump neo one votered',\n",
       "       'sitting united states senator admits primary goal help people united states citizens ',\n",
       "       'nine ten underage moroccans sweden caught lying age ',\n",
       "       'youre referring youcis youre one viscerally repulsed art apparently shes mischling raised single parent wondering biosocial aspects inherited degeneracy really gross stuff ',\n",
       "       'seriously people drink heartattack realize actually jewish symbols ya know ',\n",
       "       'thing mental prisons worst prison guard',\n",
       "       'couple fine looking gents right'], dtype=object)"
      ]
     },
     "execution_count": 49,
     "metadata": {},
     "output_type": "execute_result"
    }
   ],
   "source": [
    "x_train[:10]"
   ]
  },
  {
   "attachments": {},
   "cell_type": "markdown",
   "metadata": {},
   "source": [
    "# Feature engineering - Word embeding"
   ]
  },
  {
   "attachments": {},
   "cell_type": "markdown",
   "metadata": {},
   "source": [
    "- Word2Vec and GloVe are based on static word embeddings while Transformers are based on dynamic word embeddings.\n",
    "\n",
    "- Many different models for creating pre-trained word embeddings such as Word2Vec, GloVe, fastText, and BioWordVec "
   ]
  },
  {
   "attachments": {},
   "cell_type": "markdown",
   "metadata": {},
   "source": [
    "- https://www.analyticsvidhya.com/blog/2017/06/word-embeddings-count-word2veec/\n",
    "- CountVectorizer, Tfidftransformer & Tfidfvectorizer are Frequency based Word Embedding technique\n",
    "- Tfidftransformer acts on sparse matrix and Tfidfvectorizer acts on raw text data\n",
    "- Tfidfvectorizer = countVectorizater + Tfidftransformer\n",
    "\n",
    "- https://www.analyticsvidhya.com/blog/2018/07/hands-on-sentiment-analysis-dataset-python/\n",
    "- vectorizer = word embedding process of converting text data to numerical vector"
   ]
  },
  {
   "cell_type": "code",
   "execution_count": 11,
   "metadata": {},
   "outputs": [],
   "source": [
    "from sklearn.pipeline import Pipeline\n",
    "from sklearn.feature_extraction.text import CountVectorizer\n",
    "from sklearn.feature_extraction.text import TfidfVectorizer"
   ]
  },
  {
   "attachments": {},
   "cell_type": "markdown",
   "metadata": {},
   "source": [
    "## Word2Vec"
   ]
  },
  {
   "attachments": {},
   "cell_type": "markdown",
   "metadata": {},
   "source": [
    "- https://spotintelligence.com/2023/02/15/word2vec-for-text-classification/#:~:text=Word2Vec%20is%20a%20popular%20algorithm,a%20large%20corpus%20of%20text\n",
    "- Word2vec is not a single algorithm but a combination of two techniques – CBOW(Continuous bag of words) and Skip-gram model."
   ]
  },
  {
   "cell_type": "code",
   "execution_count": 9,
   "metadata": {},
   "outputs": [],
   "source": [
    "from gensim.models import Word2Vec"
   ]
  },
  {
   "cell_type": "code",
   "execution_count": 10,
   "metadata": {},
   "outputs": [],
   "source": [
    "class w2vVectorizer():\n",
    "    def __init__(self) -> None:\n",
    "        self.w2v_model = None\n",
    "    \n",
    "    def w2v_vectorizer(self,sentence):\n",
    "        # vectorize the text data\n",
    "        words = sentence.split()\n",
    "        words_vec = [self.w2v_model.wv[word] for word in words if word in self.w2v_model.wv]\n",
    "        if len(words_vec) == 0:\n",
    "            return np.zeros(100)\n",
    "        words_vec = np.array(words_vec)\n",
    "        return words_vec.mean(axis=0)\n",
    "    \n",
    "    def fit(self, x, y=None):\n",
    "        # train the model when fit the pipeline\n",
    "        sentences = [sentence.split() for sentence in x]\n",
    "        self.w2v_model = Word2Vec(sentences, vector_size=100, window=5, min_count=2, workers=4)\n",
    "        return self\n",
    "    \n",
    "    def transform(self, x, y=None):\n",
    "        # when use fit or transform on the pipeline \n",
    "        return np.array([self.w2v_vectorizer(sentence) for sentence in x])"
   ]
  },
  {
   "attachments": {},
   "cell_type": "markdown",
   "metadata": {},
   "source": [
    "# Machine learning"
   ]
  },
  {
   "cell_type": "code",
   "execution_count": 10,
   "metadata": {},
   "outputs": [],
   "source": [
    "# save model\n",
    "def save_model(model, model_name):\n",
    "    filename = f\"models/{model_name}.pickle\"\n",
    "    pickle.dump(model, open(filename,\"wb\"))"
   ]
  },
  {
   "attachments": {},
   "cell_type": "markdown",
   "metadata": {},
   "source": [
    "## Decision Tree"
   ]
  },
  {
   "cell_type": "code",
   "execution_count": 14,
   "metadata": {},
   "outputs": [],
   "source": [
    "#convert given text to a vector base\n",
    "from sklearn.tree import DecisionTreeClassifier"
   ]
  },
  {
   "cell_type": "code",
   "execution_count": 424,
   "metadata": {},
   "outputs": [],
   "source": [
    "model = Pipeline([('vect', CountVectorizer()),\n",
    "               ('clf', DecisionTreeClassifier()),\n",
    "              ])\n",
    "model_name = \"dtc\"\n",
    "model.fit(x_train, y_train)\n",
    "save_model(model,model_name)"
   ]
  },
  {
   "cell_type": "code",
   "execution_count": 232,
   "metadata": {},
   "outputs": [],
   "source": [
    "model = Pipeline([('vect', TfidfVectorizer()),\n",
    "               ('clf', DecisionTreeClassifier()),\n",
    "              ])\n",
    "model_name = \"dtc-tfid\"\n",
    "model.fit(x_train, y_train)\n",
    "save_model(model,model_name)"
   ]
  },
  {
   "cell_type": "code",
   "execution_count": 233,
   "metadata": {},
   "outputs": [],
   "source": [
    "model = Pipeline([('vect', w2vVectorizer()),\n",
    "               ('clf', DecisionTreeClassifier()),\n",
    "              ])\n",
    "model_name = \"dtc-w2v\"\n",
    "model.fit(x_train, y_train)\n",
    "save_model(model,model_name)"
   ]
  },
  {
   "attachments": {},
   "cell_type": "markdown",
   "metadata": {},
   "source": [
    "## Support Vector Machine"
   ]
  },
  {
   "attachments": {},
   "cell_type": "markdown",
   "metadata": {},
   "source": [
    "- supervisied learning algorithm\n",
    "- Unlike neural networks, SVMs can work with very small datasets and are not prone to overfitting."
   ]
  },
  {
   "cell_type": "code",
   "execution_count": 39,
   "metadata": {},
   "outputs": [],
   "source": [
    "from sklearn.linear_model import SGDClassifier"
   ]
  },
  {
   "cell_type": "code",
   "execution_count": 234,
   "metadata": {},
   "outputs": [],
   "source": [
    "model = Pipeline([('vect', CountVectorizer()),\n",
    "                ('clf', SGDClassifier(loss='hinge', penalty='l2',alpha=1e-3, random_state=42, max_iter=5, tol=None)),\n",
    "               ])\n",
    "model_name = \"svm\"\n",
    "model.fit(x_train, y_train)\n",
    "save_model(model, model_name)"
   ]
  },
  {
   "cell_type": "code",
   "execution_count": 235,
   "metadata": {},
   "outputs": [],
   "source": [
    "model = Pipeline([('vect', TfidfVectorizer()),\n",
    "               ('clf', SGDClassifier(loss='hinge', penalty='l2',alpha=1e-3, random_state=42, max_iter=5, tol=None)),\n",
    "              ])\n",
    "model_name = \"svm-tfid\"\n",
    "model.fit(x_train, y_train)\n",
    "save_model(model, model_name)"
   ]
  },
  {
   "cell_type": "code",
   "execution_count": 236,
   "metadata": {},
   "outputs": [],
   "source": [
    "model = Pipeline([('vect', w2vVectorizer()),\n",
    "               ('clf', SGDClassifier(loss='hinge', penalty='l2',alpha=1e-3, random_state=42, max_iter=5, tol=None)),\n",
    "              ])\n",
    "model_name = \"svm-w2v\"\n",
    "model.fit(x_train, y_train)\n",
    "save_model(model, model_name)"
   ]
  },
  {
   "attachments": {},
   "cell_type": "markdown",
   "metadata": {},
   "source": [
    "## Logistic Regression "
   ]
  },
  {
   "cell_type": "code",
   "execution_count": 46,
   "metadata": {},
   "outputs": [],
   "source": [
    "from sklearn.linear_model import LogisticRegression"
   ]
  },
  {
   "cell_type": "code",
   "execution_count": 237,
   "metadata": {},
   "outputs": [],
   "source": [
    "model = Pipeline([('vect', CountVectorizer()),\n",
    "        ('clf', LogisticRegression(n_jobs=1, C=1e5,max_iter=6300)),\n",
    "        ])\n",
    "model_name = \"lr\"\n",
    "model.fit(x_train, y_train)\n",
    "save_model(model, model_name)"
   ]
  },
  {
   "cell_type": "code",
   "execution_count": 238,
   "metadata": {},
   "outputs": [],
   "source": [
    "model = Pipeline([('vect', TfidfVectorizer()),\n",
    "        ('clf', LogisticRegression(n_jobs=1, C=1e5,max_iter=6300)),\n",
    "        ])\n",
    "model_name = \"lr-tfid\"\n",
    "model.fit(x_train, y_train)\n",
    "save_model(model, model_name)"
   ]
  },
  {
   "cell_type": "code",
   "execution_count": 239,
   "metadata": {},
   "outputs": [],
   "source": [
    "model = Pipeline([('vect', w2vVectorizer()),\n",
    "        ('clf', LogisticRegression(n_jobs=1, C=1e5,max_iter=6300)),\n",
    "        ])\n",
    "model_name = \"lr-w2v\"\n",
    "model.fit(x_train, y_train)\n",
    "save_model(model, model_name)"
   ]
  },
  {
   "attachments": {},
   "cell_type": "markdown",
   "metadata": {},
   "source": [
    "## Predict"
   ]
  },
  {
   "cell_type": "code",
   "execution_count": null,
   "metadata": {},
   "outputs": [],
   "source": [
    "# Predict data\n",
    "print(\"Test Data Accuracy  :\\t\", model.score(x_test, y_test))\n",
    "y_test_pred = model.predict(x_test)"
   ]
  },
  {
   "attachments": {},
   "cell_type": "markdown",
   "metadata": {},
   "source": [
    "# Deep Neural network"
   ]
  },
  {
   "attachments": {},
   "cell_type": "markdown",
   "metadata": {},
   "source": [
    "- https://www.youtube.com/watch?v=oWo9SNcyxlI\n",
    "- good read for = https://bmcmedresmethodol.biomedcentral.com/articles/10.1186/s12874-022-01665-y\n",
    "\n",
    "- cnn\n",
    "- transformer encoder\n",
    "- pretrained bert\n",
    "- typical neural network = rnn, gru, lstm, bi-lstm\n",
    "\n",
    "- other than bert, the rest need word embedding so do glove, word2vec and fasttext\n"
   ]
  },
  {
   "cell_type": "code",
   "execution_count": 8,
   "metadata": {},
   "outputs": [],
   "source": [
    "from keras.preprocessing.text import one_hot, Tokenizer\n",
    "from keras.models import Sequential\n",
    "from keras.utils.data_utils import pad_sequences\n",
    "from keras.layers.core import Activation, Dropout, Dense\n",
    "from keras.layers import Flatten, GlobalMaxPooling1D, Embedding\n",
    "from keras.layers import Conv1D, LSTM, SpatialDropout1D, Bidirectional, GRU, SimpleRNN\n",
    "\n",
    "from keras.metrics import BinaryAccuracy,Precision,Recall\n",
    "\n",
    "from keras.layers import Layer\n",
    "from keras.models import load_model\n",
    "import keras\n",
    "\n",
    "METRICS = [\n",
    "    BinaryAccuracy(name=\"accuracy\"),\n",
    "    Precision(name=\"precision\"),\n",
    "    Recall(name=\"recall\")\n",
    "]\n",
    "\n",
    "def save_model_nn(model, model_name, embedding_name, dataset_name):\n",
    "    filename = f\"models/{dataset_name}_{embedding_name}_{model_name}\"\n",
    "    model.save(filename)\n",
    "    return filename"
   ]
  },
  {
   "cell_type": "code",
   "execution_count": 3,
   "metadata": {},
   "outputs": [],
   "source": [
    "# import tensorflow as tf\n",
    "# tf.test.gpu_device_name()"
   ]
  },
  {
   "attachments": {},
   "cell_type": "markdown",
   "metadata": {},
   "source": [
    "Word Embeding layer convert text to numeric form which is used as the first layer for the deep learning model\n",
    "- https://speakai.co/the-best-pretrained-word-embeddings/#:~:text=The%20most%20popular%20pretrained%20word,GloVe%2C%20Word2Vec%2C%20and%20FastText."
   ]
  },
  {
   "attachments": {},
   "cell_type": "markdown",
   "metadata": {},
   "source": [
    "## Glove embedding"
   ]
  },
  {
   "cell_type": "code",
   "execution_count": 10,
   "metadata": {},
   "outputs": [
    {
     "name": "stdout",
     "output_type": "stream",
     "text": [
      "total vocab 32002\n",
      "Total words  400000\n",
      "Converted 22653 words (9349 misses)\n"
     ]
    }
   ],
   "source": [
    "embedding_name = \"glove\"\n",
    "text_length = 50 #pad/truncate text to this long, such that each text after token will be this long\n",
    "\n",
    "custom_encoder = keras.layers.TextVectorization(\n",
    "    standardize = None,\n",
    "    output_sequence_length=text_length, \n",
    ")\n",
    "custom_encoder.adapt(x_train)\n",
    "vocab = custom_encoder.get_vocabulary()\n",
    "print(f\"total vocab {len(vocab)}\")\n",
    "vocab_dict = dict(zip(vocab, range(len(vocab))))\n",
    "\n",
    "# load glove to dictionay\n",
    "embeddings_dic = dict()\n",
    "glove_file = open(\"Dataset/glove_embedding.txt\", encoding=\"utf8\")\n",
    "\n",
    "for line in glove_file:\n",
    "    records = line.split()\n",
    "    word = records[0]\n",
    "    vector_dimensions = np.asarray(records[1:], dtype='float32')\n",
    "    embeddings_dic[word] = vector_dimensions\n",
    "glove_file.close()\n",
    "print(\"Total words \", len(embeddings_dic))\n",
    "\n",
    "# create vocab length is the size of token in dictionary\n",
    "# Size of the vocabulary\n",
    "vocab_length = len(vocab) + 1\n",
    "embedding_dim = 100 #each glove word is 100 long\n",
    "\n",
    "hits = 0\n",
    "miss = 0\n",
    "\n",
    "# create embedding matrix having 100 col\n",
    "# for all vocab word we give it a vector value from glove\n",
    "# for those not found in glove will be empty 0\n",
    "# size of embedding_matriz = size of word_tokenizer.word_index.items()\n",
    "# embedding_matrix is the weight \n",
    "embedding_matrix = np.zeros((vocab_length, embedding_dim))\n",
    "for word, index in vocab_dict.items():\n",
    "    embedding_vector = embeddings_dic.get(word)\n",
    "    if embedding_vector is not None:\n",
    "        embedding_matrix[index] = embedding_vector\n",
    "        hits += 1\n",
    "    else:\n",
    "        miss +=1\n",
    "print(\"Converted %d words (%d misses)\" % (hits, miss))\n",
    "\n",
    "custom_embedding = Embedding(vocab_length, embedding_dim, \n",
    "               embeddings_initializer=keras.initializers.Constant(embedding_matrix), \n",
    "               trainable = False,\n",
    "               input_length=text_length,\n",
    "               mask_zero=True)"
   ]
  },
  {
   "attachments": {},
   "cell_type": "markdown",
   "metadata": {},
   "source": [
    "## FastText"
   ]
  },
  {
   "attachments": {},
   "cell_type": "markdown",
   "metadata": {},
   "source": [
    "- https://medium.com/@93Kryptonian/word-embedding-using-fasttext-62beb0209db9\n",
    "- It treats each word as composed of n-grams. In word2vec each word is represented as a bag of words but in FastText each word is represented as a bag of character n-gram.\n"
   ]
  },
  {
   "cell_type": "code",
   "execution_count": 9,
   "metadata": {},
   "outputs": [],
   "source": [
    "from gensim.models import FastText"
   ]
  },
  {
   "cell_type": "code",
   "execution_count": 10,
   "metadata": {},
   "outputs": [
    {
     "name": "stdout",
     "output_type": "stream",
     "text": [
      "total vocab 6009\n",
      "Converted 6009 words (0 misses)\n"
     ]
    }
   ],
   "source": [
    "embedding_name = \"fasttext\"\n",
    "text_length = 50 #pad/truncate text to this long, such that each text after token will be this long\n",
    "vector_size=100\n",
    "\n",
    "sentences = [sentence.split() for sentence in x_train]\n",
    "ft_model = FastText(sentences, vector_size=vector_size, window=5, min_count=2, workers=4, seed=42, sg=1, epochs=10) # skip gram or cbow=0\n",
    "ft = ft_model.wv\n",
    "ft_vocab = ft.index_to_key\n",
    "\n",
    "custom_encoder = keras.layers.TextVectorization(\n",
    "    standardize = None,\n",
    "    output_sequence_length=text_length, \n",
    "    vocabulary = ft_vocab\n",
    ")\n",
    "\n",
    "vocab = custom_encoder.get_vocabulary()\n",
    "print(f\"total vocab {len(vocab)}\")\n",
    "vocab_dict = dict(zip(vocab, range(len(vocab))))\n",
    "\n",
    "vocab_length = len(vocab) + 1\n",
    "embedding_dim = vector_size\n",
    "\n",
    "hits = 0\n",
    "miss = 0\n",
    "\n",
    "embedding_matrix = np.zeros((vocab_length, embedding_dim))\n",
    "for word, index in vocab_dict.items():\n",
    "    embedding_vector = ft[word]\n",
    "    if embedding_vector is not None:\n",
    "        embedding_matrix[index] = embedding_vector\n",
    "        hits += 1\n",
    "    else:\n",
    "        miss +=1\n",
    "print(\"Converted %d words (%d misses)\" % (hits, miss))\n",
    "\n",
    "custom_embedding = Embedding(vocab_length, embedding_dim, \n",
    "               embeddings_initializer=keras.initializers.Constant(embedding_matrix), \n",
    "               trainable = False,\n",
    "               input_length=text_length,\n",
    "               mask_zero=True)"
   ]
  },
  {
   "attachments": {},
   "cell_type": "markdown",
   "metadata": {},
   "source": [
    "## Word2Vec"
   ]
  },
  {
   "cell_type": "code",
   "execution_count": 41,
   "metadata": {},
   "outputs": [],
   "source": [
    "from gensim.models import Word2Vec"
   ]
  },
  {
   "cell_type": "code",
   "execution_count": 52,
   "metadata": {},
   "outputs": [
    {
     "name": "stdout",
     "output_type": "stream",
     "text": [
      "total vocab 6009\n",
      "\n",
      "[UNK]\n",
      "Converted 6007 words (2 misses)\n"
     ]
    }
   ],
   "source": [
    "embedding_name = \"word2vec\"\n",
    "text_length = 50 #pad/truncate text to this long, such that each text after token will be this long\n",
    "vector_size=100\n",
    "\n",
    "sentences = [sentence.split() for sentence in x_train]\n",
    "w_model = Word2Vec(sentences, vector_size=100, window=5, min_count=2, workers=4)\n",
    "w = w_model.wv\n",
    "w_vocab = w.index_to_key\n",
    "\n",
    "custom_encoder = keras.layers.TextVectorization(\n",
    "    standardize = None,\n",
    "    output_sequence_length=text_length, \n",
    "    vocabulary = w_vocab\n",
    ")\n",
    "\n",
    "vocab = custom_encoder.get_vocabulary()\n",
    "print(f\"total vocab {len(vocab)}\")\n",
    "vocab_dict = dict(zip(vocab, range(len(vocab))))\n",
    "\n",
    "vocab_length = len(vocab) + 1\n",
    "embedding_dim = vector_size\n",
    "\n",
    "hits = 0\n",
    "miss = 0\n",
    "\n",
    "embedding_matrix = np.zeros((vocab_length, embedding_dim))\n",
    "for word, index in vocab_dict.items():\n",
    "    if word in w.key_to_index:\n",
    "        embedding_vector = w[word]\n",
    "        if embedding_vector is not None:\n",
    "            embedding_matrix[index] = embedding_vector\n",
    "            hits += 1\n",
    "        else:\n",
    "            print(word)\n",
    "            miss +=1\n",
    "    else:\n",
    "        print(word)\n",
    "        miss +=1\n",
    "print(\"Converted %d words (%d misses)\" % (hits, miss))\n",
    "\n",
    "custom_embedding = Embedding(vocab_length, embedding_dim, \n",
    "               embeddings_initializer=keras.initializers.Constant(embedding_matrix), \n",
    "               trainable = False,\n",
    "               input_length=text_length,\n",
    "               mask_zero=True)"
   ]
  },
  {
   "attachments": {},
   "cell_type": "markdown",
   "metadata": {},
   "source": [
    "## Simple Neural network"
   ]
  },
  {
   "cell_type": "code",
   "execution_count": 270,
   "metadata": {},
   "outputs": [
    {
     "name": "stdout",
     "output_type": "stream",
     "text": [
      "Epoch 1/10\n",
      "197/197 [==============================] - 3s 10ms/step - loss: 0.6182 - accuracy: 0.6797 - precision: 0.6646 - recall: 0.4837 - val_loss: 0.5976 - val_accuracy: 0.6914 - val_precision: 0.6359 - val_recall: 0.6161\n",
      "Epoch 2/10\n",
      "197/197 [==============================] - 2s 8ms/step - loss: 0.5858 - accuracy: 0.6954 - precision: 0.6685 - recall: 0.5526 - val_loss: 0.5857 - val_accuracy: 0.6966 - val_precision: 0.6845 - val_recall: 0.5115\n",
      "Epoch 3/10\n",
      "197/197 [==============================] - 2s 8ms/step - loss: 0.5777 - accuracy: 0.6973 - precision: 0.6673 - recall: 0.5646 - val_loss: 0.5866 - val_accuracy: 0.7000 - val_precision: 0.6961 - val_recall: 0.5035\n",
      "Epoch 4/10\n",
      "197/197 [==============================] - 2s 8ms/step - loss: 0.5695 - accuracy: 0.7043 - precision: 0.6734 - recall: 0.5820 - val_loss: 0.5842 - val_accuracy: 0.6985 - val_precision: 0.7101 - val_recall: 0.4734\n",
      "Epoch 5/10\n",
      "197/197 [==============================] - 2s 8ms/step - loss: 0.5651 - accuracy: 0.7091 - precision: 0.6869 - recall: 0.5714 - val_loss: 0.5756 - val_accuracy: 0.7000 - val_precision: 0.6896 - val_recall: 0.5160\n",
      "Epoch 6/10\n",
      "197/197 [==============================] - 2s 8ms/step - loss: 0.5622 - accuracy: 0.7121 - precision: 0.6932 - recall: 0.5707 - val_loss: 0.5770 - val_accuracy: 0.6955 - val_precision: 0.6370 - val_recall: 0.6348\n",
      "Epoch 7/10\n",
      "197/197 [==============================] - 2s 8ms/step - loss: 0.5596 - accuracy: 0.7137 - precision: 0.6939 - recall: 0.5760 - val_loss: 0.5778 - val_accuracy: 0.6981 - val_precision: 0.6639 - val_recall: 0.5656\n",
      "Epoch 8/10\n",
      "197/197 [==============================] - 2s 8ms/step - loss: 0.5569 - accuracy: 0.7092 - precision: 0.6852 - recall: 0.5760 - val_loss: 0.5746 - val_accuracy: 0.7022 - val_precision: 0.6589 - val_recall: 0.5993\n",
      "Epoch 9/10\n",
      "197/197 [==============================] - 2s 8ms/step - loss: 0.5544 - accuracy: 0.7151 - precision: 0.6887 - recall: 0.5937 - val_loss: 0.5730 - val_accuracy: 0.7059 - val_precision: 0.6588 - val_recall: 0.6179\n",
      "Epoch 10/10\n",
      "197/197 [==============================] - 2s 8ms/step - loss: 0.5525 - accuracy: 0.7169 - precision: 0.6953 - recall: 0.5865 - val_loss: 0.5725 - val_accuracy: 0.6992 - val_precision: 0.6547 - val_recall: 0.5966\n"
     ]
    },
    {
     "name": "stderr",
     "output_type": "stream",
     "text": [
      "WARNING:absl:Found untraced functions such as _update_step_xla while saving (showing 1 of 1). These functions will not be directly callable after loading.\n"
     ]
    },
    {
     "name": "stdout",
     "output_type": "stream",
     "text": [
      "INFO:tensorflow:Assets written to: models/snn-fasttext\\assets\n"
     ]
    },
    {
     "name": "stderr",
     "output_type": "stream",
     "text": [
      "INFO:tensorflow:Assets written to: models/snn-fasttext\\assets\n"
     ]
    }
   ],
   "source": [
    "model = Sequential()\n",
    "model.add(custom_encoder)\n",
    "model.add(custom_embedding)\n",
    "model.add(Flatten())\n",
    "model.add(Dense(1, activation='sigmoid'))\n",
    "\n",
    "model.compile(optimizer='adam',\n",
    "              loss='binary_crossentropy',\n",
    "              metrics=METRICS)\n",
    "\n",
    "history = model.fit(x_train, y_train_binary, epochs=10,\n",
    "                    validation_data=(x_test,y_test_binary))\n",
    "\n",
    "model_name = \"snn-\"+embedding_name\n",
    "save_model_nn(model, model_name)"
   ]
  },
  {
   "attachments": {},
   "cell_type": "markdown",
   "metadata": {},
   "source": [
    "## CNN "
   ]
  },
  {
   "attachments": {},
   "cell_type": "markdown",
   "metadata": {},
   "source": [
    "- usually for 2d image recognition \n",
    "- use 1d cnn for text classification"
   ]
  },
  {
   "cell_type": "code",
   "execution_count": 21,
   "metadata": {},
   "outputs": [
    {
     "name": "stdout",
     "output_type": "stream",
     "text": [
      "Epoch 1/10\n",
      "594/594 [==============================] - 5s 7ms/step - loss: 0.3180 - accuracy: 0.8829 - precision: 0.5808 - recall: 0.2101 - val_loss: 0.2855 - val_accuracy: 0.8914 - val_precision: 0.6701 - val_recall: 0.2004\n",
      "Epoch 2/10\n",
      "594/594 [==============================] - 4s 7ms/step - loss: 0.2363 - accuracy: 0.9100 - precision: 0.7646 - recall: 0.3990 - val_loss: 0.2791 - val_accuracy: 0.8917 - val_precision: 0.6356 - val_recall: 0.2431\n",
      "Epoch 3/10\n",
      "594/594 [==============================] - 4s 7ms/step - loss: 0.1809 - accuracy: 0.9326 - precision: 0.8592 - recall: 0.5481 - val_loss: 0.2889 - val_accuracy: 0.8919 - val_precision: 0.6111 - val_recall: 0.2909\n",
      "Epoch 4/10\n",
      "594/594 [==============================] - 4s 7ms/step - loss: 0.1263 - accuracy: 0.9594 - precision: 0.9335 - recall: 0.7255 - val_loss: 0.3253 - val_accuracy: 0.8691 - val_precision: 0.4610 - val_recall: 0.4924\n",
      "Epoch 5/10\n",
      "594/594 [==============================] - 4s 7ms/step - loss: 0.0826 - accuracy: 0.9777 - precision: 0.9681 - recall: 0.8484 - val_loss: 0.3243 - val_accuracy: 0.8799 - val_precision: 0.5037 - val_recall: 0.4130\n",
      "Epoch 6/10\n",
      "594/594 [==============================] - 4s 7ms/step - loss: 0.0522 - accuracy: 0.9895 - precision: 0.9896 - recall: 0.9255 - val_loss: 0.3497 - val_accuracy: 0.8896 - val_precision: 0.5902 - val_recall: 0.2828\n",
      "Epoch 7/10\n",
      "594/594 [==============================] - 4s 7ms/step - loss: 0.0343 - accuracy: 0.9933 - precision: 0.9951 - recall: 0.9504 - val_loss: 0.3701 - val_accuracy: 0.8882 - val_precision: 0.5627 - val_recall: 0.3377\n",
      "Epoch 8/10\n",
      "594/594 [==============================] - 4s 7ms/step - loss: 0.0259 - accuracy: 0.9954 - precision: 0.9948 - recall: 0.9682 - val_loss: 0.4187 - val_accuracy: 0.8894 - val_precision: 0.5889 - val_recall: 0.2798\n",
      "Epoch 9/10\n",
      "594/594 [==============================] - 4s 7ms/step - loss: 0.0190 - accuracy: 0.9965 - precision: 0.9961 - recall: 0.9759 - val_loss: 0.4346 - val_accuracy: 0.8838 - val_precision: 0.5285 - val_recall: 0.3581\n",
      "Epoch 10/10\n",
      "594/594 [==============================] - 4s 7ms/step - loss: 0.0135 - accuracy: 0.9975 - precision: 0.9970 - recall: 0.9831 - val_loss: 0.5280 - val_accuracy: 0.8878 - val_precision: 0.5972 - val_recall: 0.2187\n"
     ]
    },
    {
     "name": "stderr",
     "output_type": "stream",
     "text": [
      "WARNING:absl:Found untraced functions such as _jit_compiled_convolution_op, _update_step_xla while saving (showing 2 of 2). These functions will not be directly callable after loading.\n"
     ]
    },
    {
     "name": "stdout",
     "output_type": "stream",
     "text": [
      "INFO:tensorflow:Assets written to: models/GabHateCorpus_cnn_glove\\assets\n"
     ]
    },
    {
     "name": "stderr",
     "output_type": "stream",
     "text": [
      "INFO:tensorflow:Assets written to: models/GabHateCorpus_cnn_glove\\assets\n"
     ]
    },
    {
     "data": {
      "text/plain": [
       "'models/GabHateCorpus_cnn_glove'"
      ]
     },
     "execution_count": 21,
     "metadata": {},
     "output_type": "execute_result"
    }
   ],
   "source": [
    "model = Sequential()\n",
    "model.add(custom_encoder)\n",
    "model.add(custom_embedding)\n",
    "model.add(Conv1D(128, 5, activation='relu'))\n",
    "model.add(GlobalMaxPooling1D())\n",
    "model.add(Dense(1, activation='sigmoid'))\n",
    "\n",
    "model.compile(optimizer='adam',\n",
    "              loss='binary_crossentropy',\n",
    "              metrics=METRICS)\n",
    "\n",
    "history = model.fit(x_train, y_train_binary, epochs=10,\n",
    "                    validation_data=(x_test,y_test_binary))\n",
    "\n",
    "save_model_nn(model, \"cnn\", embedding_name, dataset_name)"
   ]
  },
  {
   "attachments": {},
   "cell_type": "markdown",
   "metadata": {},
   "source": [
    "## RNN - LSTM"
   ]
  },
  {
   "attachments": {},
   "cell_type": "markdown",
   "metadata": {},
   "source": [
    "- LSTM is a variant of RNN\n",
    "- input -> textvectorization (encoder/token) -> emedding -> nn layer\n",
    "- Now that all samples have a uniform length, the model must be informed that some part of the data is actually padding and should be ignored. That mechanism is masking.\n"
   ]
  },
  {
   "attachments": {},
   "cell_type": "markdown",
   "metadata": {},
   "source": [
    "- sigmoid - 6s 32ms/step - loss: 0.1901 - accuracy: 0.9281 - precision: 0.9117 - recall: 0.9186 - val_loss: 0.7441 - val_accuracy: 0.7256 - val_precision: 0.6628 - val_recall: 0.7021\n",
    "- relu - 7s 34ms/step - loss: 0.5181 - accuracy: 0.7423 - precision: 0.7250 - recall: 0.6280 - val_loss: 0.5530 - val_accuracy: 0.7338 - val_precision: 0.7074 - val_recall: 0.6215\n",
    "- sigmoid is better for binary text classification\n",
    "\n",
    "- dropout - 19s 98ms/step - loss: 0.3879 - accuracy: 0.8246 - precision: 0.7934 - recall: 0.7904 - val_loss: 0.5436 - val_accuracy: 0.7323 - val_precision: 0.6497 - val_recall: 0.7828"
   ]
  },
  {
   "attachments": {},
   "cell_type": "markdown",
   "metadata": {},
   "source": [
    "- GOOD = https://medium.com/mlearning-ai/the-classification-of-text-messages-using-lstm-bi-lstm-and-gru-f79b207f90ad"
   ]
  },
  {
   "cell_type": "code",
   "execution_count": 50,
   "metadata": {},
   "outputs": [
    {
     "name": "stdout",
     "output_type": "stream",
     "text": [
      "Epoch 1/10\n",
      "594/594 [==============================] - 107s 171ms/step - loss: 0.3366 - accuracy: 0.8797 - precision: 0.5551 - recall: 0.1220 - val_loss: 0.3001 - val_accuracy: 0.8854 - val_precision: 0.6624 - val_recall: 0.1058\n",
      "Epoch 2/10\n",
      "594/594 [==============================] - 102s 172ms/step - loss: 0.2945 - accuracy: 0.8886 - precision: 0.6420 - recall: 0.2355 - val_loss: 0.2745 - val_accuracy: 0.8939 - val_precision: 0.6415 - val_recall: 0.2767\n",
      "Epoch 3/10\n",
      "594/594 [==============================] - 100s 168ms/step - loss: 0.2780 - accuracy: 0.8929 - precision: 0.6657 - recall: 0.2800 - val_loss: 0.2733 - val_accuracy: 0.8961 - val_precision: 0.6927 - val_recall: 0.2523\n",
      "Epoch 4/10\n",
      "594/594 [==============================] - 99s 167ms/step - loss: 0.2680 - accuracy: 0.8976 - precision: 0.6961 - recall: 0.3134 - val_loss: 0.2734 - val_accuracy: 0.8970 - val_precision: 0.6392 - val_recall: 0.3388\n",
      "Epoch 5/10\n",
      "594/594 [==============================] - 101s 169ms/step - loss: 0.2596 - accuracy: 0.8997 - precision: 0.6984 - recall: 0.3414 - val_loss: 0.2682 - val_accuracy: 0.8983 - val_precision: 0.6960 - val_recall: 0.2818\n",
      "Epoch 6/10\n",
      "594/594 [==============================] - 109s 183ms/step - loss: 0.2476 - accuracy: 0.9029 - precision: 0.7130 - recall: 0.3672 - val_loss: 0.2664 - val_accuracy: 0.8972 - val_precision: 0.6301 - val_recall: 0.3622\n",
      "Epoch 7/10\n",
      "594/594 [==============================] - 101s 171ms/step - loss: 0.2361 - accuracy: 0.9069 - precision: 0.7290 - recall: 0.4011 - val_loss: 0.2697 - val_accuracy: 0.8981 - val_precision: 0.6360 - val_recall: 0.3662\n",
      "Epoch 8/10\n",
      "594/594 [==============================] - 103s 174ms/step - loss: 0.2238 - accuracy: 0.9116 - precision: 0.7515 - recall: 0.4329 - val_loss: 0.2775 - val_accuracy: 0.8901 - val_precision: 0.5665 - val_recall: 0.3856\n",
      "Epoch 9/10\n",
      "594/594 [==============================] - 101s 170ms/step - loss: 0.2100 - accuracy: 0.9176 - precision: 0.7648 - recall: 0.4875 - val_loss: 0.2869 - val_accuracy: 0.8898 - val_precision: 0.5543 - val_recall: 0.4517\n",
      "Epoch 10/10\n",
      "594/594 [==============================] - 101s 170ms/step - loss: 0.1974 - accuracy: 0.9220 - precision: 0.7786 - recall: 0.5214 - val_loss: 0.2901 - val_accuracy: 0.8898 - val_precision: 0.5569 - val_recall: 0.4334\n"
     ]
    },
    {
     "name": "stderr",
     "output_type": "stream",
     "text": [
      "WARNING:absl:Found untraced functions such as _update_step_xla, lstm_cell_28_layer_call_fn, lstm_cell_28_layer_call_and_return_conditional_losses while saving (showing 3 of 3). These functions will not be directly callable after loading.\n"
     ]
    },
    {
     "name": "stdout",
     "output_type": "stream",
     "text": [
      "INFO:tensorflow:Assets written to: models/GabHateCorpus_glove_lstm\\assets\n"
     ]
    },
    {
     "name": "stderr",
     "output_type": "stream",
     "text": [
      "INFO:tensorflow:Assets written to: models/GabHateCorpus_glove_lstm\\assets\n"
     ]
    },
    {
     "data": {
      "text/plain": [
       "'models/GabHateCorpus_glove_lstm'"
      ]
     },
     "execution_count": 50,
     "metadata": {},
     "output_type": "execute_result"
    }
   ],
   "source": [
    "# this is better with the dropout\n",
    "model = Sequential()\n",
    "model.add(custom_encoder)\n",
    "model.add(custom_embedding)\n",
    "model.add(SpatialDropout1D(0.2))\n",
    "model.add(LSTM(128))\n",
    "model.add(Dropout(0.2))\n",
    "model.add(Dense(1, activation='sigmoid'))\n",
    "\n",
    "model.compile(optimizer='adam',\n",
    "              loss='binary_crossentropy',\n",
    "              metrics=METRICS)\n",
    "\n",
    "history = model.fit(x_train, y_train_binary, epochs=10,\n",
    "                    validation_data=(x_test,y_test_binary))\n",
    "\n",
    "save_model_nn(model, \"lstm\", embedding_name, dataset_name)"
   ]
  },
  {
   "attachments": {},
   "cell_type": "markdown",
   "metadata": {},
   "source": [
    "## RNN - BILSTM"
   ]
  },
  {
   "cell_type": "code",
   "execution_count": 25,
   "metadata": {},
   "outputs": [
    {
     "name": "stdout",
     "output_type": "stream",
     "text": [
      "Epoch 1/10\n",
      "594/594 [==============================] - 38s 53ms/step - loss: 0.3197 - accuracy: 0.8836 - precision: 0.5658 - recall: 0.2404 - val_loss: 0.2798 - val_accuracy: 0.8898 - val_precision: 0.6000 - val_recall: 0.2655\n",
      "Epoch 2/10\n",
      "594/594 [==============================] - 30s 51ms/step - loss: 0.2784 - accuracy: 0.8938 - precision: 0.6667 - recall: 0.2922 - val_loss: 0.2720 - val_accuracy: 0.8962 - val_precision: 0.7152 - val_recall: 0.2350\n",
      "Epoch 3/10\n",
      "594/594 [==============================] - 30s 51ms/step - loss: 0.2596 - accuracy: 0.8997 - precision: 0.6932 - recall: 0.3473 - val_loss: 0.2705 - val_accuracy: 0.8950 - val_precision: 0.6088 - val_recall: 0.3672\n",
      "Epoch 4/10\n",
      "594/594 [==============================] - 31s 52ms/step - loss: 0.2402 - accuracy: 0.9056 - precision: 0.7202 - recall: 0.3947 - val_loss: 0.2740 - val_accuracy: 0.8965 - val_precision: 0.6466 - val_recall: 0.3164\n",
      "Epoch 5/10\n",
      "594/594 [==============================] - 34s 57ms/step - loss: 0.2202 - accuracy: 0.9153 - precision: 0.7596 - recall: 0.4672 - val_loss: 0.2766 - val_accuracy: 0.8969 - val_precision: 0.6586 - val_recall: 0.3042\n",
      "Epoch 6/10\n",
      "594/594 [==============================] - 32s 54ms/step - loss: 0.1885 - accuracy: 0.9286 - precision: 0.8063 - recall: 0.5608 - val_loss: 0.2907 - val_accuracy: 0.8916 - val_precision: 0.5835 - val_recall: 0.3591\n",
      "Epoch 7/10\n",
      "594/594 [==============================] - 33s 55ms/step - loss: 0.1489 - accuracy: 0.9436 - precision: 0.8514 - recall: 0.6624 - val_loss: 0.3256 - val_accuracy: 0.8853 - val_precision: 0.5351 - val_recall: 0.3876\n",
      "Epoch 8/10\n",
      "594/594 [==============================] - 35s 59ms/step - loss: 0.1076 - accuracy: 0.9622 - precision: 0.9029 - recall: 0.7798 - val_loss: 0.3654 - val_accuracy: 0.8833 - val_precision: 0.5204 - val_recall: 0.4405\n",
      "Epoch 9/10\n",
      "594/594 [==============================] - 33s 55ms/step - loss: 0.0737 - accuracy: 0.9751 - precision: 0.9358 - recall: 0.8585 - val_loss: 0.4135 - val_accuracy: 0.8846 - val_precision: 0.5308 - val_recall: 0.3856\n",
      "Epoch 10/10\n",
      "594/594 [==============================] - 32s 54ms/step - loss: 0.0481 - accuracy: 0.9852 - precision: 0.9651 - recall: 0.9140 - val_loss: 0.4590 - val_accuracy: 0.8807 - val_precision: 0.5078 - val_recall: 0.4283\n"
     ]
    },
    {
     "name": "stderr",
     "output_type": "stream",
     "text": [
      "WARNING:absl:Found untraced functions such as _update_step_xla, lstm_cell_2_layer_call_fn, lstm_cell_2_layer_call_and_return_conditional_losses, lstm_cell_3_layer_call_fn, lstm_cell_3_layer_call_and_return_conditional_losses while saving (showing 5 of 5). These functions will not be directly callable after loading.\n"
     ]
    },
    {
     "name": "stdout",
     "output_type": "stream",
     "text": [
      "INFO:tensorflow:Assets written to: models/GabHateCorpus_bilstm_glove\\assets\n"
     ]
    },
    {
     "name": "stderr",
     "output_type": "stream",
     "text": [
      "INFO:tensorflow:Assets written to: models/GabHateCorpus_bilstm_glove\\assets\n"
     ]
    },
    {
     "data": {
      "text/plain": [
       "'models/GabHateCorpus_bilstm_glove'"
      ]
     },
     "execution_count": 25,
     "metadata": {},
     "output_type": "execute_result"
    }
   ],
   "source": [
    "model = Sequential()\n",
    "model.add(custom_encoder)\n",
    "model.add(custom_embedding)\n",
    "model.add(Bidirectional(LSTM(128)))\n",
    "model.add(Dropout(0.2))\n",
    "model.add(Dense(1, activation='sigmoid'))\n",
    "\n",
    "model.compile(optimizer='adam',\n",
    "              loss='binary_crossentropy',\n",
    "              metrics=METRICS)\n",
    "\n",
    "history = model.fit(x_train, y_train_binary, epochs=10,\n",
    "                    validation_data=(x_test,y_test_binary))\n",
    "\n",
    "save_model_nn(model, \"bilstm\", embedding_name, dataset_name)"
   ]
  },
  {
   "attachments": {},
   "cell_type": "markdown",
   "metadata": {},
   "source": [
    "## RNN - GRU"
   ]
  },
  {
   "cell_type": "code",
   "execution_count": 27,
   "metadata": {},
   "outputs": [
    {
     "name": "stdout",
     "output_type": "stream",
     "text": [
      "Epoch 1/10\n",
      "594/594 [==============================] - 28s 41ms/step - loss: 0.3325 - accuracy: 0.8796 - precision: 0.5267 - recall: 0.2362 - val_loss: 0.2819 - val_accuracy: 0.8895 - val_precision: 0.6981 - val_recall: 0.1506\n",
      "Epoch 2/10\n",
      "594/594 [==============================] - 20s 34ms/step - loss: 0.2891 - accuracy: 0.8891 - precision: 0.6270 - recall: 0.2677 - val_loss: 0.2820 - val_accuracy: 0.8894 - val_precision: 0.7986 - val_recall: 0.1129\n",
      "Epoch 3/10\n",
      "594/594 [==============================] - 20s 34ms/step - loss: 0.2756 - accuracy: 0.8922 - precision: 0.6452 - recall: 0.2965 - val_loss: 0.2669 - val_accuracy: 0.8975 - val_precision: 0.6377 - val_recall: 0.3510\n",
      "Epoch 4/10\n",
      "594/594 [==============================] - 21s 35ms/step - loss: 0.2661 - accuracy: 0.8960 - precision: 0.6687 - recall: 0.3249 - val_loss: 0.2700 - val_accuracy: 0.8973 - val_precision: 0.7372 - val_recall: 0.2340\n",
      "Epoch 5/10\n",
      "594/594 [==============================] - 21s 35ms/step - loss: 0.2571 - accuracy: 0.8993 - precision: 0.6850 - recall: 0.3528 - val_loss: 0.2651 - val_accuracy: 0.8998 - val_precision: 0.6647 - val_recall: 0.3449\n",
      "Epoch 6/10\n",
      "594/594 [==============================] - 20s 34ms/step - loss: 0.2482 - accuracy: 0.9030 - precision: 0.7067 - recall: 0.3765 - val_loss: 0.2646 - val_accuracy: 0.8996 - val_precision: 0.6869 - val_recall: 0.3103\n",
      "Epoch 7/10\n",
      "594/594 [==============================] - 20s 33ms/step - loss: 0.2332 - accuracy: 0.9078 - precision: 0.7240 - recall: 0.4189 - val_loss: 0.2765 - val_accuracy: 0.8949 - val_precision: 0.5922 - val_recall: 0.4181\n",
      "Epoch 8/10\n",
      "594/594 [==============================] - 20s 34ms/step - loss: 0.2218 - accuracy: 0.9131 - precision: 0.7417 - recall: 0.4621 - val_loss: 0.2744 - val_accuracy: 0.8959 - val_precision: 0.6298 - val_recall: 0.3357\n",
      "Epoch 9/10\n",
      "594/594 [==============================] - 20s 34ms/step - loss: 0.2057 - accuracy: 0.9209 - precision: 0.7693 - recall: 0.5197 - val_loss: 0.2871 - val_accuracy: 0.8922 - val_precision: 0.5759 - val_recall: 0.4090\n",
      "Epoch 10/10\n",
      "594/594 [==============================] - 20s 34ms/step - loss: 0.1870 - accuracy: 0.9264 - precision: 0.7900 - recall: 0.5561 - val_loss: 0.3051 - val_accuracy: 0.8828 - val_precision: 0.5173 - val_recall: 0.4557\n"
     ]
    },
    {
     "name": "stderr",
     "output_type": "stream",
     "text": [
      "WARNING:absl:Found untraced functions such as _update_step_xla, gru_cell_layer_call_fn, gru_cell_layer_call_and_return_conditional_losses while saving (showing 3 of 3). These functions will not be directly callable after loading.\n"
     ]
    },
    {
     "name": "stdout",
     "output_type": "stream",
     "text": [
      "INFO:tensorflow:Assets written to: models/GabHateCorpus_gru_glove\\assets\n"
     ]
    },
    {
     "name": "stderr",
     "output_type": "stream",
     "text": [
      "INFO:tensorflow:Assets written to: models/GabHateCorpus_gru_glove\\assets\n"
     ]
    },
    {
     "data": {
      "text/plain": [
       "'models/GabHateCorpus_gru_glove'"
      ]
     },
     "execution_count": 27,
     "metadata": {},
     "output_type": "execute_result"
    }
   ],
   "source": [
    "model = Sequential()\n",
    "model.add(custom_encoder)\n",
    "model.add(custom_embedding)\n",
    "model.add(SpatialDropout1D(0.2))\n",
    "model.add(GRU(128))\n",
    "model.add(Dropout(0.2))\n",
    "model.add(Dense(1, activation='sigmoid'))\n",
    "\n",
    "model.compile(optimizer='adam',\n",
    "              loss='binary_crossentropy',\n",
    "              metrics=METRICS)\n",
    "\n",
    "history = model.fit(x_train, y_train_binary, epochs=10,\n",
    "                    validation_data=(x_test,y_test_binary))\n",
    "\n",
    "save_model_nn(model, \"gru\", embedding_name, dataset_name)"
   ]
  },
  {
   "attachments": {},
   "cell_type": "markdown",
   "metadata": {},
   "source": [
    "## RNN "
   ]
  },
  {
   "attachments": {},
   "cell_type": "markdown",
   "metadata": {},
   "source": [
    "- https://www.tensorflow.org/text/tutorials/text_classification_rnn\n",
    "- 'input_dim' = the vocab size that we will choose. In other words it is the number of unique words in the vocab.\n",
    "- 'output_dim' = the number of dimensions we wish to embed into. Each word will be represented by a vector of this much dimensions."
   ]
  },
  {
   "cell_type": "code",
   "execution_count": 31,
   "metadata": {},
   "outputs": [
    {
     "name": "stdout",
     "output_type": "stream",
     "text": [
      "Epoch 1/10\n",
      "594/594 [==============================] - 12s 17ms/step - loss: 0.3524 - accuracy: 0.8747 - precision: 0.4810 - recall: 0.2048 - val_loss: 0.3140 - val_accuracy: 0.8817 - val_precision: 0.6981 - val_recall: 0.0376\n",
      "Epoch 2/10\n",
      "594/594 [==============================] - 10s 17ms/step - loss: 0.3357 - accuracy: 0.8779 - precision: 0.5415 - recall: 0.1216 - val_loss: 0.3283 - val_accuracy: 0.8756 - val_precision: 0.4540 - val_recall: 0.1455\n",
      "Epoch 3/10\n",
      "594/594 [==============================] - 10s 17ms/step - loss: 0.3271 - accuracy: 0.8791 - precision: 0.5740 - recall: 0.1101 - val_loss: 0.3433 - val_accuracy: 0.8793 - val_precision: 0.5049 - val_recall: 0.0529\n",
      "Epoch 4/10\n",
      "594/594 [==============================] - 10s 17ms/step - loss: 0.3296 - accuracy: 0.8810 - precision: 0.5864 - recall: 0.1465 - val_loss: 0.3138 - val_accuracy: 0.8715 - val_precision: 0.4535 - val_recall: 0.3072\n",
      "Epoch 5/10\n",
      "594/594 [==============================] - 10s 17ms/step - loss: 0.3162 - accuracy: 0.8822 - precision: 0.5984 - recall: 0.1622 - val_loss: 0.3194 - val_accuracy: 0.8831 - val_precision: 0.5808 - val_recall: 0.1170\n",
      "Epoch 6/10\n",
      "594/594 [==============================] - 10s 17ms/step - loss: 0.3039 - accuracy: 0.8846 - precision: 0.6067 - recall: 0.2058 - val_loss: 0.3170 - val_accuracy: 0.8820 - val_precision: 0.6769 - val_recall: 0.0448\n",
      "Epoch 7/10\n",
      "594/594 [==============================] - 10s 17ms/step - loss: 0.3055 - accuracy: 0.8849 - precision: 0.6182 - recall: 0.1961 - val_loss: 0.3598 - val_accuracy: 0.8752 - val_precision: 0.3689 - val_recall: 0.0458\n",
      "Epoch 8/10\n",
      "594/594 [==============================] - 10s 17ms/step - loss: 0.3358 - accuracy: 0.8792 - precision: 0.6194 - recall: 0.0758 - val_loss: 0.3356 - val_accuracy: 0.8810 - val_precision: 0.5355 - val_recall: 0.1150\n",
      "Epoch 9/10\n",
      "594/594 [==============================] - 10s 18ms/step - loss: 0.3182 - accuracy: 0.8824 - precision: 0.6113 - recall: 0.1512 - val_loss: 0.3195 - val_accuracy: 0.8741 - val_precision: 0.4491 - val_recall: 0.1841\n",
      "Epoch 10/10\n",
      "594/594 [==============================] - 10s 17ms/step - loss: 0.3071 - accuracy: 0.8827 - precision: 0.5923 - recall: 0.1834 - val_loss: 0.3022 - val_accuracy: 0.8851 - val_precision: 0.6053 - val_recall: 0.1404\n"
     ]
    },
    {
     "name": "stderr",
     "output_type": "stream",
     "text": [
      "WARNING:absl:Found untraced functions such as _update_step_xla while saving (showing 1 of 1). These functions will not be directly callable after loading.\n"
     ]
    },
    {
     "name": "stdout",
     "output_type": "stream",
     "text": [
      "INFO:tensorflow:Assets written to: models/GabHateCorpus_glove_rnn\\assets\n"
     ]
    },
    {
     "name": "stderr",
     "output_type": "stream",
     "text": [
      "INFO:tensorflow:Assets written to: models/GabHateCorpus_glove_rnn\\assets\n"
     ]
    },
    {
     "data": {
      "text/plain": [
       "'models/GabHateCorpus_glove_rnn'"
      ]
     },
     "execution_count": 31,
     "metadata": {},
     "output_type": "execute_result"
    }
   ],
   "source": [
    "# model = keras.Sequential([\n",
    "#     custom_encoder,\n",
    "#     custom_embedding,\n",
    "#     keras.layers.Bidirectional(keras.layers.LSTM(64,  return_sequences=True)),\n",
    "#     keras.layers.Bidirectional(keras.layers.LSTM(32)),\n",
    "#     keras.layers.Dense(64, activation='relu'),\n",
    "#     keras.layers.Dropout(0.5), #helps prevent overfitting\n",
    "#     keras.layers.Dense(1)\n",
    "# ])\n",
    "# model.compile(optimizer='adam',\n",
    "#               loss='binary_crossentropy',\n",
    "#               metrics=METRICS)\n",
    "# history = model.fit(x_train, y_train_binary, epochs=10,\n",
    "#                     validation_data=(x_test,y_test_binary),)\n",
    "# save_model_nn(model, \"rnn-glove\")\n",
    "\n",
    "model = Sequential()\n",
    "model.add(custom_encoder)\n",
    "model.add(custom_embedding)\n",
    "model.add(SimpleRNN(128))\n",
    "model.add(Dense(1, activation='sigmoid'))\n",
    "\n",
    "model.compile(optimizer='adam',\n",
    "              loss='binary_crossentropy',\n",
    "              metrics=METRICS)\n",
    "\n",
    "history = model.fit(x_train, y_train_binary, epochs=10,\n",
    "                    validation_data=(x_test,y_test_binary))\n",
    "\n",
    "save_model_nn(model, \"rnn\", embedding_name, dataset_name)"
   ]
  },
  {
   "attachments": {},
   "cell_type": "markdown",
   "metadata": {},
   "source": [
    "## Pre trained transformer\n",
    "- gpt word embedding and bert\n",
    "- based on transformer architecture\n",
    "- uses deep learning for word embedding \n",
    "- Yes, transformer-based word embeddings are a form of deep learning. The transformer model architecture, which is the foundation of transformer-based word embeddings, is a deep learning architecture widely used in natural language processing (NLP) tasks.\n",
    "- transformer-based word embeddings are a type of deep learning technique that utilizes the power of deep neural networks to learn contextually rich representations of words or tokens in natural language text."
   ]
  },
  {
   "attachments": {},
   "cell_type": "markdown",
   "metadata": {},
   "source": [
    "## GPT"
   ]
  },
  {
   "attachments": {},
   "cell_type": "markdown",
   "metadata": {},
   "source": [
    "- GPT-2 belongs to a family of deep learning models called “Transformers”. Transformers are the building block of the current state-of-the-art NLP architecture\n",
    "- A typical transformers design contains two parts, encoder and decoders, both working as vectorized representation of word relationships.\n",
    "- https://github.com/openai/openai-cookbook/blob/main/examples/Fine-tuned_classification.ipynb\n",
    "- can do through fine tunning or word embedding \n",
    "- "
   ]
  },
  {
   "cell_type": "code",
   "execution_count": 2,
   "metadata": {},
   "outputs": [],
   "source": [
    "import openai\n",
    "import os"
   ]
  },
  {
   "attachments": {},
   "cell_type": "markdown",
   "metadata": {},
   "source": [
    "### Fine tuining "
   ]
  },
  {
   "attachments": {},
   "cell_type": "markdown",
   "metadata": {},
   "source": [
    "- https://platform.openai.com/docs/api-reference/fine-tunes"
   ]
  },
  {
   "cell_type": "code",
   "execution_count": 112,
   "metadata": {},
   "outputs": [],
   "source": [
    "# dataset for gpt\n",
    "df_gpt = pd.DataFrame(zip(x_train,y_train_binary), columns = ['prompt', 'completion'])\n",
    "df_gpt.to_json(\"Dataset/SE2019/gpt_data_train.jsonl\", orient='records', lines=True)\n",
    "\n",
    "df_gpt = pd.DataFrame(zip(x_test,y_test_binary), columns = ['prompt', 'completion'])\n",
    "df_gpt.to_json(\"Dataset/SE2019/gpt_data_test.jsonl\", orient='records', lines=True)\n",
    "\n",
    "df_gpt[\"completion\"].value_counts()"
   ]
  },
  {
   "cell_type": "code",
   "execution_count": 118,
   "metadata": {},
   "outputs": [
    {
     "name": "stdout",
     "output_type": "stream",
     "text": [
      "^C\n"
     ]
    }
   ],
   "source": [
    "# prepare dataset for fine tune do in cmd\n",
    "# !openai tools fine_tunes.prepare_data -f Dataset/SE2019/gpt_data_test.jsonl "
   ]
  },
  {
   "cell_type": "code",
   "execution_count": 14,
   "metadata": {},
   "outputs": [
    {
     "data": {
      "text/plain": [
       "<File file id=file-XCtTOLLxI6jM59TlrDoT4LGL at 0x1d8e3f835f0> JSON: {\n",
       "  \"object\": \"file\",\n",
       "  \"id\": \"file-XCtTOLLxI6jM59TlrDoT4LGL\",\n",
       "  \"purpose\": \"fine-tune\",\n",
       "  \"filename\": \"file\",\n",
       "  \"bytes\": 656131,\n",
       "  \"created_at\": 1687786717,\n",
       "  \"status\": \"uploaded\",\n",
       "  \"status_details\": null\n",
       "}"
      ]
     },
     "execution_count": 14,
     "metadata": {},
     "output_type": "execute_result"
    }
   ],
   "source": [
    "# upload file to openai and create fine tune model\n",
    "# openai.File.create(\n",
    "#   file=open(\"Dataset/SE2019/gpt_data_train_prepared_train.jsonl\", \"rb\"),\n",
    "#   purpose='fine-tune'\n",
    "# )\n",
    "\n",
    "# openai.File.create(\n",
    "#   file=open(\"Dataset/SE2019/gpt_data_train_prepared_valid.jsonl\", \"rb\"),\n",
    "#   purpose='fine-tune'\n",
    "# )\n",
    "\n",
    "# openai.FineTune.create(training_file =\"file-XCtTOLLxI6jM59TlrDoT4LGL\",\n",
    "#                        validation_file=\"file-Do46v5kndAoPqdaR2ZVwbPT5\",\n",
    "#                        model = \"ada\",\n",
    "#                        compute_classification_metrics = True,\n",
    "#                        classification_positive_class = \" Hate\"\n",
    "#                        )"
   ]
  },
  {
   "cell_type": "code",
   "execution_count": 7,
   "metadata": {},
   "outputs": [
    {
     "data": {
      "text/plain": [
       "<OpenAIObject list at 0x27457b19310> JSON: {\n",
       "  \"object\": \"list\",\n",
       "  \"data\": [\n",
       "    {\n",
       "      \"object\": \"fine-tune\",\n",
       "      \"id\": \"ft-VwKO2vWcNtBJrPoZorUtFTVV\",\n",
       "      \"hyperparams\": {\n",
       "        \"n_epochs\": 4,\n",
       "        \"batch_size\": 8,\n",
       "        \"prompt_loss_weight\": 0.01,\n",
       "        \"learning_rate_multiplier\": 0.1,\n",
       "        \"classification_positive_class\": \" Hate\",\n",
       "        \"compute_classification_metrics\": true\n",
       "      },\n",
       "      \"organization_id\": \"org-57m2RCBaIU5pd9nsTDikjeLg\",\n",
       "      \"model\": \"ada\",\n",
       "      \"training_files\": [\n",
       "        {\n",
       "          \"object\": \"file\",\n",
       "          \"id\": \"file-XCtTOLLxI6jM59TlrDoT4LGL\",\n",
       "          \"purpose\": \"fine-tune\",\n",
       "          \"filename\": \"file\",\n",
       "          \"bytes\": 656131,\n",
       "          \"created_at\": 1687786717,\n",
       "          \"status\": \"processed\",\n",
       "          \"status_details\": null\n",
       "        }\n",
       "      ],\n",
       "      \"validation_files\": [\n",
       "        {\n",
       "          \"object\": \"file\",\n",
       "          \"id\": \"file-Do46v5kndAoPqdaR2ZVwbPT5\",\n",
       "          \"purpose\": \"fine-tune\",\n",
       "          \"filename\": \"file\",\n",
       "          \"bytes\": 122361,\n",
       "          \"created_at\": 1687786754,\n",
       "          \"status\": \"processed\",\n",
       "          \"status_details\": null\n",
       "        }\n",
       "      ],\n",
       "      \"result_files\": [\n",
       "        {\n",
       "          \"object\": \"file\",\n",
       "          \"id\": \"file-xfJGasLV4EMODTNBLNd6zxWU\",\n",
       "          \"purpose\": \"fine-tune-results\",\n",
       "          \"filename\": \"compiled_results.csv\",\n",
       "          \"bytes\": 174768,\n",
       "          \"created_at\": 1687790623,\n",
       "          \"status\": \"processed\",\n",
       "          \"status_details\": null\n",
       "        }\n",
       "      ],\n",
       "      \"created_at\": 1687786769,\n",
       "      \"updated_at\": 1687790623,\n",
       "      \"status\": \"succeeded\",\n",
       "      \"fine_tuned_model\": \"ada:ft-personal-2023-06-26-14-43-42\"\n",
       "    },\n",
       "    {\n",
       "      \"object\": \"fine-tune\",\n",
       "      \"id\": \"ft-LAcA6GtvgJ0lksqRT8jwtzSx\",\n",
       "      \"hyperparams\": {\n",
       "        \"n_epochs\": 4,\n",
       "        \"batch_size\": 8,\n",
       "        \"prompt_loss_weight\": 0.01,\n",
       "        \"learning_rate_multiplier\": 0.1,\n",
       "        \"classification_positive_class\": \" 0\",\n",
       "        \"compute_classification_metrics\": true\n",
       "      },\n",
       "      \"organization_id\": \"org-57m2RCBaIU5pd9nsTDikjeLg\",\n",
       "      \"model\": \"ada\",\n",
       "      \"training_files\": [\n",
       "        {\n",
       "          \"object\": \"file\",\n",
       "          \"id\": \"file-m1vI4bNTIIUnUZJwUM4eo2S3\",\n",
       "          \"purpose\": \"fine-tune\",\n",
       "          \"filename\": \"Dataset/SE2019/gpt_data_train_prepared.jsonl\",\n",
       "          \"bytes\": 745178,\n",
       "          \"created_at\": 1687797102,\n",
       "          \"status\": \"processed\",\n",
       "          \"status_details\": null\n",
       "        }\n",
       "      ],\n",
       "      \"validation_files\": [\n",
       "        {\n",
       "          \"object\": \"file\",\n",
       "          \"id\": \"file-GR7BA1XaebEeGZxz9QLB5sg8\",\n",
       "          \"purpose\": \"fine-tune\",\n",
       "          \"filename\": \"Dataset/SE2019/gpt_data_test_prepared.jsonl\",\n",
       "          \"bytes\": 321131,\n",
       "          \"created_at\": 1687797106,\n",
       "          \"status\": \"processed\",\n",
       "          \"status_details\": null\n",
       "        }\n",
       "      ],\n",
       "      \"result_files\": [\n",
       "        {\n",
       "          \"object\": \"file\",\n",
       "          \"id\": \"file-jLyo55YpRZ6D0diBaQedaJ81\",\n",
       "          \"purpose\": \"fine-tune-results\",\n",
       "          \"filename\": \"compiled_results.csv\",\n",
       "          \"bytes\": 188239,\n",
       "          \"created_at\": 1687800449,\n",
       "          \"status\": \"processed\",\n",
       "          \"status_details\": null\n",
       "        }\n",
       "      ],\n",
       "      \"created_at\": 1687797106,\n",
       "      \"updated_at\": 1687800449,\n",
       "      \"status\": \"succeeded\",\n",
       "      \"fine_tuned_model\": \"ada:ft-personal-2023-06-26-17-27-28\"\n",
       "    },\n",
       "    {\n",
       "      \"object\": \"fine-tune\",\n",
       "      \"id\": \"ft-XGDLqYtbnvM9gy4Mrm8AWGay\",\n",
       "      \"hyperparams\": {\n",
       "        \"n_epochs\": 4,\n",
       "        \"batch_size\": null,\n",
       "        \"prompt_loss_weight\": 0.01,\n",
       "        \"learning_rate_multiplier\": null,\n",
       "        \"classification_positive_class\": \" Hate\",\n",
       "        \"compute_classification_metrics\": true\n",
       "      },\n",
       "      \"organization_id\": \"org-57m2RCBaIU5pd9nsTDikjeLg\",\n",
       "      \"model\": \"ada\",\n",
       "      \"training_files\": [\n",
       "        {\n",
       "          \"object\": \"file\",\n",
       "          \"id\": \"file-XCtTOLLxI6jM59TlrDoT4LGL\",\n",
       "          \"purpose\": \"fine-tune\",\n",
       "          \"filename\": \"file\",\n",
       "          \"bytes\": 656131,\n",
       "          \"created_at\": 1687786717,\n",
       "          \"status\": \"processed\",\n",
       "          \"status_details\": null\n",
       "        }\n",
       "      ],\n",
       "      \"validation_files\": [\n",
       "        {\n",
       "          \"object\": \"file\",\n",
       "          \"id\": \"file-Do46v5kndAoPqdaR2ZVwbPT5\",\n",
       "          \"purpose\": \"fine-tune\",\n",
       "          \"filename\": \"file\",\n",
       "          \"bytes\": 122361,\n",
       "          \"created_at\": 1687786754,\n",
       "          \"status\": \"processed\",\n",
       "          \"status_details\": null\n",
       "        }\n",
       "      ],\n",
       "      \"result_files\": [],\n",
       "      \"created_at\": 1687844635,\n",
       "      \"updated_at\": 1687844807,\n",
       "      \"status\": \"cancelled\",\n",
       "      \"fine_tuned_model\": null\n",
       "    }\n",
       "  ]\n",
       "}"
      ]
     },
     "execution_count": 7,
     "metadata": {},
     "output_type": "execute_result"
    }
   ],
   "source": [
    "openai.FineTune.list()"
   ]
  },
  {
   "cell_type": "code",
   "execution_count": 6,
   "metadata": {},
   "outputs": [
    {
     "data": {
      "text/plain": [
       "<FineTune fine-tune id=ft-XGDLqYtbnvM9gy4Mrm8AWGay at 0x27457b18a10> JSON: {\n",
       "  \"object\": \"fine-tune\",\n",
       "  \"id\": \"ft-XGDLqYtbnvM9gy4Mrm8AWGay\",\n",
       "  \"hyperparams\": {\n",
       "    \"n_epochs\": 4,\n",
       "    \"batch_size\": null,\n",
       "    \"prompt_loss_weight\": 0.01,\n",
       "    \"learning_rate_multiplier\": null,\n",
       "    \"classification_positive_class\": \" Hate\",\n",
       "    \"compute_classification_metrics\": true\n",
       "  },\n",
       "  \"organization_id\": \"org-57m2RCBaIU5pd9nsTDikjeLg\",\n",
       "  \"model\": \"ada\",\n",
       "  \"training_files\": [\n",
       "    {\n",
       "      \"object\": \"file\",\n",
       "      \"id\": \"file-XCtTOLLxI6jM59TlrDoT4LGL\",\n",
       "      \"purpose\": \"fine-tune\",\n",
       "      \"filename\": \"file\",\n",
       "      \"bytes\": 656131,\n",
       "      \"created_at\": 1687786717,\n",
       "      \"status\": \"processed\",\n",
       "      \"status_details\": null\n",
       "    }\n",
       "  ],\n",
       "  \"validation_files\": [\n",
       "    {\n",
       "      \"object\": \"file\",\n",
       "      \"id\": \"file-Do46v5kndAoPqdaR2ZVwbPT5\",\n",
       "      \"purpose\": \"fine-tune\",\n",
       "      \"filename\": \"file\",\n",
       "      \"bytes\": 122361,\n",
       "      \"created_at\": 1687786754,\n",
       "      \"status\": \"processed\",\n",
       "      \"status_details\": null\n",
       "    }\n",
       "  ],\n",
       "  \"result_files\": [],\n",
       "  \"created_at\": 1687844635,\n",
       "  \"updated_at\": 1687844807,\n",
       "  \"status\": \"cancelled\",\n",
       "  \"fine_tuned_model\": null,\n",
       "  \"events\": [\n",
       "    {\n",
       "      \"object\": \"fine-tune-event\",\n",
       "      \"level\": \"info\",\n",
       "      \"message\": \"Created fine-tune: ft-XGDLqYtbnvM9gy4Mrm8AWGay\",\n",
       "      \"created_at\": 1687844635\n",
       "    },\n",
       "    {\n",
       "      \"object\": \"fine-tune-event\",\n",
       "      \"level\": \"info\",\n",
       "      \"message\": \"Fine-tune cancelled\",\n",
       "      \"created_at\": 1687844807\n",
       "    }\n",
       "  ]\n",
       "}"
      ]
     },
     "execution_count": 6,
     "metadata": {},
     "output_type": "execute_result"
    }
   ],
   "source": [
    "openai.FineTune.cancel(id=\"ft-XGDLqYtbnvM9gy4Mrm8AWGay\")"
   ]
  },
  {
   "cell_type": "code",
   "execution_count": 119,
   "metadata": {},
   "outputs": [
    {
     "name": "stdout",
     "output_type": "stream",
     "text": [
      "^C\n"
     ]
    }
   ],
   "source": [
    "# create fine tune model\n",
    "# !openai api fine_tunes.create -m ada -t \"Dataset/SE2019/gpt_data_train_prepared.jsonl\" -v \"Dataset/SE2019/gpt_data_test_prepared.jsonl\" --compute_classification_metrics --classification_positive_class \" 0\""
   ]
  },
  {
   "cell_type": "code",
   "execution_count": 9,
   "metadata": {},
   "outputs": [
    {
     "data": {
      "text/plain": [
       "<FineTune fine-tune id=ft-XGDLqYtbnvM9gy4Mrm8AWGay at 0x27457b18ef0> JSON: {\n",
       "  \"object\": \"fine-tune\",\n",
       "  \"id\": \"ft-XGDLqYtbnvM9gy4Mrm8AWGay\",\n",
       "  \"hyperparams\": {\n",
       "    \"n_epochs\": 4,\n",
       "    \"batch_size\": null,\n",
       "    \"prompt_loss_weight\": 0.01,\n",
       "    \"learning_rate_multiplier\": null,\n",
       "    \"classification_positive_class\": \" Hate\",\n",
       "    \"compute_classification_metrics\": true\n",
       "  },\n",
       "  \"organization_id\": \"org-57m2RCBaIU5pd9nsTDikjeLg\",\n",
       "  \"model\": \"ada\",\n",
       "  \"training_files\": [\n",
       "    {\n",
       "      \"object\": \"file\",\n",
       "      \"id\": \"file-XCtTOLLxI6jM59TlrDoT4LGL\",\n",
       "      \"purpose\": \"fine-tune\",\n",
       "      \"filename\": \"file\",\n",
       "      \"bytes\": 656131,\n",
       "      \"created_at\": 1687786717,\n",
       "      \"status\": \"processed\",\n",
       "      \"status_details\": null\n",
       "    }\n",
       "  ],\n",
       "  \"validation_files\": [\n",
       "    {\n",
       "      \"object\": \"file\",\n",
       "      \"id\": \"file-Do46v5kndAoPqdaR2ZVwbPT5\",\n",
       "      \"purpose\": \"fine-tune\",\n",
       "      \"filename\": \"file\",\n",
       "      \"bytes\": 122361,\n",
       "      \"created_at\": 1687786754,\n",
       "      \"status\": \"processed\",\n",
       "      \"status_details\": null\n",
       "    }\n",
       "  ],\n",
       "  \"result_files\": [],\n",
       "  \"created_at\": 1687844635,\n",
       "  \"updated_at\": 1687844807,\n",
       "  \"status\": \"cancelled\",\n",
       "  \"fine_tuned_model\": null,\n",
       "  \"events\": [\n",
       "    {\n",
       "      \"object\": \"fine-tune-event\",\n",
       "      \"level\": \"info\",\n",
       "      \"message\": \"Created fine-tune: ft-XGDLqYtbnvM9gy4Mrm8AWGay\",\n",
       "      \"created_at\": 1687844635\n",
       "    },\n",
       "    {\n",
       "      \"object\": \"fine-tune-event\",\n",
       "      \"level\": \"info\",\n",
       "      \"message\": \"Fine-tune cancelled\",\n",
       "      \"created_at\": 1687844807\n",
       "    }\n",
       "  ]\n",
       "}"
      ]
     },
     "execution_count": 9,
     "metadata": {},
     "output_type": "execute_result"
    }
   ],
   "source": [
    "openai.FineTune.retrieve(id=\"ft-XGDLqYtbnvM9gy4Mrm8AWGay\")"
   ]
  },
  {
   "cell_type": "code",
   "execution_count": 189,
   "metadata": {},
   "outputs": [
    {
     "data": {
      "text/html": [
       "<div>\n",
       "<style scoped>\n",
       "    .dataframe tbody tr th:only-of-type {\n",
       "        vertical-align: middle;\n",
       "    }\n",
       "\n",
       "    .dataframe tbody tr th {\n",
       "        vertical-align: top;\n",
       "    }\n",
       "\n",
       "    .dataframe thead th {\n",
       "        text-align: right;\n",
       "    }\n",
       "</style>\n",
       "<table border=\"1\" class=\"dataframe\">\n",
       "  <thead>\n",
       "    <tr style=\"text-align: right;\">\n",
       "      <th></th>\n",
       "      <th>step</th>\n",
       "      <th>elapsed_tokens</th>\n",
       "      <th>elapsed_examples</th>\n",
       "      <th>training_loss</th>\n",
       "      <th>training_sequence_accuracy</th>\n",
       "      <th>training_token_accuracy</th>\n",
       "      <th>validation_loss</th>\n",
       "      <th>validation_sequence_accuracy</th>\n",
       "      <th>validation_token_accuracy</th>\n",
       "      <th>classification/accuracy</th>\n",
       "      <th>classification/precision</th>\n",
       "      <th>classification/recall</th>\n",
       "      <th>classification/auroc</th>\n",
       "      <th>classification/auprc</th>\n",
       "      <th>classification/f1.0</th>\n",
       "    </tr>\n",
       "  </thead>\n",
       "  <tbody>\n",
       "    <tr>\n",
       "      <th>3137</th>\n",
       "      <td>3138</td>\n",
       "      <td>1017808</td>\n",
       "      <td>25104</td>\n",
       "      <td>0.030316</td>\n",
       "      <td>1.0</td>\n",
       "      <td>1.0</td>\n",
       "      <td>NaN</td>\n",
       "      <td>NaN</td>\n",
       "      <td>NaN</td>\n",
       "      <td>0.814333</td>\n",
       "      <td>0.837239</td>\n",
       "      <td>0.844728</td>\n",
       "      <td>0.890362</td>\n",
       "      <td>0.914601</td>\n",
       "      <td>0.840967</td>\n",
       "    </tr>\n",
       "  </tbody>\n",
       "</table>\n",
       "</div>"
      ],
      "text/plain": [
       "      step  elapsed_tokens  elapsed_examples  training_loss   \n",
       "3137  3138         1017808             25104       0.030316  \\\n",
       "\n",
       "      training_sequence_accuracy  training_token_accuracy  validation_loss   \n",
       "3137                         1.0                      1.0              NaN  \\\n",
       "\n",
       "      validation_sequence_accuracy  validation_token_accuracy   \n",
       "3137                           NaN                        NaN  \\\n",
       "\n",
       "      classification/accuracy  classification/precision   \n",
       "3137                 0.814333                  0.837239  \\\n",
       "\n",
       "      classification/recall  classification/auroc  classification/auprc   \n",
       "3137               0.844728              0.890362              0.914601  \\\n",
       "\n",
       "      classification/f1.0  \n",
       "3137             0.840967  "
      ]
     },
     "execution_count": 189,
     "metadata": {},
     "output_type": "execute_result"
    }
   ],
   "source": [
    "# get result of model\n",
    "#!openai api fine_tunes.results -i ft-LAcA6GtvgJ0lksqRT8jwtzSx > result.csv\n",
    "\n",
    "results = pd.read_csv('result.csv')\n",
    "results[results['classification/accuracy'].notnull()].tail(1)"
   ]
  },
  {
   "attachments": {},
   "cell_type": "markdown",
   "metadata": {},
   "source": [
    "#### Predict"
   ]
  },
  {
   "cell_type": "code",
   "execution_count": 127,
   "metadata": {},
   "outputs": [],
   "source": [
    "def gpt_complete_create(prompt_text):\n",
    "    model_id = \"ada:ft-personal-2023-06-26-17-27-28\" \n",
    "    result_gpt = openai.Completion.create(model=model_id, prompt=prompt_text, max_tokens=1, temperature=0)\n",
    "    return result_gpt"
   ]
  },
  {
   "cell_type": "code",
   "execution_count": 27,
   "metadata": {},
   "outputs": [
    {
     "data": {
      "text/html": [
       "<div>\n",
       "<style scoped>\n",
       "    .dataframe tbody tr th:only-of-type {\n",
       "        vertical-align: middle;\n",
       "    }\n",
       "\n",
       "    .dataframe tbody tr th {\n",
       "        vertical-align: top;\n",
       "    }\n",
       "\n",
       "    .dataframe thead th {\n",
       "        text-align: right;\n",
       "    }\n",
       "</style>\n",
       "<table border=\"1\" class=\"dataframe\">\n",
       "  <thead>\n",
       "    <tr style=\"text-align: right;\">\n",
       "      <th></th>\n",
       "      <th>prompt</th>\n",
       "      <th>completion</th>\n",
       "    </tr>\n",
       "  </thead>\n",
       "  <tbody>\n",
       "    <tr>\n",
       "      <th>0</th>\n",
       "      <td>hey people already long islandanother chopped...</td>\n",
       "      <td>1</td>\n",
       "    </tr>\n",
       "    <tr>\n",
       "      <th>1</th>\n",
       "      <td>mandy manning one world reliefs friends partne...</td>\n",
       "      <td>0</td>\n",
       "    </tr>\n",
       "    <tr>\n",
       "      <th>2</th>\n",
       "      <td>tell us u rape people pussy  -&gt;</td>\n",
       "      <td>0</td>\n",
       "    </tr>\n",
       "    <tr>\n",
       "      <th>3</th>\n",
       "      <td>three streets berlin shut fighting migrants tu...</td>\n",
       "      <td>1</td>\n",
       "    </tr>\n",
       "    <tr>\n",
       "      <th>4</th>\n",
       "      <td>maybe visits school lebron built build one imm...</td>\n",
       "      <td>0</td>\n",
       "    </tr>\n",
       "  </tbody>\n",
       "</table>\n",
       "</div>"
      ],
      "text/plain": [
       "                                              prompt  completion\n",
       "0   hey people already long islandanother chopped...           1\n",
       "1  mandy manning one world reliefs friends partne...           0\n",
       "2                    tell us u rape people pussy  ->           0\n",
       "3  three streets berlin shut fighting migrants tu...           1\n",
       "4  maybe visits school lebron built build one imm...           0"
      ]
     },
     "execution_count": 27,
     "metadata": {},
     "output_type": "execute_result"
    }
   ],
   "source": [
    "filepath = \"Dataset/SE2019/gpt_data_test_prepared.jsonl\"\n",
    "df_gpt = pd.read_json(filepath, lines= True)\n",
    "df_gpt['predicted'] = -1\n",
    "df_gpt.head()"
   ]
  },
  {
   "cell_type": "code",
   "execution_count": 144,
   "metadata": {},
   "outputs": [],
   "source": [
    "def gpt_predict(start = 0, step = 10):\n",
    "    max_s = len(df_gpt)\n",
    "    prompts_tosend = []\n",
    "    for i in range(start, start+step):\n",
    "        if i == max_s: break\n",
    "        p = df_gpt.loc[i]['prompt']\n",
    "        prompts_tosend.append(p)\n",
    "        #print(p)\n",
    "    \n",
    "    predict_result = gpt_complete_create(prompts_tosend)\n",
    "    choices_gpt = predict_result.to_dict()['choices']\n",
    "\n",
    "    for i in range(len(choices_gpt)):\n",
    "        j = choices_gpt[i].to_dict()\n",
    "        #print(f'receiving index: {j[\"index\"]} output: {j[\"text\"]}')\n",
    "        df_gpt.loc[start+j[\"index\"], 'predicted'] = int(j['text'])\n",
    "\n",
    "    print(f\"next start {start+len(prompts_tosend)}\")\n",
    "\n",
    "    # for i in range(start, start+step):\n",
    "    #     r = df_gpt.loc[i]\n",
    "    #     print(r['prompt'], \"\\n\", r['completion'], r['predicted'])\n",
    "\n",
    "    return prompts_tosend, predict_result\n"
   ]
  },
  {
   "cell_type": "code",
   "execution_count": 142,
   "metadata": {},
   "outputs": [
    {
     "data": {
      "text/plain": [
       "2693"
      ]
     },
     "execution_count": 142,
     "metadata": {},
     "output_type": "execute_result"
    }
   ],
   "source": [
    "len(df_gpt)"
   ]
  },
  {
   "cell_type": "code",
   "execution_count": 145,
   "metadata": {},
   "outputs": [
    {
     "name": "stdout",
     "output_type": "stream",
     "text": [
      "next start 2060\n",
      "next start 2110\n",
      "next start 2160\n",
      "next start 2210\n",
      "next start 2260\n",
      "next start 2310\n",
      "next start 2360\n",
      "next start 2410\n",
      "next start 2460\n",
      "next start 2510\n",
      "next start 2560\n",
      "next start 2610\n",
      "next start 2660\n",
      "next start 2693\n"
     ]
    }
   ],
   "source": [
    "def loop_gpt(start, end, step):\n",
    "    for i in range(start, end, step):\n",
    "        bb, cc = gpt_predict(i, step)\n",
    "loop_gpt(0, len(df_gpt), 50)"
   ]
  },
  {
   "cell_type": "code",
   "execution_count": 147,
   "metadata": {},
   "outputs": [
    {
     "data": {
      "text/html": [
       "<div>\n",
       "<style scoped>\n",
       "    .dataframe tbody tr th:only-of-type {\n",
       "        vertical-align: middle;\n",
       "    }\n",
       "\n",
       "    .dataframe tbody tr th {\n",
       "        vertical-align: top;\n",
       "    }\n",
       "\n",
       "    .dataframe thead th {\n",
       "        text-align: right;\n",
       "    }\n",
       "</style>\n",
       "<table border=\"1\" class=\"dataframe\">\n",
       "  <thead>\n",
       "    <tr style=\"text-align: right;\">\n",
       "      <th></th>\n",
       "      <th>prompt</th>\n",
       "      <th>completion</th>\n",
       "      <th>predicted</th>\n",
       "    </tr>\n",
       "  </thead>\n",
       "  <tbody>\n",
       "  </tbody>\n",
       "</table>\n",
       "</div>"
      ],
      "text/plain": [
       "Empty DataFrame\n",
       "Columns: [prompt, completion, predicted]\n",
       "Index: []"
      ]
     },
     "execution_count": 147,
     "metadata": {},
     "output_type": "execute_result"
    }
   ],
   "source": [
    "df_gpt.loc[df_gpt['predicted'] == -1]"
   ]
  },
  {
   "cell_type": "code",
   "execution_count": 152,
   "metadata": {},
   "outputs": [],
   "source": [
    "y_test = df_gpt['completion'].to_numpy()\n",
    "y_test_pred = df_gpt['predicted'].to_numpy()\n",
    "\n",
    "y_test = np.where(y_test == 1, \"Hate\", \"Non-Hate\") \n",
    "y_test_pred = np.where(y_test_pred == 1, \"Hate\", \"Non-Hate\") "
   ]
  },
  {
   "cell_type": "code",
   "execution_count": 157,
   "metadata": {},
   "outputs": [],
   "source": [
    "df_gpt.to_csv(\"Dataset/SE2019/gpt_data_test_result\", index=False)"
   ]
  },
  {
   "cell_type": "code",
   "execution_count": 158,
   "metadata": {},
   "outputs": [
    {
     "name": "stdout",
     "output_type": "stream",
     "text": [
      "              precision    recall  f1-score   support\n",
      "\n",
      "        Hate       0.78      0.78      0.78      1128\n",
      "    Non-Hate       0.84      0.84      0.84      1565\n",
      "\n",
      "    accuracy                           0.81      2693\n",
      "   macro avg       0.81      0.81      0.81      2693\n",
      "weighted avg       0.81      0.81      0.81      2693\n",
      "\n"
     ]
    }
   ],
   "source": [
    "print(classification_report(y_test, y_test_pred, labels=[\"Hate\",\"Non-Hate\"]))"
   ]
  },
  {
   "attachments": {},
   "cell_type": "markdown",
   "metadata": {},
   "source": [
    "## BERT"
   ]
  },
  {
   "attachments": {},
   "cell_type": "markdown",
   "metadata": {},
   "source": [
    "- https://towardsdatascience.com/bert-explained-state-of-the-art-language-model-for-nlp-f8b21a9b6270\n",
    "- https://www.youtube.com/watch?v=hOCDJyZ6quA\n",
    "- tensorflow hub bert https://tfhub.dev/tensorflow/bert_en_uncased_L-12_H-768_A-12/4\n",
    "- bert will convert sentence into embeding vector which will feed to neural network for training \n",
    "- consist of preprocess and embeding \n",
    "- (4)BERT-RNN: The corresponding representational word vectors were trained by BERT model for the input text, which were then classified by RNN neural network. (5)word2vec-RNN: This model is a traditional text classification model. 4.3.\n",
    "- BERT is a neural-network-based technique for language processing pre-training\n",
    "- it is not a classification algorithm \n",
    "- BERT generates <b>contextual embeddings</b>, the input to the model is a sentence rather than a single word.\n",
    "- BERT learns contextualized word representations, often referred to as contextual word embeddings or contextualized embeddings. Unlike traditional word embeddings, which assign a fixed vector representation to each word, BERT's word representations are sensitive to the context in which the word appears."
   ]
  },
  {
   "attachments": {},
   "cell_type": "markdown",
   "metadata": {},
   "source": [
    "## Summary"
   ]
  },
  {
   "cell_type": "code",
   "execution_count": 51,
   "metadata": {},
   "outputs": [
    {
     "name": "stdout",
     "output_type": "stream",
     "text": [
      "Model: \"sequential_5\"\n",
      "_________________________________________________________________\n",
      " Layer (type)                Output Shape              Param #   \n",
      "=================================================================\n",
      " text_vectorization_1 (TextV  (None, 50)               0         \n",
      " ectorization)                                                   \n",
      "                                                                 \n",
      " embedding (Embedding)       (None, 50, 100)           3200300   \n",
      "                                                                 \n",
      " spatial_dropout1d_2 (Spatia  (None, 50, 100)          0         \n",
      " lDropout1D)                                                     \n",
      "                                                                 \n",
      " lstm_2 (LSTM)               (None, 128)               117248    \n",
      "                                                                 \n",
      " dropout_3 (Dropout)         (None, 128)               0         \n",
      "                                                                 \n",
      " dense_5 (Dense)             (None, 1)                 129       \n",
      "                                                                 \n",
      "=================================================================\n",
      "Total params: 3,317,677\n",
      "Trainable params: 117,377\n",
      "Non-trainable params: 3,200,300\n",
      "_________________________________________________________________\n",
      "None\n"
     ]
    }
   ],
   "source": [
    "print(model.summary())"
   ]
  },
  {
   "attachments": {},
   "cell_type": "markdown",
   "metadata": {},
   "source": [
    "## Predict"
   ]
  },
  {
   "cell_type": "code",
   "execution_count": 52,
   "metadata": {},
   "outputs": [
    {
     "name": "stdout",
     "output_type": "stream",
     "text": [
      "Score:  0.2901473641395569\n",
      "Accuracy:  0.889845073223114\n"
     ]
    }
   ],
   "source": [
    "score = model.evaluate(x_test, y_test_binary, verbose=0)\n",
    "print(\"Score: \", score[0])\n",
    "print(\"Accuracy: \", score[1])"
   ]
  },
  {
   "cell_type": "code",
   "execution_count": 53,
   "metadata": {},
   "outputs": [],
   "source": [
    "y_test_pred_percent = model.predict(x_test, verbose=0)\n",
    "y_test_pred = np.where(y_test_pred_percent > 0.5, \"Hate\", \"Non-Hate\") \n",
    "y_test_pred = y_test_pred.flatten()"
   ]
  },
  {
   "cell_type": "code",
   "execution_count": 205,
   "metadata": {},
   "outputs": [
    {
     "data": {
      "text/plain": [
       "array([[0.94477934],\n",
       "       [0.00477994],\n",
       "       [0.4942627 ],\n",
       "       ...,\n",
       "       [0.53127515],\n",
       "       [0.82544625],\n",
       "       [0.4426138 ]], dtype=float32)"
      ]
     },
     "execution_count": 205,
     "metadata": {},
     "output_type": "execute_result"
    }
   ],
   "source": [
    "y_test_pred_percent"
   ]
  },
  {
   "attachments": {},
   "cell_type": "markdown",
   "metadata": {},
   "source": [
    "## Visualise"
   ]
  },
  {
   "cell_type": "code",
   "execution_count": 54,
   "metadata": {},
   "outputs": [
    {
     "data": {
      "text/plain": [
       "(0.0, 0.3435731276869774)"
      ]
     },
     "execution_count": 54,
     "metadata": {},
     "output_type": "execute_result"
    },
    {
     "data": {
      "image/png": "[encoded data removed]",
      "text/plain": [
       "<Figure size 1600x800 with 2 Axes>"
      ]
     },
     "metadata": {},
     "output_type": "display_data"
    }
   ],
   "source": [
    "model_history = history\n",
    "# Model performance charts\n",
    "plt.figure(figsize=(16, 8))\n",
    "plt.subplot(1, 2, 1)\n",
    "\n",
    "plt.plot(model_history.history['accuracy'])\n",
    "plt.plot(model_history.history['val_accuracy'])\n",
    "\n",
    "plt.title('model accuracy')\n",
    "plt.ylabel('accuracy')\n",
    "plt.xlabel('epoch')\n",
    "plt.legend(['train', 'test'], loc='upper left')\n",
    "plt.ylim(None, 1)\n",
    "plt.subplot(1, 2, 2)\n",
    "\n",
    "plt.plot(model_history.history['loss'])\n",
    "plt.plot(model_history.history['val_loss'])\n",
    "\n",
    "plt.title('model loss')\n",
    "plt.ylabel('loss')\n",
    "plt.xlabel('epoch')\n",
    "plt.legend(['train', 'test'], loc='upper left')\n",
    "plt.ylim(0, None)\n"
   ]
  },
  {
   "attachments": {},
   "cell_type": "markdown",
   "metadata": {},
   "source": [
    "# Results"
   ]
  },
  {
   "cell_type": "code",
   "execution_count": 64,
   "metadata": {},
   "outputs": [
    {
     "name": "stdout",
     "output_type": "stream",
     "text": [
      "              precision    recall  f1-score   support\n",
      "\n",
      "        Hate       0.56      0.43      0.49       983\n",
      "    Non-Hate       0.92      0.95      0.94      7151\n",
      "\n",
      "    accuracy                           0.89      8134\n",
      "   macro avg       0.74      0.69      0.71      8134\n",
      "weighted avg       0.88      0.89      0.88      8134\n",
      "\n"
     ]
    }
   ],
   "source": [
    "# Classification report\n",
    "print(classification_report(y_test, y_test_pred, labels=[\"Hate\",\"Non-Hate\"]))"
   ]
  },
  {
   "cell_type": "code",
   "execution_count": 56,
   "metadata": {},
   "outputs": [
    {
     "name": "stdout",
     "output_type": "stream",
     "text": [
      "Count: Actual\n",
      "Non-Hate    7151\n",
      "Hate         983\n",
      "Name: count, dtype: int64\n",
      "\n",
      "Count: Predict\n",
      "Non-Hate    7369\n",
      "Hate         765\n",
      "Name: count, dtype: int64\n",
      "\n"
     ]
    },
    {
     "data": {
      "image/png": "[encoded data removed]",
      "text/plain": [
       "<Figure size 640x480 with 2 Axes>"
      ]
     },
     "metadata": {},
     "output_type": "display_data"
    }
   ],
   "source": [
    "# Heatmap\n",
    "ax = plt.subplot()\n",
    "\n",
    "# Plot the two-way Confusion Matrix\n",
    "sb.heatmap(confusion_matrix(y_test, y_test_pred, labels=[\"Hate\",\"Non-Hate\"]), \n",
    "           annot = True, fmt=\".0f\", annot_kws={\"size\": 18}, ax=ax)\n",
    "\n",
    "ax.set_xlabel('Predicted')\n",
    "ax.set_ylabel('Actual')\n",
    "ax.xaxis.set_ticklabels([\"Hate\",\"Non-Hate\"])\n",
    "ax.yaxis.set_ticklabels([\"Hate\",\"Non-Hate\"])\n",
    "\n",
    "# Count\n",
    "df1 = pd.DataFrame({'Actual':y_test, 'Predict':y_test_pred})\n",
    "# print(df1.describe())\n",
    "print(f\"Count: {df1['Actual'].value_counts()}\")\n",
    "print()\n",
    "print(f\"Count: {df1['Predict'].value_counts()}\")\n",
    "print()"
   ]
  },
  {
   "attachments": {},
   "cell_type": "markdown",
   "metadata": {},
   "source": [
    "# Model compare"
   ]
  },
  {
   "cell_type": "code",
   "execution_count": 84,
   "metadata": {},
   "outputs": [],
   "source": [
    "# for i in model_to_load:\n",
    "#     filename = f\"models/{i}.pickle\"\n",
    "#     old_model = pickle.load(open(filename,\"rb\"))\n",
    "\n",
    "def get_result_nn(model_to_load):\n",
    "    c = ['Model', 'Accuracy', 'precision', 'recall', 'f1-score', 'hate f1', 'hate support', \"non-hate f1\", 'non-hate support']\n",
    "    result_table = pd.DataFrame(columns=c)\n",
    "    for i in model_to_load:\n",
    "        filename = f\"models/{i}\"\n",
    "        old_model = load_model(filename)\n",
    "\n",
    "        y_test_pred = old_model.predict(x_test, verbose=0)\n",
    "        y_test_pred = np.where(y_test_pred > 0.5, \"Hate\", \"Non-Hate\") \n",
    "        y_test_pred = y_test_pred.flatten()\n",
    "\n",
    "        cr = classification_report(y_test, y_test_pred, labels=[\"Hate\",\"Non-Hate\"], output_dict=True)\n",
    "        result_table.loc[len(result_table)] = [i, cr['accuracy'], cr['macro avg']['precision'], \n",
    "                                            cr['macro avg']['recall'], cr['macro avg']['f1-score'],\n",
    "                                            cr['Hate']['f1-score'],cr['Hate']['support'],\n",
    "                                            cr['Non-Hate']['f1-score'],cr['Non-Hate']['support']]\n",
    "\n",
    "    return result_table.style.highlight_max(color = 'red', axis = 0)"
   ]
  },
  {
   "cell_type": "code",
   "execution_count": 87,
   "metadata": {},
   "outputs": [
    {
     "data": {
      "text/html": [
       "<style type=\"text/css\">\n",
       "#T_d8cf5_row0_col0, #T_d8cf5_row0_col1, #T_d8cf5_row0_col2, #T_d8cf5_row0_col3, #T_d8cf5_row0_col4, #T_d8cf5_row0_col5, #T_d8cf5_row0_col6, #T_d8cf5_row0_col7, #T_d8cf5_row0_col8 {\n",
       "  background-color: red;\n",
       "}\n",
       "</style>\n",
       "<table id=\"T_d8cf5\">\n",
       "  <thead>\n",
       "    <tr>\n",
       "      <th class=\"blank level0\" >&nbsp;</th>\n",
       "      <th id=\"T_d8cf5_level0_col0\" class=\"col_heading level0 col0\" >Model</th>\n",
       "      <th id=\"T_d8cf5_level0_col1\" class=\"col_heading level0 col1\" >Accuracy</th>\n",
       "      <th id=\"T_d8cf5_level0_col2\" class=\"col_heading level0 col2\" >precision</th>\n",
       "      <th id=\"T_d8cf5_level0_col3\" class=\"col_heading level0 col3\" >recall</th>\n",
       "      <th id=\"T_d8cf5_level0_col4\" class=\"col_heading level0 col4\" >f1-score</th>\n",
       "      <th id=\"T_d8cf5_level0_col5\" class=\"col_heading level0 col5\" >hate f1</th>\n",
       "      <th id=\"T_d8cf5_level0_col6\" class=\"col_heading level0 col6\" >hate support</th>\n",
       "      <th id=\"T_d8cf5_level0_col7\" class=\"col_heading level0 col7\" >non-hate f1</th>\n",
       "      <th id=\"T_d8cf5_level0_col8\" class=\"col_heading level0 col8\" >non-hate support</th>\n",
       "    </tr>\n",
       "  </thead>\n",
       "  <tbody>\n",
       "    <tr>\n",
       "      <th id=\"T_d8cf5_level0_row0\" class=\"row_heading level0 row0\" >0</th>\n",
       "      <td id=\"T_d8cf5_row0_col0\" class=\"data row0 col0\" >GabHateCorpus_glove_lstm</td>\n",
       "      <td id=\"T_d8cf5_row0_col1\" class=\"data row0 col1\" >0.889845</td>\n",
       "      <td id=\"T_d8cf5_row0_col2\" class=\"data row0 col2\" >0.740638</td>\n",
       "      <td id=\"T_d8cf5_row0_col3\" class=\"data row0 col3\" >0.692981</td>\n",
       "      <td id=\"T_d8cf5_row0_col4\" class=\"data row0 col4\" >0.712853</td>\n",
       "      <td id=\"T_d8cf5_row0_col5\" class=\"data row0 col5\" >0.487414</td>\n",
       "      <td id=\"T_d8cf5_row0_col6\" class=\"data row0 col6\" >983</td>\n",
       "      <td id=\"T_d8cf5_row0_col7\" class=\"data row0 col7\" >0.938292</td>\n",
       "      <td id=\"T_d8cf5_row0_col8\" class=\"data row0 col8\" >7151</td>\n",
       "    </tr>\n",
       "  </tbody>\n",
       "</table>\n"
      ],
      "text/plain": [
       "<pandas.io.formats.style.Styler at 0x23b3ab99bd0>"
      ]
     },
     "execution_count": 87,
     "metadata": {},
     "output_type": "execute_result"
    }
   ],
   "source": [
    "ds =\"GabHateCorpus\"\n",
    "em = 'glove'\n",
    "get_result_nn([ds+\"_\"+em+\"_lstm\"])"
   ]
  },
  {
   "cell_type": "code",
   "execution_count": 46,
   "metadata": {},
   "outputs": [
    {
     "data": {
      "text/html": [
       "<style type=\"text/css\">\n",
       "#T_34fa4_row1_col0, #T_34fa4_row2_col2, #T_34fa4_row4_col1, #T_34fa4_row4_col3, #T_34fa4_row4_col4 {\n",
       "  background-color: red;\n",
       "}\n",
       "</style>\n",
       "<table id=\"T_34fa4\">\n",
       "  <thead>\n",
       "    <tr>\n",
       "      <th class=\"blank level0\" >&nbsp;</th>\n",
       "      <th id=\"T_34fa4_level0_col0\" class=\"col_heading level0 col0\" >Model</th>\n",
       "      <th id=\"T_34fa4_level0_col1\" class=\"col_heading level0 col1\" >Accuracy</th>\n",
       "      <th id=\"T_34fa4_level0_col2\" class=\"col_heading level0 col2\" >Precision</th>\n",
       "      <th id=\"T_34fa4_level0_col3\" class=\"col_heading level0 col3\" >Recall</th>\n",
       "      <th id=\"T_34fa4_level0_col4\" class=\"col_heading level0 col4\" >F1-Score</th>\n",
       "    </tr>\n",
       "  </thead>\n",
       "  <tbody>\n",
       "    <tr>\n",
       "      <th id=\"T_34fa4_level0_row0\" class=\"row_heading level0 row0\" >0</th>\n",
       "      <td id=\"T_34fa4_row0_col0\" class=\"data row0 col0\" >GabHateCorpus_glove_cnn</td>\n",
       "      <td id=\"T_34fa4_row0_col1\" class=\"data row0 col1\" >0.629781</td>\n",
       "      <td id=\"T_34fa4_row0_col2\" class=\"data row0 col2\" >0.636163</td>\n",
       "      <td id=\"T_34fa4_row0_col3\" class=\"data row0 col3\" >0.629781</td>\n",
       "      <td id=\"T_34fa4_row0_col4\" class=\"data row0 col4\" >0.581262</td>\n",
       "    </tr>\n",
       "    <tr>\n",
       "      <th id=\"T_34fa4_level0_row1\" class=\"row_heading level0 row1\" >1</th>\n",
       "      <td id=\"T_34fa4_row1_col0\" class=\"data row1 col0\" >GabHateCorpus_glove_rnn</td>\n",
       "      <td id=\"T_34fa4_row1_col1\" class=\"data row1 col1\" >0.597104</td>\n",
       "      <td id=\"T_34fa4_row1_col2\" class=\"data row1 col2\" >0.593234</td>\n",
       "      <td id=\"T_34fa4_row1_col3\" class=\"data row1 col3\" >0.597104</td>\n",
       "      <td id=\"T_34fa4_row1_col4\" class=\"data row1 col4\" >0.512679</td>\n",
       "    </tr>\n",
       "    <tr>\n",
       "      <th id=\"T_34fa4_level0_row2\" class=\"row_heading level0 row2\" >2</th>\n",
       "      <td id=\"T_34fa4_row2_col0\" class=\"data row2 col0\" >GabHateCorpus_glove_lstm</td>\n",
       "      <td id=\"T_34fa4_row2_col1\" class=\"data row2 col1\" >0.658374</td>\n",
       "      <td id=\"T_34fa4_row2_col2\" class=\"data row2 col2\" >0.658190</td>\n",
       "      <td id=\"T_34fa4_row2_col3\" class=\"data row2 col3\" >0.658374</td>\n",
       "      <td id=\"T_34fa4_row2_col4\" class=\"data row2 col4\" >0.635882</td>\n",
       "    </tr>\n",
       "    <tr>\n",
       "      <th id=\"T_34fa4_level0_row3\" class=\"row_heading level0 row3\" >3</th>\n",
       "      <td id=\"T_34fa4_row3_col0\" class=\"data row3 col0\" >GabHateCorpus_glove_bilstm</td>\n",
       "      <td id=\"T_34fa4_row3_col1\" class=\"data row3 col1\" >0.648719</td>\n",
       "      <td id=\"T_34fa4_row3_col2\" class=\"data row3 col2\" >0.643891</td>\n",
       "      <td id=\"T_34fa4_row3_col3\" class=\"data row3 col3\" >0.648719</td>\n",
       "      <td id=\"T_34fa4_row3_col4\" class=\"data row3 col4\" >0.630768</td>\n",
       "    </tr>\n",
       "    <tr>\n",
       "      <th id=\"T_34fa4_level0_row4\" class=\"row_heading level0 row4\" >4</th>\n",
       "      <td id=\"T_34fa4_row4_col0\" class=\"data row4 col0\" >GabHateCorpus_glove_gru</td>\n",
       "      <td id=\"T_34fa4_row4_col1\" class=\"data row4 col1\" >0.661344</td>\n",
       "      <td id=\"T_34fa4_row4_col2\" class=\"data row4 col2\" >0.657851</td>\n",
       "      <td id=\"T_34fa4_row4_col3\" class=\"data row4 col3\" >0.661344</td>\n",
       "      <td id=\"T_34fa4_row4_col4\" class=\"data row4 col4\" >0.645768</td>\n",
       "    </tr>\n",
       "  </tbody>\n",
       "</table>\n"
      ],
      "text/plain": [
       "<pandas.io.formats.style.Styler at 0x23b6f96c710>"
      ]
     },
     "execution_count": 46,
     "metadata": {},
     "output_type": "execute_result"
    }
   ],
   "source": [
    "ds = 'GabHateCorpus'\n",
    "em = 'glove'\n",
    "get_result_nn([ds+\"_\"+em+\"_cnn\", ds+\"_\"+em+\"_rnn\", ds+\"_\"+em+\"_lstm\",ds+\"_\"+em+\"_bilstm\",ds+\"_\"+em+\"_gru\"])"
   ]
  },
  {
   "cell_type": "code",
   "execution_count": 38,
   "metadata": {},
   "outputs": [
    {
     "data": {
      "text/html": [
       "<style type=\"text/css\">\n",
       "#T_26f23_row1_col0, #T_26f23_row2_col1, #T_26f23_row2_col2, #T_26f23_row2_col3, #T_26f23_row2_col4 {\n",
       "  background-color: red;\n",
       "}\n",
       "</style>\n",
       "<table id=\"T_26f23\">\n",
       "  <thead>\n",
       "    <tr>\n",
       "      <th class=\"blank level0\" >&nbsp;</th>\n",
       "      <th id=\"T_26f23_level0_col0\" class=\"col_heading level0 col0\" >Model</th>\n",
       "      <th id=\"T_26f23_level0_col1\" class=\"col_heading level0 col1\" >Accuracy</th>\n",
       "      <th id=\"T_26f23_level0_col2\" class=\"col_heading level0 col2\" >Precision</th>\n",
       "      <th id=\"T_26f23_level0_col3\" class=\"col_heading level0 col3\" >Recall</th>\n",
       "      <th id=\"T_26f23_level0_col4\" class=\"col_heading level0 col4\" >F1-Score</th>\n",
       "    </tr>\n",
       "  </thead>\n",
       "  <tbody>\n",
       "    <tr>\n",
       "      <th id=\"T_26f23_level0_row0\" class=\"row_heading level0 row0\" >0</th>\n",
       "      <td id=\"T_26f23_row0_col0\" class=\"data row0 col0\" >GabHateCorpus_glove_cnn</td>\n",
       "      <td id=\"T_26f23_row0_col1\" class=\"data row0 col1\" >0.887755</td>\n",
       "      <td id=\"T_26f23_row0_col2\" class=\"data row0 col2\" >0.864472</td>\n",
       "      <td id=\"T_26f23_row0_col3\" class=\"data row0 col3\" >0.887755</td>\n",
       "      <td id=\"T_26f23_row0_col4\" class=\"data row0 col4\" >0.864063</td>\n",
       "    </tr>\n",
       "    <tr>\n",
       "      <th id=\"T_26f23_level0_row1\" class=\"row_heading level0 row1\" >1</th>\n",
       "      <td id=\"T_26f23_row1_col0\" class=\"data row1 col0\" >GabHateCorpus_glove_rnn</td>\n",
       "      <td id=\"T_26f23_row1_col1\" class=\"data row1 col1\" >0.885050</td>\n",
       "      <td id=\"T_26f23_row1_col2\" class=\"data row1 col2\" >0.858332</td>\n",
       "      <td id=\"T_26f23_row1_col3\" class=\"data row1 col3\" >0.885050</td>\n",
       "      <td id=\"T_26f23_row1_col4\" class=\"data row1 col4\" >0.852100</td>\n",
       "    </tr>\n",
       "    <tr>\n",
       "      <th id=\"T_26f23_level0_row2\" class=\"row_heading level0 row2\" >2</th>\n",
       "      <td id=\"T_26f23_row2_col0\" class=\"data row2 col0\" >GabHateCorpus_glove_lstm</td>\n",
       "      <td id=\"T_26f23_row2_col1\" class=\"data row2 col1\" >0.892304</td>\n",
       "      <td id=\"T_26f23_row2_col2\" class=\"data row2 col2\" >0.880023</td>\n",
       "      <td id=\"T_26f23_row2_col3\" class=\"data row2 col3\" >0.892304</td>\n",
       "      <td id=\"T_26f23_row2_col4\" class=\"data row2 col4\" >0.884057</td>\n",
       "    </tr>\n",
       "    <tr>\n",
       "      <th id=\"T_26f23_level0_row3\" class=\"row_heading level0 row3\" >3</th>\n",
       "      <td id=\"T_26f23_row3_col0\" class=\"data row3 col0\" >GabHateCorpus_glove_bilstm</td>\n",
       "      <td id=\"T_26f23_row3_col1\" class=\"data row3 col1\" >0.880747</td>\n",
       "      <td id=\"T_26f23_row3_col2\" class=\"data row3 col2\" >0.872886</td>\n",
       "      <td id=\"T_26f23_row3_col3\" class=\"data row3 col3\" >0.880747</td>\n",
       "      <td id=\"T_26f23_row3_col4\" class=\"data row3 col4\" >0.876315</td>\n",
       "    </tr>\n",
       "    <tr>\n",
       "      <th id=\"T_26f23_level0_row4\" class=\"row_heading level0 row4\" >4</th>\n",
       "      <td id=\"T_26f23_row4_col0\" class=\"data row4 col0\" >GabHateCorpus_glove_gru</td>\n",
       "      <td id=\"T_26f23_row4_col1\" class=\"data row4 col1\" >0.882837</td>\n",
       "      <td id=\"T_26f23_row4_col2\" class=\"data row4 col2\" >0.876953</td>\n",
       "      <td id=\"T_26f23_row4_col3\" class=\"data row4 col3\" >0.882837</td>\n",
       "      <td id=\"T_26f23_row4_col4\" class=\"data row4 col4\" >0.879606</td>\n",
       "    </tr>\n",
       "  </tbody>\n",
       "</table>\n"
      ],
      "text/plain": [
       "<pandas.io.formats.style.Styler at 0x23b9d55ce10>"
      ]
     },
     "execution_count": 38,
     "metadata": {},
     "output_type": "execute_result"
    }
   ],
   "source": [
    "ds = 'GabHateCorpus'\n",
    "em = 'glove'\n",
    "get_result_nn([ds+\"_\"+em+\"_cnn\", ds+\"_\"+em+\"_rnn\", ds+\"_\"+em+\"_lstm\",ds+\"_\"+em+\"_bilstm\",ds+\"_\"+em+\"_gru\"])"
   ]
  },
  {
   "cell_type": "code",
   "execution_count": 43,
   "metadata": {},
   "outputs": [
    {
     "data": {
      "text/html": [
       "<style type=\"text/css\">\n",
       "#T_68374_row1_col0, #T_68374_row1_col4, #T_68374_row4_col1, #T_68374_row4_col2, #T_68374_row4_col3 {\n",
       "  background-color: red;\n",
       "}\n",
       "</style>\n",
       "<table id=\"T_68374\">\n",
       "  <thead>\n",
       "    <tr>\n",
       "      <th class=\"blank level0\" >&nbsp;</th>\n",
       "      <th id=\"T_68374_level0_col0\" class=\"col_heading level0 col0\" >Model</th>\n",
       "      <th id=\"T_68374_level0_col1\" class=\"col_heading level0 col1\" >Accuracy</th>\n",
       "      <th id=\"T_68374_level0_col2\" class=\"col_heading level0 col2\" >Precision</th>\n",
       "      <th id=\"T_68374_level0_col3\" class=\"col_heading level0 col3\" >Recall</th>\n",
       "      <th id=\"T_68374_level0_col4\" class=\"col_heading level0 col4\" >F1-Score</th>\n",
       "    </tr>\n",
       "  </thead>\n",
       "  <tbody>\n",
       "    <tr>\n",
       "      <th id=\"T_68374_level0_row0\" class=\"row_heading level0 row0\" >0</th>\n",
       "      <td id=\"T_68374_row0_col0\" class=\"data row0 col0\" >SE2019_word2vec_cnn</td>\n",
       "      <td id=\"T_68374_row0_col1\" class=\"data row0 col1\" >0.615299</td>\n",
       "      <td id=\"T_68374_row0_col2\" class=\"data row0 col2\" >0.606759</td>\n",
       "      <td id=\"T_68374_row0_col3\" class=\"data row0 col3\" >0.615299</td>\n",
       "      <td id=\"T_68374_row0_col4\" class=\"data row0 col4\" >0.579026</td>\n",
       "    </tr>\n",
       "    <tr>\n",
       "      <th id=\"T_68374_level0_row1\" class=\"row_heading level0 row1\" >1</th>\n",
       "      <td id=\"T_68374_row1_col0\" class=\"data row1 col0\" >SE2019_word2vec_rnn</td>\n",
       "      <td id=\"T_68374_row1_col1\" class=\"data row1 col1\" >0.627924</td>\n",
       "      <td id=\"T_68374_row1_col2\" class=\"data row1 col2\" >0.623653</td>\n",
       "      <td id=\"T_68374_row1_col3\" class=\"data row1 col3\" >0.627924</td>\n",
       "      <td id=\"T_68374_row1_col4\" class=\"data row1 col4\" >0.624775</td>\n",
       "    </tr>\n",
       "    <tr>\n",
       "      <th id=\"T_68374_level0_row2\" class=\"row_heading level0 row2\" >2</th>\n",
       "      <td id=\"T_68374_row2_col0\" class=\"data row2 col0\" >SE2019_word2vec_lstm</td>\n",
       "      <td id=\"T_68374_row2_col1\" class=\"data row2 col1\" >0.636094</td>\n",
       "      <td id=\"T_68374_row2_col2\" class=\"data row2 col2\" >0.628578</td>\n",
       "      <td id=\"T_68374_row2_col3\" class=\"data row2 col3\" >0.636094</td>\n",
       "      <td id=\"T_68374_row2_col4\" class=\"data row2 col4\" >0.621374</td>\n",
       "    </tr>\n",
       "    <tr>\n",
       "      <th id=\"T_68374_level0_row3\" class=\"row_heading level0 row3\" >3</th>\n",
       "      <td id=\"T_68374_row3_col0\" class=\"data row3 col0\" >SE2019_word2vec_bilstm</td>\n",
       "      <td id=\"T_68374_row3_col1\" class=\"data row3 col1\" >0.630895</td>\n",
       "      <td id=\"T_68374_row3_col2\" class=\"data row3 col2\" >0.622984</td>\n",
       "      <td id=\"T_68374_row3_col3\" class=\"data row3 col3\" >0.630895</td>\n",
       "      <td id=\"T_68374_row3_col4\" class=\"data row3 col4\" >0.612033</td>\n",
       "    </tr>\n",
       "    <tr>\n",
       "      <th id=\"T_68374_level0_row4\" class=\"row_heading level0 row4\" >4</th>\n",
       "      <td id=\"T_68374_row4_col0\" class=\"data row4 col0\" >SE2019_word2vec_gru</td>\n",
       "      <td id=\"T_68374_row4_col1\" class=\"data row4 col1\" >0.637579</td>\n",
       "      <td id=\"T_68374_row4_col2\" class=\"data row4 col2\" >0.630922</td>\n",
       "      <td id=\"T_68374_row4_col3\" class=\"data row4 col3\" >0.637579</td>\n",
       "      <td id=\"T_68374_row4_col4\" class=\"data row4 col4\" >0.618617</td>\n",
       "    </tr>\n",
       "  </tbody>\n",
       "</table>\n"
      ],
      "text/plain": [
       "<pandas.io.formats.style.Styler at 0x23b8e56b890>"
      ]
     },
     "execution_count": 43,
     "metadata": {},
     "output_type": "execute_result"
    }
   ],
   "source": [
    "ds = 'SE2019'\n",
    "em = 'word2vec'\n",
    "get_result_nn([ds+\"_\"+em+\"_cnn\", ds+\"_\"+em+\"_rnn\", ds+\"_\"+em+\"_lstm\",ds+\"_\"+em+\"_bilstm\",ds+\"_\"+em+\"_gru\"])"
   ]
  },
  {
   "cell_type": "code",
   "execution_count": 44,
   "metadata": {},
   "outputs": [
    {
     "data": {
      "text/html": [
       "<style type=\"text/css\">\n",
       "#T_1f696_row1_col0, #T_1f696_row3_col1, #T_1f696_row3_col2, #T_1f696_row3_col3, #T_1f696_row3_col4 {\n",
       "  background-color: red;\n",
       "}\n",
       "</style>\n",
       "<table id=\"T_1f696\">\n",
       "  <thead>\n",
       "    <tr>\n",
       "      <th class=\"blank level0\" >&nbsp;</th>\n",
       "      <th id=\"T_1f696_level0_col0\" class=\"col_heading level0 col0\" >Model</th>\n",
       "      <th id=\"T_1f696_level0_col1\" class=\"col_heading level0 col1\" >Accuracy</th>\n",
       "      <th id=\"T_1f696_level0_col2\" class=\"col_heading level0 col2\" >Precision</th>\n",
       "      <th id=\"T_1f696_level0_col3\" class=\"col_heading level0 col3\" >Recall</th>\n",
       "      <th id=\"T_1f696_level0_col4\" class=\"col_heading level0 col4\" >F1-Score</th>\n",
       "    </tr>\n",
       "  </thead>\n",
       "  <tbody>\n",
       "    <tr>\n",
       "      <th id=\"T_1f696_level0_row0\" class=\"row_heading level0 row0\" >0</th>\n",
       "      <td id=\"T_1f696_row0_col0\" class=\"data row0 col0\" >SE2019_fasttext_cnn</td>\n",
       "      <td id=\"T_1f696_row0_col1\" class=\"data row0 col1\" >0.733012</td>\n",
       "      <td id=\"T_1f696_row0_col2\" class=\"data row0 col2\" >0.731872</td>\n",
       "      <td id=\"T_1f696_row0_col3\" class=\"data row0 col3\" >0.733012</td>\n",
       "      <td id=\"T_1f696_row0_col4\" class=\"data row0 col4\" >0.727599</td>\n",
       "    </tr>\n",
       "    <tr>\n",
       "      <th id=\"T_1f696_level0_row1\" class=\"row_heading level0 row1\" >1</th>\n",
       "      <td id=\"T_1f696_row1_col0\" class=\"data row1 col0\" >SE2019_fasttext_rnn</td>\n",
       "      <td id=\"T_1f696_row1_col1\" class=\"data row1 col1\" >0.715930</td>\n",
       "      <td id=\"T_1f696_row1_col2\" class=\"data row1 col2\" >0.714926</td>\n",
       "      <td id=\"T_1f696_row1_col3\" class=\"data row1 col3\" >0.715930</td>\n",
       "      <td id=\"T_1f696_row1_col4\" class=\"data row1 col4\" >0.708364</td>\n",
       "    </tr>\n",
       "    <tr>\n",
       "      <th id=\"T_1f696_level0_row2\" class=\"row_heading level0 row2\" >2</th>\n",
       "      <td id=\"T_1f696_row2_col0\" class=\"data row2 col0\" >SE2019_fasttext_lstm</td>\n",
       "      <td id=\"T_1f696_row2_col1\" class=\"data row2 col1\" >0.743409</td>\n",
       "      <td id=\"T_1f696_row2_col2\" class=\"data row2 col2\" >0.742285</td>\n",
       "      <td id=\"T_1f696_row2_col3\" class=\"data row2 col3\" >0.743409</td>\n",
       "      <td id=\"T_1f696_row2_col4\" class=\"data row2 col4\" >0.742655</td>\n",
       "    </tr>\n",
       "    <tr>\n",
       "      <th id=\"T_1f696_level0_row3\" class=\"row_heading level0 row3\" >3</th>\n",
       "      <td id=\"T_1f696_row3_col0\" class=\"data row3 col0\" >SE2019_fasttext_bilstm</td>\n",
       "      <td id=\"T_1f696_row3_col1\" class=\"data row3 col1\" >0.743780</td>\n",
       "      <td id=\"T_1f696_row3_col2\" class=\"data row3 col2\" >0.743306</td>\n",
       "      <td id=\"T_1f696_row3_col3\" class=\"data row3 col3\" >0.743780</td>\n",
       "      <td id=\"T_1f696_row3_col4\" class=\"data row3 col4\" >0.743517</td>\n",
       "    </tr>\n",
       "    <tr>\n",
       "      <th id=\"T_1f696_level0_row4\" class=\"row_heading level0 row4\" >4</th>\n",
       "      <td id=\"T_1f696_row4_col0\" class=\"data row4 col0\" >SE2019_fasttext_gru</td>\n",
       "      <td id=\"T_1f696_row4_col1\" class=\"data row4 col1\" >0.740067</td>\n",
       "      <td id=\"T_1f696_row4_col2\" class=\"data row4 col2\" >0.739841</td>\n",
       "      <td id=\"T_1f696_row4_col3\" class=\"data row4 col3\" >0.740067</td>\n",
       "      <td id=\"T_1f696_row4_col4\" class=\"data row4 col4\" >0.734209</td>\n",
       "    </tr>\n",
       "  </tbody>\n",
       "</table>\n"
      ],
      "text/plain": [
       "<pandas.io.formats.style.Styler at 0x23b3bd54cd0>"
      ]
     },
     "execution_count": 44,
     "metadata": {},
     "output_type": "execute_result"
    }
   ],
   "source": [
    "ds = 'SE2019'\n",
    "em = 'fasttext'\n",
    "get_result_nn([ds+\"_\"+em+\"_cnn\", ds+\"_\"+em+\"_rnn\", ds+\"_\"+em+\"_lstm\",ds+\"_\"+em+\"_bilstm\",ds+\"_\"+em+\"_gru\"])"
   ]
  },
  {
   "cell_type": "code",
   "execution_count": 45,
   "metadata": {},
   "outputs": [
    {
     "data": {
      "text/html": [
       "<style type=\"text/css\">\n",
       "#T_3f5ec_row1_col0, #T_3f5ec_row4_col1, #T_3f5ec_row4_col2, #T_3f5ec_row4_col3, #T_3f5ec_row4_col4 {\n",
       "  background-color: red;\n",
       "}\n",
       "</style>\n",
       "<table id=\"T_3f5ec\">\n",
       "  <thead>\n",
       "    <tr>\n",
       "      <th class=\"blank level0\" >&nbsp;</th>\n",
       "      <th id=\"T_3f5ec_level0_col0\" class=\"col_heading level0 col0\" >Model</th>\n",
       "      <th id=\"T_3f5ec_level0_col1\" class=\"col_heading level0 col1\" >Accuracy</th>\n",
       "      <th id=\"T_3f5ec_level0_col2\" class=\"col_heading level0 col2\" >Precision</th>\n",
       "      <th id=\"T_3f5ec_level0_col3\" class=\"col_heading level0 col3\" >Recall</th>\n",
       "      <th id=\"T_3f5ec_level0_col4\" class=\"col_heading level0 col4\" >F1-Score</th>\n",
       "    </tr>\n",
       "  </thead>\n",
       "  <tbody>\n",
       "    <tr>\n",
       "      <th id=\"T_3f5ec_level0_row0\" class=\"row_heading level0 row0\" >0</th>\n",
       "      <td id=\"T_3f5ec_row0_col0\" class=\"data row0 col0\" >SE2019_glove_cnn</td>\n",
       "      <td id=\"T_3f5ec_row0_col1\" class=\"data row0 col1\" >0.709989</td>\n",
       "      <td id=\"T_3f5ec_row0_col2\" class=\"data row0 col2\" >0.707252</td>\n",
       "      <td id=\"T_3f5ec_row0_col3\" class=\"data row0 col3\" >0.709989</td>\n",
       "      <td id=\"T_3f5ec_row0_col4\" class=\"data row0 col4\" >0.707052</td>\n",
       "    </tr>\n",
       "    <tr>\n",
       "      <th id=\"T_3f5ec_level0_row1\" class=\"row_heading level0 row1\" >1</th>\n",
       "      <td id=\"T_3f5ec_row1_col0\" class=\"data row1 col0\" >SE2019_glove_rnn</td>\n",
       "      <td id=\"T_3f5ec_row1_col1\" class=\"data row1 col1\" >0.661344</td>\n",
       "      <td id=\"T_3f5ec_row1_col2\" class=\"data row1 col2\" >0.661685</td>\n",
       "      <td id=\"T_3f5ec_row1_col3\" class=\"data row1 col3\" >0.661344</td>\n",
       "      <td id=\"T_3f5ec_row1_col4\" class=\"data row1 col4\" >0.661509</td>\n",
       "    </tr>\n",
       "    <tr>\n",
       "      <th id=\"T_3f5ec_level0_row2\" class=\"row_heading level0 row2\" >2</th>\n",
       "      <td id=\"T_3f5ec_row2_col0\" class=\"data row2 col0\" >SE2019_glove_lstm</td>\n",
       "      <td id=\"T_3f5ec_row2_col1\" class=\"data row2 col1\" >0.732269</td>\n",
       "      <td id=\"T_3f5ec_row2_col2\" class=\"data row2 col2\" >0.746559</td>\n",
       "      <td id=\"T_3f5ec_row2_col3\" class=\"data row2 col3\" >0.732269</td>\n",
       "      <td id=\"T_3f5ec_row2_col4\" class=\"data row2 col4\" >0.734036</td>\n",
       "    </tr>\n",
       "    <tr>\n",
       "      <th id=\"T_3f5ec_level0_row3\" class=\"row_heading level0 row3\" >3</th>\n",
       "      <td id=\"T_3f5ec_row3_col0\" class=\"data row3 col0\" >SE2019_glove_bilstm</td>\n",
       "      <td id=\"T_3f5ec_row3_col1\" class=\"data row3 col1\" >0.726328</td>\n",
       "      <td id=\"T_3f5ec_row3_col2\" class=\"data row3 col2\" >0.730623</td>\n",
       "      <td id=\"T_3f5ec_row3_col3\" class=\"data row3 col3\" >0.726328</td>\n",
       "      <td id=\"T_3f5ec_row3_col4\" class=\"data row3 col4\" >0.727574</td>\n",
       "    </tr>\n",
       "    <tr>\n",
       "      <th id=\"T_3f5ec_level0_row4\" class=\"row_heading level0 row4\" >4</th>\n",
       "      <td id=\"T_3f5ec_row4_col0\" class=\"data row4 col0\" >SE2019_glove_gru</td>\n",
       "      <td id=\"T_3f5ec_row4_col1\" class=\"data row4 col1\" >0.756034</td>\n",
       "      <td id=\"T_3f5ec_row4_col2\" class=\"data row4 col2\" >0.754855</td>\n",
       "      <td id=\"T_3f5ec_row4_col3\" class=\"data row4 col3\" >0.756034</td>\n",
       "      <td id=\"T_3f5ec_row4_col4\" class=\"data row4 col4\" >0.755169</td>\n",
       "    </tr>\n",
       "  </tbody>\n",
       "</table>\n"
      ],
      "text/plain": [
       "<pandas.io.formats.style.Styler at 0x23b5dc99bd0>"
      ]
     },
     "execution_count": 45,
     "metadata": {},
     "output_type": "execute_result"
    }
   ],
   "source": [
    "ds = 'SE2019'\n",
    "em = 'glove'\n",
    "get_result_nn([ds+\"_\"+em+\"_cnn\", ds+\"_\"+em+\"_rnn\", ds+\"_\"+em+\"_lstm\",ds+\"_\"+em+\"_bilstm\",ds+\"_\"+em+\"_gru\"])"
   ]
  },
  {
   "cell_type": "code",
   "execution_count": 149,
   "metadata": {},
   "outputs": [
    {
     "data": {
      "text/html": [
       "<style type=\"text/css\">\n",
       "#T_52f0a_row3_col1, #T_52f0a_row3_col2, #T_52f0a_row3_col3, #T_52f0a_row3_col4, #T_52f0a_row5_col0 {\n",
       "  background-color: red;\n",
       "}\n",
       "</style>\n",
       "<table id=\"T_52f0a\">\n",
       "  <thead>\n",
       "    <tr>\n",
       "      <th class=\"blank level0\" >&nbsp;</th>\n",
       "      <th id=\"T_52f0a_level0_col0\" class=\"col_heading level0 col0\" >Model</th>\n",
       "      <th id=\"T_52f0a_level0_col1\" class=\"col_heading level0 col1\" >Accuracy</th>\n",
       "      <th id=\"T_52f0a_level0_col2\" class=\"col_heading level0 col2\" >Precision</th>\n",
       "      <th id=\"T_52f0a_level0_col3\" class=\"col_heading level0 col3\" >Recall</th>\n",
       "      <th id=\"T_52f0a_level0_col4\" class=\"col_heading level0 col4\" >F1-Score</th>\n",
       "    </tr>\n",
       "  </thead>\n",
       "  <tbody>\n",
       "    <tr>\n",
       "      <th id=\"T_52f0a_level0_row0\" class=\"row_heading level0 row0\" >0</th>\n",
       "      <td id=\"T_52f0a_row0_col0\" class=\"data row0 col0\" >dtc</td>\n",
       "      <td id=\"T_52f0a_row0_col1\" class=\"data row0 col1\" >0.749350</td>\n",
       "      <td id=\"T_52f0a_row0_col2\" class=\"data row0 col2\" >0.747932</td>\n",
       "      <td id=\"T_52f0a_row0_col3\" class=\"data row0 col3\" >0.749350</td>\n",
       "      <td id=\"T_52f0a_row0_col4\" class=\"data row0 col4\" >0.748249</td>\n",
       "    </tr>\n",
       "    <tr>\n",
       "      <th id=\"T_52f0a_level0_row1\" class=\"row_heading level0 row1\" >1</th>\n",
       "      <td id=\"T_52f0a_row1_col0\" class=\"data row1 col0\" >dtc-tfid</td>\n",
       "      <td id=\"T_52f0a_row1_col1\" class=\"data row1 col1\" >0.743780</td>\n",
       "      <td id=\"T_52f0a_row1_col2\" class=\"data row1 col2\" >0.743531</td>\n",
       "      <td id=\"T_52f0a_row1_col3\" class=\"data row1 col3\" >0.743780</td>\n",
       "      <td id=\"T_52f0a_row1_col4\" class=\"data row1 col4\" >0.743649</td>\n",
       "    </tr>\n",
       "    <tr>\n",
       "      <th id=\"T_52f0a_level0_row2\" class=\"row_heading level0 row2\" >2</th>\n",
       "      <td id=\"T_52f0a_row2_col0\" class=\"data row2 col0\" >dtc-w2v</td>\n",
       "      <td id=\"T_52f0a_row2_col1\" class=\"data row2 col1\" >0.586706</td>\n",
       "      <td id=\"T_52f0a_row2_col2\" class=\"data row2 col2\" >0.589898</td>\n",
       "      <td id=\"T_52f0a_row2_col3\" class=\"data row2 col3\" >0.586706</td>\n",
       "      <td id=\"T_52f0a_row2_col4\" class=\"data row2 col4\" >0.588024</td>\n",
       "    </tr>\n",
       "    <tr>\n",
       "      <th id=\"T_52f0a_level0_row3\" class=\"row_heading level0 row3\" >3</th>\n",
       "      <td id=\"T_52f0a_row3_col0\" class=\"data row3 col0\" >svm</td>\n",
       "      <td id=\"T_52f0a_row3_col1\" class=\"data row3 col1\" >0.768659</td>\n",
       "      <td id=\"T_52f0a_row3_col2\" class=\"data row3 col2\" >0.767394</td>\n",
       "      <td id=\"T_52f0a_row3_col3\" class=\"data row3 col3\" >0.768659</td>\n",
       "      <td id=\"T_52f0a_row3_col4\" class=\"data row3 col4\" >0.766195</td>\n",
       "    </tr>\n",
       "    <tr>\n",
       "      <th id=\"T_52f0a_level0_row4\" class=\"row_heading level0 row4\" >4</th>\n",
       "      <td id=\"T_52f0a_row4_col0\" class=\"data row4 col0\" >svm-tfid</td>\n",
       "      <td id=\"T_52f0a_row4_col1\" class=\"data row4 col1\" >0.746008</td>\n",
       "      <td id=\"T_52f0a_row4_col2\" class=\"data row4 col2\" >0.760112</td>\n",
       "      <td id=\"T_52f0a_row4_col3\" class=\"data row4 col3\" >0.746008</td>\n",
       "      <td id=\"T_52f0a_row4_col4\" class=\"data row4 col4\" >0.731861</td>\n",
       "    </tr>\n",
       "    <tr>\n",
       "      <th id=\"T_52f0a_level0_row5\" class=\"row_heading level0 row5\" >5</th>\n",
       "      <td id=\"T_52f0a_row5_col0\" class=\"data row5 col0\" >svm-w2v</td>\n",
       "      <td id=\"T_52f0a_row5_col1\" class=\"data row5 col1\" >0.590048</td>\n",
       "      <td id=\"T_52f0a_row5_col2\" class=\"data row5 col2\" >0.611645</td>\n",
       "      <td id=\"T_52f0a_row5_col3\" class=\"data row5 col3\" >0.590048</td>\n",
       "      <td id=\"T_52f0a_row5_col4\" class=\"data row5 col4\" >0.461541</td>\n",
       "    </tr>\n",
       "    <tr>\n",
       "      <th id=\"T_52f0a_level0_row6\" class=\"row_heading level0 row6\" >6</th>\n",
       "      <td id=\"T_52f0a_row6_col0\" class=\"data row6 col0\" >lr</td>\n",
       "      <td id=\"T_52f0a_row6_col1\" class=\"data row6 col1\" >0.684738</td>\n",
       "      <td id=\"T_52f0a_row6_col2\" class=\"data row6 col2\" >0.690064</td>\n",
       "      <td id=\"T_52f0a_row6_col3\" class=\"data row6 col3\" >0.684738</td>\n",
       "      <td id=\"T_52f0a_row6_col4\" class=\"data row6 col4\" >0.686326</td>\n",
       "    </tr>\n",
       "    <tr>\n",
       "      <th id=\"T_52f0a_level0_row7\" class=\"row_heading level0 row7\" >7</th>\n",
       "      <td id=\"T_52f0a_row7_col0\" class=\"data row7 col0\" >lr-tfid</td>\n",
       "      <td id=\"T_52f0a_row7_col1\" class=\"data row7 col1\" >0.694393</td>\n",
       "      <td id=\"T_52f0a_row7_col2\" class=\"data row7 col2\" >0.697312</td>\n",
       "      <td id=\"T_52f0a_row7_col3\" class=\"data row7 col3\" >0.694393</td>\n",
       "      <td id=\"T_52f0a_row7_col4\" class=\"data row7 col4\" >0.695449</td>\n",
       "    </tr>\n",
       "    <tr>\n",
       "      <th id=\"T_52f0a_level0_row8\" class=\"row_heading level0 row8\" >8</th>\n",
       "      <td id=\"T_52f0a_row8_col0\" class=\"data row8 col0\" >lr-w2v</td>\n",
       "      <td id=\"T_52f0a_row8_col1\" class=\"data row8 col1\" >0.708504</td>\n",
       "      <td id=\"T_52f0a_row8_col2\" class=\"data row8 col2\" >0.705758</td>\n",
       "      <td id=\"T_52f0a_row8_col3\" class=\"data row8 col3\" >0.708504</td>\n",
       "      <td id=\"T_52f0a_row8_col4\" class=\"data row8 col4\" >0.705809</td>\n",
       "    </tr>\n",
       "  </tbody>\n",
       "</table>\n"
      ],
      "text/plain": [
       "<pandas.io.formats.style.Styler at 0x1f954ed6450>"
      ]
     },
     "execution_count": 149,
     "metadata": {},
     "output_type": "execute_result"
    }
   ],
   "source": [
    "get_result()"
   ]
  }
 ],
 "metadata": {
  "kernelspec": {
   "display_name": ".venv",
   "language": "python",
   "name": "python3"
  },
  "language_info": {
   "codemirror_mode": {
    "name": "ipython",
    "version": 3
   },
   "file_extension": ".py",
   "mimetype": "text/x-python",
   "name": "python",
   "nbconvert_exporter": "python",
   "pygments_lexer": "ipython3",
   "version": "3.11.1"
  },
  "orig_nbformat": 4
 },
 "nbformat": 4,
 "nbformat_minor": 2
}
