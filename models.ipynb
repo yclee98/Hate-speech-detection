{
 "cells": [
  {
   "attachments": {},
   "cell_type": "markdown",
   "metadata": {},
   "source": [
    "# Start"
   ]
  },
  {
   "cell_type": "code",
   "execution_count": 2,
   "metadata": {},
   "outputs": [],
   "source": [
    "import pandas as pd\n",
    "import numpy as np\n",
    "import pickle \n",
    "\n",
    "import seaborn as sb\n",
    "import matplotlib.pyplot as plt\n",
    "\n",
    "from sklearn.model_selection import train_test_split\n",
    "\n",
    "from sklearn.metrics import confusion_matrix\n",
    "from sklearn.metrics import classification_report"
   ]
  },
  {
   "cell_type": "code",
   "execution_count": 1,
   "metadata": {},
   "outputs": [],
   "source": [
    "# maximum text\n",
    "# sb.set()\n",
    "# pd.set_option('display.max_colwidth', None)"
   ]
  },
  {
   "attachments": {},
   "cell_type": "markdown",
   "metadata": {},
   "source": [
    "# Load dataset"
   ]
  },
  {
   "attachments": {},
   "cell_type": "markdown",
   "metadata": {},
   "source": [
    "## SE2019 dataset"
   ]
  },
  {
   "cell_type": "code",
   "execution_count": 3,
   "metadata": {},
   "outputs": [
    {
     "data": {
      "text/plain": [
       "class\n",
       "Non-Hate    5195\n",
       "Hate        3781\n",
       "Name: count, dtype: int64"
      ]
     },
     "execution_count": 3,
     "metadata": {},
     "output_type": "execute_result"
    }
   ],
   "source": [
    "df = pd.read_csv(\"Dataset/SE2019/data_processed.csv\")\n",
    "df['class'].value_counts()"
   ]
  },
  {
   "cell_type": "code",
   "execution_count": 4,
   "metadata": {},
   "outputs": [
    {
     "data": {
      "text/html": [
       "<div>\n",
       "<style scoped>\n",
       "    .dataframe tbody tr th:only-of-type {\n",
       "        vertical-align: middle;\n",
       "    }\n",
       "\n",
       "    .dataframe tbody tr th {\n",
       "        vertical-align: top;\n",
       "    }\n",
       "\n",
       "    .dataframe thead th {\n",
       "        text-align: right;\n",
       "    }\n",
       "</style>\n",
       "<table border=\"1\" class=\"dataframe\">\n",
       "  <thead>\n",
       "    <tr style=\"text-align: right;\">\n",
       "      <th></th>\n",
       "      <th>class</th>\n",
       "      <th>text</th>\n",
       "      <th>hate</th>\n",
       "    </tr>\n",
       "  </thead>\n",
       "  <tbody>\n",
       "    <tr>\n",
       "      <th>0</th>\n",
       "      <td>Hate</td>\n",
       "      <td>hurray saving us many ways #lockthemup #buildt...</td>\n",
       "      <td>1</td>\n",
       "    </tr>\n",
       "    <tr>\n",
       "      <th>1</th>\n",
       "      <td>Hate</td>\n",
       "      <td>would young fighting age men vast majority one...</td>\n",
       "      <td>1</td>\n",
       "    </tr>\n",
       "    <tr>\n",
       "      <th>2</th>\n",
       "      <td>Hate</td>\n",
       "      <td>illegals dump kids border like road kill refu...</td>\n",
       "      <td>1</td>\n",
       "    </tr>\n",
       "    <tr>\n",
       "      <th>3</th>\n",
       "      <td>Non-Hate</td>\n",
       "      <td>ny times nearly white states pose array proble...</td>\n",
       "      <td>0</td>\n",
       "    </tr>\n",
       "    <tr>\n",
       "      <th>4</th>\n",
       "      <td>Non-Hate</td>\n",
       "      <td>orban brussels european leaders ignoring peopl...</td>\n",
       "      <td>0</td>\n",
       "    </tr>\n",
       "  </tbody>\n",
       "</table>\n",
       "</div>"
      ],
      "text/plain": [
       "      class                                               text  hate\n",
       "0      Hate  hurray saving us many ways #lockthemup #buildt...     1\n",
       "1      Hate  would young fighting age men vast majority one...     1\n",
       "2      Hate   illegals dump kids border like road kill refu...     1\n",
       "3  Non-Hate  ny times nearly white states pose array proble...     0\n",
       "4  Non-Hate  orban brussels european leaders ignoring peopl...     0"
      ]
     },
     "execution_count": 4,
     "metadata": {},
     "output_type": "execute_result"
    }
   ],
   "source": [
    "df.head(5)"
   ]
  },
  {
   "cell_type": "code",
   "execution_count": 162,
   "metadata": {},
   "outputs": [
    {
     "data": {
      "text/html": [
       "<div>\n",
       "<style scoped>\n",
       "    .dataframe tbody tr th:only-of-type {\n",
       "        vertical-align: middle;\n",
       "    }\n",
       "\n",
       "    .dataframe tbody tr th {\n",
       "        vertical-align: top;\n",
       "    }\n",
       "\n",
       "    .dataframe thead th {\n",
       "        text-align: right;\n",
       "    }\n",
       "</style>\n",
       "<table border=\"1\" class=\"dataframe\">\n",
       "  <thead>\n",
       "    <tr style=\"text-align: right;\">\n",
       "      <th></th>\n",
       "      <th>class</th>\n",
       "      <th>text</th>\n",
       "      <th>hate</th>\n",
       "    </tr>\n",
       "  </thead>\n",
       "  <tbody>\n",
       "  </tbody>\n",
       "</table>\n",
       "</div>"
      ],
      "text/plain": [
       "Empty DataFrame\n",
       "Columns: [class, text, hate]\n",
       "Index: []"
      ]
     },
     "execution_count": 162,
     "metadata": {},
     "output_type": "execute_result"
    }
   ],
   "source": [
    "df[df['text'].isnull()]"
   ]
  },
  {
   "attachments": {},
   "cell_type": "markdown",
   "metadata": {},
   "source": [
    "# Split dataset"
   ]
  },
  {
   "cell_type": "code",
   "execution_count": 5,
   "metadata": {},
   "outputs": [
    {
     "name": "stdout",
     "output_type": "stream",
     "text": [
      "Train Set : (6283,) (6283,)\n",
      "Test Set  : (2693,) (2693,)\n"
     ]
    }
   ],
   "source": [
    "x = np.array(df[\"text\"])\n",
    "y = np.array(df[\"class\"])\n",
    "\n",
    "x_train, x_test, y_train, y_test = train_test_split(x,y, test_size = 0.30, random_state=42) #random state ensure same sample\n",
    "print(\"Train Set :\", x_train.shape, y_train.shape) \n",
    "print(\"Test Set  :\", x_test.shape, y_test.shape) \n",
    "\n",
    "# y in digit form\n",
    "y_train_binary = np.array(list(map(lambda x:1 if x==\"Hate\" else 0, y_train)))\n",
    "y_test_binary = np.array(list(map(lambda x:1 if x==\"Hate\" else 0, y_test)))"
   ]
  },
  {
   "attachments": {},
   "cell_type": "markdown",
   "metadata": {},
   "source": [
    "array(['austria wonder countri refug bill see socialwelfar also help get televisionset refug famili styria ',"
   ]
  },
  {
   "cell_type": "code",
   "execution_count": 6,
   "metadata": {},
   "outputs": [
    {
     "data": {
      "text/plain": [
       "array(['austria wonderful country refugees bill see socialwelfare also help get televisionset refugees family styria ',\n",
       "       'please tell bitch next piercing line judgmental everyone fucking sees shut fuck',\n",
       "       'afghan migrant whose deportation thwarted hero swedish student actually sentenced assault #foxnews',\n",
       "       ' slavery post white women rape many black women men children u could ever imagine cause ',\n",
       "       'bewildered eu leaders various plans preventing migrant refugee boat arrivals amp send heres helpful overview ',\n",
       "       'waking today like ',\n",
       "       'theyre sending best lot rapists scumbags lowest form dna fake family separatedxxf#stoptheinvasion#deportthemall #noamnesty#buildthewall ',\n",
       "       'rt #chelseahandler #kimkardashian #kanye #kanyewest #cent #comedy #lol #lmao #memes #bruh #petty #funnyshit #truth ',\n",
       "       'douglas todd trudeau government goes silent canadas syrian refugees via add alarming list governments fails ',\n",
       "       'redhead girls hot ginger girls usualy fugly'], dtype=object)"
      ]
     },
     "execution_count": 6,
     "metadata": {},
     "output_type": "execute_result"
    }
   ],
   "source": [
    "x_train[:10]"
   ]
  },
  {
   "attachments": {},
   "cell_type": "markdown",
   "metadata": {},
   "source": [
    "# Feature engineering - Word embeding"
   ]
  },
  {
   "attachments": {},
   "cell_type": "markdown",
   "metadata": {},
   "source": [
    "- Word2Vec and GloVe are based on static word embeddings while Transformers are based on dynamic word embeddings.\n",
    "\n",
    "- Many different models for creating pre-trained word embeddings such as Word2Vec, GloVe, fastText, and BioWordVec "
   ]
  },
  {
   "attachments": {},
   "cell_type": "markdown",
   "metadata": {},
   "source": [
    "- https://www.analyticsvidhya.com/blog/2017/06/word-embeddings-count-word2veec/\n",
    "- CountVectorizer, Tfidftransformer & Tfidfvectorizer are Frequency based Word Embedding technique\n",
    "- Tfidftransformer acts on sparse matrix and Tfidfvectorizer acts on raw text data\n",
    "- Tfidfvectorizer = countVectorizater + Tfidftransformer\n",
    "\n",
    "- https://www.analyticsvidhya.com/blog/2018/07/hands-on-sentiment-analysis-dataset-python/\n",
    "- vectorizer = word embedding process of converting text data to numerical vector"
   ]
  },
  {
   "cell_type": "code",
   "execution_count": 11,
   "metadata": {},
   "outputs": [],
   "source": [
    "from sklearn.pipeline import Pipeline\n",
    "from sklearn.feature_extraction.text import CountVectorizer\n",
    "from sklearn.feature_extraction.text import TfidfVectorizer"
   ]
  },
  {
   "attachments": {},
   "cell_type": "markdown",
   "metadata": {},
   "source": [
    "## Word2Vec"
   ]
  },
  {
   "attachments": {},
   "cell_type": "markdown",
   "metadata": {},
   "source": [
    "- https://spotintelligence.com/2023/02/15/word2vec-for-text-classification/#:~:text=Word2Vec%20is%20a%20popular%20algorithm,a%20large%20corpus%20of%20text\n",
    "- Word2vec is not a single algorithm but a combination of two techniques – CBOW(Continuous bag of words) and Skip-gram model."
   ]
  },
  {
   "cell_type": "code",
   "execution_count": 9,
   "metadata": {},
   "outputs": [],
   "source": [
    "from gensim.models import Word2Vec"
   ]
  },
  {
   "cell_type": "code",
   "execution_count": 10,
   "metadata": {},
   "outputs": [],
   "source": [
    "class w2vVectorizer():\n",
    "    def __init__(self) -> None:\n",
    "        self.w2v_model = None\n",
    "    \n",
    "    def w2v_vectorizer(self,sentence):\n",
    "        # vectorize the text data\n",
    "        words = sentence.split()\n",
    "        words_vec = [self.w2v_model.wv[word] for word in words if word in self.w2v_model.wv]\n",
    "        if len(words_vec) == 0:\n",
    "            return np.zeros(100)\n",
    "        words_vec = np.array(words_vec)\n",
    "        return words_vec.mean(axis=0)\n",
    "    \n",
    "    def fit(self, x, y=None):\n",
    "        # train the model when fit the pipeline\n",
    "        sentences = [sentence.split() for sentence in x]\n",
    "        self.w2v_model = Word2Vec(sentences, vector_size=100, window=5, min_count=2, workers=4)\n",
    "        return self\n",
    "    \n",
    "    def transform(self, x, y=None):\n",
    "        # when use fit or transform on the pipeline \n",
    "        return np.array([self.w2v_vectorizer(sentence) for sentence in x])"
   ]
  },
  {
   "attachments": {},
   "cell_type": "markdown",
   "metadata": {},
   "source": [
    "# Machine learning"
   ]
  },
  {
   "cell_type": "code",
   "execution_count": 10,
   "metadata": {},
   "outputs": [],
   "source": [
    "# save model\n",
    "def save_model(model, model_name):\n",
    "    filename = f\"models/{model_name}.pickle\"\n",
    "    pickle.dump(model, open(filename,\"wb\"))"
   ]
  },
  {
   "attachments": {},
   "cell_type": "markdown",
   "metadata": {},
   "source": [
    "## Decision Tree"
   ]
  },
  {
   "cell_type": "code",
   "execution_count": 14,
   "metadata": {},
   "outputs": [],
   "source": [
    "#convert given text to a vector base\n",
    "from sklearn.tree import DecisionTreeClassifier"
   ]
  },
  {
   "cell_type": "code",
   "execution_count": 424,
   "metadata": {},
   "outputs": [],
   "source": [
    "model = Pipeline([('vect', CountVectorizer()),\n",
    "               ('clf', DecisionTreeClassifier()),\n",
    "              ])\n",
    "model_name = \"dtc\"\n",
    "model.fit(x_train, y_train)\n",
    "save_model(model,model_name)"
   ]
  },
  {
   "cell_type": "code",
   "execution_count": 232,
   "metadata": {},
   "outputs": [],
   "source": [
    "model = Pipeline([('vect', TfidfVectorizer()),\n",
    "               ('clf', DecisionTreeClassifier()),\n",
    "              ])\n",
    "model_name = \"dtc-tfid\"\n",
    "model.fit(x_train, y_train)\n",
    "save_model(model,model_name)"
   ]
  },
  {
   "cell_type": "code",
   "execution_count": 233,
   "metadata": {},
   "outputs": [],
   "source": [
    "model = Pipeline([('vect', w2vVectorizer()),\n",
    "               ('clf', DecisionTreeClassifier()),\n",
    "              ])\n",
    "model_name = \"dtc-w2v\"\n",
    "model.fit(x_train, y_train)\n",
    "save_model(model,model_name)"
   ]
  },
  {
   "attachments": {},
   "cell_type": "markdown",
   "metadata": {},
   "source": [
    "## Support Vector Machine"
   ]
  },
  {
   "attachments": {},
   "cell_type": "markdown",
   "metadata": {},
   "source": [
    "- supervisied learning algorithm\n",
    "- Unlike neural networks, SVMs can work with very small datasets and are not prone to overfitting."
   ]
  },
  {
   "cell_type": "code",
   "execution_count": 39,
   "metadata": {},
   "outputs": [],
   "source": [
    "from sklearn.linear_model import SGDClassifier"
   ]
  },
  {
   "cell_type": "code",
   "execution_count": 234,
   "metadata": {},
   "outputs": [],
   "source": [
    "model = Pipeline([('vect', CountVectorizer()),\n",
    "                ('clf', SGDClassifier(loss='hinge', penalty='l2',alpha=1e-3, random_state=42, max_iter=5, tol=None)),\n",
    "               ])\n",
    "model_name = \"svm\"\n",
    "model.fit(x_train, y_train)\n",
    "save_model(model, model_name)"
   ]
  },
  {
   "cell_type": "code",
   "execution_count": 235,
   "metadata": {},
   "outputs": [],
   "source": [
    "model = Pipeline([('vect', TfidfVectorizer()),\n",
    "               ('clf', SGDClassifier(loss='hinge', penalty='l2',alpha=1e-3, random_state=42, max_iter=5, tol=None)),\n",
    "              ])\n",
    "model_name = \"svm-tfid\"\n",
    "model.fit(x_train, y_train)\n",
    "save_model(model, model_name)"
   ]
  },
  {
   "cell_type": "code",
   "execution_count": 236,
   "metadata": {},
   "outputs": [],
   "source": [
    "model = Pipeline([('vect', w2vVectorizer()),\n",
    "               ('clf', SGDClassifier(loss='hinge', penalty='l2',alpha=1e-3, random_state=42, max_iter=5, tol=None)),\n",
    "              ])\n",
    "model_name = \"svm-w2v\"\n",
    "model.fit(x_train, y_train)\n",
    "save_model(model, model_name)"
   ]
  },
  {
   "attachments": {},
   "cell_type": "markdown",
   "metadata": {},
   "source": [
    "## Logistic Regression "
   ]
  },
  {
   "cell_type": "code",
   "execution_count": 46,
   "metadata": {},
   "outputs": [],
   "source": [
    "from sklearn.linear_model import LogisticRegression"
   ]
  },
  {
   "cell_type": "code",
   "execution_count": 237,
   "metadata": {},
   "outputs": [],
   "source": [
    "model = Pipeline([('vect', CountVectorizer()),\n",
    "        ('clf', LogisticRegression(n_jobs=1, C=1e5,max_iter=6300)),\n",
    "        ])\n",
    "model_name = \"lr\"\n",
    "model.fit(x_train, y_train)\n",
    "save_model(model, model_name)"
   ]
  },
  {
   "cell_type": "code",
   "execution_count": 238,
   "metadata": {},
   "outputs": [],
   "source": [
    "model = Pipeline([('vect', TfidfVectorizer()),\n",
    "        ('clf', LogisticRegression(n_jobs=1, C=1e5,max_iter=6300)),\n",
    "        ])\n",
    "model_name = \"lr-tfid\"\n",
    "model.fit(x_train, y_train)\n",
    "save_model(model, model_name)"
   ]
  },
  {
   "cell_type": "code",
   "execution_count": 239,
   "metadata": {},
   "outputs": [],
   "source": [
    "model = Pipeline([('vect', w2vVectorizer()),\n",
    "        ('clf', LogisticRegression(n_jobs=1, C=1e5,max_iter=6300)),\n",
    "        ])\n",
    "model_name = \"lr-w2v\"\n",
    "model.fit(x_train, y_train)\n",
    "save_model(model, model_name)"
   ]
  },
  {
   "attachments": {},
   "cell_type": "markdown",
   "metadata": {},
   "source": [
    "## Predict"
   ]
  },
  {
   "cell_type": "code",
   "execution_count": null,
   "metadata": {},
   "outputs": [],
   "source": [
    "# Predict data\n",
    "print(\"Test Data Accuracy  :\\t\", model.score(x_test, y_test))\n",
    "y_test_pred = model.predict(x_test)"
   ]
  },
  {
   "attachments": {},
   "cell_type": "markdown",
   "metadata": {},
   "source": [
    "# Deep Neural network"
   ]
  },
  {
   "attachments": {},
   "cell_type": "markdown",
   "metadata": {},
   "source": [
    "- https://www.youtube.com/watch?v=oWo9SNcyxlI\n",
    "- good read for = https://bmcmedresmethodol.biomedcentral.com/articles/10.1186/s12874-022-01665-y\n",
    "\n",
    "- cnn\n",
    "- transformer encoder\n",
    "- pretrained bert\n",
    "- typical neural network = rnn, gru, lstm, bi-lstm\n",
    "\n",
    "- other than bert, the rest need word embedding so do glove, word2vec and fasttext\n"
   ]
  },
  {
   "cell_type": "code",
   "execution_count": 7,
   "metadata": {},
   "outputs": [],
   "source": [
    "from keras.preprocessing.text import one_hot, Tokenizer\n",
    "from keras.models import Sequential\n",
    "from keras.utils.data_utils import pad_sequences\n",
    "from keras.layers.core import Activation, Dropout, Dense\n",
    "from keras.layers import Flatten, GlobalMaxPooling1D, Embedding, Conv1D, LSTM\n",
    "\n",
    "from keras.metrics import BinaryAccuracy,Precision,Recall\n",
    "\n",
    "from keras.layers import Layer\n",
    "from keras.models import load_model\n",
    "import keras\n",
    "\n",
    "METRICS = [\n",
    "    BinaryAccuracy(name=\"accuracy\"),\n",
    "    Precision(name=\"precision\"),\n",
    "    Recall(name=\"recall\")\n",
    "]\n",
    "\n",
    "def save_model_nn(model, model_name):\n",
    "    filename = f\"models/{model_name}\"\n",
    "    model.save(filename)"
   ]
  },
  {
   "attachments": {},
   "cell_type": "markdown",
   "metadata": {},
   "source": [
    "Embeding layer convert text to numeric form which is used as the first layer for the deep learning model"
   ]
  },
  {
   "attachments": {},
   "cell_type": "markdown",
   "metadata": {},
   "source": [
    "## Glove embedding"
   ]
  },
  {
   "cell_type": "code",
   "execution_count": 171,
   "metadata": {},
   "outputs": [
    {
     "name": "stdout",
     "output_type": "stream",
     "text": [
      "Total words  400000\n",
      "Converted 10670 words (3974 misses)\n"
     ]
    }
   ],
   "source": [
    "embedding_name = \"glove\"\n",
    "text_length = 50 #pad/truncate text to this long, such that each text after token will be this long\n",
    "\n",
    "custom_encoder = keras.layers.TextVectorization(\n",
    "    standardize = None,\n",
    "    output_sequence_length=text_length, \n",
    ")\n",
    "custom_encoder.adapt(x_train)\n",
    "vocab = custom_encoder.get_vocabulary()\n",
    "print(f\"total vocab {len(vocab)}\")\n",
    "vocab_dict = dict(zip(vocab, range(len(vocab))))\n",
    "\n",
    "# load glove to dictionay\n",
    "embeddings_dic = dict()\n",
    "glove_file = open(\"Dataset/custom_embedding.txt\", encoding=\"utf8\")\n",
    "\n",
    "for line in glove_file:\n",
    "    records = line.split()\n",
    "    word = records[0]\n",
    "    vector_dimensions = np.asarray(records[1:], dtype='float32')\n",
    "    embeddings_dic[word] = vector_dimensions\n",
    "glove_file.close()\n",
    "print(\"Total words \", len(embeddings_dic))\n",
    "\n",
    "# create vocab length is the size of token in dictionary\n",
    "# Size of the vocabulary\n",
    "vocab_length = len(vocab) + 1\n",
    "embedding_dim = 100 #each glove word is 100 long\n",
    "\n",
    "hits = 0\n",
    "miss = 0\n",
    "\n",
    "# create embedding matrix having 100 col\n",
    "# for all vocab word we give it a vector value from glove\n",
    "# for those not found in glove will be empty 0\n",
    "# size of embedding_matriz = size of word_tokenizer.word_index.items()\n",
    "# embedding_matrix is the weight \n",
    "embedding_matrix = np.zeros((vocab_length, embedding_dim))\n",
    "for word, index in vocab_dict.items():\n",
    "    embedding_vector = embeddings_dic.get(word)\n",
    "    if embedding_vector is not None:\n",
    "        embedding_matrix[index] = embedding_vector\n",
    "        hits += 1\n",
    "    else:\n",
    "        miss +=1\n",
    "print(\"Converted %d words (%d misses)\" % (hits, miss))\n",
    "\n",
    "custom_embedding = Embedding(vocab_length, embedding_dim, \n",
    "               embeddings_initializer=keras.initializers.Constant(embedding_matrix), \n",
    "               trainable = False,\n",
    "               input_length=text_length,\n",
    "               mask_zero=True)"
   ]
  },
  {
   "attachments": {},
   "cell_type": "markdown",
   "metadata": {},
   "source": [
    "## FastText"
   ]
  },
  {
   "attachments": {},
   "cell_type": "markdown",
   "metadata": {},
   "source": [
    "- https://medium.com/@93Kryptonian/word-embedding-using-fasttext-62beb0209db9\n",
    "- It treats each word as composed of n-grams. In word2vec each word is represented as a bag of words but in FastText each word is represented as a bag of character n-gram.\n"
   ]
  },
  {
   "cell_type": "code",
   "execution_count": 9,
   "metadata": {},
   "outputs": [],
   "source": [
    "from gensim.models import FastText"
   ]
  },
  {
   "cell_type": "code",
   "execution_count": 10,
   "metadata": {},
   "outputs": [
    {
     "name": "stdout",
     "output_type": "stream",
     "text": [
      "total vocab 6009\n",
      "Converted 6009 words (0 misses)\n"
     ]
    }
   ],
   "source": [
    "embedding_name = \"fasttext\"\n",
    "text_length = 50 #pad/truncate text to this long, such that each text after token will be this long\n",
    "vector_size=100\n",
    "\n",
    "sentences = [sentence.split() for sentence in x_train]\n",
    "ft_model = FastText(sentences, vector_size=vector_size, window=5, min_count=2, workers=4, seed=42, sg=1, epochs=10) # skip gram or cbow=0\n",
    "ft = ft_model.wv\n",
    "ft_vocab = ft.index_to_key\n",
    "\n",
    "custom_encoder = keras.layers.TextVectorization(\n",
    "    standardize = None,\n",
    "    output_sequence_length=text_length, \n",
    "    vocabulary = ft_vocab\n",
    ")\n",
    "\n",
    "vocab = custom_encoder.get_vocabulary()\n",
    "print(f\"total vocab {len(vocab)}\")\n",
    "vocab_dict = dict(zip(vocab, range(len(vocab))))\n",
    "\n",
    "vocab_length = len(vocab) + 1\n",
    "embedding_dim = vector_size\n",
    "\n",
    "hits = 0\n",
    "miss = 0\n",
    "\n",
    "embedding_matrix = np.zeros((vocab_length, embedding_dim))\n",
    "for word, index in vocab_dict.items():\n",
    "    embedding_vector = ft[word]\n",
    "    if embedding_vector is not None:\n",
    "        embedding_matrix[index] = embedding_vector\n",
    "        hits += 1\n",
    "    else:\n",
    "        miss +=1\n",
    "print(\"Converted %d words (%d misses)\" % (hits, miss))\n",
    "\n",
    "custom_embedding = Embedding(vocab_length, embedding_dim, \n",
    "               embeddings_initializer=keras.initializers.Constant(embedding_matrix), \n",
    "               trainable = False,\n",
    "               input_length=text_length,\n",
    "               mask_zero=True)"
   ]
  },
  {
   "attachments": {},
   "cell_type": "markdown",
   "metadata": {},
   "source": [
    "## Word2Vec"
   ]
  },
  {
   "cell_type": "code",
   "execution_count": 41,
   "metadata": {},
   "outputs": [],
   "source": [
    "from gensim.models import Word2Vec"
   ]
  },
  {
   "cell_type": "code",
   "execution_count": 44,
   "metadata": {},
   "outputs": [
    {
     "data": {
      "text/plain": [
       "['',\n",
       " '[UNK]',\n",
       " 'bitch',\n",
       " 'women',\n",
       " 'refugees',\n",
       " 'like',\n",
       " 'immigrant',\n",
       " 'dont',\n",
       " 'illegal',\n",
       " 'men',\n",
       " 'immigration',\n",
       " 'us',\n",
       " 'get',\n",
       " 'people',\n",
       " 'cunt',\n",
       " 'migrants',\n",
       " 'woman',\n",
       " 'rape',\n",
       " 'go',\n",
       " 'whore',\n",
       " 'immigrants',\n",
       " 'im',\n",
       " 'one',\n",
       " 'fuck',\n",
       " 'want',\n",
       " 'youre',\n",
       " 'u',\n",
       " 'ass',\n",
       " 'know',\n",
       " 'time',\n",
       " 'country',\n",
       " 'fucking',\n",
       " 'refugee',\n",
       " 'amp',\n",
       " '#buildthatwall',\n",
       " 'stop',\n",
       " 'back',\n",
       " 'hysterical',\n",
       " 'via',\n",
       " 'girl',\n",
       " 'stupid',\n",
       " 'home',\n",
       " 'hoe',\n",
       " 'need',\n",
       " 'make',\n",
       " 'take',\n",
       " 'would',\n",
       " 'right',\n",
       " 'new',\n",
       " 'trump',\n",
       " 'dick',\n",
       " '#maga',\n",
       " 'say',\n",
       " 'think',\n",
       " 'children',\n",
       " 'migrant',\n",
       " 'shit',\n",
       " 'pussy',\n",
       " 'skank',\n",
       " 'good',\n",
       " 'never',\n",
       " 'see',\n",
       " 'slut',\n",
       " 'cant',\n",
       " 'man',\n",
       " 'many',\n",
       " 'life',\n",
       " 'white',\n",
       " 'free',\n",
       " 'border',\n",
       " 'help',\n",
       " 'come',\n",
       " 'world',\n",
       " '#buildthewall',\n",
       " 'even',\n",
       " 'thats',\n",
       " '#trump',\n",
       " 'muslim',\n",
       " 'must',\n",
       " 'europe',\n",
       " 'first',\n",
       " 'eu',\n",
       " 'really',\n",
       " '#immigration',\n",
       " 'hole',\n",
       " 'got',\n",
       " 'countries',\n",
       " 'please',\n",
       " 'going',\n",
       " 'let',\n",
       " 'love',\n",
       " 'said',\n",
       " 'way',\n",
       " 'give',\n",
       " 'says',\n",
       " 'still',\n",
       " 'always',\n",
       " 'much',\n",
       " 'tell',\n",
       " 'kids',\n",
       " 'year',\n",
       " 'call',\n",
       " 'look',\n",
       " 'welcome',\n",
       " 'also',\n",
       " 'american',\n",
       " 'support',\n",
       " 'today',\n",
       " 'every',\n",
       " 'years',\n",
       " 'ever',\n",
       " 'keep',\n",
       " 'another',\n",
       " 'illegals',\n",
       " 'families',\n",
       " '#nodaca',\n",
       " 'work',\n",
       " 'rights',\n",
       " 'shut',\n",
       " 'someone',\n",
       " 'could',\n",
       " '#womensuck',\n",
       " 'last',\n",
       " 'speech',\n",
       " 'rt',\n",
       " 'hate',\n",
       " 'law',\n",
       " 'migration',\n",
       " 'day',\n",
       " 'dumb',\n",
       " 'doesnt',\n",
       " 'well',\n",
       " 'america',\n",
       " 'care',\n",
       " 'cause',\n",
       " 'girls',\n",
       " 'wants',\n",
       " 'germany',\n",
       " 'better',\n",
       " 'stay',\n",
       " 'watch',\n",
       " 'money',\n",
       " 'ur',\n",
       " 'americans',\n",
       " 'big',\n",
       " 'mass',\n",
       " 'parents',\n",
       " 'pay',\n",
       " 'child',\n",
       " 'family',\n",
       " 'wont',\n",
       " 'trying',\n",
       " 'bad',\n",
       " 'little',\n",
       " 'president',\n",
       " 'theyre',\n",
       " 'didnt',\n",
       " 'around',\n",
       " '#noamnesty',\n",
       " 'un',\n",
       " 'talk',\n",
       " 'wall',\n",
       " 'getting',\n",
       " 'old',\n",
       " 'hope',\n",
       " 'vote',\n",
       " 'uk',\n",
       " 'aliens',\n",
       " '#stoptheinvasion',\n",
       " 'put',\n",
       " 'left',\n",
       " 'enough',\n",
       " 'end',\n",
       " 'without',\n",
       " 'ram',\n",
       " 'r',\n",
       " 'made',\n",
       " 'open',\n",
       " 'bitches',\n",
       " 'away',\n",
       " 'government',\n",
       " 'next',\n",
       " 'shes',\n",
       " 'black',\n",
       " 'alien',\n",
       " 'already',\n",
       " 'stfu',\n",
       " 'show',\n",
       " 'police',\n",
       " 'oh',\n",
       " 'legal',\n",
       " 'great',\n",
       " 'needs',\n",
       " 'real',\n",
       " 'anyone',\n",
       " 'policy',\n",
       " 'nothing',\n",
       " 'aint',\n",
       " 'send',\n",
       " 'believe',\n",
       " 'state',\n",
       " 'start',\n",
       " 'gonna',\n",
       " 'citizens',\n",
       " 'laws',\n",
       " 'feel',\n",
       " 'called',\n",
       " 'mean',\n",
       " 'welfare',\n",
       " 'live',\n",
       " 'things',\n",
       " '#refugees',\n",
       " 'something',\n",
       " 'week',\n",
       " 'yes',\n",
       " '#deportthemall',\n",
       " '#sendthemback',\n",
       " 'ive',\n",
       " 'syrian',\n",
       " 'friend',\n",
       " 'saying',\n",
       " 'ill',\n",
       " 'hoes',\n",
       " 'face',\n",
       " 'find',\n",
       " 'two',\n",
       " 'report',\n",
       " 'thank',\n",
       " 'deport',\n",
       " 'deported',\n",
       " 'use',\n",
       " 'italy',\n",
       " 'ice',\n",
       " 'friends',\n",
       " 'wrong',\n",
       " '#rednationrising',\n",
       " 'person',\n",
       " 'sure',\n",
       " 'workers',\n",
       " 'return',\n",
       " 'isnt',\n",
       " 'news',\n",
       " 'house',\n",
       " 'crisis',\n",
       " 'lives',\n",
       " 'talking',\n",
       " 'sexual',\n",
       " 'million',\n",
       " 'cock',\n",
       " 'may',\n",
       " 'lol',\n",
       " 'yall',\n",
       " 'borders',\n",
       " 'best',\n",
       " 'id',\n",
       " 'xd',\n",
       " 'coming',\n",
       " 'hes',\n",
       " 'told',\n",
       " 'wanna',\n",
       " 'yet',\n",
       " 'asylum',\n",
       " 'usa',\n",
       " 'hard',\n",
       " 'guy',\n",
       " 'long',\n",
       " 'illegally',\n",
       " 'sex',\n",
       " 'problem',\n",
       " 'story',\n",
       " 'human',\n",
       " 'living',\n",
       " 'everyone',\n",
       " 'since',\n",
       " 'lets',\n",
       " 'suck',\n",
       " 'learn',\n",
       " 'bring',\n",
       " 'guys',\n",
       " 'using',\n",
       " 'kunt',\n",
       " 'maybe',\n",
       " 'stand',\n",
       " 'calling',\n",
       " 'head',\n",
       " 'political',\n",
       " 'states',\n",
       " 'anything',\n",
       " 'community',\n",
       " 'god',\n",
       " 'india',\n",
       " 'german',\n",
       " 'place',\n",
       " 'become',\n",
       " 'leave',\n",
       " 'actually',\n",
       " 'crime',\n",
       " 'true',\n",
       " 'killed',\n",
       " 'try',\n",
       " 'whole',\n",
       " 'bc',\n",
       " 'hell',\n",
       " 'seen',\n",
       " 'full',\n",
       " 'job',\n",
       " 'youve',\n",
       " 'hear',\n",
       " 'gets',\n",
       " 'night',\n",
       " 'n',\n",
       " 'daca',\n",
       " 'ugly',\n",
       " 'culture',\n",
       " 'video',\n",
       " 'lil',\n",
       " 'ya',\n",
       " 'theres',\n",
       " 'understand',\n",
       " 'public',\n",
       " 'jobs',\n",
       " '#kag',\n",
       " 'media',\n",
       " 'means',\n",
       " 'change',\n",
       " 'thing',\n",
       " 'nice',\n",
       " 'read',\n",
       " 'trash',\n",
       " 'happy',\n",
       " 'racist',\n",
       " 'fuckin',\n",
       " 'thanks',\n",
       " 'accused',\n",
       " 'mouth',\n",
       " 'young',\n",
       " 'forced',\n",
       " 'lot',\n",
       " 'fake',\n",
       " 'food',\n",
       " 'run',\n",
       " 'yo',\n",
       " 'party',\n",
       " 'social',\n",
       " '#withrefugees',\n",
       " 'muslims',\n",
       " 'makes',\n",
       " 'abuse',\n",
       " 'play',\n",
       " 'protect',\n",
       " 'eat',\n",
       " 'part',\n",
       " 'act',\n",
       " '#enddaca',\n",
       " 'deportation',\n",
       " 'build',\n",
       " 'detention',\n",
       " 'death',\n",
       " 'mind',\n",
       " 'taking',\n",
       " 'done',\n",
       " 'fact',\n",
       " 'ok',\n",
       " 'came',\n",
       " '#walkaway',\n",
       " 'criminal',\n",
       " 'looking',\n",
       " 'making',\n",
       " 'reason',\n",
       " 'judge',\n",
       " 'etc',\n",
       " 'victims',\n",
       " 'die',\n",
       " 'war',\n",
       " 'system',\n",
       " 'merkel',\n",
       " 'respect',\n",
       " 'camp',\n",
       " 'ones',\n",
       " 'canada',\n",
       " 'goes',\n",
       " 'texas',\n",
       " 'poor',\n",
       " 'ask',\n",
       " 'dead',\n",
       " 'hit',\n",
       " 'side',\n",
       " 'nation',\n",
       " 'point',\n",
       " 'nobody',\n",
       " 'boy',\n",
       " 'housing',\n",
       " 'fat',\n",
       " 'used',\n",
       " 'instead',\n",
       " 'thought',\n",
       " 'economic',\n",
       " 'damn',\n",
       " 'national',\n",
       " 'crazy',\n",
       " 'millions',\n",
       " 'w',\n",
       " 'probably',\n",
       " 'follow',\n",
       " 'allowed',\n",
       " 'control',\n",
       " 'working',\n",
       " 'game',\n",
       " 'city',\n",
       " 'post',\n",
       " 'arrested',\n",
       " 'remember',\n",
       " 'deserve',\n",
       " 'homes',\n",
       " 'obama',\n",
       " 'accept',\n",
       " 'raped',\n",
       " 'name',\n",
       " 'members',\n",
       " 'protest',\n",
       " 'kind',\n",
       " 'comes',\n",
       " 'assault',\n",
       " 'justice',\n",
       " 'safe',\n",
       " 'whats',\n",
       " 'beat',\n",
       " 'school',\n",
       " 'sweden',\n",
       " 'issue',\n",
       " 'female',\n",
       " 'africa',\n",
       " 'join',\n",
       " 'democrats',\n",
       " 'hey',\n",
       " 'arent',\n",
       " 'african',\n",
       " 'easy',\n",
       " 'european',\n",
       " 'fight',\n",
       " 'sad',\n",
       " 'deal',\n",
       " 'aid',\n",
       " 'court',\n",
       " 'least',\n",
       " '#rohingya',\n",
       " 'violence',\n",
       " 'son',\n",
       " 'course',\n",
       " 'less',\n",
       " 'across',\n",
       " 'close',\n",
       " 'foreign',\n",
       " 'separated',\n",
       " 'line',\n",
       " 'communities',\n",
       " 'antiimmigrant',\n",
       " 'attention',\n",
       " 'together',\n",
       " 'business',\n",
       " 'able',\n",
       " 'twitter',\n",
       " 'ho',\n",
       " 'wait',\n",
       " 'camps',\n",
       " 'past',\n",
       " 'nigga',\n",
       " 'france',\n",
       " 'fear',\n",
       " 'demand',\n",
       " 'hundreds',\n",
       " 'groups',\n",
       " 'security',\n",
       " 'speak',\n",
       " 'literally',\n",
       " 'break',\n",
       " 'tweet',\n",
       " 'case',\n",
       " 'tells',\n",
       " 'alone',\n",
       " 'spain',\n",
       " 'check',\n",
       " 'plan',\n",
       " 'kill',\n",
       " 'pro',\n",
       " 'population',\n",
       " 'everything',\n",
       " 'went',\n",
       " 'baby',\n",
       " 'fucked',\n",
       " 'af',\n",
       " 'turn',\n",
       " 'action',\n",
       " 'lost',\n",
       " 'sick',\n",
       " 'policies',\n",
       " 'hot',\n",
       " 'months',\n",
       " 'boys',\n",
       " 'daily',\n",
       " 'giving',\n",
       " 'far',\n",
       " 'criminals',\n",
       " 'bill',\n",
       " 'lmao',\n",
       " 'self',\n",
       " 'charged',\n",
       " 'found',\n",
       " 'important',\n",
       " 'sign',\n",
       " 'else',\n",
       " 'drunk',\n",
       " 'including',\n",
       " 'girlfriend',\n",
       " 'days',\n",
       " 'high',\n",
       " 'worker',\n",
       " 'dems',\n",
       " 'russia',\n",
       " 'allow',\n",
       " 'difference',\n",
       " 'military',\n",
       " 'health',\n",
       " 'libya',\n",
       " 'takes',\n",
       " 'hungary',\n",
       " 'spanish',\n",
       " 'walk',\n",
       " 'heard',\n",
       " 'tried',\n",
       " 'strong',\n",
       " 'times',\n",
       " 'car',\n",
       " 'might',\n",
       " 'raise',\n",
       " 'seekers',\n",
       " 'yearold',\n",
       " 'sometimes',\n",
       " 'others',\n",
       " 'move',\n",
       " 'waiting',\n",
       " 'cut',\n",
       " 'save',\n",
       " 'th',\n",
       " 'fire',\n",
       " 'given',\n",
       " 'christian',\n",
       " 'heart',\n",
       " 'wife',\n",
       " 'lying',\n",
       " 'syria',\n",
       " 'army',\n",
       " 'month',\n",
       " 'pm',\n",
       " 'guess',\n",
       " 'fighting',\n",
       " 'cities',\n",
       " 'order',\n",
       " 'saw',\n",
       " 'stories',\n",
       " 'italian',\n",
       " 'office',\n",
       " '#illegalaliens',\n",
       " 'mother',\n",
       " 'mad',\n",
       " 'civil',\n",
       " 'calls',\n",
       " 'thousands',\n",
       " 'b',\n",
       " 'wouldnt',\n",
       " 'crimes',\n",
       " 'tip',\n",
       " 'thinks',\n",
       " 'diversity',\n",
       " 'services',\n",
       " 'matter',\n",
       " 'islamic',\n",
       " 'gotta',\n",
       " 'massive',\n",
       " 'agree',\n",
       " 'mexico',\n",
       " 'looks',\n",
       " 'either',\n",
       " 'behind',\n",
       " 'sexually',\n",
       " 'center',\n",
       " 'trumps',\n",
       " 'benefits',\n",
       " 'whores',\n",
       " 'force',\n",
       " 'yeah',\n",
       " 'word',\n",
       " 'building',\n",
       " 'heres',\n",
       " 'special',\n",
       " 'realize',\n",
       " 'murder',\n",
       " 'undocumented',\n",
       " 'truth',\n",
       " 'share',\n",
       " 'date',\n",
       " '#eu',\n",
       " 'gives',\n",
       " '#metoo',\n",
       " 'numbers',\n",
       " 'sent',\n",
       " 'citizenship',\n",
       " 'fun',\n",
       " 'power',\n",
       " 'liberals',\n",
       " 'taxpayers',\n",
       " 'campaign',\n",
       " 'piece',\n",
       " 'separation',\n",
       " 'wear',\n",
       " 'murdered',\n",
       " 'federal',\n",
       " 'works',\n",
       " 'dirty',\n",
       " 'invaders',\n",
       " 'killing',\n",
       " 'sound',\n",
       " 'account',\n",
       " 'died',\n",
       " 'sharia',\n",
       " 'amazing',\n",
       " 'ago',\n",
       " 'cannot',\n",
       " '#endchainmigration',\n",
       " 'block',\n",
       " 'enter',\n",
       " 'asked',\n",
       " 'prison',\n",
       " 'race',\n",
       " '#americafirst',\n",
       " 'mom',\n",
       " 'broke',\n",
       " 'greece',\n",
       " 'labor',\n",
       " 'gave',\n",
       " 'relief',\n",
       " 'kitchen',\n",
       " 'rd',\n",
       " 'jail',\n",
       " 'front',\n",
       " '#daca',\n",
       " 'ladies',\n",
       " '#immigrant',\n",
       " 'tax',\n",
       " 'leaders',\n",
       " 'tf',\n",
       " '#democrats',\n",
       " 'local',\n",
       " 'hold',\n",
       " 'x',\n",
       " 'liberal',\n",
       " 'imagine',\n",
       " 'number',\n",
       " 'started',\n",
       " 'administration',\n",
       " 'finally',\n",
       " 'invasion',\n",
       " 'wow',\n",
       " '#yesallmen',\n",
       " 'education',\n",
       " 'status',\n",
       " 'claim',\n",
       " 'happened',\n",
       " 'hurt',\n",
       " 'united',\n",
       " 'violent',\n",
       " 'ppl',\n",
       " '#',\n",
       " 'middle',\n",
       " 'streets',\n",
       " 'idiot',\n",
       " 'group',\n",
       " 'idea',\n",
       " 'youll',\n",
       " 'nations',\n",
       " 'telling',\n",
       " 'becoming',\n",
       " '#migrants',\n",
       " 'program',\n",
       " 'mexican',\n",
       " 'answer',\n",
       " 'threat',\n",
       " 'k',\n",
       " 'taken',\n",
       " 'unless',\n",
       " 'sorry',\n",
       " 'paid',\n",
       " 'three',\n",
       " 'almost',\n",
       " 'minister',\n",
       " 'niggas',\n",
       " 'hand',\n",
       " 'male',\n",
       " 'anti',\n",
       " 'bout',\n",
       " 'book',\n",
       " 'catch',\n",
       " 'bank',\n",
       " 'words',\n",
       " 'though',\n",
       " 'listen',\n",
       " 'centers',\n",
       " '#familiesbelongtogether',\n",
       " 'whatever',\n",
       " 'pimp',\n",
       " '#unitednations',\n",
       " 'sleep',\n",
       " 'north',\n",
       " 'voted',\n",
       " '#refugee',\n",
       " 'whose',\n",
       " 'officer',\n",
       " 'wages',\n",
       " 'inside',\n",
       " 'blame',\n",
       " 'plans',\n",
       " 'running',\n",
       " 'attack',\n",
       " 'resources',\n",
       " 'pretty',\n",
       " 'question',\n",
       " 'knows',\n",
       " 'west',\n",
       " '#ucanews',\n",
       " 'evil',\n",
       " 'based',\n",
       " 'situation',\n",
       " 'crossing',\n",
       " 'turkey',\n",
       " 'disgusting',\n",
       " 'non',\n",
       " 'treat',\n",
       " 'meet',\n",
       " 'supporting',\n",
       " 'drop',\n",
       " 'future',\n",
       " 'visit',\n",
       " 'sucking',\n",
       " 'international',\n",
       " 'shame',\n",
       " 'russian',\n",
       " 'wish',\n",
       " 'global',\n",
       " 'paying',\n",
       " 'decide',\n",
       " 'fleeing',\n",
       " 'ban',\n",
       " 'whos',\n",
       " 'continue',\n",
       " 'third',\n",
       " 'catholic',\n",
       " 'due',\n",
       " 'phone',\n",
       " 'islam',\n",
       " 'blog',\n",
       " 'win',\n",
       " 'hands',\n",
       " 'fall',\n",
       " 'apparently',\n",
       " 'south',\n",
       " 'attacks',\n",
       " 'shouldnt',\n",
       " 'peace',\n",
       " 'rules',\n",
       " 'austria',\n",
       " 'helping',\n",
       " 'kid',\n",
       " 'scared',\n",
       " 'near',\n",
       " 'tweets',\n",
       " 'gone',\n",
       " 'charge',\n",
       " 'vacation',\n",
       " 'shelter',\n",
       " 'tired',\n",
       " 'history',\n",
       " '#sendthemhome',\n",
       " 'list',\n",
       " 'politicians',\n",
       " 'weinstein',\n",
       " 'daddy',\n",
       " 'especially',\n",
       " 'congress',\n",
       " 'tomorrow',\n",
       " 'dm',\n",
       " 'fair',\n",
       " '#v',\n",
       " 'complain',\n",
       " 'stopped',\n",
       " 'trafficking',\n",
       " 'weeks',\n",
       " 'rohingya',\n",
       " 'blocked',\n",
       " 'forget',\n",
       " 'english',\n",
       " 'room',\n",
       " 'cum',\n",
       " 'facebook',\n",
       " 'defend',\n",
       " 'per',\n",
       " 'soon',\n",
       " 'youth',\n",
       " 'rather',\n",
       " 'half',\n",
       " 'choke',\n",
       " 'homeless',\n",
       " '#ice',\n",
       " 'mens',\n",
       " 'british',\n",
       " 'wanted',\n",
       " 'watching',\n",
       " 'text',\n",
       " 'photo',\n",
       " 'detained',\n",
       " 'comments',\n",
       " 'growing',\n",
       " 'rebuild',\n",
       " 'cuz',\n",
       " 'wasnt',\n",
       " 'dangerous',\n",
       " 'pass',\n",
       " 'relationship',\n",
       " 'gang',\n",
       " 'asap',\n",
       " 'asshole',\n",
       " 'cross',\n",
       " 'joke',\n",
       " 'met',\n",
       " '#buildthedamnwall',\n",
       " 'genocide',\n",
       " 'release',\n",
       " 'door',\n",
       " 'red',\n",
       " 'seem',\n",
       " 'low',\n",
       " 'married',\n",
       " 'according',\n",
       " 'influx',\n",
       " 'often',\n",
       " 'cost',\n",
       " 'street',\n",
       " '#notallmen',\n",
       " 'greek',\n",
       " 'sense',\n",
       " 'excuse',\n",
       " 'raping',\n",
       " 'dropped',\n",
       " 'buy',\n",
       " 'among',\n",
       " 'voters',\n",
       " 'article',\n",
       " 'govt',\n",
       " 'nearly',\n",
       " 'pays',\n",
       " 'song',\n",
       " 'rich',\n",
       " 'picture',\n",
       " 'beautiful',\n",
       " 'nelly',\n",
       " 'california',\n",
       " 'mr',\n",
       " 'wake',\n",
       " 'ready',\n",
       " '#worldrefugeeday',\n",
       " '#myanmar',\n",
       " '#news',\n",
       " 'holes',\n",
       " '#illegalimmigration',\n",
       " 'advertising',\n",
       " 'omg',\n",
       " 'reports',\n",
       " 'town',\n",
       " 'body',\n",
       " 'team',\n",
       " 'forward',\n",
       " 'rescued',\n",
       " 'visa',\n",
       " 'wearing',\n",
       " 'attacked',\n",
       " 'biggest',\n",
       " 'filthy',\n",
       " 'ms',\n",
       " 'democrat',\n",
       " 'daughter',\n",
       " 'position',\n",
       " 'seriously',\n",
       " 'land',\n",
       " 'complete',\n",
       " 'straight',\n",
       " 'destroy',\n",
       " 'vagina',\n",
       " 'okay',\n",
       " 'clearly',\n",
       " 'victim',\n",
       " 'chance',\n",
       " 'assistance',\n",
       " 'needed',\n",
       " 'spent',\n",
       " 'dude',\n",
       " 'sanctuary',\n",
       " 'miss',\n",
       " 'normal',\n",
       " 'holding',\n",
       " 'innocent',\n",
       " 'iraqi',\n",
       " 'shot',\n",
       " 'seeing',\n",
       " '#usa',\n",
       " 'pic',\n",
       " 'donald',\n",
       " 'hours',\n",
       " 'despite',\n",
       " 'till',\n",
       " 'christians',\n",
       " 'politics',\n",
       " 'happening',\n",
       " 'vs',\n",
       " 'tv',\n",
       " 'conditions',\n",
       " 'ways',\n",
       " 'language',\n",
       " 'nhs',\n",
       " 'record',\n",
       " 'dear',\n",
       " 'expect',\n",
       " 'events',\n",
       " 'set',\n",
       " 'entire',\n",
       " 'treatment',\n",
       " 'husband',\n",
       " 'page',\n",
       " 'claims',\n",
       " 'cares',\n",
       " 'throw',\n",
       " 'pathetic',\n",
       " 'economy',\n",
       " 'everywhere',\n",
       " 'along',\n",
       " 'feminists',\n",
       " 'pregnant',\n",
       " 'rescue',\n",
       " 'slag',\n",
       " 'boat',\n",
       " 'sending',\n",
       " '#spain',\n",
       " 'minute',\n",
       " 'penis',\n",
       " '#boycottnfl',\n",
       " 'proud',\n",
       " 'illigal',\n",
       " 'tonight',\n",
       " 'seat',\n",
       " 'tryna',\n",
       " '#bangladesh',\n",
       " 'conservative',\n",
       " 'weekend',\n",
       " 'laugh',\n",
       " 'agency',\n",
       " 'term',\n",
       " 'alive',\n",
       " 'drug',\n",
       " 'ny',\n",
       " 'current',\n",
       " 'schools',\n",
       " 'jesus',\n",
       " 'common',\n",
       " 'round',\n",
       " 'sexist',\n",
       " 'funding',\n",
       " 'rest',\n",
       " 'seeking',\n",
       " 'facebooks',\n",
       " 'lies',\n",
       " 'obviously',\n",
       " 'dream',\n",
       " 'clear',\n",
       " 'st',\n",
       " 'laughing',\n",
       " 'wonder',\n",
       " 'longer',\n",
       " 'exactly',\n",
       " 'cop',\n",
       " 'assam',\n",
       " 'cool',\n",
       " 'sharing',\n",
       " 'aka',\n",
       " 'acting',\n",
       " '#potus',\n",
       " 'vulnerable',\n",
       " 'park',\n",
       " 'took',\n",
       " 'soros',\n",
       " 'britain',\n",
       " 'single',\n",
       " 'places',\n",
       " ...]"
      ]
     },
     "execution_count": 44,
     "metadata": {},
     "output_type": "execute_result"
    }
   ],
   "source": [
    "vocab"
   ]
  },
  {
   "cell_type": "code",
   "execution_count": 49,
   "metadata": {},
   "outputs": [
    {
     "data": {
      "text/plain": [
       "<gensim.models.keyedvectors.KeyedVectors at 0x21b689ce490>"
      ]
     },
     "execution_count": 49,
     "metadata": {},
     "output_type": "execute_result"
    }
   ],
   "source": [
    "w"
   ]
  },
  {
   "cell_type": "code",
   "execution_count": 52,
   "metadata": {},
   "outputs": [
    {
     "name": "stdout",
     "output_type": "stream",
     "text": [
      "total vocab 6009\n",
      "\n",
      "[UNK]\n",
      "Converted 6007 words (2 misses)\n"
     ]
    }
   ],
   "source": [
    "embedding_name = \"word2vec\"\n",
    "text_length = 50 #pad/truncate text to this long, such that each text after token will be this long\n",
    "vector_size=100\n",
    "\n",
    "sentences = [sentence.split() for sentence in x_train]\n",
    "w_model = Word2Vec(sentences, vector_size=100, window=5, min_count=2, workers=4)\n",
    "w = w_model.wv\n",
    "w_vocab = w.index_to_key\n",
    "\n",
    "custom_encoder = keras.layers.TextVectorization(\n",
    "    standardize = None,\n",
    "    output_sequence_length=text_length, \n",
    "    vocabulary = w_vocab\n",
    ")\n",
    "\n",
    "vocab = custom_encoder.get_vocabulary()\n",
    "print(f\"total vocab {len(vocab)}\")\n",
    "vocab_dict = dict(zip(vocab, range(len(vocab))))\n",
    "\n",
    "vocab_length = len(vocab) + 1\n",
    "embedding_dim = vector_size\n",
    "\n",
    "hits = 0\n",
    "miss = 0\n",
    "\n",
    "embedding_matrix = np.zeros((vocab_length, embedding_dim))\n",
    "for word, index in vocab_dict.items():\n",
    "    if word in w.key_to_index:\n",
    "        embedding_vector = w[word]\n",
    "        if embedding_vector is not None:\n",
    "            embedding_matrix[index] = embedding_vector\n",
    "            hits += 1\n",
    "        else:\n",
    "            print(word)\n",
    "            miss +=1\n",
    "    else:\n",
    "        print(word)\n",
    "        miss +=1\n",
    "print(\"Converted %d words (%d misses)\" % (hits, miss))\n",
    "\n",
    "custom_embedding = Embedding(vocab_length, embedding_dim, \n",
    "               embeddings_initializer=keras.initializers.Constant(embedding_matrix), \n",
    "               trainable = False,\n",
    "               input_length=text_length,\n",
    "               mask_zero=True)"
   ]
  },
  {
   "attachments": {},
   "cell_type": "markdown",
   "metadata": {},
   "source": [
    "## Simple Neural network"
   ]
  },
  {
   "cell_type": "code",
   "execution_count": 270,
   "metadata": {},
   "outputs": [
    {
     "name": "stdout",
     "output_type": "stream",
     "text": [
      "Epoch 1/10\n",
      "197/197 [==============================] - 3s 10ms/step - loss: 0.6182 - accuracy: 0.6797 - precision: 0.6646 - recall: 0.4837 - val_loss: 0.5976 - val_accuracy: 0.6914 - val_precision: 0.6359 - val_recall: 0.6161\n",
      "Epoch 2/10\n",
      "197/197 [==============================] - 2s 8ms/step - loss: 0.5858 - accuracy: 0.6954 - precision: 0.6685 - recall: 0.5526 - val_loss: 0.5857 - val_accuracy: 0.6966 - val_precision: 0.6845 - val_recall: 0.5115\n",
      "Epoch 3/10\n",
      "197/197 [==============================] - 2s 8ms/step - loss: 0.5777 - accuracy: 0.6973 - precision: 0.6673 - recall: 0.5646 - val_loss: 0.5866 - val_accuracy: 0.7000 - val_precision: 0.6961 - val_recall: 0.5035\n",
      "Epoch 4/10\n",
      "197/197 [==============================] - 2s 8ms/step - loss: 0.5695 - accuracy: 0.7043 - precision: 0.6734 - recall: 0.5820 - val_loss: 0.5842 - val_accuracy: 0.6985 - val_precision: 0.7101 - val_recall: 0.4734\n",
      "Epoch 5/10\n",
      "197/197 [==============================] - 2s 8ms/step - loss: 0.5651 - accuracy: 0.7091 - precision: 0.6869 - recall: 0.5714 - val_loss: 0.5756 - val_accuracy: 0.7000 - val_precision: 0.6896 - val_recall: 0.5160\n",
      "Epoch 6/10\n",
      "197/197 [==============================] - 2s 8ms/step - loss: 0.5622 - accuracy: 0.7121 - precision: 0.6932 - recall: 0.5707 - val_loss: 0.5770 - val_accuracy: 0.6955 - val_precision: 0.6370 - val_recall: 0.6348\n",
      "Epoch 7/10\n",
      "197/197 [==============================] - 2s 8ms/step - loss: 0.5596 - accuracy: 0.7137 - precision: 0.6939 - recall: 0.5760 - val_loss: 0.5778 - val_accuracy: 0.6981 - val_precision: 0.6639 - val_recall: 0.5656\n",
      "Epoch 8/10\n",
      "197/197 [==============================] - 2s 8ms/step - loss: 0.5569 - accuracy: 0.7092 - precision: 0.6852 - recall: 0.5760 - val_loss: 0.5746 - val_accuracy: 0.7022 - val_precision: 0.6589 - val_recall: 0.5993\n",
      "Epoch 9/10\n",
      "197/197 [==============================] - 2s 8ms/step - loss: 0.5544 - accuracy: 0.7151 - precision: 0.6887 - recall: 0.5937 - val_loss: 0.5730 - val_accuracy: 0.7059 - val_precision: 0.6588 - val_recall: 0.6179\n",
      "Epoch 10/10\n",
      "197/197 [==============================] - 2s 8ms/step - loss: 0.5525 - accuracy: 0.7169 - precision: 0.6953 - recall: 0.5865 - val_loss: 0.5725 - val_accuracy: 0.6992 - val_precision: 0.6547 - val_recall: 0.5966\n"
     ]
    },
    {
     "name": "stderr",
     "output_type": "stream",
     "text": [
      "WARNING:absl:Found untraced functions such as _update_step_xla while saving (showing 1 of 1). These functions will not be directly callable after loading.\n"
     ]
    },
    {
     "name": "stdout",
     "output_type": "stream",
     "text": [
      "INFO:tensorflow:Assets written to: models/snn-fasttext\\assets\n"
     ]
    },
    {
     "name": "stderr",
     "output_type": "stream",
     "text": [
      "INFO:tensorflow:Assets written to: models/snn-fasttext\\assets\n"
     ]
    }
   ],
   "source": [
    "model = Sequential()\n",
    "model.add(custom_encoder)\n",
    "model.add(custom_embedding)\n",
    "model.add(Flatten())\n",
    "model.add(Dense(1, activation='sigmoid'))\n",
    "\n",
    "model.compile(optimizer='adam',\n",
    "              loss='binary_crossentropy',\n",
    "              metrics=METRICS)\n",
    "\n",
    "history = model.fit(x_train, y_train_binary, epochs=10,\n",
    "                    validation_data=(x_test,y_test_binary))\n",
    "\n",
    "model_name = \"snn-\"+embedding_name\n",
    "save_model_nn(model, model_name)"
   ]
  },
  {
   "attachments": {},
   "cell_type": "markdown",
   "metadata": {},
   "source": [
    "## CNN "
   ]
  },
  {
   "attachments": {},
   "cell_type": "markdown",
   "metadata": {},
   "source": [
    "- usually for 2d image recognition \n",
    "- use 1d cnn for text classification"
   ]
  },
  {
   "cell_type": "code",
   "execution_count": 364,
   "metadata": {},
   "outputs": [],
   "source": [
    "from keras.layers import Conv1D"
   ]
  },
  {
   "cell_type": "code",
   "execution_count": 53,
   "metadata": {},
   "outputs": [
    {
     "name": "stdout",
     "output_type": "stream",
     "text": [
      "Epoch 1/10\n",
      "197/197 [==============================] - 5s 19ms/step - loss: 0.6706 - accuracy: 0.6305 - precision: 0.5877 - recall: 0.4110 - val_loss: 0.6529 - val_accuracy: 0.6190 - val_precision: 0.5651 - val_recall: 0.3927\n",
      "Epoch 2/10\n",
      "197/197 [==============================] - 4s 18ms/step - loss: 0.6617 - accuracy: 0.6086 - precision: 0.5532 - recall: 0.3799 - val_loss: 0.6484 - val_accuracy: 0.6238 - val_precision: 0.5847 - val_recall: 0.3520\n",
      "Epoch 3/10\n",
      "197/197 [==============================] - 4s 19ms/step - loss: 0.6528 - accuracy: 0.6202 - precision: 0.5734 - recall: 0.3931 - val_loss: 0.6474 - val_accuracy: 0.6287 - val_precision: 0.5661 - val_recall: 0.4858\n",
      "Epoch 4/10\n",
      "197/197 [==============================] - 4s 18ms/step - loss: 0.6572 - accuracy: 0.6081 - precision: 0.5532 - recall: 0.3743 - val_loss: 0.6429 - val_accuracy: 0.6268 - val_precision: 0.5865 - val_recall: 0.3697\n",
      "Epoch 5/10\n",
      "197/197 [==============================] - 4s 18ms/step - loss: 0.6456 - accuracy: 0.6280 - precision: 0.5855 - recall: 0.4078 - val_loss: 0.6570 - val_accuracy: 0.6123 - val_precision: 0.5313 - val_recall: 0.6312\n",
      "Epoch 6/10\n",
      "197/197 [==============================] - 4s 18ms/step - loss: 0.6454 - accuracy: 0.6266 - precision: 0.5778 - recall: 0.4297 - val_loss: 0.6816 - val_accuracy: 0.5886 - val_precision: 0.6562 - val_recall: 0.0372\n",
      "Epoch 7/10\n",
      "197/197 [==============================] - 4s 18ms/step - loss: 0.6452 - accuracy: 0.6314 - precision: 0.5878 - recall: 0.4252 - val_loss: 0.6444 - val_accuracy: 0.6335 - val_precision: 0.5655 - val_recall: 0.5399\n",
      "Epoch 8/10\n",
      "197/197 [==============================] - 4s 18ms/step - loss: 0.6406 - accuracy: 0.6327 - precision: 0.5923 - recall: 0.4173 - val_loss: 0.6469 - val_accuracy: 0.6123 - val_precision: 0.6029 - val_recall: 0.2181\n",
      "Epoch 9/10\n",
      "197/197 [==============================] - 3s 18ms/step - loss: 0.6377 - accuracy: 0.6355 - precision: 0.5961 - recall: 0.4244 - val_loss: 0.6440 - val_accuracy: 0.6172 - val_precision: 0.5984 - val_recall: 0.2615\n",
      "Epoch 10/10\n",
      "197/197 [==============================] - 4s 18ms/step - loss: 0.6351 - accuracy: 0.6360 - precision: 0.5964 - recall: 0.4267 - val_loss: 0.6451 - val_accuracy: 0.6153 - val_precision: 0.5836 - val_recall: 0.2846\n"
     ]
    },
    {
     "name": "stderr",
     "output_type": "stream",
     "text": [
      "WARNING:absl:Found untraced functions such as _jit_compiled_convolution_op, _update_step_xla while saving (showing 2 of 2). These functions will not be directly callable after loading.\n"
     ]
    },
    {
     "name": "stdout",
     "output_type": "stream",
     "text": [
      "INFO:tensorflow:Assets written to: models/cnn-word2vec\\assets\n"
     ]
    },
    {
     "name": "stderr",
     "output_type": "stream",
     "text": [
      "INFO:tensorflow:Assets written to: models/cnn-word2vec\\assets\n"
     ]
    }
   ],
   "source": [
    "model = Sequential()\n",
    "model.add(custom_encoder)\n",
    "model.add(custom_embedding)\n",
    "model.add(Conv1D(128, 5, activation='relu'))\n",
    "model.add(GlobalMaxPooling1D())\n",
    "model.add(Dense(1, activation='sigmoid'))\n",
    "\n",
    "model.compile(optimizer='adam',\n",
    "              loss='binary_crossentropy',\n",
    "              metrics=METRICS)\n",
    "\n",
    "history = model.fit(x_train, y_train_binary, epochs=10,\n",
    "                    validation_data=(x_test,y_test_binary))\n",
    "\n",
    "model_name = \"cnn-\"+embedding_name\n",
    "save_model_nn(model, model_name)"
   ]
  },
  {
   "attachments": {},
   "cell_type": "markdown",
   "metadata": {},
   "source": [
    "## RNN - LSTM"
   ]
  },
  {
   "attachments": {},
   "cell_type": "markdown",
   "metadata": {},
   "source": [
    "- LSTM is a variant of RNN\n",
    "- input -> textvectorization (encoder/token) -> emedding -> nn layer\n",
    "- Now that all samples have a uniform length, the model must be informed that some part of the data is actually padding and should be ignored. That mechanism is masking.\n"
   ]
  },
  {
   "cell_type": "code",
   "execution_count": 11,
   "metadata": {},
   "outputs": [],
   "source": [
    "from keras.layers import LSTM, SpatialDropout1D"
   ]
  },
  {
   "attachments": {},
   "cell_type": "markdown",
   "metadata": {},
   "source": [
    "- sigmoid - 6s 32ms/step - loss: 0.1901 - accuracy: 0.9281 - precision: 0.9117 - recall: 0.9186 - val_loss: 0.7441 - val_accuracy: 0.7256 - val_precision: 0.6628 - val_recall: 0.7021\n",
    "- relu - 7s 34ms/step - loss: 0.5181 - accuracy: 0.7423 - precision: 0.7250 - recall: 0.6280 - val_loss: 0.5530 - val_accuracy: 0.7338 - val_precision: 0.7074 - val_recall: 0.6215\n",
    "- sigmoid is better for binary text classification\n",
    "\n",
    "- dropout - 19s 98ms/step - loss: 0.3879 - accuracy: 0.8246 - precision: 0.7934 - recall: 0.7904 - val_loss: 0.5436 - val_accuracy: 0.7323 - val_precision: 0.6497 - val_recall: 0.7828"
   ]
  },
  {
   "attachments": {},
   "cell_type": "markdown",
   "metadata": {},
   "source": [
    "- GOOD = https://medium.com/mlearning-ai/the-classification-of-text-messages-using-lstm-bi-lstm-and-gru-f79b207f90ad"
   ]
  },
  {
   "cell_type": "code",
   "execution_count": 54,
   "metadata": {},
   "outputs": [
    {
     "name": "stdout",
     "output_type": "stream",
     "text": [
      "Epoch 1/10\n",
      "197/197 [==============================] - 37s 160ms/step - loss: 0.6754 - accuracy: 0.5984 - precision: 0.5459 - recall: 0.2769 - val_loss: 0.6533 - val_accuracy: 0.6086 - val_precision: 0.5949 - val_recall: 0.2057\n",
      "Epoch 2/10\n",
      "197/197 [==============================] - 30s 151ms/step - loss: 0.6597 - accuracy: 0.6089 - precision: 0.5617 - recall: 0.3362 - val_loss: 0.6479 - val_accuracy: 0.6164 - val_precision: 0.5922 - val_recall: 0.2704\n",
      "Epoch 3/10\n",
      "197/197 [==============================] - 29s 148ms/step - loss: 0.6571 - accuracy: 0.6075 - precision: 0.5546 - recall: 0.3581 - val_loss: 0.6541 - val_accuracy: 0.6231 - val_precision: 0.5505 - val_recall: 0.5461\n",
      "Epoch 4/10\n",
      "197/197 [==============================] - 28s 144ms/step - loss: 0.6522 - accuracy: 0.6153 - precision: 0.5702 - recall: 0.3615 - val_loss: 0.6439 - val_accuracy: 0.6413 - val_precision: 0.5912 - val_recall: 0.4654\n",
      "Epoch 5/10\n",
      "197/197 [==============================] - 29s 148ms/step - loss: 0.6513 - accuracy: 0.6132 - precision: 0.5640 - recall: 0.3701 - val_loss: 0.6435 - val_accuracy: 0.6242 - val_precision: 0.5824 - val_recall: 0.3635\n",
      "Epoch 6/10\n",
      "197/197 [==============================] - 31s 156ms/step - loss: 0.6479 - accuracy: 0.6201 - precision: 0.5788 - recall: 0.3683 - val_loss: 0.6450 - val_accuracy: 0.6339 - val_precision: 0.5629 - val_recall: 0.5629\n",
      "Epoch 7/10\n",
      "197/197 [==============================] - 31s 156ms/step - loss: 0.6481 - accuracy: 0.6175 - precision: 0.5732 - recall: 0.3690 - val_loss: 0.6518 - val_accuracy: 0.6261 - val_precision: 0.5472 - val_recall: 0.6223\n",
      "Epoch 8/10\n",
      "197/197 [==============================] - 31s 157ms/step - loss: 0.6444 - accuracy: 0.6225 - precision: 0.5826 - recall: 0.3735 - val_loss: 0.6441 - val_accuracy: 0.6316 - val_precision: 0.5564 - val_recall: 0.5949\n",
      "Epoch 9/10\n",
      "197/197 [==============================] - 30s 154ms/step - loss: 0.6441 - accuracy: 0.6250 - precision: 0.5818 - recall: 0.3980 - val_loss: 0.6402 - val_accuracy: 0.6324 - val_precision: 0.5572 - val_recall: 0.5957\n",
      "Epoch 10/10\n",
      "197/197 [==============================] - 30s 153ms/step - loss: 0.6410 - accuracy: 0.6309 - precision: 0.5879 - recall: 0.4210 - val_loss: 0.6376 - val_accuracy: 0.6361 - val_precision: 0.5944 - val_recall: 0.4131\n"
     ]
    },
    {
     "name": "stderr",
     "output_type": "stream",
     "text": [
      "WARNING:absl:Found untraced functions such as _update_step_xla, lstm_cell_24_layer_call_fn, lstm_cell_24_layer_call_and_return_conditional_losses while saving (showing 3 of 3). These functions will not be directly callable after loading.\n"
     ]
    },
    {
     "name": "stdout",
     "output_type": "stream",
     "text": [
      "INFO:tensorflow:Assets written to: models/lstm-word2vec\\assets\n"
     ]
    },
    {
     "name": "stderr",
     "output_type": "stream",
     "text": [
      "INFO:tensorflow:Assets written to: models/lstm-word2vec\\assets\n"
     ]
    }
   ],
   "source": [
    "# this is better with the dropout\n",
    "model = Sequential()\n",
    "model.add(custom_encoder)\n",
    "model.add(custom_embedding)\n",
    "model.add(SpatialDropout1D(0.2))\n",
    "model.add(LSTM(128))\n",
    "model.add(Dropout(0.2))\n",
    "model.add(Dense(1, activation='sigmoid'))\n",
    "\n",
    "model.compile(optimizer='adam',\n",
    "              loss='binary_crossentropy',\n",
    "              metrics=METRICS)\n",
    "\n",
    "history = model.fit(x_train, y_train_binary, epochs=10,\n",
    "                    validation_data=(x_test,y_test_binary))\n",
    "\n",
    "model_name = \"lstm-\"+embedding_name\n",
    "save_model_nn(model, model_name)"
   ]
  },
  {
   "attachments": {},
   "cell_type": "markdown",
   "metadata": {},
   "source": [
    "## RNN - BILSTM"
   ]
  },
  {
   "cell_type": "code",
   "execution_count": 55,
   "metadata": {},
   "outputs": [
    {
     "name": "stdout",
     "output_type": "stream",
     "text": [
      "Epoch 1/10\n",
      "197/197 [==============================] - 67s 299ms/step - loss: 0.6717 - accuracy: 0.6094 - precision: 0.5590 - recall: 0.3446 - val_loss: 0.6572 - val_accuracy: 0.6042 - val_precision: 0.6281 - val_recall: 0.1348\n",
      "Epoch 2/10\n",
      "197/197 [==============================] - 56s 285ms/step - loss: 0.6562 - accuracy: 0.6091 - precision: 0.5570 - recall: 0.3630 - val_loss: 0.6515 - val_accuracy: 0.6179 - val_precision: 0.6102 - val_recall: 0.2429\n",
      "Epoch 3/10\n",
      "197/197 [==============================] - 52s 263ms/step - loss: 0.6513 - accuracy: 0.6156 - precision: 0.5678 - recall: 0.3758 - val_loss: 0.6576 - val_accuracy: 0.6056 - val_precision: 0.6086 - val_recall: 0.1640\n",
      "Epoch 4/10\n",
      "197/197 [==============================] - 52s 267ms/step - loss: 0.6516 - accuracy: 0.6169 - precision: 0.5665 - recall: 0.3950 - val_loss: 0.6478 - val_accuracy: 0.6108 - val_precision: 0.6130 - val_recall: 0.1924\n",
      "Epoch 5/10\n",
      "197/197 [==============================] - 57s 289ms/step - loss: 0.6477 - accuracy: 0.6261 - precision: 0.5839 - recall: 0.3988 - val_loss: 0.6423 - val_accuracy: 0.6316 - val_precision: 0.5736 - val_recall: 0.4699\n",
      "Epoch 6/10\n",
      "197/197 [==============================] - 57s 287ms/step - loss: 0.6463 - accuracy: 0.6199 - precision: 0.5717 - recall: 0.3984 - val_loss: 0.6410 - val_accuracy: 0.6335 - val_precision: 0.5770 - val_recall: 0.4681\n",
      "Epoch 7/10\n",
      "197/197 [==============================] - 55s 278ms/step - loss: 0.6431 - accuracy: 0.6253 - precision: 0.5803 - recall: 0.4071 - val_loss: 0.6447 - val_accuracy: 0.6238 - val_precision: 0.6292 - val_recall: 0.2482\n",
      "Epoch 8/10\n",
      "197/197 [==============================] - 52s 267ms/step - loss: 0.6432 - accuracy: 0.6218 - precision: 0.5699 - recall: 0.4256 - val_loss: 0.6402 - val_accuracy: 0.6238 - val_precision: 0.6075 - val_recall: 0.2881\n",
      "Epoch 9/10\n",
      "197/197 [==============================] - 54s 274ms/step - loss: 0.6392 - accuracy: 0.6350 - precision: 0.5943 - recall: 0.4274 - val_loss: 0.6412 - val_accuracy: 0.6231 - val_precision: 0.6106 - val_recall: 0.2766\n",
      "Epoch 10/10\n",
      "197/197 [==============================] - 55s 282ms/step - loss: 0.6363 - accuracy: 0.6323 - precision: 0.5894 - recall: 0.4263 - val_loss: 0.6327 - val_accuracy: 0.6309 - val_precision: 0.5920 - val_recall: 0.3821\n"
     ]
    },
    {
     "name": "stderr",
     "output_type": "stream",
     "text": [
      "WARNING:absl:Found untraced functions such as _update_step_xla, lstm_cell_26_layer_call_fn, lstm_cell_26_layer_call_and_return_conditional_losses, lstm_cell_27_layer_call_fn, lstm_cell_27_layer_call_and_return_conditional_losses while saving (showing 5 of 5). These functions will not be directly callable after loading.\n"
     ]
    },
    {
     "name": "stdout",
     "output_type": "stream",
     "text": [
      "INFO:tensorflow:Assets written to: models/bilstm-word2vec\\assets\n"
     ]
    },
    {
     "name": "stderr",
     "output_type": "stream",
     "text": [
      "INFO:tensorflow:Assets written to: models/bilstm-word2vec\\assets\n"
     ]
    }
   ],
   "source": [
    "model = Sequential()\n",
    "model.add(custom_encoder)\n",
    "model.add(custom_embedding)\n",
    "model.add(keras.layers.Bidirectional(LSTM(128)))\n",
    "model.add(Dropout(0.2))\n",
    "model.add(Dense(1, activation='sigmoid'))\n",
    "\n",
    "model.compile(optimizer='adam',\n",
    "              loss='binary_crossentropy',\n",
    "              metrics=METRICS)\n",
    "\n",
    "history = model.fit(x_train, y_train_binary, epochs=10,\n",
    "                    validation_data=(x_test,y_test_binary))\n",
    "\n",
    "model_name = \"bilstm-\"+embedding_name\n",
    "save_model_nn(model, model_name)"
   ]
  },
  {
   "attachments": {},
   "cell_type": "markdown",
   "metadata": {},
   "source": [
    "## RNN - GRU"
   ]
  },
  {
   "cell_type": "code",
   "execution_count": 21,
   "metadata": {},
   "outputs": [],
   "source": [
    "from keras.layers import GRU"
   ]
  },
  {
   "cell_type": "code",
   "execution_count": 56,
   "metadata": {},
   "outputs": [
    {
     "name": "stdout",
     "output_type": "stream",
     "text": [
      "Epoch 1/10\n",
      "197/197 [==============================] - 60s 282ms/step - loss: 0.6753 - accuracy: 0.6054 - precision: 0.5591 - recall: 0.2989 - val_loss: 0.6697 - val_accuracy: 0.5975 - val_precision: 0.5152 - val_recall: 0.6631\n",
      "Epoch 2/10\n",
      "197/197 [==============================] - 53s 268ms/step - loss: 0.6612 - accuracy: 0.6104 - precision: 0.5641 - recall: 0.3400 - val_loss: 0.6549 - val_accuracy: 0.5960 - val_precision: 0.6429 - val_recall: 0.0798\n",
      "Epoch 3/10\n",
      "197/197 [==============================] - 53s 271ms/step - loss: 0.6569 - accuracy: 0.6072 - precision: 0.5561 - recall: 0.3456 - val_loss: 0.6376 - val_accuracy: 0.6431 - val_precision: 0.6155 - val_recall: 0.3945\n",
      "Epoch 4/10\n",
      "197/197 [==============================] - 53s 268ms/step - loss: 0.6524 - accuracy: 0.6117 - precision: 0.5608 - recall: 0.3701 - val_loss: 0.6410 - val_accuracy: 0.6216 - val_precision: 0.6326 - val_recall: 0.2305\n",
      "Epoch 5/10\n",
      "197/197 [==============================] - 57s 290ms/step - loss: 0.6522 - accuracy: 0.6174 - precision: 0.5695 - recall: 0.3845 - val_loss: 0.6398 - val_accuracy: 0.6405 - val_precision: 0.5686 - val_recall: 0.5878\n",
      "Epoch 6/10\n",
      "197/197 [==============================] - 55s 278ms/step - loss: 0.6460 - accuracy: 0.6199 - precision: 0.5723 - recall: 0.3954 - val_loss: 0.6350 - val_accuracy: 0.6309 - val_precision: 0.6074 - val_recall: 0.3360\n",
      "Epoch 7/10\n",
      "197/197 [==============================] - 60s 306ms/step - loss: 0.6469 - accuracy: 0.6209 - precision: 0.5708 - recall: 0.4116 - val_loss: 0.6333 - val_accuracy: 0.6298 - val_precision: 0.6176 - val_recall: 0.3050\n",
      "Epoch 8/10\n",
      "197/197 [==============================] - 53s 269ms/step - loss: 0.6444 - accuracy: 0.6210 - precision: 0.5755 - recall: 0.3909 - val_loss: 0.6349 - val_accuracy: 0.6465 - val_precision: 0.5891 - val_recall: 0.5160\n",
      "Epoch 9/10\n",
      "197/197 [==============================] - 53s 269ms/step - loss: 0.6402 - accuracy: 0.6244 - precision: 0.5757 - recall: 0.4199 - val_loss: 0.6334 - val_accuracy: 0.6342 - val_precision: 0.6069 - val_recall: 0.3599\n",
      "Epoch 10/10\n",
      "197/197 [==============================] - 58s 293ms/step - loss: 0.6412 - accuracy: 0.6290 - precision: 0.5855 - recall: 0.4158 - val_loss: 0.6307 - val_accuracy: 0.6376 - val_precision: 0.6053 - val_recall: 0.3874\n"
     ]
    },
    {
     "name": "stderr",
     "output_type": "stream",
     "text": [
      "WARNING:absl:Found untraced functions such as _update_step_xla, gru_cell_6_layer_call_fn, gru_cell_6_layer_call_and_return_conditional_losses while saving (showing 3 of 3). These functions will not be directly callable after loading.\n"
     ]
    },
    {
     "name": "stdout",
     "output_type": "stream",
     "text": [
      "INFO:tensorflow:Assets written to: models/gru-word2vec\\assets\n"
     ]
    },
    {
     "name": "stderr",
     "output_type": "stream",
     "text": [
      "INFO:tensorflow:Assets written to: models/gru-word2vec\\assets\n"
     ]
    }
   ],
   "source": [
    "model = Sequential()\n",
    "model.add(custom_encoder)\n",
    "model.add(custom_embedding)\n",
    "model.add(SpatialDropout1D(0.2))\n",
    "model.add(GRU(128))\n",
    "model.add(Dropout(0.2))\n",
    "model.add(Dense(1, activation='sigmoid'))\n",
    "\n",
    "model.compile(optimizer='adam',\n",
    "              loss='binary_crossentropy',\n",
    "              metrics=METRICS)\n",
    "\n",
    "history = model.fit(x_train, y_train_binary, epochs=10,\n",
    "                    validation_data=(x_test,y_test_binary))\n",
    "\n",
    "model_name = \"gru-\"+embedding_name\n",
    "save_model_nn(model, model_name)"
   ]
  },
  {
   "attachments": {},
   "cell_type": "markdown",
   "metadata": {},
   "source": [
    "## RNN "
   ]
  },
  {
   "attachments": {},
   "cell_type": "markdown",
   "metadata": {},
   "source": [
    "- https://www.tensorflow.org/text/tutorials/text_classification_rnn\n",
    "- 'input_dim' = the vocab size that we will choose. In other words it is the number of unique words in the vocab.\n",
    "- 'output_dim' = the number of dimensions we wish to embed into. Each word will be represented by a vector of this much dimensions."
   ]
  },
  {
   "cell_type": "code",
   "execution_count": 35,
   "metadata": {},
   "outputs": [],
   "source": [
    "from keras.layers import SimpleRNN"
   ]
  },
  {
   "cell_type": "code",
   "execution_count": 57,
   "metadata": {},
   "outputs": [
    {
     "name": "stdout",
     "output_type": "stream",
     "text": [
      "Epoch 1/10\n",
      "197/197 [==============================] - 25s 121ms/step - loss: 0.6831 - accuracy: 0.5941 - precision: 0.5300 - recall: 0.3227 - val_loss: 0.6578 - val_accuracy: 0.6068 - val_precision: 0.5611 - val_recall: 0.2810\n",
      "Epoch 2/10\n",
      "197/197 [==============================] - 22s 114ms/step - loss: 0.6719 - accuracy: 0.5851 - precision: 0.5132 - recall: 0.3362 - val_loss: 0.6576 - val_accuracy: 0.5967 - val_precision: 0.5341 - val_recall: 0.2917\n",
      "Epoch 3/10\n",
      "197/197 [==============================] - 24s 120ms/step - loss: 0.6667 - accuracy: 0.5978 - precision: 0.5409 - recall: 0.3140 - val_loss: 0.6537 - val_accuracy: 0.6116 - val_precision: 0.5737 - val_recall: 0.2828\n",
      "Epoch 4/10\n",
      "197/197 [==============================] - 26s 130ms/step - loss: 0.6660 - accuracy: 0.5910 - precision: 0.5251 - recall: 0.3268 - val_loss: 0.6538 - val_accuracy: 0.6012 - val_precision: 0.5622 - val_recall: 0.2163\n",
      "Epoch 5/10\n",
      "197/197 [==============================] - 22s 114ms/step - loss: 0.6605 - accuracy: 0.5937 - precision: 0.5270 - recall: 0.3679 - val_loss: 0.6580 - val_accuracy: 0.5919 - val_precision: 0.5385 - val_recall: 0.1800\n",
      "Epoch 6/10\n",
      "197/197 [==============================] - 27s 135ms/step - loss: 0.6589 - accuracy: 0.6031 - precision: 0.5466 - recall: 0.3517 - val_loss: 0.6476 - val_accuracy: 0.6283 - val_precision: 0.5575 - val_recall: 0.5461\n",
      "Epoch 7/10\n",
      "197/197 [==============================] - 25s 130ms/step - loss: 0.6586 - accuracy: 0.6023 - precision: 0.5447 - recall: 0.3539 - val_loss: 0.6477 - val_accuracy: 0.6205 - val_precision: 0.5581 - val_recall: 0.4512\n",
      "Epoch 8/10\n",
      "197/197 [==============================] - 32s 162ms/step - loss: 0.6560 - accuracy: 0.6074 - precision: 0.5520 - recall: 0.3720 - val_loss: 0.6483 - val_accuracy: 0.6053 - val_precision: 0.5575 - val_recall: 0.2793\n",
      "Epoch 9/10\n",
      "197/197 [==============================] - 26s 133ms/step - loss: 0.6547 - accuracy: 0.6088 - precision: 0.5525 - recall: 0.3867 - val_loss: 0.6687 - val_accuracy: 0.5893 - val_precision: 0.6528 - val_recall: 0.0417\n",
      "Epoch 10/10\n",
      "197/197 [==============================] - 26s 132ms/step - loss: 0.6523 - accuracy: 0.6107 - precision: 0.5579 - recall: 0.3758 - val_loss: 0.6450 - val_accuracy: 0.6279 - val_precision: 0.5618 - val_recall: 0.5080\n"
     ]
    },
    {
     "name": "stderr",
     "output_type": "stream",
     "text": [
      "WARNING:absl:Found untraced functions such as _update_step_xla while saving (showing 1 of 1). These functions will not be directly callable after loading.\n"
     ]
    },
    {
     "name": "stdout",
     "output_type": "stream",
     "text": [
      "INFO:tensorflow:Assets written to: models/rnn-word2vec\\assets\n"
     ]
    },
    {
     "name": "stderr",
     "output_type": "stream",
     "text": [
      "INFO:tensorflow:Assets written to: models/rnn-word2vec\\assets\n"
     ]
    }
   ],
   "source": [
    "# model = keras.Sequential([\n",
    "#     custom_encoder,\n",
    "#     custom_embedding,\n",
    "#     keras.layers.Bidirectional(keras.layers.LSTM(64,  return_sequences=True)),\n",
    "#     keras.layers.Bidirectional(keras.layers.LSTM(32)),\n",
    "#     keras.layers.Dense(64, activation='relu'),\n",
    "#     keras.layers.Dropout(0.5), #helps prevent overfitting\n",
    "#     keras.layers.Dense(1)\n",
    "# ])\n",
    "# model.compile(optimizer='adam',\n",
    "#               loss='binary_crossentropy',\n",
    "#               metrics=METRICS)\n",
    "# history = model.fit(x_train, y_train_binary, epochs=10,\n",
    "#                     validation_data=(x_test,y_test_binary),)\n",
    "# save_model_nn(model, \"rnn-glove\")\n",
    "\n",
    "model = Sequential()\n",
    "model.add(custom_encoder)\n",
    "model.add(custom_embedding)\n",
    "model.add(SimpleRNN(128))\n",
    "model.add(Dense(1, activation='sigmoid'))\n",
    "\n",
    "model.compile(optimizer='adam',\n",
    "              loss='binary_crossentropy',\n",
    "              metrics=METRICS)\n",
    "\n",
    "history = model.fit(x_train, y_train_binary, epochs=10,\n",
    "                    validation_data=(x_test,y_test_binary))\n",
    "\n",
    "model_name = \"rnn-\"+embedding_name\n",
    "save_model_nn(model, model_name)"
   ]
  },
  {
   "attachments": {},
   "cell_type": "markdown",
   "metadata": {},
   "source": [
    "## Pre trained transformer\n",
    "- gpt word embedding and bert\n",
    "- based on transformer architecture\n",
    "- uses deep learning for word embedding \n",
    "- Yes, transformer-based word embeddings are a form of deep learning. The transformer model architecture, which is the foundation of transformer-based word embeddings, is a deep learning architecture widely used in natural language processing (NLP) tasks.\n",
    "- transformer-based word embeddings are a type of deep learning technique that utilizes the power of deep neural networks to learn contextually rich representations of words or tokens in natural language text."
   ]
  },
  {
   "attachments": {},
   "cell_type": "markdown",
   "metadata": {},
   "source": [
    "## GPT"
   ]
  },
  {
   "attachments": {},
   "cell_type": "markdown",
   "metadata": {},
   "source": [
    "- GPT-2 belongs to a family of deep learning models called “Transformers”. Transformers are the building block of the current state-of-the-art NLP architecture\n",
    "- A typical transformers design contains two parts, encoder and decoders, both working as vectorized representation of word relationships.\n",
    "- https://github.com/openai/openai-cookbook/blob/main/examples/Fine-tuned_classification.ipynb\n",
    "- can do through fine tunning or word embedding \n",
    "- "
   ]
  },
  {
   "cell_type": "code",
   "execution_count": 2,
   "metadata": {},
   "outputs": [],
   "source": [
    "import openai\n",
    "import os"
   ]
  },
  {
   "attachments": {},
   "cell_type": "markdown",
   "metadata": {},
   "source": [
    "### Fine tuining "
   ]
  },
  {
   "attachments": {},
   "cell_type": "markdown",
   "metadata": {},
   "source": [
    "- https://platform.openai.com/docs/api-reference/fine-tunes"
   ]
  },
  {
   "cell_type": "code",
   "execution_count": 112,
   "metadata": {},
   "outputs": [],
   "source": [
    "# dataset for gpt\n",
    "df_gpt = pd.DataFrame(zip(x_train,y_train_binary), columns = ['prompt', 'completion'])\n",
    "df_gpt.to_json(\"Dataset/SE2019/gpt_data_train.jsonl\", orient='records', lines=True)\n",
    "\n",
    "df_gpt = pd.DataFrame(zip(x_test,y_test_binary), columns = ['prompt', 'completion'])\n",
    "df_gpt.to_json(\"Dataset/SE2019/gpt_data_test.jsonl\", orient='records', lines=True)\n",
    "\n",
    "df_gpt[\"completion\"].value_counts()"
   ]
  },
  {
   "cell_type": "code",
   "execution_count": 118,
   "metadata": {},
   "outputs": [
    {
     "name": "stdout",
     "output_type": "stream",
     "text": [
      "^C\n"
     ]
    }
   ],
   "source": [
    "# prepare dataset for fine tune do in cmd\n",
    "# !openai tools fine_tunes.prepare_data -f Dataset/SE2019/gpt_data_test.jsonl "
   ]
  },
  {
   "cell_type": "code",
   "execution_count": 14,
   "metadata": {},
   "outputs": [
    {
     "data": {
      "text/plain": [
       "<File file id=file-XCtTOLLxI6jM59TlrDoT4LGL at 0x1d8e3f835f0> JSON: {\n",
       "  \"object\": \"file\",\n",
       "  \"id\": \"file-XCtTOLLxI6jM59TlrDoT4LGL\",\n",
       "  \"purpose\": \"fine-tune\",\n",
       "  \"filename\": \"file\",\n",
       "  \"bytes\": 656131,\n",
       "  \"created_at\": 1687786717,\n",
       "  \"status\": \"uploaded\",\n",
       "  \"status_details\": null\n",
       "}"
      ]
     },
     "execution_count": 14,
     "metadata": {},
     "output_type": "execute_result"
    }
   ],
   "source": [
    "# upload file to openai and create fine tune model\n",
    "# openai.File.create(\n",
    "#   file=open(\"Dataset/SE2019/gpt_data_train_prepared_train.jsonl\", \"rb\"),\n",
    "#   purpose='fine-tune'\n",
    "# )\n",
    "\n",
    "# openai.File.create(\n",
    "#   file=open(\"Dataset/SE2019/gpt_data_train_prepared_valid.jsonl\", \"rb\"),\n",
    "#   purpose='fine-tune'\n",
    "# )\n",
    "\n",
    "# openai.FineTune.create(training_file =\"file-XCtTOLLxI6jM59TlrDoT4LGL\",\n",
    "#                        validation_file=\"file-Do46v5kndAoPqdaR2ZVwbPT5\",\n",
    "#                        model = \"ada\",\n",
    "#                        compute_classification_metrics = True,\n",
    "#                        classification_positive_class = \" Hate\"\n",
    "#                        )"
   ]
  },
  {
   "cell_type": "code",
   "execution_count": 7,
   "metadata": {},
   "outputs": [
    {
     "data": {
      "text/plain": [
       "<OpenAIObject list at 0x27457b19310> JSON: {\n",
       "  \"object\": \"list\",\n",
       "  \"data\": [\n",
       "    {\n",
       "      \"object\": \"fine-tune\",\n",
       "      \"id\": \"ft-VwKO2vWcNtBJrPoZorUtFTVV\",\n",
       "      \"hyperparams\": {\n",
       "        \"n_epochs\": 4,\n",
       "        \"batch_size\": 8,\n",
       "        \"prompt_loss_weight\": 0.01,\n",
       "        \"learning_rate_multiplier\": 0.1,\n",
       "        \"classification_positive_class\": \" Hate\",\n",
       "        \"compute_classification_metrics\": true\n",
       "      },\n",
       "      \"organization_id\": \"org-57m2RCBaIU5pd9nsTDikjeLg\",\n",
       "      \"model\": \"ada\",\n",
       "      \"training_files\": [\n",
       "        {\n",
       "          \"object\": \"file\",\n",
       "          \"id\": \"file-XCtTOLLxI6jM59TlrDoT4LGL\",\n",
       "          \"purpose\": \"fine-tune\",\n",
       "          \"filename\": \"file\",\n",
       "          \"bytes\": 656131,\n",
       "          \"created_at\": 1687786717,\n",
       "          \"status\": \"processed\",\n",
       "          \"status_details\": null\n",
       "        }\n",
       "      ],\n",
       "      \"validation_files\": [\n",
       "        {\n",
       "          \"object\": \"file\",\n",
       "          \"id\": \"file-Do46v5kndAoPqdaR2ZVwbPT5\",\n",
       "          \"purpose\": \"fine-tune\",\n",
       "          \"filename\": \"file\",\n",
       "          \"bytes\": 122361,\n",
       "          \"created_at\": 1687786754,\n",
       "          \"status\": \"processed\",\n",
       "          \"status_details\": null\n",
       "        }\n",
       "      ],\n",
       "      \"result_files\": [\n",
       "        {\n",
       "          \"object\": \"file\",\n",
       "          \"id\": \"file-xfJGasLV4EMODTNBLNd6zxWU\",\n",
       "          \"purpose\": \"fine-tune-results\",\n",
       "          \"filename\": \"compiled_results.csv\",\n",
       "          \"bytes\": 174768,\n",
       "          \"created_at\": 1687790623,\n",
       "          \"status\": \"processed\",\n",
       "          \"status_details\": null\n",
       "        }\n",
       "      ],\n",
       "      \"created_at\": 1687786769,\n",
       "      \"updated_at\": 1687790623,\n",
       "      \"status\": \"succeeded\",\n",
       "      \"fine_tuned_model\": \"ada:ft-personal-2023-06-26-14-43-42\"\n",
       "    },\n",
       "    {\n",
       "      \"object\": \"fine-tune\",\n",
       "      \"id\": \"ft-LAcA6GtvgJ0lksqRT8jwtzSx\",\n",
       "      \"hyperparams\": {\n",
       "        \"n_epochs\": 4,\n",
       "        \"batch_size\": 8,\n",
       "        \"prompt_loss_weight\": 0.01,\n",
       "        \"learning_rate_multiplier\": 0.1,\n",
       "        \"classification_positive_class\": \" 0\",\n",
       "        \"compute_classification_metrics\": true\n",
       "      },\n",
       "      \"organization_id\": \"org-57m2RCBaIU5pd9nsTDikjeLg\",\n",
       "      \"model\": \"ada\",\n",
       "      \"training_files\": [\n",
       "        {\n",
       "          \"object\": \"file\",\n",
       "          \"id\": \"file-m1vI4bNTIIUnUZJwUM4eo2S3\",\n",
       "          \"purpose\": \"fine-tune\",\n",
       "          \"filename\": \"Dataset/SE2019/gpt_data_train_prepared.jsonl\",\n",
       "          \"bytes\": 745178,\n",
       "          \"created_at\": 1687797102,\n",
       "          \"status\": \"processed\",\n",
       "          \"status_details\": null\n",
       "        }\n",
       "      ],\n",
       "      \"validation_files\": [\n",
       "        {\n",
       "          \"object\": \"file\",\n",
       "          \"id\": \"file-GR7BA1XaebEeGZxz9QLB5sg8\",\n",
       "          \"purpose\": \"fine-tune\",\n",
       "          \"filename\": \"Dataset/SE2019/gpt_data_test_prepared.jsonl\",\n",
       "          \"bytes\": 321131,\n",
       "          \"created_at\": 1687797106,\n",
       "          \"status\": \"processed\",\n",
       "          \"status_details\": null\n",
       "        }\n",
       "      ],\n",
       "      \"result_files\": [\n",
       "        {\n",
       "          \"object\": \"file\",\n",
       "          \"id\": \"file-jLyo55YpRZ6D0diBaQedaJ81\",\n",
       "          \"purpose\": \"fine-tune-results\",\n",
       "          \"filename\": \"compiled_results.csv\",\n",
       "          \"bytes\": 188239,\n",
       "          \"created_at\": 1687800449,\n",
       "          \"status\": \"processed\",\n",
       "          \"status_details\": null\n",
       "        }\n",
       "      ],\n",
       "      \"created_at\": 1687797106,\n",
       "      \"updated_at\": 1687800449,\n",
       "      \"status\": \"succeeded\",\n",
       "      \"fine_tuned_model\": \"ada:ft-personal-2023-06-26-17-27-28\"\n",
       "    },\n",
       "    {\n",
       "      \"object\": \"fine-tune\",\n",
       "      \"id\": \"ft-XGDLqYtbnvM9gy4Mrm8AWGay\",\n",
       "      \"hyperparams\": {\n",
       "        \"n_epochs\": 4,\n",
       "        \"batch_size\": null,\n",
       "        \"prompt_loss_weight\": 0.01,\n",
       "        \"learning_rate_multiplier\": null,\n",
       "        \"classification_positive_class\": \" Hate\",\n",
       "        \"compute_classification_metrics\": true\n",
       "      },\n",
       "      \"organization_id\": \"org-57m2RCBaIU5pd9nsTDikjeLg\",\n",
       "      \"model\": \"ada\",\n",
       "      \"training_files\": [\n",
       "        {\n",
       "          \"object\": \"file\",\n",
       "          \"id\": \"file-XCtTOLLxI6jM59TlrDoT4LGL\",\n",
       "          \"purpose\": \"fine-tune\",\n",
       "          \"filename\": \"file\",\n",
       "          \"bytes\": 656131,\n",
       "          \"created_at\": 1687786717,\n",
       "          \"status\": \"processed\",\n",
       "          \"status_details\": null\n",
       "        }\n",
       "      ],\n",
       "      \"validation_files\": [\n",
       "        {\n",
       "          \"object\": \"file\",\n",
       "          \"id\": \"file-Do46v5kndAoPqdaR2ZVwbPT5\",\n",
       "          \"purpose\": \"fine-tune\",\n",
       "          \"filename\": \"file\",\n",
       "          \"bytes\": 122361,\n",
       "          \"created_at\": 1687786754,\n",
       "          \"status\": \"processed\",\n",
       "          \"status_details\": null\n",
       "        }\n",
       "      ],\n",
       "      \"result_files\": [],\n",
       "      \"created_at\": 1687844635,\n",
       "      \"updated_at\": 1687844807,\n",
       "      \"status\": \"cancelled\",\n",
       "      \"fine_tuned_model\": null\n",
       "    }\n",
       "  ]\n",
       "}"
      ]
     },
     "execution_count": 7,
     "metadata": {},
     "output_type": "execute_result"
    }
   ],
   "source": [
    "openai.FineTune.list()"
   ]
  },
  {
   "cell_type": "code",
   "execution_count": 6,
   "metadata": {},
   "outputs": [
    {
     "data": {
      "text/plain": [
       "<FineTune fine-tune id=ft-XGDLqYtbnvM9gy4Mrm8AWGay at 0x27457b18a10> JSON: {\n",
       "  \"object\": \"fine-tune\",\n",
       "  \"id\": \"ft-XGDLqYtbnvM9gy4Mrm8AWGay\",\n",
       "  \"hyperparams\": {\n",
       "    \"n_epochs\": 4,\n",
       "    \"batch_size\": null,\n",
       "    \"prompt_loss_weight\": 0.01,\n",
       "    \"learning_rate_multiplier\": null,\n",
       "    \"classification_positive_class\": \" Hate\",\n",
       "    \"compute_classification_metrics\": true\n",
       "  },\n",
       "  \"organization_id\": \"org-57m2RCBaIU5pd9nsTDikjeLg\",\n",
       "  \"model\": \"ada\",\n",
       "  \"training_files\": [\n",
       "    {\n",
       "      \"object\": \"file\",\n",
       "      \"id\": \"file-XCtTOLLxI6jM59TlrDoT4LGL\",\n",
       "      \"purpose\": \"fine-tune\",\n",
       "      \"filename\": \"file\",\n",
       "      \"bytes\": 656131,\n",
       "      \"created_at\": 1687786717,\n",
       "      \"status\": \"processed\",\n",
       "      \"status_details\": null\n",
       "    }\n",
       "  ],\n",
       "  \"validation_files\": [\n",
       "    {\n",
       "      \"object\": \"file\",\n",
       "      \"id\": \"file-Do46v5kndAoPqdaR2ZVwbPT5\",\n",
       "      \"purpose\": \"fine-tune\",\n",
       "      \"filename\": \"file\",\n",
       "      \"bytes\": 122361,\n",
       "      \"created_at\": 1687786754,\n",
       "      \"status\": \"processed\",\n",
       "      \"status_details\": null\n",
       "    }\n",
       "  ],\n",
       "  \"result_files\": [],\n",
       "  \"created_at\": 1687844635,\n",
       "  \"updated_at\": 1687844807,\n",
       "  \"status\": \"cancelled\",\n",
       "  \"fine_tuned_model\": null,\n",
       "  \"events\": [\n",
       "    {\n",
       "      \"object\": \"fine-tune-event\",\n",
       "      \"level\": \"info\",\n",
       "      \"message\": \"Created fine-tune: ft-XGDLqYtbnvM9gy4Mrm8AWGay\",\n",
       "      \"created_at\": 1687844635\n",
       "    },\n",
       "    {\n",
       "      \"object\": \"fine-tune-event\",\n",
       "      \"level\": \"info\",\n",
       "      \"message\": \"Fine-tune cancelled\",\n",
       "      \"created_at\": 1687844807\n",
       "    }\n",
       "  ]\n",
       "}"
      ]
     },
     "execution_count": 6,
     "metadata": {},
     "output_type": "execute_result"
    }
   ],
   "source": [
    "openai.FineTune.cancel(id=\"ft-XGDLqYtbnvM9gy4Mrm8AWGay\")"
   ]
  },
  {
   "cell_type": "code",
   "execution_count": 119,
   "metadata": {},
   "outputs": [
    {
     "name": "stdout",
     "output_type": "stream",
     "text": [
      "^C\n"
     ]
    }
   ],
   "source": [
    "# create fine tune model\n",
    "# !openai api fine_tunes.create -m ada -t \"Dataset/SE2019/gpt_data_train_prepared.jsonl\" -v \"Dataset/SE2019/gpt_data_test_prepared.jsonl\" --compute_classification_metrics --classification_positive_class \" 0\""
   ]
  },
  {
   "cell_type": "code",
   "execution_count": 9,
   "metadata": {},
   "outputs": [
    {
     "data": {
      "text/plain": [
       "<FineTune fine-tune id=ft-XGDLqYtbnvM9gy4Mrm8AWGay at 0x27457b18ef0> JSON: {\n",
       "  \"object\": \"fine-tune\",\n",
       "  \"id\": \"ft-XGDLqYtbnvM9gy4Mrm8AWGay\",\n",
       "  \"hyperparams\": {\n",
       "    \"n_epochs\": 4,\n",
       "    \"batch_size\": null,\n",
       "    \"prompt_loss_weight\": 0.01,\n",
       "    \"learning_rate_multiplier\": null,\n",
       "    \"classification_positive_class\": \" Hate\",\n",
       "    \"compute_classification_metrics\": true\n",
       "  },\n",
       "  \"organization_id\": \"org-57m2RCBaIU5pd9nsTDikjeLg\",\n",
       "  \"model\": \"ada\",\n",
       "  \"training_files\": [\n",
       "    {\n",
       "      \"object\": \"file\",\n",
       "      \"id\": \"file-XCtTOLLxI6jM59TlrDoT4LGL\",\n",
       "      \"purpose\": \"fine-tune\",\n",
       "      \"filename\": \"file\",\n",
       "      \"bytes\": 656131,\n",
       "      \"created_at\": 1687786717,\n",
       "      \"status\": \"processed\",\n",
       "      \"status_details\": null\n",
       "    }\n",
       "  ],\n",
       "  \"validation_files\": [\n",
       "    {\n",
       "      \"object\": \"file\",\n",
       "      \"id\": \"file-Do46v5kndAoPqdaR2ZVwbPT5\",\n",
       "      \"purpose\": \"fine-tune\",\n",
       "      \"filename\": \"file\",\n",
       "      \"bytes\": 122361,\n",
       "      \"created_at\": 1687786754,\n",
       "      \"status\": \"processed\",\n",
       "      \"status_details\": null\n",
       "    }\n",
       "  ],\n",
       "  \"result_files\": [],\n",
       "  \"created_at\": 1687844635,\n",
       "  \"updated_at\": 1687844807,\n",
       "  \"status\": \"cancelled\",\n",
       "  \"fine_tuned_model\": null,\n",
       "  \"events\": [\n",
       "    {\n",
       "      \"object\": \"fine-tune-event\",\n",
       "      \"level\": \"info\",\n",
       "      \"message\": \"Created fine-tune: ft-XGDLqYtbnvM9gy4Mrm8AWGay\",\n",
       "      \"created_at\": 1687844635\n",
       "    },\n",
       "    {\n",
       "      \"object\": \"fine-tune-event\",\n",
       "      \"level\": \"info\",\n",
       "      \"message\": \"Fine-tune cancelled\",\n",
       "      \"created_at\": 1687844807\n",
       "    }\n",
       "  ]\n",
       "}"
      ]
     },
     "execution_count": 9,
     "metadata": {},
     "output_type": "execute_result"
    }
   ],
   "source": [
    "openai.FineTune.retrieve(id=\"ft-XGDLqYtbnvM9gy4Mrm8AWGay\")"
   ]
  },
  {
   "cell_type": "code",
   "execution_count": 189,
   "metadata": {},
   "outputs": [
    {
     "data": {
      "text/html": [
       "<div>\n",
       "<style scoped>\n",
       "    .dataframe tbody tr th:only-of-type {\n",
       "        vertical-align: middle;\n",
       "    }\n",
       "\n",
       "    .dataframe tbody tr th {\n",
       "        vertical-align: top;\n",
       "    }\n",
       "\n",
       "    .dataframe thead th {\n",
       "        text-align: right;\n",
       "    }\n",
       "</style>\n",
       "<table border=\"1\" class=\"dataframe\">\n",
       "  <thead>\n",
       "    <tr style=\"text-align: right;\">\n",
       "      <th></th>\n",
       "      <th>step</th>\n",
       "      <th>elapsed_tokens</th>\n",
       "      <th>elapsed_examples</th>\n",
       "      <th>training_loss</th>\n",
       "      <th>training_sequence_accuracy</th>\n",
       "      <th>training_token_accuracy</th>\n",
       "      <th>validation_loss</th>\n",
       "      <th>validation_sequence_accuracy</th>\n",
       "      <th>validation_token_accuracy</th>\n",
       "      <th>classification/accuracy</th>\n",
       "      <th>classification/precision</th>\n",
       "      <th>classification/recall</th>\n",
       "      <th>classification/auroc</th>\n",
       "      <th>classification/auprc</th>\n",
       "      <th>classification/f1.0</th>\n",
       "    </tr>\n",
       "  </thead>\n",
       "  <tbody>\n",
       "    <tr>\n",
       "      <th>3137</th>\n",
       "      <td>3138</td>\n",
       "      <td>1017808</td>\n",
       "      <td>25104</td>\n",
       "      <td>0.030316</td>\n",
       "      <td>1.0</td>\n",
       "      <td>1.0</td>\n",
       "      <td>NaN</td>\n",
       "      <td>NaN</td>\n",
       "      <td>NaN</td>\n",
       "      <td>0.814333</td>\n",
       "      <td>0.837239</td>\n",
       "      <td>0.844728</td>\n",
       "      <td>0.890362</td>\n",
       "      <td>0.914601</td>\n",
       "      <td>0.840967</td>\n",
       "    </tr>\n",
       "  </tbody>\n",
       "</table>\n",
       "</div>"
      ],
      "text/plain": [
       "      step  elapsed_tokens  elapsed_examples  training_loss   \n",
       "3137  3138         1017808             25104       0.030316  \\\n",
       "\n",
       "      training_sequence_accuracy  training_token_accuracy  validation_loss   \n",
       "3137                         1.0                      1.0              NaN  \\\n",
       "\n",
       "      validation_sequence_accuracy  validation_token_accuracy   \n",
       "3137                           NaN                        NaN  \\\n",
       "\n",
       "      classification/accuracy  classification/precision   \n",
       "3137                 0.814333                  0.837239  \\\n",
       "\n",
       "      classification/recall  classification/auroc  classification/auprc   \n",
       "3137               0.844728              0.890362              0.914601  \\\n",
       "\n",
       "      classification/f1.0  \n",
       "3137             0.840967  "
      ]
     },
     "execution_count": 189,
     "metadata": {},
     "output_type": "execute_result"
    }
   ],
   "source": [
    "# get result of model\n",
    "#!openai api fine_tunes.results -i ft-LAcA6GtvgJ0lksqRT8jwtzSx > result.csv\n",
    "\n",
    "results = pd.read_csv('result.csv')\n",
    "results[results['classification/accuracy'].notnull()].tail(1)"
   ]
  },
  {
   "attachments": {},
   "cell_type": "markdown",
   "metadata": {},
   "source": [
    "#### Predict"
   ]
  },
  {
   "cell_type": "code",
   "execution_count": 127,
   "metadata": {},
   "outputs": [],
   "source": [
    "def gpt_complete_create(prompt_text):\n",
    "    model_id = \"ada:ft-personal-2023-06-26-17-27-28\" \n",
    "    result_gpt = openai.Completion.create(model=model_id, prompt=prompt_text, max_tokens=1, temperature=0)\n",
    "    return result_gpt"
   ]
  },
  {
   "cell_type": "code",
   "execution_count": 27,
   "metadata": {},
   "outputs": [
    {
     "data": {
      "text/html": [
       "<div>\n",
       "<style scoped>\n",
       "    .dataframe tbody tr th:only-of-type {\n",
       "        vertical-align: middle;\n",
       "    }\n",
       "\n",
       "    .dataframe tbody tr th {\n",
       "        vertical-align: top;\n",
       "    }\n",
       "\n",
       "    .dataframe thead th {\n",
       "        text-align: right;\n",
       "    }\n",
       "</style>\n",
       "<table border=\"1\" class=\"dataframe\">\n",
       "  <thead>\n",
       "    <tr style=\"text-align: right;\">\n",
       "      <th></th>\n",
       "      <th>prompt</th>\n",
       "      <th>completion</th>\n",
       "    </tr>\n",
       "  </thead>\n",
       "  <tbody>\n",
       "    <tr>\n",
       "      <th>0</th>\n",
       "      <td>hey people already long islandanother chopped...</td>\n",
       "      <td>1</td>\n",
       "    </tr>\n",
       "    <tr>\n",
       "      <th>1</th>\n",
       "      <td>mandy manning one world reliefs friends partne...</td>\n",
       "      <td>0</td>\n",
       "    </tr>\n",
       "    <tr>\n",
       "      <th>2</th>\n",
       "      <td>tell us u rape people pussy  -&gt;</td>\n",
       "      <td>0</td>\n",
       "    </tr>\n",
       "    <tr>\n",
       "      <th>3</th>\n",
       "      <td>three streets berlin shut fighting migrants tu...</td>\n",
       "      <td>1</td>\n",
       "    </tr>\n",
       "    <tr>\n",
       "      <th>4</th>\n",
       "      <td>maybe visits school lebron built build one imm...</td>\n",
       "      <td>0</td>\n",
       "    </tr>\n",
       "  </tbody>\n",
       "</table>\n",
       "</div>"
      ],
      "text/plain": [
       "                                              prompt  completion\n",
       "0   hey people already long islandanother chopped...           1\n",
       "1  mandy manning one world reliefs friends partne...           0\n",
       "2                    tell us u rape people pussy  ->           0\n",
       "3  three streets berlin shut fighting migrants tu...           1\n",
       "4  maybe visits school lebron built build one imm...           0"
      ]
     },
     "execution_count": 27,
     "metadata": {},
     "output_type": "execute_result"
    }
   ],
   "source": [
    "filepath = \"Dataset/SE2019/gpt_data_test_prepared.jsonl\"\n",
    "df_gpt = pd.read_json(filepath, lines= True)\n",
    "df_gpt['predicted'] = -1\n",
    "df_gpt.head()"
   ]
  },
  {
   "cell_type": "code",
   "execution_count": 144,
   "metadata": {},
   "outputs": [],
   "source": [
    "def gpt_predict(start = 0, step = 10):\n",
    "    max_s = len(df_gpt)\n",
    "    prompts_tosend = []\n",
    "    for i in range(start, start+step):\n",
    "        if i == max_s: break\n",
    "        p = df_gpt.loc[i]['prompt']\n",
    "        prompts_tosend.append(p)\n",
    "        #print(p)\n",
    "    \n",
    "    predict_result = gpt_complete_create(prompts_tosend)\n",
    "    choices_gpt = predict_result.to_dict()['choices']\n",
    "\n",
    "    for i in range(len(choices_gpt)):\n",
    "        j = choices_gpt[i].to_dict()\n",
    "        #print(f'receiving index: {j[\"index\"]} output: {j[\"text\"]}')\n",
    "        df_gpt.loc[start+j[\"index\"], 'predicted'] = int(j['text'])\n",
    "\n",
    "    print(f\"next start {start+len(prompts_tosend)}\")\n",
    "\n",
    "    # for i in range(start, start+step):\n",
    "    #     r = df_gpt.loc[i]\n",
    "    #     print(r['prompt'], \"\\n\", r['completion'], r['predicted'])\n",
    "\n",
    "    return prompts_tosend, predict_result\n"
   ]
  },
  {
   "cell_type": "code",
   "execution_count": 142,
   "metadata": {},
   "outputs": [
    {
     "data": {
      "text/plain": [
       "2693"
      ]
     },
     "execution_count": 142,
     "metadata": {},
     "output_type": "execute_result"
    }
   ],
   "source": [
    "len(df_gpt)"
   ]
  },
  {
   "cell_type": "code",
   "execution_count": 145,
   "metadata": {},
   "outputs": [
    {
     "name": "stdout",
     "output_type": "stream",
     "text": [
      "next start 2060\n",
      "next start 2110\n",
      "next start 2160\n",
      "next start 2210\n",
      "next start 2260\n",
      "next start 2310\n",
      "next start 2360\n",
      "next start 2410\n",
      "next start 2460\n",
      "next start 2510\n",
      "next start 2560\n",
      "next start 2610\n",
      "next start 2660\n",
      "next start 2693\n"
     ]
    }
   ],
   "source": [
    "def loop_gpt(start, end, step):\n",
    "    for i in range(start, end, step):\n",
    "        bb, cc = gpt_predict(i, step)\n",
    "loop_gpt(0, len(df_gpt), 50)"
   ]
  },
  {
   "cell_type": "code",
   "execution_count": 147,
   "metadata": {},
   "outputs": [
    {
     "data": {
      "text/html": [
       "<div>\n",
       "<style scoped>\n",
       "    .dataframe tbody tr th:only-of-type {\n",
       "        vertical-align: middle;\n",
       "    }\n",
       "\n",
       "    .dataframe tbody tr th {\n",
       "        vertical-align: top;\n",
       "    }\n",
       "\n",
       "    .dataframe thead th {\n",
       "        text-align: right;\n",
       "    }\n",
       "</style>\n",
       "<table border=\"1\" class=\"dataframe\">\n",
       "  <thead>\n",
       "    <tr style=\"text-align: right;\">\n",
       "      <th></th>\n",
       "      <th>prompt</th>\n",
       "      <th>completion</th>\n",
       "      <th>predicted</th>\n",
       "    </tr>\n",
       "  </thead>\n",
       "  <tbody>\n",
       "  </tbody>\n",
       "</table>\n",
       "</div>"
      ],
      "text/plain": [
       "Empty DataFrame\n",
       "Columns: [prompt, completion, predicted]\n",
       "Index: []"
      ]
     },
     "execution_count": 147,
     "metadata": {},
     "output_type": "execute_result"
    }
   ],
   "source": [
    "df_gpt.loc[df_gpt['predicted'] == -1]"
   ]
  },
  {
   "cell_type": "code",
   "execution_count": 152,
   "metadata": {},
   "outputs": [],
   "source": [
    "y_test = df_gpt['completion'].to_numpy()\n",
    "y_test_pred = df_gpt['predicted'].to_numpy()\n",
    "\n",
    "y_test = np.where(y_test == 1, \"Hate\", \"Non-Hate\") \n",
    "y_test_pred = np.where(y_test_pred == 1, \"Hate\", \"Non-Hate\") "
   ]
  },
  {
   "cell_type": "code",
   "execution_count": 157,
   "metadata": {},
   "outputs": [],
   "source": [
    "df_gpt.to_csv(\"Dataset/SE2019/gpt_data_test_result\", index=False)"
   ]
  },
  {
   "cell_type": "code",
   "execution_count": 158,
   "metadata": {},
   "outputs": [
    {
     "name": "stdout",
     "output_type": "stream",
     "text": [
      "              precision    recall  f1-score   support\n",
      "\n",
      "        Hate       0.78      0.78      0.78      1128\n",
      "    Non-Hate       0.84      0.84      0.84      1565\n",
      "\n",
      "    accuracy                           0.81      2693\n",
      "   macro avg       0.81      0.81      0.81      2693\n",
      "weighted avg       0.81      0.81      0.81      2693\n",
      "\n"
     ]
    }
   ],
   "source": [
    "print(classification_report(y_test, y_test_pred, labels=[\"Hate\",\"Non-Hate\"]))"
   ]
  },
  {
   "attachments": {},
   "cell_type": "markdown",
   "metadata": {},
   "source": [
    "## BERT"
   ]
  },
  {
   "attachments": {},
   "cell_type": "markdown",
   "metadata": {},
   "source": [
    "- https://towardsdatascience.com/bert-explained-state-of-the-art-language-model-for-nlp-f8b21a9b6270\n",
    "- https://www.youtube.com/watch?v=hOCDJyZ6quA\n",
    "- tensorflow hub bert https://tfhub.dev/tensorflow/bert_en_uncased_L-12_H-768_A-12/4\n",
    "- bert will convert sentence into embeding vector which will feed to neural network for training \n",
    "- consist of preprocess and embeding \n",
    "- (4)BERT-RNN: The corresponding representational word vectors were trained by BERT model for the input text, which were then classified by RNN neural network. (5)word2vec-RNN: This model is a traditional text classification model. 4.3.\n",
    "- BERT is a neural-network-based technique for language processing pre-training\n",
    "- it is not a classification algorithm \n",
    "- BERT generates <b>contextual embeddings</b>, the input to the model is a sentence rather than a single word.\n",
    "- BERT learns contextualized word representations, often referred to as contextual word embeddings or contextualized embeddings. Unlike traditional word embeddings, which assign a fixed vector representation to each word, BERT's word representations are sensitive to the context in which the word appears."
   ]
  },
  {
   "attachments": {},
   "cell_type": "markdown",
   "metadata": {},
   "source": [
    "## Summary"
   ]
  },
  {
   "cell_type": "code",
   "execution_count": 183,
   "metadata": {},
   "outputs": [
    {
     "name": "stdout",
     "output_type": "stream",
     "text": [
      "Model: \"sequential_10\"\n",
      "_________________________________________________________________\n",
      " Layer (type)                Output Shape              Param #   \n",
      "=================================================================\n",
      " text_vectorization_2 (TextV  (None, 50)               0         \n",
      " ectorization)                                                   \n",
      "                                                                 \n",
      " embedding_7 (Embedding)     (None, 50, 100)           1464500   \n",
      "                                                                 \n",
      " lstm_6 (LSTM)               (None, 128)               117248    \n",
      "                                                                 \n",
      " dense_14 (Dense)            (None, 1)                 129       \n",
      "                                                                 \n",
      "=================================================================\n",
      "Total params: 1,581,877\n",
      "Trainable params: 117,377\n",
      "Non-trainable params: 1,464,500\n",
      "_________________________________________________________________\n",
      "None\n"
     ]
    }
   ],
   "source": [
    "print(model.summary())"
   ]
  },
  {
   "attachments": {},
   "cell_type": "markdown",
   "metadata": {},
   "source": [
    "## Predict"
   ]
  },
  {
   "cell_type": "code",
   "execution_count": 203,
   "metadata": {},
   "outputs": [
    {
     "name": "stdout",
     "output_type": "stream",
     "text": [
      "Score:  0.5149937272071838\n",
      "Accuracy:  0.7560341358184814\n"
     ]
    }
   ],
   "source": [
    "score = model.evaluate(x_test, y_test_binary, verbose=0)\n",
    "print(\"Score: \", score[0])\n",
    "print(\"Accuracy: \", score[1])"
   ]
  },
  {
   "cell_type": "code",
   "execution_count": 204,
   "metadata": {},
   "outputs": [],
   "source": [
    "y_test_pred_percent = model.predict(x_test, verbose=0)\n",
    "y_test_pred = np.where(y_test_pred_percent > 0.5, \"Hate\", \"Non-Hate\") \n",
    "y_test_pred = y_test_pred.flatten()"
   ]
  },
  {
   "cell_type": "code",
   "execution_count": 205,
   "metadata": {},
   "outputs": [
    {
     "data": {
      "text/plain": [
       "array([[0.94477934],\n",
       "       [0.00477994],\n",
       "       [0.4942627 ],\n",
       "       ...,\n",
       "       [0.53127515],\n",
       "       [0.82544625],\n",
       "       [0.4426138 ]], dtype=float32)"
      ]
     },
     "execution_count": 205,
     "metadata": {},
     "output_type": "execute_result"
    }
   ],
   "source": [
    "y_test_pred_percent"
   ]
  },
  {
   "attachments": {},
   "cell_type": "markdown",
   "metadata": {},
   "source": [
    "## Visualise"
   ]
  },
  {
   "cell_type": "code",
   "execution_count": 185,
   "metadata": {},
   "outputs": [
    {
     "data": {
      "text/plain": [
       "(0.0, 0.7799569457769394)"
      ]
     },
     "execution_count": 185,
     "metadata": {},
     "output_type": "execute_result"
    },
    {
     "data": {
      "image/png": "[encoded data removed]",
      "text/plain": [
       "<Figure size 1600x800 with 2 Axes>"
      ]
     },
     "metadata": {},
     "output_type": "display_data"
    }
   ],
   "source": [
    "model_history = history\n",
    "# Model performance charts\n",
    "plt.figure(figsize=(16, 8))\n",
    "plt.subplot(1, 2, 1)\n",
    "\n",
    "plt.plot(model_history.history['accuracy'])\n",
    "plt.plot(model_history.history['val_accuracy'])\n",
    "\n",
    "plt.title('model accuracy')\n",
    "plt.ylabel('accuracy')\n",
    "plt.xlabel('epoch')\n",
    "plt.legend(['train', 'test'], loc='upper left')\n",
    "plt.ylim(None, 1)\n",
    "plt.subplot(1, 2, 2)\n",
    "\n",
    "plt.plot(model_history.history['loss'])\n",
    "plt.plot(model_history.history['val_loss'])\n",
    "\n",
    "plt.title('model loss')\n",
    "plt.ylabel('loss')\n",
    "plt.xlabel('epoch')\n",
    "plt.legend(['train', 'test'], loc='upper left')\n",
    "plt.ylim(0, None)\n"
   ]
  },
  {
   "attachments": {},
   "cell_type": "markdown",
   "metadata": {},
   "source": [
    "# Results"
   ]
  },
  {
   "cell_type": "code",
   "execution_count": 206,
   "metadata": {},
   "outputs": [
    {
     "name": "stdout",
     "output_type": "stream",
     "text": [
      "              precision    recall  f1-score   support\n",
      "\n",
      "        Hate       0.72      0.69      0.70      1128\n",
      "    Non-Hate       0.78      0.81      0.79      1565\n",
      "\n",
      "    accuracy                           0.76      2693\n",
      "   macro avg       0.75      0.75      0.75      2693\n",
      "weighted avg       0.75      0.76      0.76      2693\n",
      "\n"
     ]
    }
   ],
   "source": [
    "# Classification report\n",
    "print(classification_report(y_test, y_test_pred, labels=[\"Hate\",\"Non-Hate\"]))"
   ]
  },
  {
   "cell_type": "code",
   "execution_count": 155,
   "metadata": {},
   "outputs": [
    {
     "name": "stdout",
     "output_type": "stream",
     "text": [
      "Count: Actual\n",
      "Non-Hate    1565\n",
      "Hate        1128\n",
      "Name: count, dtype: int64\n",
      "\n",
      "Count: Predict\n",
      "Non-Hate    1563\n",
      "Hate        1130\n",
      "Name: count, dtype: int64\n",
      "\n"
     ]
    },
    {
     "data": {
      "image/png": "[encoded data removed]",
      "text/plain": [
       "<Figure size 640x480 with 2 Axes>"
      ]
     },
     "metadata": {},
     "output_type": "display_data"
    }
   ],
   "source": [
    "# Heatmap\n",
    "ax = plt.subplot()\n",
    "\n",
    "# Plot the two-way Confusion Matrix\n",
    "sb.heatmap(confusion_matrix(y_test, y_test_pred, labels=[\"Hate\",\"Non-Hate\"]), \n",
    "           annot = True, fmt=\".0f\", annot_kws={\"size\": 18}, ax=ax)\n",
    "\n",
    "ax.set_xlabel('Predicted')\n",
    "ax.set_ylabel('Actual')\n",
    "ax.xaxis.set_ticklabels([\"Hate\",\"Non-Hate\"])\n",
    "ax.yaxis.set_ticklabels([\"Hate\",\"Non-Hate\"])\n",
    "\n",
    "# Count\n",
    "df1 = pd.DataFrame({'Actual':y_test, 'Predict':y_test_pred})\n",
    "# print(df1.describe())\n",
    "print(f\"Count: {df1['Actual'].value_counts()}\")\n",
    "print()\n",
    "print(f\"Count: {df1['Predict'].value_counts()}\")\n",
    "print()"
   ]
  },
  {
   "attachments": {},
   "cell_type": "markdown",
   "metadata": {},
   "source": [
    "# Model compare"
   ]
  },
  {
   "cell_type": "code",
   "execution_count": 16,
   "metadata": {},
   "outputs": [],
   "source": [
    "from sklearn.metrics import precision_recall_fscore_support\n",
    "from sklearn.metrics import accuracy_score\n",
    "\n",
    "def get_score(y_test, y_test_pred):\n",
    "    # print(f\"Accuracy: {accuracy_score(y_test, y_test_pred):.2f}\")\n",
    "    # score = precision_recall_fscore_support(y_test, y_test_pred, average=\"weighted\")\n",
    "    # print(f\"Precision: {score[0]:.2f}\")\n",
    "    # print(f\"Recall: {score[1]:.2f}\")\n",
    "    # print(f\"F1-score: {score[2]:.2f}\")\n",
    "    # print()\n",
    "    a = accuracy_score(y_test, y_test_pred)\n",
    "    prf = precision_recall_fscore_support(y_test, y_test_pred, average=\"weighted\")\n",
    "    return a, prf[0], prf[1], prf[2]\n",
    "    # print(precision_recall_fscore_support(y_test, y_test_pred, average=\"micro\"))"
   ]
  },
  {
   "cell_type": "code",
   "execution_count": 17,
   "metadata": {},
   "outputs": [],
   "source": [
    "# load model\n",
    "def get_result():\n",
    "    model_to_load = [\"dtc\", \"dtc-tfid\", \"dtc-w2v\",\"svm\", \"svm-tfid\", \"svm-w2v\", \"lr\", \"lr-tfid\",\"lr-w2v\"]\n",
    "    c = [\"Model\", \"Accuracy\", \"Precision\", \"Recall\", \"F1-Score\"]\n",
    "    result_table = pd.DataFrame(columns=c)\n",
    "\n",
    "    for i in model_to_load:\n",
    "        filename = f\"models/{i}.pickle\"\n",
    "        old_model = pickle.load(open(filename,\"rb\"))\n",
    "        \n",
    "        y_test_pred = old_model.predict(x_test)\n",
    "\n",
    "        a = accuracy_score(y_test, y_test_pred)\n",
    "        prf = precision_recall_fscore_support(y_test, y_test_pred, average=\"weighted\")\n",
    "\n",
    "        result_table.loc[len(result_table)] = [i, a, prf[0], prf[1], prf[2]]\n",
    "\n",
    "    return result_table.style.highlight_max(color = 'red', axis = 0)\n",
    "\n",
    "def get_result_nn(model_to_load):\n",
    "    c = [\"Model\", \"Accuracy\", \"Precision\", \"Recall\", \"F1-Score\"]\n",
    "    result_table = pd.DataFrame(columns=c)\n",
    "\n",
    "    for i in model_to_load:\n",
    "        filename = f\"models/{i}\"\n",
    "        old_model = load_model(filename)\n",
    "\n",
    "        y_test_pred = old_model.predict(x_test, verbose=0)\n",
    "        y_test_pred = np.where(y_test_pred > 0.5, \"Hate\", \"Non-Hate\") \n",
    "        y_test_pred = y_test_pred.flatten()\n",
    "\n",
    "        a = accuracy_score(y_test, y_test_pred)\n",
    "        prf = precision_recall_fscore_support(y_test, y_test_pred, average=\"weighted\")\n",
    "\n",
    "        result_table.loc[len(result_table)] = [i, a, prf[0], prf[1], prf[2]]\n",
    "\n",
    "    return result_table.style.highlight_max(color = 'red', axis = 0)"
   ]
  },
  {
   "cell_type": "code",
   "execution_count": 58,
   "metadata": {},
   "outputs": [
    {
     "data": {
      "text/html": [
       "<style type=\"text/css\">\n",
       "#T_9d17b_row1_col0, #T_9d17b_row1_col4, #T_9d17b_row4_col1, #T_9d17b_row4_col2, #T_9d17b_row4_col3 {\n",
       "  background-color: red;\n",
       "}\n",
       "</style>\n",
       "<table id=\"T_9d17b\">\n",
       "  <thead>\n",
       "    <tr>\n",
       "      <th class=\"blank level0\" >&nbsp;</th>\n",
       "      <th id=\"T_9d17b_level0_col0\" class=\"col_heading level0 col0\" >Model</th>\n",
       "      <th id=\"T_9d17b_level0_col1\" class=\"col_heading level0 col1\" >Accuracy</th>\n",
       "      <th id=\"T_9d17b_level0_col2\" class=\"col_heading level0 col2\" >Precision</th>\n",
       "      <th id=\"T_9d17b_level0_col3\" class=\"col_heading level0 col3\" >Recall</th>\n",
       "      <th id=\"T_9d17b_level0_col4\" class=\"col_heading level0 col4\" >F1-Score</th>\n",
       "    </tr>\n",
       "  </thead>\n",
       "  <tbody>\n",
       "    <tr>\n",
       "      <th id=\"T_9d17b_level0_row0\" class=\"row_heading level0 row0\" >0</th>\n",
       "      <td id=\"T_9d17b_row0_col0\" class=\"data row0 col0\" >cnn-word2vec</td>\n",
       "      <td id=\"T_9d17b_row0_col1\" class=\"data row0 col1\" >0.615299</td>\n",
       "      <td id=\"T_9d17b_row0_col2\" class=\"data row0 col2\" >0.606759</td>\n",
       "      <td id=\"T_9d17b_row0_col3\" class=\"data row0 col3\" >0.615299</td>\n",
       "      <td id=\"T_9d17b_row0_col4\" class=\"data row0 col4\" >0.579026</td>\n",
       "    </tr>\n",
       "    <tr>\n",
       "      <th id=\"T_9d17b_level0_row1\" class=\"row_heading level0 row1\" >1</th>\n",
       "      <td id=\"T_9d17b_row1_col0\" class=\"data row1 col0\" >rnn-word2vec</td>\n",
       "      <td id=\"T_9d17b_row1_col1\" class=\"data row1 col1\" >0.627924</td>\n",
       "      <td id=\"T_9d17b_row1_col2\" class=\"data row1 col2\" >0.623653</td>\n",
       "      <td id=\"T_9d17b_row1_col3\" class=\"data row1 col3\" >0.627924</td>\n",
       "      <td id=\"T_9d17b_row1_col4\" class=\"data row1 col4\" >0.624775</td>\n",
       "    </tr>\n",
       "    <tr>\n",
       "      <th id=\"T_9d17b_level0_row2\" class=\"row_heading level0 row2\" >2</th>\n",
       "      <td id=\"T_9d17b_row2_col0\" class=\"data row2 col0\" >lstm-word2vec</td>\n",
       "      <td id=\"T_9d17b_row2_col1\" class=\"data row2 col1\" >0.636094</td>\n",
       "      <td id=\"T_9d17b_row2_col2\" class=\"data row2 col2\" >0.628578</td>\n",
       "      <td id=\"T_9d17b_row2_col3\" class=\"data row2 col3\" >0.636094</td>\n",
       "      <td id=\"T_9d17b_row2_col4\" class=\"data row2 col4\" >0.621374</td>\n",
       "    </tr>\n",
       "    <tr>\n",
       "      <th id=\"T_9d17b_level0_row3\" class=\"row_heading level0 row3\" >3</th>\n",
       "      <td id=\"T_9d17b_row3_col0\" class=\"data row3 col0\" >bilstm-word2vec</td>\n",
       "      <td id=\"T_9d17b_row3_col1\" class=\"data row3 col1\" >0.630895</td>\n",
       "      <td id=\"T_9d17b_row3_col2\" class=\"data row3 col2\" >0.622984</td>\n",
       "      <td id=\"T_9d17b_row3_col3\" class=\"data row3 col3\" >0.630895</td>\n",
       "      <td id=\"T_9d17b_row3_col4\" class=\"data row3 col4\" >0.612033</td>\n",
       "    </tr>\n",
       "    <tr>\n",
       "      <th id=\"T_9d17b_level0_row4\" class=\"row_heading level0 row4\" >4</th>\n",
       "      <td id=\"T_9d17b_row4_col0\" class=\"data row4 col0\" >gru-word2vec</td>\n",
       "      <td id=\"T_9d17b_row4_col1\" class=\"data row4 col1\" >0.637579</td>\n",
       "      <td id=\"T_9d17b_row4_col2\" class=\"data row4 col2\" >0.630922</td>\n",
       "      <td id=\"T_9d17b_row4_col3\" class=\"data row4 col3\" >0.637579</td>\n",
       "      <td id=\"T_9d17b_row4_col4\" class=\"data row4 col4\" >0.618617</td>\n",
       "    </tr>\n",
       "  </tbody>\n",
       "</table>\n"
      ],
      "text/plain": [
       "<pandas.io.formats.style.Styler at 0x21a97692590>"
      ]
     },
     "execution_count": 58,
     "metadata": {},
     "output_type": "execute_result"
    }
   ],
   "source": [
    "em = 'word2vec'\n",
    "get_result_nn([\"cnn-\"+em, \"rnn-\"+em, \"lstm-\"+em,\"bilstm-\"+em,\"gru-\"+em])"
   ]
  },
  {
   "cell_type": "code",
   "execution_count": 37,
   "metadata": {},
   "outputs": [
    {
     "data": {
      "text/html": [
       "<style type=\"text/css\">\n",
       "#T_ae568_row1_col0, #T_ae568_row2_col1, #T_ae568_row2_col2, #T_ae568_row2_col3, #T_ae568_row2_col4 {\n",
       "  background-color: red;\n",
       "}\n",
       "</style>\n",
       "<table id=\"T_ae568\">\n",
       "  <thead>\n",
       "    <tr>\n",
       "      <th class=\"blank level0\" >&nbsp;</th>\n",
       "      <th id=\"T_ae568_level0_col0\" class=\"col_heading level0 col0\" >Model</th>\n",
       "      <th id=\"T_ae568_level0_col1\" class=\"col_heading level0 col1\" >Accuracy</th>\n",
       "      <th id=\"T_ae568_level0_col2\" class=\"col_heading level0 col2\" >Precision</th>\n",
       "      <th id=\"T_ae568_level0_col3\" class=\"col_heading level0 col3\" >Recall</th>\n",
       "      <th id=\"T_ae568_level0_col4\" class=\"col_heading level0 col4\" >F1-Score</th>\n",
       "    </tr>\n",
       "  </thead>\n",
       "  <tbody>\n",
       "    <tr>\n",
       "      <th id=\"T_ae568_level0_row0\" class=\"row_heading level0 row0\" >0</th>\n",
       "      <td id=\"T_ae568_row0_col0\" class=\"data row0 col0\" >cnn-fasttext</td>\n",
       "      <td id=\"T_ae568_row0_col1\" class=\"data row0 col1\" >0.733012</td>\n",
       "      <td id=\"T_ae568_row0_col2\" class=\"data row0 col2\" >0.731872</td>\n",
       "      <td id=\"T_ae568_row0_col3\" class=\"data row0 col3\" >0.733012</td>\n",
       "      <td id=\"T_ae568_row0_col4\" class=\"data row0 col4\" >0.727599</td>\n",
       "    </tr>\n",
       "    <tr>\n",
       "      <th id=\"T_ae568_level0_row1\" class=\"row_heading level0 row1\" >1</th>\n",
       "      <td id=\"T_ae568_row1_col0\" class=\"data row1 col0\" >rnn-fasttext</td>\n",
       "      <td id=\"T_ae568_row1_col1\" class=\"data row1 col1\" >0.715930</td>\n",
       "      <td id=\"T_ae568_row1_col2\" class=\"data row1 col2\" >0.714926</td>\n",
       "      <td id=\"T_ae568_row1_col3\" class=\"data row1 col3\" >0.715930</td>\n",
       "      <td id=\"T_ae568_row1_col4\" class=\"data row1 col4\" >0.708364</td>\n",
       "    </tr>\n",
       "    <tr>\n",
       "      <th id=\"T_ae568_level0_row2\" class=\"row_heading level0 row2\" >2</th>\n",
       "      <td id=\"T_ae568_row2_col0\" class=\"data row2 col0\" >lstm-fasttext</td>\n",
       "      <td id=\"T_ae568_row2_col1\" class=\"data row2 col1\" >0.743409</td>\n",
       "      <td id=\"T_ae568_row2_col2\" class=\"data row2 col2\" >0.742285</td>\n",
       "      <td id=\"T_ae568_row2_col3\" class=\"data row2 col3\" >0.743409</td>\n",
       "      <td id=\"T_ae568_row2_col4\" class=\"data row2 col4\" >0.742655</td>\n",
       "    </tr>\n",
       "    <tr>\n",
       "      <th id=\"T_ae568_level0_row3\" class=\"row_heading level0 row3\" >3</th>\n",
       "      <td id=\"T_ae568_row3_col0\" class=\"data row3 col0\" >gru-fasttext</td>\n",
       "      <td id=\"T_ae568_row3_col1\" class=\"data row3 col1\" >0.740067</td>\n",
       "      <td id=\"T_ae568_row3_col2\" class=\"data row3 col2\" >0.739841</td>\n",
       "      <td id=\"T_ae568_row3_col3\" class=\"data row3 col3\" >0.740067</td>\n",
       "      <td id=\"T_ae568_row3_col4\" class=\"data row3 col4\" >0.734209</td>\n",
       "    </tr>\n",
       "  </tbody>\n",
       "</table>\n"
      ],
      "text/plain": [
       "<pandas.io.formats.style.Styler at 0x21b625d1bd0>"
      ]
     },
     "execution_count": 37,
     "metadata": {},
     "output_type": "execute_result"
    }
   ],
   "source": [
    "em = 'fasttext'\n",
    "get_result_nn([\"cnn-\"+em, \"rnn-\"+em, \"lstm-\"+em,\"bilstm-\"+em,\"gru-\"+em])"
   ]
  },
  {
   "cell_type": "code",
   "execution_count": 40,
   "metadata": {},
   "outputs": [
    {
     "data": {
      "text/html": [
       "<style type=\"text/css\">\n",
       "#T_0c2f5_row0_col0, #T_0c2f5_row0_col1, #T_0c2f5_row0_col2, #T_0c2f5_row0_col3, #T_0c2f5_row0_col4 {\n",
       "  background-color: red;\n",
       "}\n",
       "</style>\n",
       "<table id=\"T_0c2f5\">\n",
       "  <thead>\n",
       "    <tr>\n",
       "      <th class=\"blank level0\" >&nbsp;</th>\n",
       "      <th id=\"T_0c2f5_level0_col0\" class=\"col_heading level0 col0\" >Model</th>\n",
       "      <th id=\"T_0c2f5_level0_col1\" class=\"col_heading level0 col1\" >Accuracy</th>\n",
       "      <th id=\"T_0c2f5_level0_col2\" class=\"col_heading level0 col2\" >Precision</th>\n",
       "      <th id=\"T_0c2f5_level0_col3\" class=\"col_heading level0 col3\" >Recall</th>\n",
       "      <th id=\"T_0c2f5_level0_col4\" class=\"col_heading level0 col4\" >F1-Score</th>\n",
       "    </tr>\n",
       "  </thead>\n",
       "  <tbody>\n",
       "    <tr>\n",
       "      <th id=\"T_0c2f5_level0_row0\" class=\"row_heading level0 row0\" >0</th>\n",
       "      <td id=\"T_0c2f5_row0_col0\" class=\"data row0 col0\" >bilstm-fasttext</td>\n",
       "      <td id=\"T_0c2f5_row0_col1\" class=\"data row0 col1\" >0.743780</td>\n",
       "      <td id=\"T_0c2f5_row0_col2\" class=\"data row0 col2\" >0.743306</td>\n",
       "      <td id=\"T_0c2f5_row0_col3\" class=\"data row0 col3\" >0.743780</td>\n",
       "      <td id=\"T_0c2f5_row0_col4\" class=\"data row0 col4\" >0.743517</td>\n",
       "    </tr>\n",
       "  </tbody>\n",
       "</table>\n"
      ],
      "text/plain": [
       "<pandas.io.formats.style.Styler at 0x21ab3896790>"
      ]
     },
     "execution_count": 40,
     "metadata": {},
     "output_type": "execute_result"
    }
   ],
   "source": [
    "get_result_nn(['bilstm-fasttext'])"
   ]
  },
  {
   "cell_type": "code",
   "execution_count": 39,
   "metadata": {},
   "outputs": [
    {
     "data": {
      "text/html": [
       "<style type=\"text/css\">\n",
       "#T_af059_row1_col0, #T_af059_row4_col1, #T_af059_row4_col2, #T_af059_row4_col3, #T_af059_row4_col4 {\n",
       "  background-color: red;\n",
       "}\n",
       "</style>\n",
       "<table id=\"T_af059\">\n",
       "  <thead>\n",
       "    <tr>\n",
       "      <th class=\"blank level0\" >&nbsp;</th>\n",
       "      <th id=\"T_af059_level0_col0\" class=\"col_heading level0 col0\" >Model</th>\n",
       "      <th id=\"T_af059_level0_col1\" class=\"col_heading level0 col1\" >Accuracy</th>\n",
       "      <th id=\"T_af059_level0_col2\" class=\"col_heading level0 col2\" >Precision</th>\n",
       "      <th id=\"T_af059_level0_col3\" class=\"col_heading level0 col3\" >Recall</th>\n",
       "      <th id=\"T_af059_level0_col4\" class=\"col_heading level0 col4\" >F1-Score</th>\n",
       "    </tr>\n",
       "  </thead>\n",
       "  <tbody>\n",
       "    <tr>\n",
       "      <th id=\"T_af059_level0_row0\" class=\"row_heading level0 row0\" >0</th>\n",
       "      <td id=\"T_af059_row0_col0\" class=\"data row0 col0\" >cnn-glove</td>\n",
       "      <td id=\"T_af059_row0_col1\" class=\"data row0 col1\" >0.709989</td>\n",
       "      <td id=\"T_af059_row0_col2\" class=\"data row0 col2\" >0.707252</td>\n",
       "      <td id=\"T_af059_row0_col3\" class=\"data row0 col3\" >0.709989</td>\n",
       "      <td id=\"T_af059_row0_col4\" class=\"data row0 col4\" >0.707052</td>\n",
       "    </tr>\n",
       "    <tr>\n",
       "      <th id=\"T_af059_level0_row1\" class=\"row_heading level0 row1\" >1</th>\n",
       "      <td id=\"T_af059_row1_col0\" class=\"data row1 col0\" >rnn-glove</td>\n",
       "      <td id=\"T_af059_row1_col1\" class=\"data row1 col1\" >0.661344</td>\n",
       "      <td id=\"T_af059_row1_col2\" class=\"data row1 col2\" >0.661685</td>\n",
       "      <td id=\"T_af059_row1_col3\" class=\"data row1 col3\" >0.661344</td>\n",
       "      <td id=\"T_af059_row1_col4\" class=\"data row1 col4\" >0.661509</td>\n",
       "    </tr>\n",
       "    <tr>\n",
       "      <th id=\"T_af059_level0_row2\" class=\"row_heading level0 row2\" >2</th>\n",
       "      <td id=\"T_af059_row2_col0\" class=\"data row2 col0\" >lstm-glove</td>\n",
       "      <td id=\"T_af059_row2_col1\" class=\"data row2 col1\" >0.732269</td>\n",
       "      <td id=\"T_af059_row2_col2\" class=\"data row2 col2\" >0.746559</td>\n",
       "      <td id=\"T_af059_row2_col3\" class=\"data row2 col3\" >0.732269</td>\n",
       "      <td id=\"T_af059_row2_col4\" class=\"data row2 col4\" >0.734036</td>\n",
       "    </tr>\n",
       "    <tr>\n",
       "      <th id=\"T_af059_level0_row3\" class=\"row_heading level0 row3\" >3</th>\n",
       "      <td id=\"T_af059_row3_col0\" class=\"data row3 col0\" >bilstm-glove</td>\n",
       "      <td id=\"T_af059_row3_col1\" class=\"data row3 col1\" >0.726328</td>\n",
       "      <td id=\"T_af059_row3_col2\" class=\"data row3 col2\" >0.730623</td>\n",
       "      <td id=\"T_af059_row3_col3\" class=\"data row3 col3\" >0.726328</td>\n",
       "      <td id=\"T_af059_row3_col4\" class=\"data row3 col4\" >0.727574</td>\n",
       "    </tr>\n",
       "    <tr>\n",
       "      <th id=\"T_af059_level0_row4\" class=\"row_heading level0 row4\" >4</th>\n",
       "      <td id=\"T_af059_row4_col0\" class=\"data row4 col0\" >gru-glove</td>\n",
       "      <td id=\"T_af059_row4_col1\" class=\"data row4 col1\" >0.756034</td>\n",
       "      <td id=\"T_af059_row4_col2\" class=\"data row4 col2\" >0.754855</td>\n",
       "      <td id=\"T_af059_row4_col3\" class=\"data row4 col3\" >0.756034</td>\n",
       "      <td id=\"T_af059_row4_col4\" class=\"data row4 col4\" >0.755169</td>\n",
       "    </tr>\n",
       "  </tbody>\n",
       "</table>\n"
      ],
      "text/plain": [
       "<pandas.io.formats.style.Styler at 0x21b659af390>"
      ]
     },
     "execution_count": 39,
     "metadata": {},
     "output_type": "execute_result"
    }
   ],
   "source": [
    "em = 'glove'\n",
    "get_result_nn([\"cnn-\"+em, \"rnn-\"+em, \"lstm-\"+em,\"bilstm-\"+em, \"gru-\"+em])"
   ]
  },
  {
   "cell_type": "code",
   "execution_count": 149,
   "metadata": {},
   "outputs": [
    {
     "data": {
      "text/html": [
       "<style type=\"text/css\">\n",
       "#T_52f0a_row3_col1, #T_52f0a_row3_col2, #T_52f0a_row3_col3, #T_52f0a_row3_col4, #T_52f0a_row5_col0 {\n",
       "  background-color: red;\n",
       "}\n",
       "</style>\n",
       "<table id=\"T_52f0a\">\n",
       "  <thead>\n",
       "    <tr>\n",
       "      <th class=\"blank level0\" >&nbsp;</th>\n",
       "      <th id=\"T_52f0a_level0_col0\" class=\"col_heading level0 col0\" >Model</th>\n",
       "      <th id=\"T_52f0a_level0_col1\" class=\"col_heading level0 col1\" >Accuracy</th>\n",
       "      <th id=\"T_52f0a_level0_col2\" class=\"col_heading level0 col2\" >Precision</th>\n",
       "      <th id=\"T_52f0a_level0_col3\" class=\"col_heading level0 col3\" >Recall</th>\n",
       "      <th id=\"T_52f0a_level0_col4\" class=\"col_heading level0 col4\" >F1-Score</th>\n",
       "    </tr>\n",
       "  </thead>\n",
       "  <tbody>\n",
       "    <tr>\n",
       "      <th id=\"T_52f0a_level0_row0\" class=\"row_heading level0 row0\" >0</th>\n",
       "      <td id=\"T_52f0a_row0_col0\" class=\"data row0 col0\" >dtc</td>\n",
       "      <td id=\"T_52f0a_row0_col1\" class=\"data row0 col1\" >0.749350</td>\n",
       "      <td id=\"T_52f0a_row0_col2\" class=\"data row0 col2\" >0.747932</td>\n",
       "      <td id=\"T_52f0a_row0_col3\" class=\"data row0 col3\" >0.749350</td>\n",
       "      <td id=\"T_52f0a_row0_col4\" class=\"data row0 col4\" >0.748249</td>\n",
       "    </tr>\n",
       "    <tr>\n",
       "      <th id=\"T_52f0a_level0_row1\" class=\"row_heading level0 row1\" >1</th>\n",
       "      <td id=\"T_52f0a_row1_col0\" class=\"data row1 col0\" >dtc-tfid</td>\n",
       "      <td id=\"T_52f0a_row1_col1\" class=\"data row1 col1\" >0.743780</td>\n",
       "      <td id=\"T_52f0a_row1_col2\" class=\"data row1 col2\" >0.743531</td>\n",
       "      <td id=\"T_52f0a_row1_col3\" class=\"data row1 col3\" >0.743780</td>\n",
       "      <td id=\"T_52f0a_row1_col4\" class=\"data row1 col4\" >0.743649</td>\n",
       "    </tr>\n",
       "    <tr>\n",
       "      <th id=\"T_52f0a_level0_row2\" class=\"row_heading level0 row2\" >2</th>\n",
       "      <td id=\"T_52f0a_row2_col0\" class=\"data row2 col0\" >dtc-w2v</td>\n",
       "      <td id=\"T_52f0a_row2_col1\" class=\"data row2 col1\" >0.586706</td>\n",
       "      <td id=\"T_52f0a_row2_col2\" class=\"data row2 col2\" >0.589898</td>\n",
       "      <td id=\"T_52f0a_row2_col3\" class=\"data row2 col3\" >0.586706</td>\n",
       "      <td id=\"T_52f0a_row2_col4\" class=\"data row2 col4\" >0.588024</td>\n",
       "    </tr>\n",
       "    <tr>\n",
       "      <th id=\"T_52f0a_level0_row3\" class=\"row_heading level0 row3\" >3</th>\n",
       "      <td id=\"T_52f0a_row3_col0\" class=\"data row3 col0\" >svm</td>\n",
       "      <td id=\"T_52f0a_row3_col1\" class=\"data row3 col1\" >0.768659</td>\n",
       "      <td id=\"T_52f0a_row3_col2\" class=\"data row3 col2\" >0.767394</td>\n",
       "      <td id=\"T_52f0a_row3_col3\" class=\"data row3 col3\" >0.768659</td>\n",
       "      <td id=\"T_52f0a_row3_col4\" class=\"data row3 col4\" >0.766195</td>\n",
       "    </tr>\n",
       "    <tr>\n",
       "      <th id=\"T_52f0a_level0_row4\" class=\"row_heading level0 row4\" >4</th>\n",
       "      <td id=\"T_52f0a_row4_col0\" class=\"data row4 col0\" >svm-tfid</td>\n",
       "      <td id=\"T_52f0a_row4_col1\" class=\"data row4 col1\" >0.746008</td>\n",
       "      <td id=\"T_52f0a_row4_col2\" class=\"data row4 col2\" >0.760112</td>\n",
       "      <td id=\"T_52f0a_row4_col3\" class=\"data row4 col3\" >0.746008</td>\n",
       "      <td id=\"T_52f0a_row4_col4\" class=\"data row4 col4\" >0.731861</td>\n",
       "    </tr>\n",
       "    <tr>\n",
       "      <th id=\"T_52f0a_level0_row5\" class=\"row_heading level0 row5\" >5</th>\n",
       "      <td id=\"T_52f0a_row5_col0\" class=\"data row5 col0\" >svm-w2v</td>\n",
       "      <td id=\"T_52f0a_row5_col1\" class=\"data row5 col1\" >0.590048</td>\n",
       "      <td id=\"T_52f0a_row5_col2\" class=\"data row5 col2\" >0.611645</td>\n",
       "      <td id=\"T_52f0a_row5_col3\" class=\"data row5 col3\" >0.590048</td>\n",
       "      <td id=\"T_52f0a_row5_col4\" class=\"data row5 col4\" >0.461541</td>\n",
       "    </tr>\n",
       "    <tr>\n",
       "      <th id=\"T_52f0a_level0_row6\" class=\"row_heading level0 row6\" >6</th>\n",
       "      <td id=\"T_52f0a_row6_col0\" class=\"data row6 col0\" >lr</td>\n",
       "      <td id=\"T_52f0a_row6_col1\" class=\"data row6 col1\" >0.684738</td>\n",
       "      <td id=\"T_52f0a_row6_col2\" class=\"data row6 col2\" >0.690064</td>\n",
       "      <td id=\"T_52f0a_row6_col3\" class=\"data row6 col3\" >0.684738</td>\n",
       "      <td id=\"T_52f0a_row6_col4\" class=\"data row6 col4\" >0.686326</td>\n",
       "    </tr>\n",
       "    <tr>\n",
       "      <th id=\"T_52f0a_level0_row7\" class=\"row_heading level0 row7\" >7</th>\n",
       "      <td id=\"T_52f0a_row7_col0\" class=\"data row7 col0\" >lr-tfid</td>\n",
       "      <td id=\"T_52f0a_row7_col1\" class=\"data row7 col1\" >0.694393</td>\n",
       "      <td id=\"T_52f0a_row7_col2\" class=\"data row7 col2\" >0.697312</td>\n",
       "      <td id=\"T_52f0a_row7_col3\" class=\"data row7 col3\" >0.694393</td>\n",
       "      <td id=\"T_52f0a_row7_col4\" class=\"data row7 col4\" >0.695449</td>\n",
       "    </tr>\n",
       "    <tr>\n",
       "      <th id=\"T_52f0a_level0_row8\" class=\"row_heading level0 row8\" >8</th>\n",
       "      <td id=\"T_52f0a_row8_col0\" class=\"data row8 col0\" >lr-w2v</td>\n",
       "      <td id=\"T_52f0a_row8_col1\" class=\"data row8 col1\" >0.708504</td>\n",
       "      <td id=\"T_52f0a_row8_col2\" class=\"data row8 col2\" >0.705758</td>\n",
       "      <td id=\"T_52f0a_row8_col3\" class=\"data row8 col3\" >0.708504</td>\n",
       "      <td id=\"T_52f0a_row8_col4\" class=\"data row8 col4\" >0.705809</td>\n",
       "    </tr>\n",
       "  </tbody>\n",
       "</table>\n"
      ],
      "text/plain": [
       "<pandas.io.formats.style.Styler at 0x1f954ed6450>"
      ]
     },
     "execution_count": 149,
     "metadata": {},
     "output_type": "execute_result"
    }
   ],
   "source": [
    "get_result()"
   ]
  }
 ],
 "metadata": {
  "kernelspec": {
   "display_name": ".venv",
   "language": "python",
   "name": "python3"
  },
  "language_info": {
   "codemirror_mode": {
    "name": "ipython",
    "version": 3
   },
   "file_extension": ".py",
   "mimetype": "text/x-python",
   "name": "python",
   "nbconvert_exporter": "python",
   "pygments_lexer": "ipython3",
   "version": "3.11.1"
  },
  "orig_nbformat": 4
 },
 "nbformat": 4,
 "nbformat_minor": 2
}
