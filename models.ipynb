{
 "cells": [
  {
   "attachments": {},
   "cell_type": "markdown",
   "metadata": {},
   "source": [
    "# Start"
   ]
  },
  {
   "cell_type": "code",
   "execution_count": 4,
   "metadata": {},
   "outputs": [],
   "source": [
    "import pandas as pd\n",
    "import numpy as np\n",
    "import pickle \n",
    "\n",
    "import seaborn as sb\n",
    "import matplotlib.pyplot as plt\n",
    "\n",
    "from sklearn.model_selection import train_test_split\n",
    "\n",
    "from sklearn.metrics import confusion_matrix\n",
    "from sklearn.metrics import classification_report\n",
    "\n",
    "import re\n",
    "import nltk\n",
    "from nltk.util import pr\n",
    "from nltk.corpus import stopwords\n",
    "import string "
   ]
  },
  {
   "cell_type": "code",
   "execution_count": 1,
   "metadata": {},
   "outputs": [],
   "source": [
    "# maximum text\n",
    "# sb.set()\n",
    "# pd.set_option('display.max_colwidth', None)"
   ]
  },
  {
   "attachments": {},
   "cell_type": "markdown",
   "metadata": {},
   "source": [
    "# Load dataset"
   ]
  },
  {
   "attachments": {},
   "cell_type": "markdown",
   "metadata": {},
   "source": [
    "## SE2019 dataset"
   ]
  },
  {
   "cell_type": "code",
   "execution_count": 5,
   "metadata": {},
   "outputs": [
    {
     "data": {
      "text/plain": [
       "class\n",
       "Non-Hate    5195\n",
       "Hate        3781\n",
       "Name: count, dtype: int64"
      ]
     },
     "execution_count": 5,
     "metadata": {},
     "output_type": "execute_result"
    }
   ],
   "source": [
    "df = pd.read_csv(\"Dataset/SE2019/data_processed.csv\")\n",
    "df['class'].value_counts()"
   ]
  },
  {
   "cell_type": "code",
   "execution_count": 6,
   "metadata": {},
   "outputs": [
    {
     "data": {
      "text/html": [
       "<div>\n",
       "<style scoped>\n",
       "    .dataframe tbody tr th:only-of-type {\n",
       "        vertical-align: middle;\n",
       "    }\n",
       "\n",
       "    .dataframe tbody tr th {\n",
       "        vertical-align: top;\n",
       "    }\n",
       "\n",
       "    .dataframe thead th {\n",
       "        text-align: right;\n",
       "    }\n",
       "</style>\n",
       "<table border=\"1\" class=\"dataframe\">\n",
       "  <thead>\n",
       "    <tr style=\"text-align: right;\">\n",
       "      <th></th>\n",
       "      <th>class</th>\n",
       "      <th>text</th>\n",
       "      <th>hate</th>\n",
       "    </tr>\n",
       "  </thead>\n",
       "  <tbody>\n",
       "    <tr>\n",
       "      <th>0</th>\n",
       "      <td>Hate</td>\n",
       "      <td>hurray saving us many ways #lockthemup #buildt...</td>\n",
       "      <td>1</td>\n",
       "    </tr>\n",
       "    <tr>\n",
       "      <th>1</th>\n",
       "      <td>Hate</td>\n",
       "      <td>would young fighting age men vast majority one...</td>\n",
       "      <td>1</td>\n",
       "    </tr>\n",
       "    <tr>\n",
       "      <th>2</th>\n",
       "      <td>Hate</td>\n",
       "      <td>illegals dump kids border like road kill refu...</td>\n",
       "      <td>1</td>\n",
       "    </tr>\n",
       "    <tr>\n",
       "      <th>3</th>\n",
       "      <td>Non-Hate</td>\n",
       "      <td>ny times nearly white states pose array proble...</td>\n",
       "      <td>0</td>\n",
       "    </tr>\n",
       "    <tr>\n",
       "      <th>4</th>\n",
       "      <td>Non-Hate</td>\n",
       "      <td>orban brussels european leaders ignoring peopl...</td>\n",
       "      <td>0</td>\n",
       "    </tr>\n",
       "  </tbody>\n",
       "</table>\n",
       "</div>"
      ],
      "text/plain": [
       "      class                                               text  hate\n",
       "0      Hate  hurray saving us many ways #lockthemup #buildt...     1\n",
       "1      Hate  would young fighting age men vast majority one...     1\n",
       "2      Hate   illegals dump kids border like road kill refu...     1\n",
       "3  Non-Hate  ny times nearly white states pose array proble...     0\n",
       "4  Non-Hate  orban brussels european leaders ignoring peopl...     0"
      ]
     },
     "execution_count": 6,
     "metadata": {},
     "output_type": "execute_result"
    }
   ],
   "source": [
    "df.head(5)"
   ]
  },
  {
   "cell_type": "code",
   "execution_count": 4,
   "metadata": {},
   "outputs": [
    {
     "data": {
      "text/html": [
       "<div>\n",
       "<style scoped>\n",
       "    .dataframe tbody tr th:only-of-type {\n",
       "        vertical-align: middle;\n",
       "    }\n",
       "\n",
       "    .dataframe tbody tr th {\n",
       "        vertical-align: top;\n",
       "    }\n",
       "\n",
       "    .dataframe thead th {\n",
       "        text-align: right;\n",
       "    }\n",
       "</style>\n",
       "<table border=\"1\" class=\"dataframe\">\n",
       "  <thead>\n",
       "    <tr style=\"text-align: right;\">\n",
       "      <th></th>\n",
       "      <th>class</th>\n",
       "      <th>text</th>\n",
       "      <th>hate</th>\n",
       "    </tr>\n",
       "  </thead>\n",
       "  <tbody>\n",
       "  </tbody>\n",
       "</table>\n",
       "</div>"
      ],
      "text/plain": [
       "Empty DataFrame\n",
       "Columns: [class, text, hate]\n",
       "Index: []"
      ]
     },
     "execution_count": 4,
     "metadata": {},
     "output_type": "execute_result"
    }
   ],
   "source": [
    "df[df['text'].isnull()]"
   ]
  },
  {
   "attachments": {},
   "cell_type": "markdown",
   "metadata": {},
   "source": [
    "# Split dataset"
   ]
  },
  {
   "cell_type": "code",
   "execution_count": 7,
   "metadata": {},
   "outputs": [
    {
     "name": "stdout",
     "output_type": "stream",
     "text": [
      "Train Set : (6283,) (6283,)\n",
      "Test Set  : (2693,) (2693,)\n"
     ]
    }
   ],
   "source": [
    "x = np.array(df[\"text\"])\n",
    "y = np.array(df[\"class\"])\n",
    "\n",
    "x_train, x_test, y_train, y_test = train_test_split(x,y, test_size = 0.30, random_state=42) #random state ensure same sample\n",
    "print(\"Train Set :\", x_train.shape, y_train.shape) \n",
    "print(\"Test Set  :\", x_test.shape, y_test.shape) "
   ]
  },
  {
   "cell_type": "code",
   "execution_count": 66,
   "metadata": {},
   "outputs": [],
   "source": [
    "# y in digit form\n",
    "y_train_binary = np.array(list(map(lambda x:1 if x==\"Hate\" else 0, y_train)))\n",
    "y_test_binary = np.array(list(map(lambda x:1 if x==\"Hate\" else 0, y_test)))"
   ]
  },
  {
   "attachments": {},
   "cell_type": "markdown",
   "metadata": {},
   "source": [
    "array(['austria wonder countri refug bill see socialwelfar also help get televisionset refug famili styria ',"
   ]
  },
  {
   "cell_type": "code",
   "execution_count": 9,
   "metadata": {},
   "outputs": [
    {
     "data": {
      "text/plain": [
       "array(['austria wonderful country refugees bill see socialwelfare also help get televisionset refugees family styria ',\n",
       "       'please tell bitch next piercing line judgmental everyone fucking sees shut fuck',\n",
       "       'afghan migrant whose deportation thwarted hero swedish student actually sentenced assault #foxnews',\n",
       "       ' slavery post white women rape many black women men children u could ever imagine cause ',\n",
       "       'bewildered eu leaders various plans preventing migrant refugee boat arrivals amp send heres helpful overview ',\n",
       "       'waking today like ',\n",
       "       'theyre sending best lot rapists scumbags lowest form dna fake family separatedxxf#stoptheinvasion#deportthemall #noamnesty#buildthewall ',\n",
       "       'rt #chelseahandler #kimkardashian #kanye #kanyewest #cent #comedy #lol #lmao #memes #bruh #petty #funnyshit #truth ',\n",
       "       'douglas todd trudeau government goes silent canadas syrian refugees via add alarming list governments fails ',\n",
       "       'redhead girls hot ginger girls usualy fugly'], dtype=object)"
      ]
     },
     "execution_count": 9,
     "metadata": {},
     "output_type": "execute_result"
    }
   ],
   "source": [
    "x_train[:10]"
   ]
  },
  {
   "attachments": {},
   "cell_type": "markdown",
   "metadata": {},
   "source": [
    "# Feature engineering - Word embeding"
   ]
  },
  {
   "attachments": {},
   "cell_type": "markdown",
   "metadata": {},
   "source": [
    "- Word2Vec and GloVe are based on static word embeddings while Transformers are based on dynamic word embeddings.\n",
    "\n",
    "- Many different models for creating pre-trained word embeddings such as Word2Vec, GloVe, fastText, and BioWordVec "
   ]
  },
  {
   "attachments": {},
   "cell_type": "markdown",
   "metadata": {},
   "source": [
    "- https://www.analyticsvidhya.com/blog/2017/06/word-embeddings-count-word2veec/\n",
    "- CountVectorizer, Tfidftransformer & Tfidfvectorizer are Frequency based Word Embedding technique\n",
    "- Tfidftransformer acts on sparse matrix and Tfidfvectorizer acts on raw text data\n",
    "- Tfidfvectorizer = countVectorizater + Tfidftransformer\n",
    "\n",
    "- https://www.analyticsvidhya.com/blog/2018/07/hands-on-sentiment-analysis-dataset-python/\n",
    "- vectorizer = word embedding process of converting text data to numerical vector"
   ]
  },
  {
   "cell_type": "code",
   "execution_count": 11,
   "metadata": {},
   "outputs": [],
   "source": [
    "from sklearn.pipeline import Pipeline\n",
    "from sklearn.feature_extraction.text import CountVectorizer\n",
    "from sklearn.feature_extraction.text import TfidfVectorizer"
   ]
  },
  {
   "attachments": {},
   "cell_type": "markdown",
   "metadata": {},
   "source": [
    "## Word2Vec"
   ]
  },
  {
   "attachments": {},
   "cell_type": "markdown",
   "metadata": {},
   "source": [
    "- https://spotintelligence.com/2023/02/15/word2vec-for-text-classification/#:~:text=Word2Vec%20is%20a%20popular%20algorithm,a%20large%20corpus%20of%20text\n",
    "- Word2vec is not a single algorithm but a combination of two techniques – CBOW(Continuous bag of words) and Skip-gram model."
   ]
  },
  {
   "cell_type": "code",
   "execution_count": 9,
   "metadata": {},
   "outputs": [],
   "source": [
    "from gensim.models import Word2Vec"
   ]
  },
  {
   "cell_type": "code",
   "execution_count": 10,
   "metadata": {},
   "outputs": [],
   "source": [
    "class w2vVectorizer():\n",
    "    def __init__(self) -> None:\n",
    "        self.w2v_model = None\n",
    "    \n",
    "    def w2v_vectorizer(self,sentence):\n",
    "        # vectorize the text data\n",
    "        words = sentence.split()\n",
    "        words_vec = [self.w2v_model.wv[word] for word in words if word in self.w2v_model.wv]\n",
    "        if len(words_vec) == 0:\n",
    "            return np.zeros(100)\n",
    "        words_vec = np.array(words_vec)\n",
    "        return words_vec.mean(axis=0)\n",
    "    \n",
    "    def fit(self, x, y=None):\n",
    "        # train the model when fit the pipeline\n",
    "        sentences = [sentence.split() for sentence in x]\n",
    "        self.w2v_model = Word2Vec(sentences, vector_size=100, window=5, min_count=2, workers=4)\n",
    "        return self\n",
    "    \n",
    "    def transform(self, x, y=None):\n",
    "        # when use fit or transform on the pipeline \n",
    "        return np.array([self.w2v_vectorizer(sentence) for sentence in x])"
   ]
  },
  {
   "attachments": {},
   "cell_type": "markdown",
   "metadata": {},
   "source": [
    "# Machine learning"
   ]
  },
  {
   "cell_type": "code",
   "execution_count": 10,
   "metadata": {},
   "outputs": [],
   "source": [
    "# save model\n",
    "def save_model(model, model_name):\n",
    "    filename = f\"models/{model_name}.pickle\"\n",
    "    pickle.dump(model, open(filename,\"wb\"))"
   ]
  },
  {
   "attachments": {},
   "cell_type": "markdown",
   "metadata": {},
   "source": [
    "## Decision Tree"
   ]
  },
  {
   "cell_type": "code",
   "execution_count": 14,
   "metadata": {},
   "outputs": [],
   "source": [
    "#convert given text to a vector base\n",
    "from sklearn.tree import DecisionTreeClassifier"
   ]
  },
  {
   "cell_type": "code",
   "execution_count": 424,
   "metadata": {},
   "outputs": [],
   "source": [
    "model = Pipeline([('vect', CountVectorizer()),\n",
    "               ('clf', DecisionTreeClassifier()),\n",
    "              ])\n",
    "model_name = \"dtc\"\n",
    "model.fit(x_train, y_train)\n",
    "save_model(model,model_name)"
   ]
  },
  {
   "cell_type": "code",
   "execution_count": 232,
   "metadata": {},
   "outputs": [],
   "source": [
    "model = Pipeline([('vect', TfidfVectorizer()),\n",
    "               ('clf', DecisionTreeClassifier()),\n",
    "              ])\n",
    "model_name = \"dtc-tfid\"\n",
    "model.fit(x_train, y_train)\n",
    "save_model(model,model_name)"
   ]
  },
  {
   "cell_type": "code",
   "execution_count": 233,
   "metadata": {},
   "outputs": [],
   "source": [
    "model = Pipeline([('vect', w2vVectorizer()),\n",
    "               ('clf', DecisionTreeClassifier()),\n",
    "              ])\n",
    "model_name = \"dtc-w2v\"\n",
    "model.fit(x_train, y_train)\n",
    "save_model(model,model_name)"
   ]
  },
  {
   "attachments": {},
   "cell_type": "markdown",
   "metadata": {},
   "source": [
    "## Support Vector Machine"
   ]
  },
  {
   "attachments": {},
   "cell_type": "markdown",
   "metadata": {},
   "source": [
    "- supervisied learning algorithm\n",
    "- Unlike neural networks, SVMs can work with very small datasets and are not prone to overfitting."
   ]
  },
  {
   "cell_type": "code",
   "execution_count": 39,
   "metadata": {},
   "outputs": [],
   "source": [
    "from sklearn.linear_model import SGDClassifier"
   ]
  },
  {
   "cell_type": "code",
   "execution_count": 234,
   "metadata": {},
   "outputs": [],
   "source": [
    "model = Pipeline([('vect', CountVectorizer()),\n",
    "                ('clf', SGDClassifier(loss='hinge', penalty='l2',alpha=1e-3, random_state=42, max_iter=5, tol=None)),\n",
    "               ])\n",
    "model_name = \"svm\"\n",
    "model.fit(x_train, y_train)\n",
    "save_model(model, model_name)"
   ]
  },
  {
   "cell_type": "code",
   "execution_count": 235,
   "metadata": {},
   "outputs": [],
   "source": [
    "model = Pipeline([('vect', TfidfVectorizer()),\n",
    "               ('clf', SGDClassifier(loss='hinge', penalty='l2',alpha=1e-3, random_state=42, max_iter=5, tol=None)),\n",
    "              ])\n",
    "model_name = \"svm-tfid\"\n",
    "model.fit(x_train, y_train)\n",
    "save_model(model, model_name)"
   ]
  },
  {
   "cell_type": "code",
   "execution_count": 236,
   "metadata": {},
   "outputs": [],
   "source": [
    "model = Pipeline([('vect', w2vVectorizer()),\n",
    "               ('clf', SGDClassifier(loss='hinge', penalty='l2',alpha=1e-3, random_state=42, max_iter=5, tol=None)),\n",
    "              ])\n",
    "model_name = \"svm-w2v\"\n",
    "model.fit(x_train, y_train)\n",
    "save_model(model, model_name)"
   ]
  },
  {
   "attachments": {},
   "cell_type": "markdown",
   "metadata": {},
   "source": [
    "## Logistic Regression "
   ]
  },
  {
   "cell_type": "code",
   "execution_count": 46,
   "metadata": {},
   "outputs": [],
   "source": [
    "from sklearn.linear_model import LogisticRegression"
   ]
  },
  {
   "cell_type": "code",
   "execution_count": 237,
   "metadata": {},
   "outputs": [],
   "source": [
    "model = Pipeline([('vect', CountVectorizer()),\n",
    "        ('clf', LogisticRegression(n_jobs=1, C=1e5,max_iter=6300)),\n",
    "        ])\n",
    "model_name = \"lr\"\n",
    "model.fit(x_train, y_train)\n",
    "save_model(model, model_name)"
   ]
  },
  {
   "cell_type": "code",
   "execution_count": 238,
   "metadata": {},
   "outputs": [],
   "source": [
    "model = Pipeline([('vect', TfidfVectorizer()),\n",
    "        ('clf', LogisticRegression(n_jobs=1, C=1e5,max_iter=6300)),\n",
    "        ])\n",
    "model_name = \"lr-tfid\"\n",
    "model.fit(x_train, y_train)\n",
    "save_model(model, model_name)"
   ]
  },
  {
   "cell_type": "code",
   "execution_count": 239,
   "metadata": {},
   "outputs": [],
   "source": [
    "model = Pipeline([('vect', w2vVectorizer()),\n",
    "        ('clf', LogisticRegression(n_jobs=1, C=1e5,max_iter=6300)),\n",
    "        ])\n",
    "model_name = \"lr-w2v\"\n",
    "model.fit(x_train, y_train)\n",
    "save_model(model, model_name)"
   ]
  },
  {
   "attachments": {},
   "cell_type": "markdown",
   "metadata": {},
   "source": [
    "## Predict"
   ]
  },
  {
   "cell_type": "code",
   "execution_count": null,
   "metadata": {},
   "outputs": [],
   "source": [
    "# Predict data\n",
    "print(\"Test Data Accuracy  :\\t\", model.score(x_test, y_test))\n",
    "y_test_pred = model.predict(x_test)"
   ]
  },
  {
   "attachments": {},
   "cell_type": "markdown",
   "metadata": {},
   "source": [
    "# Deep Neural network"
   ]
  },
  {
   "attachments": {},
   "cell_type": "markdown",
   "metadata": {},
   "source": [
    "- https://www.youtube.com/watch?v=oWo9SNcyxlI\n",
    "- good read for = https://bmcmedresmethodol.biomedcentral.com/articles/10.1186/s12874-022-01665-y\n",
    "\n",
    "- cnn\n",
    "- transformer encoder\n",
    "- pretrained bert\n",
    "- typical neural network = rnn, gru, lstm, bi-lstm\n",
    "\n",
    "- other than bert, the rest need word embedding so do glove, word2vec and fasttext\n"
   ]
  },
  {
   "cell_type": "code",
   "execution_count": 35,
   "metadata": {},
   "outputs": [],
   "source": [
    "from keras.preprocessing.text import one_hot, Tokenizer\n",
    "from keras.models import Sequential\n",
    "from keras.utils.data_utils import pad_sequences\n",
    "from keras.layers.core import Activation, Dropout, Dense\n",
    "from keras.layers import Flatten, GlobalMaxPooling1D, Embedding, Conv1D, LSTM\n",
    "\n",
    "from keras.metrics import BinaryAccuracy,Precision,Recall\n",
    "\n",
    "from keras.layers import Layer\n",
    "from keras.models import load_model\n",
    "from keras.utils import plot_model\n",
    "import keras"
   ]
  },
  {
   "cell_type": "code",
   "execution_count": 64,
   "metadata": {},
   "outputs": [],
   "source": [
    "METRICS = [\n",
    "    BinaryAccuracy(name=\"accuracy\"),\n",
    "    Precision(name=\"precision\"),\n",
    "    Recall(name=\"recall\")\n",
    "]\n",
    "\n",
    "def save_model_nn(model, model_name):\n",
    "    filename = f\"models/{model_name}\"\n",
    "    model.save(filename)"
   ]
  },
  {
   "attachments": {},
   "cell_type": "markdown",
   "metadata": {},
   "source": [
    "Embeding layer convert text to numeric form which is used as the first layer for the deep learning model"
   ]
  },
  {
   "attachments": {},
   "cell_type": "markdown",
   "metadata": {},
   "source": [
    "## Glove embedding"
   ]
  },
  {
   "cell_type": "code",
   "execution_count": 150,
   "metadata": {},
   "outputs": [],
   "source": [
    "text_length = 50\n",
    "\n",
    "glove_encoder = keras.layers.TextVectorization(\n",
    "    standardize = None,\n",
    "    output_sequence_length=text_length, #pad/truncate text to this long\n",
    ")\n",
    "glove_encoder.adapt(x_train)\n",
    "vocab = glove_encoder.get_vocabulary()\n",
    "vocab_dict = dict(zip(v, range(len(v))))\n",
    "\n",
    "# load glove to dictionay\n",
    "embeddings_dic = dict()\n",
    "glove_file = open(\"Dataset/glove_embedding.txt\", encoding=\"utf8\")\n",
    "\n",
    "for line in glove_file:\n",
    "    records = line.split()\n",
    "    word = records[0]\n",
    "    vector_dimensions = np.asarray(records[1:], dtype='float32')\n",
    "    embeddings_dic[word] = vector_dimensions\n",
    "glove_file.close()\n",
    "print(\"Total words \", len(embeddings_dic))\n",
    "\n",
    "# create vocab length is the size of token in dictionary\n",
    "# Size of the vocabulary\n",
    "vocab_length = len(vocab) + 1\n",
    "embedding_dim = 100 #each glove word is 100 long\n",
    "\n",
    "hits = 0\n",
    "miss = 0\n",
    "\n",
    "# create embedding matrix having 100 col\n",
    "# for all vocab word we give it a vector value from glove\n",
    "# for those not found in glove will be empty 0\n",
    "# size of embedding_matriz = size of word_tokenizer.word_index.items()\n",
    "# embedding_matrix is the weight \n",
    "embedding_matrix = np.zeros((vocab_length, embedding_dim))\n",
    "for word, index in vocab_dict.items():\n",
    "    embedding_vector = embeddings_dic.get(word)\n",
    "    if embedding_vector is not None:\n",
    "        embedding_matrix[index] = embedding_vector\n",
    "        hits += 1\n",
    "    else:\n",
    "        miss +=1\n",
    "print(\"Converted %d words (%d misses)\" % (hits, miss))\n",
    "\n",
    "glove_embedding = Embedding(vocab_length, embedding_dim, \n",
    "               embeddings_initializer=keras.initializers.Constant(embedding_matrix), \n",
    "               trainable = False,\n",
    "               input_length=text_length,\n",
    "               mask_zero=True)"
   ]
  },
  {
   "attachments": {},
   "cell_type": "markdown",
   "metadata": {},
   "source": [
    "## FastText"
   ]
  },
  {
   "attachments": {},
   "cell_type": "markdown",
   "metadata": {},
   "source": [
    "## Simple Neural network"
   ]
  },
  {
   "cell_type": "code",
   "execution_count": 175,
   "metadata": {},
   "outputs": [],
   "source": [
    "model = Sequential()\n",
    "model.add(glove_encoder)\n",
    "model.add(glove_embedding)\n",
    "model.add(Flatten())\n",
    "model.add(Dense(1, activation='sigmoid'))\n",
    "\n",
    "model.compile(optimizer='adam',\n",
    "              loss='binary_crossentropy',\n",
    "              metrics=METRICS)\n",
    "\n",
    "history = model.fit(x_train, y_train_binary, epochs=10,\n",
    "                    validation_data=(x_test,y_test_binary))\n",
    "\n",
    "save_model_nn(model, \"snn-glove\")"
   ]
  },
  {
   "attachments": {},
   "cell_type": "markdown",
   "metadata": {},
   "source": [
    "## CNN "
   ]
  },
  {
   "attachments": {},
   "cell_type": "markdown",
   "metadata": {},
   "source": [
    "- usually for 2d image recognition \n",
    "- use 1d cnn for text classification"
   ]
  },
  {
   "cell_type": "code",
   "execution_count": 364,
   "metadata": {},
   "outputs": [],
   "source": [
    "from keras.layers import Conv1D"
   ]
  },
  {
   "cell_type": "code",
   "execution_count": 181,
   "metadata": {},
   "outputs": [
    {
     "name": "stdout",
     "output_type": "stream",
     "text": [
      "Epoch 1/10\n",
      "197/197 [==============================] - 7s 31ms/step - loss: 0.6051 - accuracy: 0.6680 - precision: 0.6301 - recall: 0.5131 - val_loss: 0.5761 - val_accuracy: 0.6992 - val_precision: 0.6387 - val_recall: 0.6489\n",
      "Epoch 2/10\n",
      "197/197 [==============================] - 6s 29ms/step - loss: 0.4727 - accuracy: 0.7832 - precision: 0.7686 - recall: 0.6962 - val_loss: 0.5746 - val_accuracy: 0.7018 - val_precision: 0.7551 - val_recall: 0.4264\n",
      "Epoch 3/10\n",
      "197/197 [==============================] - 6s 29ms/step - loss: 0.3827 - accuracy: 0.8451 - precision: 0.8443 - recall: 0.7765 - val_loss: 0.5665 - val_accuracy: 0.7092 - val_precision: 0.6841 - val_recall: 0.5683\n",
      "Epoch 4/10\n",
      "197/197 [==============================] - 6s 30ms/step - loss: 0.2904 - accuracy: 0.9136 - precision: 0.9124 - recall: 0.8798 - val_loss: 0.5639 - val_accuracy: 0.7148 - val_precision: 0.6721 - val_recall: 0.6232\n",
      "Epoch 5/10\n",
      "197/197 [==============================] - 6s 30ms/step - loss: 0.2111 - accuracy: 0.9529 - precision: 0.9538 - recall: 0.9337 - val_loss: 0.5802 - val_accuracy: 0.7104 - val_precision: 0.6588 - val_recall: 0.6401\n",
      "Epoch 6/10\n",
      "197/197 [==============================] - 6s 28ms/step - loss: 0.1502 - accuracy: 0.9742 - precision: 0.9774 - recall: 0.9612 - val_loss: 0.6009 - val_accuracy: 0.7055 - val_precision: 0.6399 - val_recall: 0.6791\n",
      "Epoch 7/10\n",
      "197/197 [==============================] - 6s 28ms/step - loss: 0.1045 - accuracy: 0.9876 - precision: 0.9920 - recall: 0.9785 - val_loss: 0.6234 - val_accuracy: 0.7126 - val_precision: 0.6821 - val_recall: 0.5878\n",
      "Epoch 8/10\n",
      "197/197 [==============================] - 6s 28ms/step - loss: 0.0778 - accuracy: 0.9906 - precision: 0.9947 - recall: 0.9830 - val_loss: 0.6436 - val_accuracy: 0.7066 - val_precision: 0.6523 - val_recall: 0.6418\n",
      "Epoch 9/10\n",
      "197/197 [==============================] - 6s 29ms/step - loss: 0.0576 - accuracy: 0.9940 - precision: 0.9962 - recall: 0.9894 - val_loss: 0.6825 - val_accuracy: 0.7085 - val_precision: 0.6720 - val_recall: 0.5940\n",
      "Epoch 10/10\n",
      "197/197 [==============================] - 6s 29ms/step - loss: 0.0445 - accuracy: 0.9952 - precision: 0.9977 - recall: 0.9910 - val_loss: 0.7014 - val_accuracy: 0.7078 - val_precision: 0.6432 - val_recall: 0.6791\n"
     ]
    },
    {
     "name": "stderr",
     "output_type": "stream",
     "text": [
      "WARNING:absl:Found untraced functions such as _jit_compiled_convolution_op, _update_step_xla while saving (showing 2 of 2). These functions will not be directly callable after loading.\n"
     ]
    },
    {
     "name": "stdout",
     "output_type": "stream",
     "text": [
      "INFO:tensorflow:Assets written to: models/cnn-glove\\assets\n"
     ]
    },
    {
     "name": "stderr",
     "output_type": "stream",
     "text": [
      "INFO:tensorflow:Assets written to: models/cnn-glove\\assets\n"
     ]
    }
   ],
   "source": [
    "model = Sequential()\n",
    "model.add(glove_encoder)\n",
    "model.add(glove_embedding)\n",
    "model.add(Conv1D(128, 5, activation='relu'))\n",
    "model.add(GlobalMaxPooling1D())\n",
    "model.add(Dense(1, activation='sigmoid'))\n",
    "\n",
    "model.compile(optimizer='adam',\n",
    "              loss='binary_crossentropy',\n",
    "              metrics=METRICS)\n",
    "\n",
    "history = model.fit(x_train, y_train_binary, epochs=10,\n",
    "                    validation_data=(x_test,y_test_binary))\n",
    "\n",
    "save_model_nn(model, \"cnn-glove\")"
   ]
  },
  {
   "attachments": {},
   "cell_type": "markdown",
   "metadata": {},
   "source": [
    "## RNN - LSTM"
   ]
  },
  {
   "attachments": {},
   "cell_type": "markdown",
   "metadata": {},
   "source": [
    "- LSTM is a variant of RNN\n",
    "- input -> textvectorization (encoder/token) -> emedding -> nn layer\n",
    "- Now that all samples have a uniform length, the model must be informed that some part of the data is actually padding and should be ignored. That mechanism is masking.\n"
   ]
  },
  {
   "cell_type": "code",
   "execution_count": null,
   "metadata": {},
   "outputs": [],
   "source": [
    "from keras.layers import LSTM"
   ]
  },
  {
   "cell_type": "code",
   "execution_count": 182,
   "metadata": {},
   "outputs": [
    {
     "name": "stdout",
     "output_type": "stream",
     "text": [
      "Epoch 1/10\n",
      "197/197 [==============================] - 72s 347ms/step - loss: 0.6031 - accuracy: 0.6817 - precision: 0.6327 - recall: 0.5827 - val_loss: 0.5538 - val_accuracy: 0.7170 - val_precision: 0.6676 - val_recall: 0.6463\n",
      "Epoch 2/10\n",
      "197/197 [==============================] - 62s 312ms/step - loss: 0.5473 - accuracy: 0.7175 - precision: 0.6817 - recall: 0.6208 - val_loss: 0.5331 - val_accuracy: 0.7330 - val_precision: 0.7132 - val_recall: 0.6064\n",
      "Epoch 3/10\n",
      "197/197 [==============================] - 60s 307ms/step - loss: 0.5131 - accuracy: 0.7458 - precision: 0.7141 - recall: 0.6638 - val_loss: 0.5225 - val_accuracy: 0.7464 - val_precision: 0.7282 - val_recall: 0.6294\n",
      "Epoch 4/10\n",
      "197/197 [==============================] - 62s 315ms/step - loss: 0.4754 - accuracy: 0.7708 - precision: 0.7376 - recall: 0.7098 - val_loss: 0.5124 - val_accuracy: 0.7430 - val_precision: 0.6936 - val_recall: 0.6924\n",
      "Epoch 5/10\n",
      "197/197 [==============================] - 61s 310ms/step - loss: 0.4419 - accuracy: 0.7890 - precision: 0.7569 - recall: 0.7369 - val_loss: 0.5153 - val_accuracy: 0.7442 - val_precision: 0.6780 - val_recall: 0.7411\n",
      "Epoch 6/10\n",
      "197/197 [==============================] - 62s 314ms/step - loss: 0.3956 - accuracy: 0.8151 - precision: 0.7785 - recall: 0.7855 - val_loss: 0.5415 - val_accuracy: 0.7423 - val_precision: 0.6998 - val_recall: 0.6738\n",
      "Epoch 7/10\n",
      "197/197 [==============================] - 59s 298ms/step - loss: 0.3434 - accuracy: 0.8482 - precision: 0.8249 - recall: 0.8130 - val_loss: 0.5278 - val_accuracy: 0.7508 - val_precision: 0.7150 - val_recall: 0.6738\n",
      "Epoch 8/10\n",
      "197/197 [==============================] - 59s 300ms/step - loss: 0.2901 - accuracy: 0.8778 - precision: 0.8534 - recall: 0.8579 - val_loss: 0.5771 - val_accuracy: 0.7505 - val_precision: 0.7073 - val_recall: 0.6897\n",
      "Epoch 9/10\n",
      "197/197 [==============================] - 61s 310ms/step - loss: 0.2351 - accuracy: 0.9069 - precision: 0.8858 - recall: 0.8948 - val_loss: 0.6018 - val_accuracy: 0.7453 - val_precision: 0.6777 - val_recall: 0.7473\n",
      "Epoch 10/10\n",
      "197/197 [==============================] - 61s 309ms/step - loss: 0.1875 - accuracy: 0.9279 - precision: 0.9098 - recall: 0.9205 - val_loss: 0.6863 - val_accuracy: 0.7360 - val_precision: 0.6697 - val_recall: 0.7296\n"
     ]
    },
    {
     "name": "stderr",
     "output_type": "stream",
     "text": [
      "WARNING:absl:Found untraced functions such as _update_step_xla, lstm_cell_55_layer_call_fn, lstm_cell_55_layer_call_and_return_conditional_losses while saving (showing 3 of 3). These functions will not be directly callable after loading.\n"
     ]
    },
    {
     "name": "stdout",
     "output_type": "stream",
     "text": [
      "INFO:tensorflow:Assets written to: models/lstm-glove\\assets\n"
     ]
    },
    {
     "name": "stderr",
     "output_type": "stream",
     "text": [
      "INFO:tensorflow:Assets written to: models/lstm-glove\\assets\n"
     ]
    }
   ],
   "source": [
    "model = Sequential()\n",
    "model.add(glove_encoder)\n",
    "model.add(glove_embedding)\n",
    "model.add(LSTM(128))\n",
    "model.add(Dense(1, activation='sigmoid'))\n",
    "\n",
    "model.compile(optimizer='adam',\n",
    "              loss='binary_crossentropy',\n",
    "              metrics=METRICS)\n",
    "\n",
    "history = model.fit(x_train, y_train_binary, epochs=10,\n",
    "                    validation_data=(x_test,y_test_binary))\n",
    "\n",
    "save_model_nn(model, \"lstm-glove\")"
   ]
  },
  {
   "attachments": {},
   "cell_type": "markdown",
   "metadata": {},
   "source": [
    "## RNN "
   ]
  },
  {
   "attachments": {},
   "cell_type": "markdown",
   "metadata": {},
   "source": [
    "- https://www.tensorflow.org/text/tutorials/text_classification_rnn"
   ]
  },
  {
   "cell_type": "code",
   "execution_count": 41,
   "metadata": {},
   "outputs": [],
   "source": [
    "# not using standardize since already clean the text\n",
    "encoder = keras.layers.TextVectorization(\n",
    "    standardize = None,\n",
    "    )\n",
    "encoder.adapt(x_train)"
   ]
  },
  {
   "cell_type": "code",
   "execution_count": 122,
   "metadata": {},
   "outputs": [],
   "source": [
    "#'input_dim' = the vocab size that we will choose. In other words it is the number of unique words in the vocab.\n",
    "#'output_dim' = the number of dimensions we wish to embed into. Each word will be represented by a vector of this much dimensions.\n",
    "model = keras.Sequential([\n",
    "    encoder,\n",
    "    keras.layers.Embedding(\n",
    "        input_dim=len(encoder.get_vocabulary()),\n",
    "        output_dim=64,\n",
    "        # Use masking to handle the variable sequence lengths\n",
    "        mask_zero=True),\n",
    "    keras.layers.Bidirectional(keras.layers.LSTM(64)),\n",
    "    keras.layers.Dense(64, activation='relu'),\n",
    "    keras.layers.Dropout(0.5), #helps prevent overfitting\n",
    "    keras.layers.Dense(1)\n",
    "])"
   ]
  },
  {
   "cell_type": "code",
   "execution_count": 131,
   "metadata": {},
   "outputs": [],
   "source": [
    "model = keras.Sequential([\n",
    "    encoder,\n",
    "    keras.layers.Embedding(len(encoder.get_vocabulary()), 64, mask_zero=True),\n",
    "    keras.layers.Bidirectional(keras.layers.LSTM(64,  return_sequences=True)),\n",
    "    keras.layers.Bidirectional(keras.layers.LSTM(32)),\n",
    "    keras.layers.Dense(64, activation='relu'),\n",
    "    keras.layers.Dropout(0.5), #helps prevent overfitting\n",
    "    keras.layers.Dense(1)\n",
    "])\n",
    "model.compile(optimizer='adam',\n",
    "              loss='binary_crossentropy',\n",
    "              metrics=METRICS)\n",
    "history = model.fit(x_train, y_train_binary, epochs=10,\n",
    "                    validation_data=(x_test,y_test_binary),\n",
    "                    verbose=0)\n",
    "save_model_nn(model, \"rnn-glove\")"
   ]
  },
  {
   "attachments": {},
   "cell_type": "markdown",
   "metadata": {},
   "source": [
    "## GPT"
   ]
  },
  {
   "attachments": {},
   "cell_type": "markdown",
   "metadata": {},
   "source": [
    "- GPT-2 belongs to a family of deep learning models called “Transformers”. Transformers are the building block of the current state-of-the-art NLP architecture\n",
    "- A typical transformers design contains two parts, encoder and decoders, both working as vectorized representation of word relationships.\n",
    "- https://github.com/openai/openai-cookbook/blob/main/examples/Fine-tuned_classification.ipynb"
   ]
  },
  {
   "cell_type": "code",
   "execution_count": 1,
   "metadata": {},
   "outputs": [],
   "source": [
    "import openai\n",
    "import os"
   ]
  },
  {
   "cell_type": "code",
   "execution_count": 112,
   "metadata": {},
   "outputs": [],
   "source": [
    "df_gpt = pd.DataFrame(zip(x_train,y_train_binary), columns = ['prompt', 'completion'])\n",
    "df_gpt.to_json(\"Dataset/SE2019/gpt_data_train.jsonl\", orient='records', lines=True)\n",
    "\n",
    "df_gpt = pd.DataFrame(zip(x_test,y_test_binary), columns = ['prompt', 'completion'])\n",
    "df_gpt.to_json(\"Dataset/SE2019/gpt_data_test.jsonl\", orient='records', lines=True)\n",
    "\n",
    "df_gpt[\"completion\"].value_counts()"
   ]
  },
  {
   "cell_type": "code",
   "execution_count": 118,
   "metadata": {},
   "outputs": [
    {
     "name": "stdout",
     "output_type": "stream",
     "text": [
      "^C\n"
     ]
    }
   ],
   "source": [
    "# do in cmd\n",
    "!openai tools fine_tunes.prepare_data -f Dataset/SE2019/gpt_data_test.jsonl "
   ]
  },
  {
   "cell_type": "code",
   "execution_count": 14,
   "metadata": {},
   "outputs": [
    {
     "data": {
      "text/plain": [
       "<File file id=file-XCtTOLLxI6jM59TlrDoT4LGL at 0x1d8e3f835f0> JSON: {\n",
       "  \"object\": \"file\",\n",
       "  \"id\": \"file-XCtTOLLxI6jM59TlrDoT4LGL\",\n",
       "  \"purpose\": \"fine-tune\",\n",
       "  \"filename\": \"file\",\n",
       "  \"bytes\": 656131,\n",
       "  \"created_at\": 1687786717,\n",
       "  \"status\": \"uploaded\",\n",
       "  \"status_details\": null\n",
       "}"
      ]
     },
     "execution_count": 14,
     "metadata": {},
     "output_type": "execute_result"
    }
   ],
   "source": [
    "# openai.File.create(\n",
    "#   file=open(\"Dataset/SE2019/gpt_data_train_prepared_train.jsonl\", \"rb\"),\n",
    "#   purpose='fine-tune'\n",
    "# )\n",
    "\n",
    "# openai.File.create(\n",
    "#   file=open(\"Dataset/SE2019/gpt_data_train_prepared_valid.jsonl\", \"rb\"),\n",
    "#   purpose='fine-tune'\n",
    "# )"
   ]
  },
  {
   "cell_type": "code",
   "execution_count": 120,
   "metadata": {},
   "outputs": [
    {
     "data": {
      "text/plain": [
       "<OpenAIObject list at 0x1d9425b9f10> JSON: {\n",
       "  \"object\": \"list\",\n",
       "  \"data\": [\n",
       "    {\n",
       "      \"object\": \"fine-tune\",\n",
       "      \"id\": \"ft-VwKO2vWcNtBJrPoZorUtFTVV\",\n",
       "      \"hyperparams\": {\n",
       "        \"n_epochs\": 4,\n",
       "        \"batch_size\": 8,\n",
       "        \"prompt_loss_weight\": 0.01,\n",
       "        \"learning_rate_multiplier\": 0.1,\n",
       "        \"classification_positive_class\": \" Hate\",\n",
       "        \"compute_classification_metrics\": true\n",
       "      },\n",
       "      \"organization_id\": \"org-57m2RCBaIU5pd9nsTDikjeLg\",\n",
       "      \"model\": \"ada\",\n",
       "      \"training_files\": [\n",
       "        {\n",
       "          \"object\": \"file\",\n",
       "          \"id\": \"file-XCtTOLLxI6jM59TlrDoT4LGL\",\n",
       "          \"purpose\": \"fine-tune\",\n",
       "          \"filename\": \"file\",\n",
       "          \"bytes\": 656131,\n",
       "          \"created_at\": 1687786717,\n",
       "          \"status\": \"processed\",\n",
       "          \"status_details\": null\n",
       "        }\n",
       "      ],\n",
       "      \"validation_files\": [\n",
       "        {\n",
       "          \"object\": \"file\",\n",
       "          \"id\": \"file-Do46v5kndAoPqdaR2ZVwbPT5\",\n",
       "          \"purpose\": \"fine-tune\",\n",
       "          \"filename\": \"file\",\n",
       "          \"bytes\": 122361,\n",
       "          \"created_at\": 1687786754,\n",
       "          \"status\": \"processed\",\n",
       "          \"status_details\": null\n",
       "        }\n",
       "      ],\n",
       "      \"result_files\": [\n",
       "        {\n",
       "          \"object\": \"file\",\n",
       "          \"id\": \"file-xfJGasLV4EMODTNBLNd6zxWU\",\n",
       "          \"purpose\": \"fine-tune-results\",\n",
       "          \"filename\": \"compiled_results.csv\",\n",
       "          \"bytes\": 174768,\n",
       "          \"created_at\": 1687790623,\n",
       "          \"status\": \"processed\",\n",
       "          \"status_details\": null\n",
       "        }\n",
       "      ],\n",
       "      \"created_at\": 1687786769,\n",
       "      \"updated_at\": 1687790623,\n",
       "      \"status\": \"succeeded\",\n",
       "      \"fine_tuned_model\": \"ada:ft-personal-2023-06-26-14-43-42\"\n",
       "    },\n",
       "    {\n",
       "      \"object\": \"fine-tune\",\n",
       "      \"id\": \"ft-LAcA6GtvgJ0lksqRT8jwtzSx\",\n",
       "      \"hyperparams\": {\n",
       "        \"n_epochs\": 4,\n",
       "        \"batch_size\": null,\n",
       "        \"prompt_loss_weight\": 0.01,\n",
       "        \"learning_rate_multiplier\": null,\n",
       "        \"classification_positive_class\": \" 0\",\n",
       "        \"compute_classification_metrics\": true\n",
       "      },\n",
       "      \"organization_id\": \"org-57m2RCBaIU5pd9nsTDikjeLg\",\n",
       "      \"model\": \"ada\",\n",
       "      \"training_files\": [\n",
       "        {\n",
       "          \"object\": \"file\",\n",
       "          \"id\": \"file-m1vI4bNTIIUnUZJwUM4eo2S3\",\n",
       "          \"purpose\": \"fine-tune\",\n",
       "          \"filename\": \"Dataset/SE2019/gpt_data_train_prepared.jsonl\",\n",
       "          \"bytes\": 745178,\n",
       "          \"created_at\": 1687797102,\n",
       "          \"status\": \"processed\",\n",
       "          \"status_details\": null\n",
       "        }\n",
       "      ],\n",
       "      \"validation_files\": [\n",
       "        {\n",
       "          \"object\": \"file\",\n",
       "          \"id\": \"file-GR7BA1XaebEeGZxz9QLB5sg8\",\n",
       "          \"purpose\": \"fine-tune\",\n",
       "          \"filename\": \"Dataset/SE2019/gpt_data_test_prepared.jsonl\",\n",
       "          \"bytes\": 321131,\n",
       "          \"created_at\": 1687797106,\n",
       "          \"status\": \"processed\",\n",
       "          \"status_details\": null\n",
       "        }\n",
       "      ],\n",
       "      \"result_files\": [],\n",
       "      \"created_at\": 1687797106,\n",
       "      \"updated_at\": 1687797106,\n",
       "      \"status\": \"pending\",\n",
       "      \"fine_tuned_model\": null\n",
       "    }\n",
       "  ]\n",
       "}"
      ]
     },
     "execution_count": 120,
     "metadata": {},
     "output_type": "execute_result"
    },
    {
     "name": "stdout",
     "output_type": "stream",
     "text": [
      "Uploaded file from Dataset/SE2019/gpt_data_train_prepared.jsonl: file-m1vI4bNTIIUnUZJwUM4eo2S3\n",
      "Uploaded file from Dataset/SE2019/gpt_data_test_prepared.jsonl: file-GR7BA1XaebEeGZxz9QLB5sg8\n",
      "Created fine-tune: ft-LAcA6GtvgJ0lksqRT8jwtzSx\n",
      "Streaming events until fine-tuning is complete...\n",
      "\n",
      "(Ctrl-C will interrupt the stream, but not cancel the fine-tune)\n",
      "[2023-06-27 00:31:46] Created fine-tune: ft-LAcA6GtvgJ0lksqRT8jwtzSx\n",
      "\n"
     ]
    },
    {
     "name": "stderr",
     "output_type": "stream",
     "text": [
      "\n",
      "Upload progress:   0%|          | 0.00/745k [00:00<?, ?it/s]\n",
      "Upload progress: 100%|██████████| 745k/745k [00:00<?, ?it/s]\n",
      "\n",
      "Upload progress:   0%|          | 0.00/321k [00:00<?, ?it/s]\n",
      "Upload progress: 100%|██████████| 321k/321k [00:00<00:00, 318Mit/s]\n"
     ]
    }
   ],
   "source": [
    "openai.FineTune.list()"
   ]
  },
  {
   "cell_type": "code",
   "execution_count": 119,
   "metadata": {},
   "outputs": [
    {
     "name": "stdout",
     "output_type": "stream",
     "text": [
      "^C\n"
     ]
    }
   ],
   "source": [
    "!openai api fine_tunes.create -m ada -t \"Dataset/SE2019/gpt_data_train_prepared.jsonl\" -v \"Dataset/SE2019/gpt_data_test_prepared.jsonl\" --compute_classification_metrics --classification_positive_class \" 0\""
   ]
  },
  {
   "cell_type": "code",
   "execution_count": 16,
   "metadata": {},
   "outputs": [
    {
     "data": {
      "text/plain": [
       "<FineTune fine-tune id=ft-VwKO2vWcNtBJrPoZorUtFTVV at 0x1d8e3fe31d0> JSON: {\n",
       "  \"object\": \"fine-tune\",\n",
       "  \"id\": \"ft-VwKO2vWcNtBJrPoZorUtFTVV\",\n",
       "  \"hyperparams\": {\n",
       "    \"n_epochs\": 4,\n",
       "    \"batch_size\": null,\n",
       "    \"prompt_loss_weight\": 0.01,\n",
       "    \"learning_rate_multiplier\": null,\n",
       "    \"classification_positive_class\": \" Hate\",\n",
       "    \"compute_classification_metrics\": true\n",
       "  },\n",
       "  \"organization_id\": \"org-57m2RCBaIU5pd9nsTDikjeLg\",\n",
       "  \"model\": \"ada\",\n",
       "  \"training_files\": [\n",
       "    {\n",
       "      \"object\": \"file\",\n",
       "      \"id\": \"file-XCtTOLLxI6jM59TlrDoT4LGL\",\n",
       "      \"purpose\": \"fine-tune\",\n",
       "      \"filename\": \"file\",\n",
       "      \"bytes\": 656131,\n",
       "      \"created_at\": 1687786717,\n",
       "      \"status\": \"processed\",\n",
       "      \"status_details\": null\n",
       "    }\n",
       "  ],\n",
       "  \"validation_files\": [\n",
       "    {\n",
       "      \"object\": \"file\",\n",
       "      \"id\": \"file-Do46v5kndAoPqdaR2ZVwbPT5\",\n",
       "      \"purpose\": \"fine-tune\",\n",
       "      \"filename\": \"file\",\n",
       "      \"bytes\": 122361,\n",
       "      \"created_at\": 1687786754,\n",
       "      \"status\": \"processed\",\n",
       "      \"status_details\": null\n",
       "    }\n",
       "  ],\n",
       "  \"result_files\": [],\n",
       "  \"created_at\": 1687786769,\n",
       "  \"updated_at\": 1687786769,\n",
       "  \"status\": \"pending\",\n",
       "  \"fine_tuned_model\": null,\n",
       "  \"events\": [\n",
       "    {\n",
       "      \"object\": \"fine-tune-event\",\n",
       "      \"level\": \"info\",\n",
       "      \"message\": \"Created fine-tune: ft-VwKO2vWcNtBJrPoZorUtFTVV\",\n",
       "      \"created_at\": 1687786769\n",
       "    }\n",
       "  ]\n",
       "}"
      ]
     },
     "execution_count": 16,
     "metadata": {},
     "output_type": "execute_result"
    }
   ],
   "source": [
    "openai.FineTune.create(training_file =\"file-XCtTOLLxI6jM59TlrDoT4LGL\",\n",
    "                       validation_file=\"file-Do46v5kndAoPqdaR2ZVwbPT5\",\n",
    "                       model = \"ada\",\n",
    "                       compute_classification_metrics = True,\n",
    "                       classification_positive_class = \" Hate\"\n",
    "                       )"
   ]
  },
  {
   "cell_type": "code",
   "execution_count": 185,
   "metadata": {},
   "outputs": [
    {
     "data": {
      "text/plain": [
       "<FineTune fine-tune id=ft-LAcA6GtvgJ0lksqRT8jwtzSx at 0x1d922d92ab0> JSON: {\n",
       "  \"object\": \"fine-tune\",\n",
       "  \"id\": \"ft-LAcA6GtvgJ0lksqRT8jwtzSx\",\n",
       "  \"hyperparams\": {\n",
       "    \"n_epochs\": 4,\n",
       "    \"batch_size\": 8,\n",
       "    \"prompt_loss_weight\": 0.01,\n",
       "    \"learning_rate_multiplier\": 0.1,\n",
       "    \"classification_positive_class\": \" 0\",\n",
       "    \"compute_classification_metrics\": true\n",
       "  },\n",
       "  \"organization_id\": \"org-57m2RCBaIU5pd9nsTDikjeLg\",\n",
       "  \"model\": \"ada\",\n",
       "  \"training_files\": [\n",
       "    {\n",
       "      \"object\": \"file\",\n",
       "      \"id\": \"file-m1vI4bNTIIUnUZJwUM4eo2S3\",\n",
       "      \"purpose\": \"fine-tune\",\n",
       "      \"filename\": \"Dataset/SE2019/gpt_data_train_prepared.jsonl\",\n",
       "      \"bytes\": 745178,\n",
       "      \"created_at\": 1687797102,\n",
       "      \"status\": \"processed\",\n",
       "      \"status_details\": null\n",
       "    }\n",
       "  ],\n",
       "  \"validation_files\": [\n",
       "    {\n",
       "      \"object\": \"file\",\n",
       "      \"id\": \"file-GR7BA1XaebEeGZxz9QLB5sg8\",\n",
       "      \"purpose\": \"fine-tune\",\n",
       "      \"filename\": \"Dataset/SE2019/gpt_data_test_prepared.jsonl\",\n",
       "      \"bytes\": 321131,\n",
       "      \"created_at\": 1687797106,\n",
       "      \"status\": \"processed\",\n",
       "      \"status_details\": null\n",
       "    }\n",
       "  ],\n",
       "  \"result_files\": [\n",
       "    {\n",
       "      \"object\": \"file\",\n",
       "      \"id\": \"file-jLyo55YpRZ6D0diBaQedaJ81\",\n",
       "      \"purpose\": \"fine-tune-results\",\n",
       "      \"filename\": \"compiled_results.csv\",\n",
       "      \"bytes\": 188239,\n",
       "      \"created_at\": 1687800449,\n",
       "      \"status\": \"processed\",\n",
       "      \"status_details\": null\n",
       "    }\n",
       "  ],\n",
       "  \"created_at\": 1687797106,\n",
       "  \"updated_at\": 1687800449,\n",
       "  \"status\": \"succeeded\",\n",
       "  \"fine_tuned_model\": \"ada:ft-personal-2023-06-26-17-27-28\",\n",
       "  \"events\": [\n",
       "    {\n",
       "      \"object\": \"fine-tune-event\",\n",
       "      \"level\": \"info\",\n",
       "      \"message\": \"Created fine-tune: ft-LAcA6GtvgJ0lksqRT8jwtzSx\",\n",
       "      \"created_at\": 1687797106\n",
       "    },\n",
       "    {\n",
       "      \"object\": \"fine-tune-event\",\n",
       "      \"level\": \"info\",\n",
       "      \"message\": \"Fine-tune costs $0.19\",\n",
       "      \"created_at\": 1687798778\n",
       "    },\n",
       "    {\n",
       "      \"object\": \"fine-tune-event\",\n",
       "      \"level\": \"info\",\n",
       "      \"message\": \"Fine-tune enqueued. Queue number: 4\",\n",
       "      \"created_at\": 1687798778\n",
       "    },\n",
       "    {\n",
       "      \"object\": \"fine-tune-event\",\n",
       "      \"level\": \"info\",\n",
       "      \"message\": \"Fine-tune is in the queue. Queue number: 3\",\n",
       "      \"created_at\": 1687798794\n",
       "    },\n",
       "    {\n",
       "      \"object\": \"fine-tune-event\",\n",
       "      \"level\": \"info\",\n",
       "      \"message\": \"Fine-tune is in the queue. Queue number: 2\",\n",
       "      \"created_at\": 1687798848\n",
       "    },\n",
       "    {\n",
       "      \"object\": \"fine-tune-event\",\n",
       "      \"level\": \"info\",\n",
       "      \"message\": \"Fine-tune is in the queue. Queue number: 1\",\n",
       "      \"created_at\": 1687798942\n",
       "    },\n",
       "    {\n",
       "      \"object\": \"fine-tune-event\",\n",
       "      \"level\": \"info\",\n",
       "      \"message\": \"Fine-tune is in the queue. Queue number: 0\",\n",
       "      \"created_at\": 1687798976\n",
       "    },\n",
       "    {\n",
       "      \"object\": \"fine-tune-event\",\n",
       "      \"level\": \"info\",\n",
       "      \"message\": \"Fine-tune started\",\n",
       "      \"created_at\": 1687799010\n",
       "    },\n",
       "    {\n",
       "      \"object\": \"fine-tune-event\",\n",
       "      \"level\": \"info\",\n",
       "      \"message\": \"Completed epoch 1/4\",\n",
       "      \"created_at\": 1687799340\n",
       "    },\n",
       "    {\n",
       "      \"object\": \"fine-tune-event\",\n",
       "      \"level\": \"info\",\n",
       "      \"message\": \"Completed epoch 3/4\",\n",
       "      \"created_at\": 1687800039\n",
       "    },\n",
       "    {\n",
       "      \"object\": \"fine-tune-event\",\n",
       "      \"level\": \"info\",\n",
       "      \"message\": \"Uploaded model: ada:ft-personal-2023-06-26-17-27-28\",\n",
       "      \"created_at\": 1687800448\n",
       "    },\n",
       "    {\n",
       "      \"object\": \"fine-tune-event\",\n",
       "      \"level\": \"info\",\n",
       "      \"message\": \"Uploaded result file: file-jLyo55YpRZ6D0diBaQedaJ81\",\n",
       "      \"created_at\": 1687800449\n",
       "    },\n",
       "    {\n",
       "      \"object\": \"fine-tune-event\",\n",
       "      \"level\": \"info\",\n",
       "      \"message\": \"Fine-tune succeeded\",\n",
       "      \"created_at\": 1687800449\n",
       "    }\n",
       "  ]\n",
       "}"
      ]
     },
     "execution_count": 185,
     "metadata": {},
     "output_type": "execute_result"
    }
   ],
   "source": [
    "openai.FineTune.retrieve(id=\"ft-LAcA6GtvgJ0lksqRT8jwtzSx\")"
   ]
  },
  {
   "cell_type": "code",
   "execution_count": 189,
   "metadata": {},
   "outputs": [
    {
     "data": {
      "text/html": [
       "<div>\n",
       "<style scoped>\n",
       "    .dataframe tbody tr th:only-of-type {\n",
       "        vertical-align: middle;\n",
       "    }\n",
       "\n",
       "    .dataframe tbody tr th {\n",
       "        vertical-align: top;\n",
       "    }\n",
       "\n",
       "    .dataframe thead th {\n",
       "        text-align: right;\n",
       "    }\n",
       "</style>\n",
       "<table border=\"1\" class=\"dataframe\">\n",
       "  <thead>\n",
       "    <tr style=\"text-align: right;\">\n",
       "      <th></th>\n",
       "      <th>step</th>\n",
       "      <th>elapsed_tokens</th>\n",
       "      <th>elapsed_examples</th>\n",
       "      <th>training_loss</th>\n",
       "      <th>training_sequence_accuracy</th>\n",
       "      <th>training_token_accuracy</th>\n",
       "      <th>validation_loss</th>\n",
       "      <th>validation_sequence_accuracy</th>\n",
       "      <th>validation_token_accuracy</th>\n",
       "      <th>classification/accuracy</th>\n",
       "      <th>classification/precision</th>\n",
       "      <th>classification/recall</th>\n",
       "      <th>classification/auroc</th>\n",
       "      <th>classification/auprc</th>\n",
       "      <th>classification/f1.0</th>\n",
       "    </tr>\n",
       "  </thead>\n",
       "  <tbody>\n",
       "    <tr>\n",
       "      <th>3137</th>\n",
       "      <td>3138</td>\n",
       "      <td>1017808</td>\n",
       "      <td>25104</td>\n",
       "      <td>0.030316</td>\n",
       "      <td>1.0</td>\n",
       "      <td>1.0</td>\n",
       "      <td>NaN</td>\n",
       "      <td>NaN</td>\n",
       "      <td>NaN</td>\n",
       "      <td>0.814333</td>\n",
       "      <td>0.837239</td>\n",
       "      <td>0.844728</td>\n",
       "      <td>0.890362</td>\n",
       "      <td>0.914601</td>\n",
       "      <td>0.840967</td>\n",
       "    </tr>\n",
       "  </tbody>\n",
       "</table>\n",
       "</div>"
      ],
      "text/plain": [
       "      step  elapsed_tokens  elapsed_examples  training_loss   \n",
       "3137  3138         1017808             25104       0.030316  \\\n",
       "\n",
       "      training_sequence_accuracy  training_token_accuracy  validation_loss   \n",
       "3137                         1.0                      1.0              NaN  \\\n",
       "\n",
       "      validation_sequence_accuracy  validation_token_accuracy   \n",
       "3137                           NaN                        NaN  \\\n",
       "\n",
       "      classification/accuracy  classification/precision   \n",
       "3137                 0.814333                  0.837239  \\\n",
       "\n",
       "      classification/recall  classification/auroc  classification/auprc   \n",
       "3137               0.844728              0.890362              0.914601  \\\n",
       "\n",
       "      classification/f1.0  \n",
       "3137             0.840967  "
      ]
     },
     "execution_count": 189,
     "metadata": {},
     "output_type": "execute_result"
    }
   ],
   "source": [
    "!openai api fine_tunes.results -i ft-LAcA6GtvgJ0lksqRT8jwtzSx > result.csv\n",
    "\n",
    "results = pd.read_csv('result.csv')\n",
    "results[results['classification/accuracy'].notnull()].tail(1)"
   ]
  },
  {
   "cell_type": "code",
   "execution_count": 192,
   "metadata": {},
   "outputs": [
    {
     "data": {
      "text/plain": [
       "<OpenAIObject text_completion id=cmpl-7VkrvjXnGVBFgUGavLNGemvxZO6hr at 0x1d923fd5430> JSON: {\n",
       "  \"id\": \"cmpl-7VkrvjXnGVBFgUGavLNGemvxZO6hr\",\n",
       "  \"object\": \"text_completion\",\n",
       "  \"created\": 1687802687,\n",
       "  \"model\": \"ada:ft-personal-2023-06-26-17-27-28\",\n",
       "  \"choices\": [\n",
       "    {\n",
       "      \"text\": \" 1\",\n",
       "      \"index\": 0,\n",
       "      \"logprobs\": null,\n",
       "      \"finish_reason\": \"length\"\n",
       "    }\n",
       "  ],\n",
       "  \"usage\": {\n",
       "    \"prompt_tokens\": 16,\n",
       "    \"completion_tokens\": 1,\n",
       "    \"total_tokens\": 17\n",
       "  }\n",
       "}"
      ]
     },
     "execution_count": 192,
     "metadata": {},
     "output_type": "execute_result"
    }
   ],
   "source": [
    "model_id = \"ada:ft-personal-2023-06-26-17-27-28\"\n",
    "prompt_text = [\"ask #womensuck youre obviously woman suck #subtweet ->\"]\n",
    "openai.Completion.create(model=model_id, prompt=prompt_text, max_tokens=1, temperature=0)"
   ]
  },
  {
   "attachments": {},
   "cell_type": "markdown",
   "metadata": {},
   "source": [
    "## Summary"
   ]
  },
  {
   "cell_type": "code",
   "execution_count": 183,
   "metadata": {},
   "outputs": [
    {
     "name": "stdout",
     "output_type": "stream",
     "text": [
      "Model: \"sequential_10\"\n",
      "_________________________________________________________________\n",
      " Layer (type)                Output Shape              Param #   \n",
      "=================================================================\n",
      " text_vectorization_2 (TextV  (None, 50)               0         \n",
      " ectorization)                                                   \n",
      "                                                                 \n",
      " embedding_7 (Embedding)     (None, 50, 100)           1464500   \n",
      "                                                                 \n",
      " lstm_6 (LSTM)               (None, 128)               117248    \n",
      "                                                                 \n",
      " dense_14 (Dense)            (None, 1)                 129       \n",
      "                                                                 \n",
      "=================================================================\n",
      "Total params: 1,581,877\n",
      "Trainable params: 117,377\n",
      "Non-trainable params: 1,464,500\n",
      "_________________________________________________________________\n",
      "None\n"
     ]
    }
   ],
   "source": [
    "print(model.summary())"
   ]
  },
  {
   "attachments": {},
   "cell_type": "markdown",
   "metadata": {},
   "source": [
    "## Predict"
   ]
  },
  {
   "cell_type": "code",
   "execution_count": 135,
   "metadata": {},
   "outputs": [
    {
     "name": "stdout",
     "output_type": "stream",
     "text": [
      "Score:  3.623720645904541\n",
      "Accuracy:  0.7044188380241394\n"
     ]
    }
   ],
   "source": [
    "score = model.evaluate(x_test, y_test_binary, verbose=0)\n",
    "print(\"Score: \", score[0])\n",
    "print(\"Accuracy: \", score[1])\n",
    "\n",
    "y_test_pred_percent = model.predict(x_test, verbose=0)\n",
    "y_test_pred = np.where(y_test_pred_percent > 0.5, \"Hate\", \"Non-Hate\") \n",
    "y_test_pred = y_test_pred.flatten()"
   ]
  },
  {
   "cell_type": "code",
   "execution_count": 84,
   "metadata": {},
   "outputs": [
    {
     "data": {
      "text/plain": [
       "array([[ 7.7245126 ],\n",
       "       [-0.88663757],\n",
       "       [ 0.686733  ],\n",
       "       ...,\n",
       "       [ 1.0753376 ],\n",
       "       [ 2.448687  ],\n",
       "       [-0.88231736]], dtype=float32)"
      ]
     },
     "execution_count": 84,
     "metadata": {},
     "output_type": "execute_result"
    }
   ],
   "source": [
    "y_test_pred_percent"
   ]
  },
  {
   "attachments": {},
   "cell_type": "markdown",
   "metadata": {},
   "source": [
    "## BERT"
   ]
  },
  {
   "attachments": {},
   "cell_type": "markdown",
   "metadata": {},
   "source": [
    "- https://towardsdatascience.com/bert-explained-state-of-the-art-language-model-for-nlp-f8b21a9b6270\n",
    "- https://www.youtube.com/watch?v=hOCDJyZ6quA\n",
    "- tensorflow hub bert https://tfhub.dev/tensorflow/bert_en_uncased_L-12_H-768_A-12/4\n",
    "- bert will convert sentence into embeding vector which will feed to neural network for training \n",
    "- consist of preprocess and embeding \n",
    "- (4)BERT-RNN: The corresponding representational word vectors were trained by BERT model for the input text, which were then classified by RNN neural network. (5)word2vec-RNN: This model is a traditional text classification model. 4.3.\n",
    "- BERT is a neural-network-based technique for language processing pre-training\n",
    "- it is not a classification algorithm \n",
    "- BERT generates <b>contextual embeddings</b>, the input to the model is a sentence rather than a single word."
   ]
  },
  {
   "cell_type": "code",
   "execution_count": null,
   "metadata": {},
   "outputs": [],
   "source": []
  },
  {
   "attachments": {},
   "cell_type": "markdown",
   "metadata": {},
   "source": [
    "## Visualise"
   ]
  },
  {
   "cell_type": "code",
   "execution_count": 127,
   "metadata": {},
   "outputs": [
    {
     "data": {
      "text/plain": [
       "(0.0, 3.2916086547076704)"
      ]
     },
     "execution_count": 127,
     "metadata": {},
     "output_type": "execute_result"
    },
    {
     "data": {
      "image/png": "[encoded data removed]",
      "text/plain": [
       "<Figure size 1600x800 with 2 Axes>"
      ]
     },
     "metadata": {},
     "output_type": "display_data"
    }
   ],
   "source": [
    "model_history = history\n",
    "# Model performance charts\n",
    "plt.figure(figsize=(16, 8))\n",
    "plt.subplot(1, 2, 1)\n",
    "\n",
    "plt.plot(model_history.history['accuracy'])\n",
    "plt.plot(model_history.history['val_accuracy'])\n",
    "\n",
    "plt.title('model accuracy')\n",
    "plt.ylabel('accuracy')\n",
    "plt.xlabel('epoch')\n",
    "plt.legend(['train', 'test'], loc='upper left')\n",
    "plt.ylim(None, 1)\n",
    "plt.subplot(1, 2, 2)\n",
    "\n",
    "plt.plot(model_history.history['loss'])\n",
    "plt.plot(model_history.history['val_loss'])\n",
    "\n",
    "plt.title('model loss')\n",
    "plt.ylabel('loss')\n",
    "plt.xlabel('epoch')\n",
    "plt.legend(['train', 'test'], loc='upper left')\n",
    "plt.ylim(0, None)\n"
   ]
  },
  {
   "attachments": {},
   "cell_type": "markdown",
   "metadata": {},
   "source": [
    "# Results"
   ]
  },
  {
   "cell_type": "code",
   "execution_count": 92,
   "metadata": {},
   "outputs": [
    {
     "name": "stdout",
     "output_type": "stream",
     "text": [
      "              precision    recall  f1-score   support\n",
      "\n",
      "        Hate       0.65      0.67      0.66      1128\n",
      "    Non-Hate       0.76      0.75      0.75      1565\n",
      "\n",
      "    accuracy                           0.71      2693\n",
      "   macro avg       0.71      0.71      0.71      2693\n",
      "weighted avg       0.71      0.71      0.71      2693\n",
      "\n"
     ]
    }
   ],
   "source": [
    "# Classification report\n",
    "print(classification_report(y_test, y_test_pred, labels=[\"Hate\",\"Non-Hate\"]))"
   ]
  },
  {
   "cell_type": "code",
   "execution_count": 136,
   "metadata": {},
   "outputs": [
    {
     "name": "stdout",
     "output_type": "stream",
     "text": [
      "Count: Actual\n",
      "Non-Hate    1565\n",
      "Hate        1128\n",
      "Name: count, dtype: int64\n",
      "\n",
      "Count: Predict\n",
      "Non-Hate    1475\n",
      "Hate        1218\n",
      "Name: count, dtype: int64\n",
      "\n"
     ]
    },
    {
     "data": {
      "image/png": "[encoded data removed]",
      "text/plain": [
       "<Figure size 640x480 with 2 Axes>"
      ]
     },
     "metadata": {},
     "output_type": "display_data"
    }
   ],
   "source": [
    "# Heatmap\n",
    "ax = plt.subplot()\n",
    "\n",
    "# Plot the two-way Confusion Matrix\n",
    "sb.heatmap(confusion_matrix(y_test, y_test_pred, labels=[\"Hate\",\"Non-Hate\"]), \n",
    "           annot = True, fmt=\".0f\", annot_kws={\"size\": 18}, ax=ax)\n",
    "\n",
    "ax.set_xlabel('Predicted')\n",
    "ax.set_ylabel('Actual')\n",
    "ax.xaxis.set_ticklabels([\"Hate\",\"Non-Hate\"])\n",
    "ax.yaxis.set_ticklabels([\"Hate\",\"Non-Hate\"])\n",
    "\n",
    "# Count\n",
    "df1 = pd.DataFrame({'Actual':y_test, 'Predict':y_test_pred})\n",
    "# print(df1.describe())\n",
    "print(f\"Count: {df1['Actual'].value_counts()}\")\n",
    "print()\n",
    "print(f\"Count: {df1['Predict'].value_counts()}\")\n",
    "print()"
   ]
  },
  {
   "attachments": {},
   "cell_type": "markdown",
   "metadata": {},
   "source": [
    "# Model compare"
   ]
  },
  {
   "cell_type": "code",
   "execution_count": 95,
   "metadata": {},
   "outputs": [],
   "source": [
    "from sklearn.metrics import precision_recall_fscore_support\n",
    "from sklearn.metrics import accuracy_score\n",
    "\n",
    "def get_score(y_test, y_test_pred):\n",
    "    # print(f\"Accuracy: {accuracy_score(y_test, y_test_pred):.2f}\")\n",
    "    # score = precision_recall_fscore_support(y_test, y_test_pred, average=\"weighted\")\n",
    "    # print(f\"Precision: {score[0]:.2f}\")\n",
    "    # print(f\"Recall: {score[1]:.2f}\")\n",
    "    # print(f\"F1-score: {score[2]:.2f}\")\n",
    "    # print()\n",
    "    a = accuracy_score(y_test, y_test_pred)\n",
    "    prf = precision_recall_fscore_support(y_test, y_test_pred, average=\"weighted\")\n",
    "    return a, prf[0], prf[1], prf[2]\n",
    "    # print(precision_recall_fscore_support(y_test, y_test_pred, average=\"micro\"))"
   ]
  },
  {
   "cell_type": "code",
   "execution_count": 125,
   "metadata": {},
   "outputs": [],
   "source": [
    "# load model\n",
    "def get_result():\n",
    "    model_to_load = [\"dtc\", \"dtc-tfid\", \"dtc-w2v\",\"svm\", \"svm-tfid\", \"svm-w2v\", \"lr\", \"lr-tfid\",\"lr-w2v\"]\n",
    "    c = [\"Model\", \"Accuracy\", \"Precision\", \"Recall\", \"F1-Score\"]\n",
    "    result_table = pd.DataFrame(columns=c)\n",
    "\n",
    "    for i in model_to_load:\n",
    "        filename = f\"models/{i}.pickle\"\n",
    "        old_model = pickle.load(open(filename,\"rb\"))\n",
    "        \n",
    "        y_test_pred = old_model.predict(x_test)\n",
    "\n",
    "        a = accuracy_score(y_test, y_test_pred)\n",
    "        prf = precision_recall_fscore_support(y_test, y_test_pred, average=\"weighted\")\n",
    "\n",
    "        result_table.loc[len(result_table)] = [i, a, prf[0], prf[1], prf[2]]\n",
    "\n",
    "    return result_table.style.highlight_max(color = 'red', axis = 0)\n",
    "\n",
    "def get_result_nn(model_to_load):\n",
    "    c = [\"Model\", \"Accuracy\", \"Precision\", \"Recall\", \"F1-Score\"]\n",
    "    result_table = pd.DataFrame(columns=c)\n",
    "\n",
    "    for i in model_to_load:\n",
    "        filename = f\"models/{i}\"\n",
    "        old_model = load_model(filename)\n",
    "\n",
    "        y_test_pred = old_model.predict(x_test, verbose=0)\n",
    "        y_test_pred = np.where(y_test_pred > 0.5, \"Hate\", \"Non-Hate\") \n",
    "        y_test_pred = y_test_pred.flatten()\n",
    "\n",
    "        a = accuracy_score(y_test, y_test_pred)\n",
    "        prf = precision_recall_fscore_support(y_test, y_test_pred, average=\"weighted\")\n",
    "\n",
    "        result_table.loc[len(result_table)] = [i, a, prf[0], prf[1], prf[2]]\n",
    "\n",
    "    return result_table.style.highlight_max(color = 'red', axis = 0)"
   ]
  },
  {
   "cell_type": "code",
   "execution_count": 137,
   "metadata": {},
   "outputs": [
    {
     "data": {
      "text/html": [
       "<style type=\"text/css\">\n",
       "#T_51f96_row0_col1, #T_51f96_row0_col2, #T_51f96_row0_col3, #T_51f96_row0_col4, #T_51f96_row1_col0 {\n",
       "  background-color: red;\n",
       "}\n",
       "</style>\n",
       "<table id=\"T_51f96\">\n",
       "  <thead>\n",
       "    <tr>\n",
       "      <th class=\"blank level0\" >&nbsp;</th>\n",
       "      <th id=\"T_51f96_level0_col0\" class=\"col_heading level0 col0\" >Model</th>\n",
       "      <th id=\"T_51f96_level0_col1\" class=\"col_heading level0 col1\" >Accuracy</th>\n",
       "      <th id=\"T_51f96_level0_col2\" class=\"col_heading level0 col2\" >Precision</th>\n",
       "      <th id=\"T_51f96_level0_col3\" class=\"col_heading level0 col3\" >Recall</th>\n",
       "      <th id=\"T_51f96_level0_col4\" class=\"col_heading level0 col4\" >F1-Score</th>\n",
       "    </tr>\n",
       "  </thead>\n",
       "  <tbody>\n",
       "    <tr>\n",
       "      <th id=\"T_51f96_level0_row0\" class=\"row_heading level0 row0\" >0</th>\n",
       "      <td id=\"T_51f96_row0_col0\" class=\"data row0 col0\" >rnn</td>\n",
       "      <td id=\"T_51f96_row0_col1\" class=\"data row0 col1\" >0.714816</td>\n",
       "      <td id=\"T_51f96_row0_col2\" class=\"data row0 col2\" >0.718796</td>\n",
       "      <td id=\"T_51f96_row0_col3\" class=\"data row0 col3\" >0.714816</td>\n",
       "      <td id=\"T_51f96_row0_col4\" class=\"data row0 col4\" >0.716045</td>\n",
       "    </tr>\n",
       "    <tr>\n",
       "      <th id=\"T_51f96_level0_row1\" class=\"row_heading level0 row1\" >1</th>\n",
       "      <td id=\"T_51f96_row1_col0\" class=\"data row1 col0\" >rnn-dropout</td>\n",
       "      <td id=\"T_51f96_row1_col1\" class=\"data row1 col1\" >0.709989</td>\n",
       "      <td id=\"T_51f96_row1_col2\" class=\"data row1 col2\" >0.711467</td>\n",
       "      <td id=\"T_51f96_row1_col3\" class=\"data row1 col3\" >0.709989</td>\n",
       "      <td id=\"T_51f96_row1_col4\" class=\"data row1 col4\" >0.710594</td>\n",
       "    </tr>\n",
       "    <tr>\n",
       "      <th id=\"T_51f96_level0_row2\" class=\"row_heading level0 row2\" >2</th>\n",
       "      <td id=\"T_51f96_row2_col0\" class=\"data row2 col0\" >rnn-double</td>\n",
       "      <td id=\"T_51f96_row2_col1\" class=\"data row2 col1\" >0.704419</td>\n",
       "      <td id=\"T_51f96_row2_col2\" class=\"data row2 col2\" >0.708576</td>\n",
       "      <td id=\"T_51f96_row2_col3\" class=\"data row2 col3\" >0.704419</td>\n",
       "      <td id=\"T_51f96_row2_col4\" class=\"data row2 col4\" >0.705713</td>\n",
       "    </tr>\n",
       "  </tbody>\n",
       "</table>\n"
      ],
      "text/plain": [
       "<pandas.io.formats.style.Styler at 0x1d9c5611ad0>"
      ]
     },
     "execution_count": 137,
     "metadata": {},
     "output_type": "execute_result"
    }
   ],
   "source": [
    "get_result_nn([\"rnn\", \"rnn-dropout\", \"rnn-double\"])"
   ]
  },
  {
   "cell_type": "code",
   "execution_count": 184,
   "metadata": {},
   "outputs": [
    {
     "data": {
      "text/html": [
       "<style type=\"text/css\">\n",
       "#T_858ce_row0_col0, #T_858ce_row2_col1, #T_858ce_row2_col2, #T_858ce_row2_col3, #T_858ce_row2_col4 {\n",
       "  background-color: red;\n",
       "}\n",
       "</style>\n",
       "<table id=\"T_858ce\">\n",
       "  <thead>\n",
       "    <tr>\n",
       "      <th class=\"blank level0\" >&nbsp;</th>\n",
       "      <th id=\"T_858ce_level0_col0\" class=\"col_heading level0 col0\" >Model</th>\n",
       "      <th id=\"T_858ce_level0_col1\" class=\"col_heading level0 col1\" >Accuracy</th>\n",
       "      <th id=\"T_858ce_level0_col2\" class=\"col_heading level0 col2\" >Precision</th>\n",
       "      <th id=\"T_858ce_level0_col3\" class=\"col_heading level0 col3\" >Recall</th>\n",
       "      <th id=\"T_858ce_level0_col4\" class=\"col_heading level0 col4\" >F1-Score</th>\n",
       "    </tr>\n",
       "  </thead>\n",
       "  <tbody>\n",
       "    <tr>\n",
       "      <th id=\"T_858ce_level0_row0\" class=\"row_heading level0 row0\" >0</th>\n",
       "      <td id=\"T_858ce_row0_col0\" class=\"data row0 col0\" >snn-glove1</td>\n",
       "      <td id=\"T_858ce_row0_col1\" class=\"data row0 col1\" >0.674712</td>\n",
       "      <td id=\"T_858ce_row0_col2\" class=\"data row0 col2\" >0.670726</td>\n",
       "      <td id=\"T_858ce_row0_col3\" class=\"data row0 col3\" >0.674712</td>\n",
       "      <td id=\"T_858ce_row0_col4\" class=\"data row0 col4\" >0.670636</td>\n",
       "    </tr>\n",
       "    <tr>\n",
       "      <th id=\"T_858ce_level0_row1\" class=\"row_heading level0 row1\" >1</th>\n",
       "      <td id=\"T_858ce_row1_col0\" class=\"data row1 col0\" >cnn-glove</td>\n",
       "      <td id=\"T_858ce_row1_col1\" class=\"data row1 col1\" >0.707761</td>\n",
       "      <td id=\"T_858ce_row1_col2\" class=\"data row1 col2\" >0.710471</td>\n",
       "      <td id=\"T_858ce_row1_col3\" class=\"data row1 col3\" >0.707761</td>\n",
       "      <td id=\"T_858ce_row1_col4\" class=\"data row1 col4\" >0.708729</td>\n",
       "    </tr>\n",
       "    <tr>\n",
       "      <th id=\"T_858ce_level0_row2\" class=\"row_heading level0 row2\" >2</th>\n",
       "      <td id=\"T_858ce_row2_col0\" class=\"data row2 col0\" >lstm-glove</td>\n",
       "      <td id=\"T_858ce_row2_col1\" class=\"data row2 col1\" >0.735982</td>\n",
       "      <td id=\"T_858ce_row2_col2\" class=\"data row2 col2\" >0.740558</td>\n",
       "      <td id=\"T_858ce_row2_col3\" class=\"data row2 col3\" >0.735982</td>\n",
       "      <td id=\"T_858ce_row2_col4\" class=\"data row2 col4\" >0.737237</td>\n",
       "    </tr>\n",
       "  </tbody>\n",
       "</table>\n"
      ],
      "text/plain": [
       "<pandas.io.formats.style.Styler at 0x1d904150790>"
      ]
     },
     "execution_count": 184,
     "metadata": {},
     "output_type": "execute_result"
    }
   ],
   "source": [
    "get_result_nn([\"snn-glove1\", \"cnn-glove\", \"lstm-glove\"])"
   ]
  },
  {
   "cell_type": "code",
   "execution_count": 60,
   "metadata": {},
   "outputs": [
    {
     "data": {
      "text/html": [
       "<style type=\"text/css\">\n",
       "#T_9394b_row0_col0, #T_9394b_row2_col1, #T_9394b_row2_col2, #T_9394b_row2_col3, #T_9394b_row2_col4 {\n",
       "  background-color: red;\n",
       "}\n",
       "</style>\n",
       "<table id=\"T_9394b\">\n",
       "  <thead>\n",
       "    <tr>\n",
       "      <th class=\"blank level0\" >&nbsp;</th>\n",
       "      <th id=\"T_9394b_level0_col0\" class=\"col_heading level0 col0\" >Model</th>\n",
       "      <th id=\"T_9394b_level0_col1\" class=\"col_heading level0 col1\" >Accuracy</th>\n",
       "      <th id=\"T_9394b_level0_col2\" class=\"col_heading level0 col2\" >Precision</th>\n",
       "      <th id=\"T_9394b_level0_col3\" class=\"col_heading level0 col3\" >Recall</th>\n",
       "      <th id=\"T_9394b_level0_col4\" class=\"col_heading level0 col4\" >F1-Score</th>\n",
       "    </tr>\n",
       "  </thead>\n",
       "  <tbody>\n",
       "    <tr>\n",
       "      <th id=\"T_9394b_level0_row0\" class=\"row_heading level0 row0\" >0</th>\n",
       "      <td id=\"T_9394b_row0_col0\" class=\"data row0 col0\" >snn-glove</td>\n",
       "      <td id=\"T_9394b_row0_col1\" class=\"data row0 col1\" >0.673227</td>\n",
       "      <td id=\"T_9394b_row0_col2\" class=\"data row0 col2\" >0.669308</td>\n",
       "      <td id=\"T_9394b_row0_col3\" class=\"data row0 col3\" >0.673227</td>\n",
       "      <td id=\"T_9394b_row0_col4\" class=\"data row0 col4\" >0.669412</td>\n",
       "    </tr>\n",
       "    <tr>\n",
       "      <th id=\"T_9394b_level0_row1\" class=\"row_heading level0 row1\" >1</th>\n",
       "      <td id=\"T_9394b_row1_col0\" class=\"data row1 col0\" >cnn-glove</td>\n",
       "      <td id=\"T_9394b_row1_col1\" class=\"data row1 col1\" >0.708132</td>\n",
       "      <td id=\"T_9394b_row1_col2\" class=\"data row1 col2\" >0.705622</td>\n",
       "      <td id=\"T_9394b_row1_col3\" class=\"data row1 col3\" >0.708132</td>\n",
       "      <td id=\"T_9394b_row1_col4\" class=\"data row1 col4\" >0.705882</td>\n",
       "    </tr>\n",
       "    <tr>\n",
       "      <th id=\"T_9394b_level0_row2\" class=\"row_heading level0 row2\" >2</th>\n",
       "      <td id=\"T_9394b_row2_col0\" class=\"data row2 col0\" >lstm-glove</td>\n",
       "      <td id=\"T_9394b_row2_col1\" class=\"data row2 col1\" >0.723357</td>\n",
       "      <td id=\"T_9394b_row2_col2\" class=\"data row2 col2\" >0.732822</td>\n",
       "      <td id=\"T_9394b_row2_col3\" class=\"data row2 col3\" >0.723357</td>\n",
       "      <td id=\"T_9394b_row2_col4\" class=\"data row2 col4\" >0.725116</td>\n",
       "    </tr>\n",
       "  </tbody>\n",
       "</table>\n"
      ],
      "text/plain": [
       "<pandas.io.formats.style.Styler at 0x134b3cd3890>"
      ]
     },
     "execution_count": 60,
     "metadata": {},
     "output_type": "execute_result"
    }
   ],
   "source": [
    "get_result_nn([\"snn-glove\",\"cnn-glove\",\"lstm-glove\"])"
   ]
  },
  {
   "cell_type": "code",
   "execution_count": 149,
   "metadata": {},
   "outputs": [
    {
     "data": {
      "text/html": [
       "<style type=\"text/css\">\n",
       "#T_52f0a_row3_col1, #T_52f0a_row3_col2, #T_52f0a_row3_col3, #T_52f0a_row3_col4, #T_52f0a_row5_col0 {\n",
       "  background-color: red;\n",
       "}\n",
       "</style>\n",
       "<table id=\"T_52f0a\">\n",
       "  <thead>\n",
       "    <tr>\n",
       "      <th class=\"blank level0\" >&nbsp;</th>\n",
       "      <th id=\"T_52f0a_level0_col0\" class=\"col_heading level0 col0\" >Model</th>\n",
       "      <th id=\"T_52f0a_level0_col1\" class=\"col_heading level0 col1\" >Accuracy</th>\n",
       "      <th id=\"T_52f0a_level0_col2\" class=\"col_heading level0 col2\" >Precision</th>\n",
       "      <th id=\"T_52f0a_level0_col3\" class=\"col_heading level0 col3\" >Recall</th>\n",
       "      <th id=\"T_52f0a_level0_col4\" class=\"col_heading level0 col4\" >F1-Score</th>\n",
       "    </tr>\n",
       "  </thead>\n",
       "  <tbody>\n",
       "    <tr>\n",
       "      <th id=\"T_52f0a_level0_row0\" class=\"row_heading level0 row0\" >0</th>\n",
       "      <td id=\"T_52f0a_row0_col0\" class=\"data row0 col0\" >dtc</td>\n",
       "      <td id=\"T_52f0a_row0_col1\" class=\"data row0 col1\" >0.749350</td>\n",
       "      <td id=\"T_52f0a_row0_col2\" class=\"data row0 col2\" >0.747932</td>\n",
       "      <td id=\"T_52f0a_row0_col3\" class=\"data row0 col3\" >0.749350</td>\n",
       "      <td id=\"T_52f0a_row0_col4\" class=\"data row0 col4\" >0.748249</td>\n",
       "    </tr>\n",
       "    <tr>\n",
       "      <th id=\"T_52f0a_level0_row1\" class=\"row_heading level0 row1\" >1</th>\n",
       "      <td id=\"T_52f0a_row1_col0\" class=\"data row1 col0\" >dtc-tfid</td>\n",
       "      <td id=\"T_52f0a_row1_col1\" class=\"data row1 col1\" >0.743780</td>\n",
       "      <td id=\"T_52f0a_row1_col2\" class=\"data row1 col2\" >0.743531</td>\n",
       "      <td id=\"T_52f0a_row1_col3\" class=\"data row1 col3\" >0.743780</td>\n",
       "      <td id=\"T_52f0a_row1_col4\" class=\"data row1 col4\" >0.743649</td>\n",
       "    </tr>\n",
       "    <tr>\n",
       "      <th id=\"T_52f0a_level0_row2\" class=\"row_heading level0 row2\" >2</th>\n",
       "      <td id=\"T_52f0a_row2_col0\" class=\"data row2 col0\" >dtc-w2v</td>\n",
       "      <td id=\"T_52f0a_row2_col1\" class=\"data row2 col1\" >0.586706</td>\n",
       "      <td id=\"T_52f0a_row2_col2\" class=\"data row2 col2\" >0.589898</td>\n",
       "      <td id=\"T_52f0a_row2_col3\" class=\"data row2 col3\" >0.586706</td>\n",
       "      <td id=\"T_52f0a_row2_col4\" class=\"data row2 col4\" >0.588024</td>\n",
       "    </tr>\n",
       "    <tr>\n",
       "      <th id=\"T_52f0a_level0_row3\" class=\"row_heading level0 row3\" >3</th>\n",
       "      <td id=\"T_52f0a_row3_col0\" class=\"data row3 col0\" >svm</td>\n",
       "      <td id=\"T_52f0a_row3_col1\" class=\"data row3 col1\" >0.768659</td>\n",
       "      <td id=\"T_52f0a_row3_col2\" class=\"data row3 col2\" >0.767394</td>\n",
       "      <td id=\"T_52f0a_row3_col3\" class=\"data row3 col3\" >0.768659</td>\n",
       "      <td id=\"T_52f0a_row3_col4\" class=\"data row3 col4\" >0.766195</td>\n",
       "    </tr>\n",
       "    <tr>\n",
       "      <th id=\"T_52f0a_level0_row4\" class=\"row_heading level0 row4\" >4</th>\n",
       "      <td id=\"T_52f0a_row4_col0\" class=\"data row4 col0\" >svm-tfid</td>\n",
       "      <td id=\"T_52f0a_row4_col1\" class=\"data row4 col1\" >0.746008</td>\n",
       "      <td id=\"T_52f0a_row4_col2\" class=\"data row4 col2\" >0.760112</td>\n",
       "      <td id=\"T_52f0a_row4_col3\" class=\"data row4 col3\" >0.746008</td>\n",
       "      <td id=\"T_52f0a_row4_col4\" class=\"data row4 col4\" >0.731861</td>\n",
       "    </tr>\n",
       "    <tr>\n",
       "      <th id=\"T_52f0a_level0_row5\" class=\"row_heading level0 row5\" >5</th>\n",
       "      <td id=\"T_52f0a_row5_col0\" class=\"data row5 col0\" >svm-w2v</td>\n",
       "      <td id=\"T_52f0a_row5_col1\" class=\"data row5 col1\" >0.590048</td>\n",
       "      <td id=\"T_52f0a_row5_col2\" class=\"data row5 col2\" >0.611645</td>\n",
       "      <td id=\"T_52f0a_row5_col3\" class=\"data row5 col3\" >0.590048</td>\n",
       "      <td id=\"T_52f0a_row5_col4\" class=\"data row5 col4\" >0.461541</td>\n",
       "    </tr>\n",
       "    <tr>\n",
       "      <th id=\"T_52f0a_level0_row6\" class=\"row_heading level0 row6\" >6</th>\n",
       "      <td id=\"T_52f0a_row6_col0\" class=\"data row6 col0\" >lr</td>\n",
       "      <td id=\"T_52f0a_row6_col1\" class=\"data row6 col1\" >0.684738</td>\n",
       "      <td id=\"T_52f0a_row6_col2\" class=\"data row6 col2\" >0.690064</td>\n",
       "      <td id=\"T_52f0a_row6_col3\" class=\"data row6 col3\" >0.684738</td>\n",
       "      <td id=\"T_52f0a_row6_col4\" class=\"data row6 col4\" >0.686326</td>\n",
       "    </tr>\n",
       "    <tr>\n",
       "      <th id=\"T_52f0a_level0_row7\" class=\"row_heading level0 row7\" >7</th>\n",
       "      <td id=\"T_52f0a_row7_col0\" class=\"data row7 col0\" >lr-tfid</td>\n",
       "      <td id=\"T_52f0a_row7_col1\" class=\"data row7 col1\" >0.694393</td>\n",
       "      <td id=\"T_52f0a_row7_col2\" class=\"data row7 col2\" >0.697312</td>\n",
       "      <td id=\"T_52f0a_row7_col3\" class=\"data row7 col3\" >0.694393</td>\n",
       "      <td id=\"T_52f0a_row7_col4\" class=\"data row7 col4\" >0.695449</td>\n",
       "    </tr>\n",
       "    <tr>\n",
       "      <th id=\"T_52f0a_level0_row8\" class=\"row_heading level0 row8\" >8</th>\n",
       "      <td id=\"T_52f0a_row8_col0\" class=\"data row8 col0\" >lr-w2v</td>\n",
       "      <td id=\"T_52f0a_row8_col1\" class=\"data row8 col1\" >0.708504</td>\n",
       "      <td id=\"T_52f0a_row8_col2\" class=\"data row8 col2\" >0.705758</td>\n",
       "      <td id=\"T_52f0a_row8_col3\" class=\"data row8 col3\" >0.708504</td>\n",
       "      <td id=\"T_52f0a_row8_col4\" class=\"data row8 col4\" >0.705809</td>\n",
       "    </tr>\n",
       "  </tbody>\n",
       "</table>\n"
      ],
      "text/plain": [
       "<pandas.io.formats.style.Styler at 0x1f954ed6450>"
      ]
     },
     "execution_count": 149,
     "metadata": {},
     "output_type": "execute_result"
    }
   ],
   "source": [
    "get_result()"
   ]
  },
  {
   "cell_type": "code",
   "execution_count": 241,
   "metadata": {},
   "outputs": [
    {
     "data": {
      "text/html": [
       "<style type=\"text/css\">\n",
       "#T_2fd06_row3_col1, #T_2fd06_row3_col2, #T_2fd06_row3_col3, #T_2fd06_row3_col4, #T_2fd06_row5_col0 {\n",
       "  background-color: red;\n",
       "}\n",
       "</style>\n",
       "<table id=\"T_2fd06\">\n",
       "  <thead>\n",
       "    <tr>\n",
       "      <th class=\"blank level0\" >&nbsp;</th>\n",
       "      <th id=\"T_2fd06_level0_col0\" class=\"col_heading level0 col0\" >Model</th>\n",
       "      <th id=\"T_2fd06_level0_col1\" class=\"col_heading level0 col1\" >Accuracy</th>\n",
       "      <th id=\"T_2fd06_level0_col2\" class=\"col_heading level0 col2\" >Precision</th>\n",
       "      <th id=\"T_2fd06_level0_col3\" class=\"col_heading level0 col3\" >Recall</th>\n",
       "      <th id=\"T_2fd06_level0_col4\" class=\"col_heading level0 col4\" >F1-Score</th>\n",
       "    </tr>\n",
       "  </thead>\n",
       "  <tbody>\n",
       "    <tr>\n",
       "      <th id=\"T_2fd06_level0_row0\" class=\"row_heading level0 row0\" >0</th>\n",
       "      <td id=\"T_2fd06_row0_col0\" class=\"data row0 col0\" >dtc</td>\n",
       "      <td id=\"T_2fd06_row0_col1\" class=\"data row0 col1\" >0.762347</td>\n",
       "      <td id=\"T_2fd06_row0_col2\" class=\"data row0 col2\" >0.762231</td>\n",
       "      <td id=\"T_2fd06_row0_col3\" class=\"data row0 col3\" >0.762347</td>\n",
       "      <td id=\"T_2fd06_row0_col4\" class=\"data row0 col4\" >0.762287</td>\n",
       "    </tr>\n",
       "    <tr>\n",
       "      <th id=\"T_2fd06_level0_row1\" class=\"row_heading level0 row1\" >1</th>\n",
       "      <td id=\"T_2fd06_row1_col0\" class=\"data row1 col0\" >dtc-tfid</td>\n",
       "      <td id=\"T_2fd06_row1_col1\" class=\"data row1 col1\" >0.744523</td>\n",
       "      <td id=\"T_2fd06_row1_col2\" class=\"data row1 col2\" >0.744717</td>\n",
       "      <td id=\"T_2fd06_row1_col3\" class=\"data row1 col3\" >0.744523</td>\n",
       "      <td id=\"T_2fd06_row1_col4\" class=\"data row1 col4\" >0.744616</td>\n",
       "    </tr>\n",
       "    <tr>\n",
       "      <th id=\"T_2fd06_level0_row2\" class=\"row_heading level0 row2\" >2</th>\n",
       "      <td id=\"T_2fd06_row2_col0\" class=\"data row2 col0\" >dtc-w2v</td>\n",
       "      <td id=\"T_2fd06_row2_col1\" class=\"data row2 col1\" >0.583364</td>\n",
       "      <td id=\"T_2fd06_row2_col2\" class=\"data row2 col2\" >0.585593</td>\n",
       "      <td id=\"T_2fd06_row2_col3\" class=\"data row2 col3\" >0.583364</td>\n",
       "      <td id=\"T_2fd06_row2_col4\" class=\"data row2 col4\" >0.584338</td>\n",
       "    </tr>\n",
       "    <tr>\n",
       "      <th id=\"T_2fd06_level0_row3\" class=\"row_heading level0 row3\" >3</th>\n",
       "      <td id=\"T_2fd06_row3_col0\" class=\"data row3 col0\" >svm</td>\n",
       "      <td id=\"T_2fd06_row3_col1\" class=\"data row3 col1\" >0.773115</td>\n",
       "      <td id=\"T_2fd06_row3_col2\" class=\"data row3 col2\" >0.774587</td>\n",
       "      <td id=\"T_2fd06_row3_col3\" class=\"data row3 col3\" >0.773115</td>\n",
       "      <td id=\"T_2fd06_row3_col4\" class=\"data row3 col4\" >0.768277</td>\n",
       "    </tr>\n",
       "    <tr>\n",
       "      <th id=\"T_2fd06_level0_row4\" class=\"row_heading level0 row4\" >4</th>\n",
       "      <td id=\"T_2fd06_row4_col0\" class=\"data row4 col0\" >svm-tfid</td>\n",
       "      <td id=\"T_2fd06_row4_col1\" class=\"data row4 col1\" >0.743780</td>\n",
       "      <td id=\"T_2fd06_row4_col2\" class=\"data row4 col2\" >0.767172</td>\n",
       "      <td id=\"T_2fd06_row4_col3\" class=\"data row4 col3\" >0.743780</td>\n",
       "      <td id=\"T_2fd06_row4_col4\" class=\"data row4 col4\" >0.725699</td>\n",
       "    </tr>\n",
       "    <tr>\n",
       "      <th id=\"T_2fd06_level0_row5\" class=\"row_heading level0 row5\" >5</th>\n",
       "      <td id=\"T_2fd06_row5_col0\" class=\"data row5 col0\" >svm-w2v</td>\n",
       "      <td id=\"T_2fd06_row5_col1\" class=\"data row5 col1\" >0.597104</td>\n",
       "      <td id=\"T_2fd06_row5_col2\" class=\"data row5 col2\" >0.605277</td>\n",
       "      <td id=\"T_2fd06_row5_col3\" class=\"data row5 col3\" >0.597104</td>\n",
       "      <td id=\"T_2fd06_row5_col4\" class=\"data row5 col4\" >0.498157</td>\n",
       "    </tr>\n",
       "    <tr>\n",
       "      <th id=\"T_2fd06_level0_row6\" class=\"row_heading level0 row6\" >6</th>\n",
       "      <td id=\"T_2fd06_row6_col0\" class=\"data row6 col0\" >lr</td>\n",
       "      <td id=\"T_2fd06_row6_col1\" class=\"data row6 col1\" >0.726328</td>\n",
       "      <td id=\"T_2fd06_row6_col2\" class=\"data row6 col2\" >0.729749</td>\n",
       "      <td id=\"T_2fd06_row6_col3\" class=\"data row6 col3\" >0.726328</td>\n",
       "      <td id=\"T_2fd06_row6_col4\" class=\"data row6 col4\" >0.727414</td>\n",
       "    </tr>\n",
       "    <tr>\n",
       "      <th id=\"T_2fd06_level0_row7\" class=\"row_heading level0 row7\" >7</th>\n",
       "      <td id=\"T_2fd06_row7_col0\" class=\"data row7 col0\" >lr-tfid</td>\n",
       "      <td id=\"T_2fd06_row7_col1\" class=\"data row7 col1\" >0.725956</td>\n",
       "      <td id=\"T_2fd06_row7_col2\" class=\"data row7 col2\" >0.728042</td>\n",
       "      <td id=\"T_2fd06_row7_col3\" class=\"data row7 col3\" >0.725956</td>\n",
       "      <td id=\"T_2fd06_row7_col4\" class=\"data row7 col4\" >0.726728</td>\n",
       "    </tr>\n",
       "    <tr>\n",
       "      <th id=\"T_2fd06_level0_row8\" class=\"row_heading level0 row8\" >8</th>\n",
       "      <td id=\"T_2fd06_row8_col0\" class=\"data row8 col0\" >lr-w2v</td>\n",
       "      <td id=\"T_2fd06_row8_col1\" class=\"data row8 col1\" >0.705904</td>\n",
       "      <td id=\"T_2fd06_row8_col2\" class=\"data row8 col2\" >0.703003</td>\n",
       "      <td id=\"T_2fd06_row8_col3\" class=\"data row8 col3\" >0.705904</td>\n",
       "      <td id=\"T_2fd06_row8_col4\" class=\"data row8 col4\" >0.700796</td>\n",
       "    </tr>\n",
       "  </tbody>\n",
       "</table>\n"
      ],
      "text/plain": [
       "<pandas.io.formats.style.Styler at 0x1f954c14490>"
      ]
     },
     "execution_count": 241,
     "metadata": {},
     "output_type": "execute_result"
    }
   ],
   "source": [
    "get_result()"
   ]
  }
 ],
 "metadata": {
  "kernelspec": {
   "display_name": ".venv",
   "language": "python",
   "name": "python3"
  },
  "language_info": {
   "codemirror_mode": {
    "name": "ipython",
    "version": 3
   },
   "file_extension": ".py",
   "mimetype": "text/x-python",
   "name": "python",
   "nbconvert_exporter": "python",
   "pygments_lexer": "ipython3",
   "version": "3.11.1"
  },
  "orig_nbformat": 4
 },
 "nbformat": 4,
 "nbformat_minor": 2
}
