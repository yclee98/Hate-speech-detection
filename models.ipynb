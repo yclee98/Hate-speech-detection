{
 "cells": [
  {
   "attachments": {},
   "cell_type": "markdown",
   "metadata": {},
   "source": [
    "# Start"
   ]
  },
  {
   "cell_type": "code",
   "execution_count": 1,
   "metadata": {},
   "outputs": [],
   "source": [
    "import pandas as pd\n",
    "import numpy as np\n",
    "import pickle \n",
    "\n",
    "import seaborn as sb\n",
    "import matplotlib.pyplot as plt\n",
    "\n",
    "from sklearn.model_selection import train_test_split\n",
    "\n",
    "from sklearn.metrics import confusion_matrix\n",
    "from sklearn.metrics import classification_report\n",
    "\n",
    "import time"
   ]
  },
  {
   "cell_type": "code",
   "execution_count": 1,
   "metadata": {},
   "outputs": [],
   "source": [
    "# maximum text\n",
    "# sb.set()\n",
    "# pd.set_option('display.max_colwidth', None)"
   ]
  },
  {
   "attachments": {},
   "cell_type": "markdown",
   "metadata": {},
   "source": [
    "# Load dataset"
   ]
  },
  {
   "cell_type": "code",
   "execution_count": 2,
   "metadata": {},
   "outputs": [],
   "source": [
    "def count_words(text):\n",
    "    counter = 0\n",
    "    for i in text:\n",
    "        counter += len(i.split())\n",
    "    return counter\n",
    "\n",
    "def count_token(text):\n",
    "    s = set()\n",
    "    for i in text:\n",
    "        tokenize = i.split()\n",
    "        for j in tokenize:\n",
    "            s.add(j)    \n",
    "    return len(s)\n",
    "\n",
    "\n",
    "def load_dataset(ds, opt=2):\n",
    "    if ds == 1:\n",
    "        dataset_name = \"GabHateCorpus\"\n",
    "    elif ds == 2:\n",
    "        dataset_name = \"Implicit_hate_corpus\"\n",
    "    elif ds == 3:\n",
    "        dataset_name = \"SE2019\"\n",
    "    else:\n",
    "        dataset_name = \"Balanced\"\n",
    "\n",
    "    filepath = \"Dataset/\"+dataset_name\n",
    "    if opt==1:\n",
    "        df = pd.read_csv(filepath+\"/data_processed.csv\")\n",
    "    elif opt==2:\n",
    "        df = pd.read_csv(filepath+\"/data_processed2.csv\")\n",
    "    else:\n",
    "        df = pd.read_csv(filepath+\"/data_needed.csv\")\n",
    "    print(df['class'].value_counts(normalize=True))\n",
    "    return df, dataset_name"
   ]
  },
  {
   "cell_type": "code",
   "execution_count": 15,
   "metadata": {},
   "outputs": [
    {
     "name": "stdout",
     "output_type": "stream",
     "text": [
      "class\n",
      "Hate        0.5\n",
      "Non-Hate    0.5\n",
      "Name: proportion, dtype: float64\n"
     ]
    },
    {
     "data": {
      "text/plain": [
       "82692"
      ]
     },
     "execution_count": 15,
     "metadata": {},
     "output_type": "execute_result"
    }
   ],
   "source": [
    "df, ds_name = load_dataset(4,3)\n",
    "count_token(df['text'])"
   ]
  },
  {
   "attachments": {},
   "cell_type": "markdown",
   "metadata": {},
   "source": [
    "## data analyze"
   ]
  },
  {
   "cell_type": "code",
   "execution_count": 4,
   "metadata": {},
   "outputs": [
    {
     "name": "stdout",
     "output_type": "stream",
     "text": [
      "<class 'pandas.core.frame.DataFrame'>\n",
      "RangeIndex: 34002 entries, 0 to 34001\n",
      "Data columns (total 3 columns):\n",
      " #   Column  Non-Null Count  Dtype \n",
      "---  ------  --------------  ----- \n",
      " 0   class   34002 non-null  object\n",
      " 1   text    34002 non-null  object\n",
      " 2   hate    34002 non-null  int64 \n",
      "dtypes: int64(1), object(2)\n",
      "memory usage: 797.0+ KB\n"
     ]
    }
   ],
   "source": [
    "df.info()"
   ]
  },
  {
   "cell_type": "code",
   "execution_count": 5,
   "metadata": {},
   "outputs": [
    {
     "data": {
      "text/html": [
       "<div>\n",
       "<style scoped>\n",
       "    .dataframe tbody tr th:only-of-type {\n",
       "        vertical-align: middle;\n",
       "    }\n",
       "\n",
       "    .dataframe tbody tr th {\n",
       "        vertical-align: top;\n",
       "    }\n",
       "\n",
       "    .dataframe thead th {\n",
       "        text-align: right;\n",
       "    }\n",
       "</style>\n",
       "<table border=\"1\" class=\"dataframe\">\n",
       "  <thead>\n",
       "    <tr style=\"text-align: right;\">\n",
       "      <th></th>\n",
       "      <th>class</th>\n",
       "      <th>text</th>\n",
       "      <th>hate</th>\n",
       "    </tr>\n",
       "  </thead>\n",
       "  <tbody>\n",
       "    <tr>\n",
       "      <th>0</th>\n",
       "      <td>Non-Hate</td>\n",
       "      <td>feminsts sjws gets owned cringe compilation co...</td>\n",
       "      <td>0</td>\n",
       "    </tr>\n",
       "    <tr>\n",
       "      <th>1</th>\n",
       "      <td>Hate</td>\n",
       "      <td>hey fellow whites sit let lecture terrible</td>\n",
       "      <td>1</td>\n",
       "    </tr>\n",
       "    <tr>\n",
       "      <th>2</th>\n",
       "      <td>Non-Hate</td>\n",
       "      <td>evolved potential currency asset soon become r...</td>\n",
       "      <td>0</td>\n",
       "    </tr>\n",
       "    <tr>\n",
       "      <th>3</th>\n",
       "      <td>Hate</td>\n",
       "      <td>mil milstalin milhitler milmao milpolpot miln ...</td>\n",
       "      <td>1</td>\n",
       "    </tr>\n",
       "    <tr>\n",
       "      <th>4</th>\n",
       "      <td>Hate</td>\n",
       "      <td>liberalism mental disorder much dangerous thou...</td>\n",
       "      <td>1</td>\n",
       "    </tr>\n",
       "  </tbody>\n",
       "</table>\n",
       "</div>"
      ],
      "text/plain": [
       "      class                                               text  hate\n",
       "0  Non-Hate  feminsts sjws gets owned cringe compilation co...     0\n",
       "1      Hate         hey fellow whites sit let lecture terrible     1\n",
       "2  Non-Hate  evolved potential currency asset soon become r...     0\n",
       "3      Hate  mil milstalin milhitler milmao milpolpot miln ...     1\n",
       "4      Hate  liberalism mental disorder much dangerous thou...     1"
      ]
     },
     "execution_count": 5,
     "metadata": {},
     "output_type": "execute_result"
    }
   ],
   "source": [
    "df.head(5)"
   ]
  },
  {
   "cell_type": "code",
   "execution_count": 5,
   "metadata": {},
   "outputs": [
    {
     "data": {
      "text/html": [
       "<div>\n",
       "<style scoped>\n",
       "    .dataframe tbody tr th:only-of-type {\n",
       "        vertical-align: middle;\n",
       "    }\n",
       "\n",
       "    .dataframe tbody tr th {\n",
       "        vertical-align: top;\n",
       "    }\n",
       "\n",
       "    .dataframe thead th {\n",
       "        text-align: right;\n",
       "    }\n",
       "</style>\n",
       "<table border=\"1\" class=\"dataframe\">\n",
       "  <thead>\n",
       "    <tr style=\"text-align: right;\">\n",
       "      <th></th>\n",
       "      <th>class</th>\n",
       "      <th>text</th>\n",
       "      <th>hate</th>\n",
       "    </tr>\n",
       "  </thead>\n",
       "  <tbody>\n",
       "  </tbody>\n",
       "</table>\n",
       "</div>"
      ],
      "text/plain": [
       "Empty DataFrame\n",
       "Columns: [class, text, hate]\n",
       "Index: []"
      ]
     },
     "execution_count": 5,
     "metadata": {},
     "output_type": "execute_result"
    }
   ],
   "source": [
    "df[df['text'].isnull()]"
   ]
  },
  {
   "cell_type": "markdown",
   "metadata": {},
   "source": [
    "### word counter"
   ]
  },
  {
   "cell_type": "code",
   "execution_count": 41,
   "metadata": {},
   "outputs": [
    {
     "name": "stdout",
     "output_type": "stream",
     "text": [
      "13000 12974\n"
     ]
    }
   ],
   "source": [
    "filepath = \"Dataset/SE2019/\"\n",
    "df_need = pd.read_csv(filepath+\"data_needed.csv\")\n",
    "df_processed = pd.read_csv(filepath+\"data_processed.csv\")\n",
    "print(len(df_need), len(df_processed))"
   ]
  },
  {
   "cell_type": "code",
   "execution_count": 42,
   "metadata": {},
   "outputs": [],
   "source": [
    "text_need = np.array(df_need[\"text\"])\n",
    "text_processed = np.array(df_processed[\"text\"])"
   ]
  },
  {
   "cell_type": "code",
   "execution_count": 43,
   "metadata": {},
   "outputs": [
    {
     "name": "stdout",
     "output_type": "stream",
     "text": [
      "word\n",
      "need:  281058\n",
      "pro:  156009\n",
      "token\n",
      "need:  53046\n",
      "pro:  22855\n"
     ]
    }
   ],
   "source": [
    "print(\"word\")\n",
    "print(\"need: \", count_words(text_need))\n",
    "print(\"pro: \", count_words(text_processed))\n",
    "\n",
    "print(\"token\")\n",
    "print(\"need: \", count_token(text_need))\n",
    "print(\"pro: \", count_token(text_processed))"
   ]
  },
  {
   "attachments": {},
   "cell_type": "markdown",
   "metadata": {},
   "source": [
    "# Split dataset"
   ]
  },
  {
   "cell_type": "code",
   "execution_count": 3,
   "metadata": {},
   "outputs": [],
   "source": [
    "def split_data(df):\n",
    "    test_size = 0.20\n",
    "    x = np.array(df[\"text\"])\n",
    "    y = np.array(df[\"class\"])\n",
    "\n",
    "    x_train, x_test, y_train, y_test = train_test_split(x,y, test_size = test_size, random_state=42) #random state ensure same sample\n",
    "    print(\"Train Set :\", x_train.shape, y_train.shape) \n",
    "    print(\"Test Set  :\", x_test.shape, y_test.shape) \n",
    "    print(\"Total \", len(df))\n",
    "    # y in digit form\n",
    "    y_train_binary = np.array(list(map(lambda x:1 if x==\"Hate\" else 0, y_train)))\n",
    "    y_test_binary = np.array(list(map(lambda x:1 if x==\"Hate\" else 0, y_test)))\n",
    "    return x_train, y_train, y_train_binary, x_test, y_test, y_test_binary"
   ]
  },
  {
   "attachments": {},
   "cell_type": "markdown",
   "metadata": {},
   "source": [
    "# Feature engineering - Word embeding"
   ]
  },
  {
   "attachments": {},
   "cell_type": "markdown",
   "metadata": {},
   "source": [
    "- https://www.analyticsvidhya.com/blog/2017/06/word-embeddings-count-word2veec/\n",
    "- CountVectorizer, Tfidftransformer & Tfidfvectorizer are Frequency based Word Embedding technique\n",
    "- Tfidftransformer acts on sparse matrix and Tfidfvectorizer acts on raw text data\n",
    "- Tfidfvectorizer = countVectorizater + Tfidftransformer\n",
    "\n",
    "- https://www.analyticsvidhya.com/blog/2018/07/hands-on-sentiment-analysis-dataset-python/\n",
    "- vectorizer = word embedding process of converting text data to numerical vector"
   ]
  },
  {
   "cell_type": "code",
   "execution_count": 16,
   "metadata": {},
   "outputs": [],
   "source": [
    "from sklearn.pipeline import Pipeline\n",
    "from sklearn.feature_extraction.text import CountVectorizer\n",
    "from sklearn.feature_extraction.text import TfidfVectorizer"
   ]
  },
  {
   "attachments": {},
   "cell_type": "markdown",
   "metadata": {},
   "source": [
    "## Word2Vec"
   ]
  },
  {
   "attachments": {},
   "cell_type": "markdown",
   "metadata": {},
   "source": [
    "- https://spotintelligence.com/2023/02/15/word2vec-for-text-classification/#:~:text=Word2Vec%20is%20a%20popular%20algorithm,a%20large%20corpus%20of%20text\n",
    "- Word2vec is not a single algorithm but a combination of two techniques – CBOW(Continuous bag of words) and Skip-gram model."
   ]
  },
  {
   "cell_type": "code",
   "execution_count": 9,
   "metadata": {},
   "outputs": [],
   "source": [
    "from gensim.models import Word2Vec"
   ]
  },
  {
   "cell_type": "code",
   "execution_count": 10,
   "metadata": {},
   "outputs": [],
   "source": [
    "class w2vVectorizer():\n",
    "    def __init__(self) -> None:\n",
    "        self.w2v_model = None\n",
    "    \n",
    "    def w2v_vectorizer(self,sentence):\n",
    "        # vectorize the text data\n",
    "        words = sentence.split()\n",
    "        words_vec = [self.w2v_model.wv[word] for word in words if word in self.w2v_model.wv]\n",
    "        if len(words_vec) == 0:\n",
    "            return np.zeros(100)\n",
    "        words_vec = np.array(words_vec)\n",
    "        return words_vec.mean(axis=0)\n",
    "    \n",
    "    def fit(self, x, y=None):\n",
    "        # train the model when fit the pipeline\n",
    "        sentences = [sentence.split() for sentence in x]\n",
    "        self.w2v_model = Word2Vec(sentences, vector_size=100, window=5, min_count=2, workers=4)\n",
    "        return self\n",
    "    \n",
    "    def transform(self, x, y=None):\n",
    "        # when use fit or transform on the pipeline \n",
    "        return np.array([self.w2v_vectorizer(sentence) for sentence in x])"
   ]
  },
  {
   "attachments": {},
   "cell_type": "markdown",
   "metadata": {},
   "source": [
    "# Machine learning"
   ]
  },
  {
   "cell_type": "code",
   "execution_count": 10,
   "metadata": {},
   "outputs": [],
   "source": [
    "# save model\n",
    "def save_model(model, model_name):\n",
    "    filename = f\"models/{model_name}.pickle\"\n",
    "    pickle.dump(model, open(filename,\"wb\"))"
   ]
  },
  {
   "attachments": {},
   "cell_type": "markdown",
   "metadata": {},
   "source": [
    "## Decision Tree"
   ]
  },
  {
   "cell_type": "code",
   "execution_count": 14,
   "metadata": {},
   "outputs": [],
   "source": [
    "#convert given text to a vector base\n",
    "from sklearn.tree import DecisionTreeClassifier"
   ]
  },
  {
   "cell_type": "code",
   "execution_count": 424,
   "metadata": {},
   "outputs": [],
   "source": [
    "model = Pipeline([('vect', CountVectorizer()),\n",
    "               ('clf', DecisionTreeClassifier()),\n",
    "              ])\n",
    "model_name = \"dtc\"\n",
    "model.fit(x_train, y_train)\n",
    "save_model(model,model_name)"
   ]
  },
  {
   "cell_type": "code",
   "execution_count": 232,
   "metadata": {},
   "outputs": [],
   "source": [
    "model = Pipeline([('vect', TfidfVectorizer()),\n",
    "               ('clf', DecisionTreeClassifier()),\n",
    "              ])\n",
    "model_name = \"dtc-tfid\"\n",
    "model.fit(x_train, y_train)\n",
    "save_model(model,model_name)"
   ]
  },
  {
   "cell_type": "code",
   "execution_count": 233,
   "metadata": {},
   "outputs": [],
   "source": [
    "model = Pipeline([('vect', w2vVectorizer()),\n",
    "               ('clf', DecisionTreeClassifier()),\n",
    "              ])\n",
    "model_name = \"dtc-w2v\"\n",
    "model.fit(x_train, y_train)\n",
    "save_model(model,model_name)"
   ]
  },
  {
   "attachments": {},
   "cell_type": "markdown",
   "metadata": {},
   "source": [
    "## Support Vector Machine"
   ]
  },
  {
   "attachments": {},
   "cell_type": "markdown",
   "metadata": {},
   "source": [
    "- supervisied learning algorithm\n",
    "- Unlike neural networks, SVMs can work with very small datasets and are not prone to overfitting."
   ]
  },
  {
   "cell_type": "code",
   "execution_count": 39,
   "metadata": {},
   "outputs": [],
   "source": [
    "from sklearn.linear_model import SGDClassifier"
   ]
  },
  {
   "cell_type": "code",
   "execution_count": 234,
   "metadata": {},
   "outputs": [],
   "source": [
    "model = Pipeline([('vect', CountVectorizer()),\n",
    "                ('clf', SGDClassifier(loss='hinge', penalty='l2',alpha=1e-3, random_state=42, max_iter=5, tol=None)),\n",
    "               ])\n",
    "model_name = \"svm\"\n",
    "model.fit(x_train, y_train)\n",
    "save_model(model, model_name)"
   ]
  },
  {
   "cell_type": "code",
   "execution_count": 235,
   "metadata": {},
   "outputs": [],
   "source": [
    "model = Pipeline([('vect', TfidfVectorizer()),\n",
    "               ('clf', SGDClassifier(loss='hinge', penalty='l2',alpha=1e-3, random_state=42, max_iter=5, tol=None)),\n",
    "              ])\n",
    "model_name = \"svm-tfid\"\n",
    "model.fit(x_train, y_train)\n",
    "save_model(model, model_name)"
   ]
  },
  {
   "cell_type": "code",
   "execution_count": 236,
   "metadata": {},
   "outputs": [],
   "source": [
    "model = Pipeline([('vect', w2vVectorizer()),\n",
    "               ('clf', SGDClassifier(loss='hinge', penalty='l2',alpha=1e-3, random_state=42, max_iter=5, tol=None)),\n",
    "              ])\n",
    "model_name = \"svm-w2v\"\n",
    "model.fit(x_train, y_train)\n",
    "save_model(model, model_name)"
   ]
  },
  {
   "attachments": {},
   "cell_type": "markdown",
   "metadata": {},
   "source": [
    "## Logistic Regression "
   ]
  },
  {
   "cell_type": "code",
   "execution_count": 46,
   "metadata": {},
   "outputs": [],
   "source": [
    "from sklearn.linear_model import LogisticRegression"
   ]
  },
  {
   "cell_type": "code",
   "execution_count": 237,
   "metadata": {},
   "outputs": [],
   "source": [
    "model = Pipeline([('vect', CountVectorizer()),\n",
    "        ('clf', LogisticRegression(n_jobs=1, C=1e5,max_iter=6300)),\n",
    "        ])\n",
    "model_name = \"lr\"\n",
    "model.fit(x_train, y_train)\n",
    "save_model(model, model_name)"
   ]
  },
  {
   "cell_type": "code",
   "execution_count": 238,
   "metadata": {},
   "outputs": [],
   "source": [
    "model = Pipeline([('vect', TfidfVectorizer()),\n",
    "        ('clf', LogisticRegression(n_jobs=1, C=1e5,max_iter=6300)),\n",
    "        ])\n",
    "model_name = \"lr-tfid\"\n",
    "model.fit(x_train, y_train)\n",
    "save_model(model, model_name)"
   ]
  },
  {
   "cell_type": "code",
   "execution_count": 239,
   "metadata": {},
   "outputs": [],
   "source": [
    "model = Pipeline([('vect', w2vVectorizer()),\n",
    "        ('clf', LogisticRegression(n_jobs=1, C=1e5,max_iter=6300)),\n",
    "        ])\n",
    "model_name = \"lr-w2v\"\n",
    "model.fit(x_train, y_train)\n",
    "save_model(model, model_name)"
   ]
  },
  {
   "attachments": {},
   "cell_type": "markdown",
   "metadata": {},
   "source": [
    "## Predict"
   ]
  },
  {
   "cell_type": "code",
   "execution_count": null,
   "metadata": {},
   "outputs": [],
   "source": [
    "# Predict data\n",
    "print(\"Test Data Accuracy  :\\t\", model.score(x_test, y_test))\n",
    "y_test_pred = model.predict(x_test)"
   ]
  },
  {
   "attachments": {},
   "cell_type": "markdown",
   "metadata": {},
   "source": [
    "# Deep Neural network"
   ]
  },
  {
   "cell_type": "markdown",
   "metadata": {},
   "source": [
    "tensorflow gpu \n",
    "- https://www.tensorflow.org/install/pip#windows-native\n",
    "- https://lifewithdata.com/2022/01/16/how-to-install-tensorflow-and-keras-with-gpu-support-on-windows/ "
   ]
  },
  {
   "attachments": {},
   "cell_type": "markdown",
   "metadata": {},
   "source": [
    "- https://www.youtube.com/watch?v=oWo9SNcyxlI\n",
    "- good read for = https://bmcmedresmethodol.biomedcentral.com/articles/10.1186/s12874-022-01665-y\n"
   ]
  },
  {
   "cell_type": "markdown",
   "metadata": {},
   "source": [
    "## pre"
   ]
  },
  {
   "cell_type": "code",
   "execution_count": 4,
   "metadata": {},
   "outputs": [],
   "source": [
    "from keras.models import Sequential\n",
    "from keras.utils.data_utils import pad_sequences\n",
    "from keras.layers.core import Activation, Dropout, Dense\n",
    "from keras.layers import Flatten, GlobalMaxPooling1D, Embedding\n",
    "from keras.layers import Conv1D, LSTM, SpatialDropout1D, Bidirectional, GRU, SimpleRNN, TextVectorization\n",
    "\n",
    "from keras.metrics import BinaryAccuracy,Precision,Recall\n",
    "import keras\n",
    "from keras.models import load_model\n",
    "import tensorflow as tf\n",
    "\n",
    "from gensim.models import FastText, Word2Vec, KeyedVectors"
   ]
  },
  {
   "cell_type": "code",
   "execution_count": 5,
   "metadata": {},
   "outputs": [],
   "source": [
    "class TimingCallback(keras.callbacks.Callback):\n",
    "    def __init__(self, logs={}):\n",
    "        super(TimingCallback, self).__init__()\n",
    "\n",
    "    def on_train_begin(self, epoch, logs={}):\n",
    "        self.starttime = time.time()\n",
    "    def on_train_end(self, epoch, logs={}):\n",
    "        self.stoptime = time.time()\n",
    "        print(f\"training time {self.stoptime - self.starttime}\")\n",
    "        \n",
    "METRICS = [\n",
    "    BinaryAccuracy(name=\"accuracy\"),\n",
    "    Precision(name=\"precision\"),\n",
    "    Recall(name=\"recall\")\n",
    "]\n",
    "\n",
    "def get_classification_report(i, cr):\n",
    "    return [i, cr['accuracy'], cr['macro avg']['precision'], \n",
    "            cr['macro avg']['recall'], cr['macro avg']['f1-score'],\n",
    "            cr['Hate']['f1-score'],cr['Non-Hate']['f1-score'], \n",
    "            cr['Hate']['support'],cr['Non-Hate']['support']]\n",
    "\n",
    "def get_result_table():\n",
    "    c = ['Model', 'Accuracy', 'precision', 'recall', 'f1-score', 'hate f1', \"non-hate f1\", 'hate support', 'non-hate support']\n",
    "    result_table = pd.DataFrame(columns=c)\n",
    "    return result_table\n",
    "\n",
    "def get_result_single(y_test, y_test_pred, model_name, result_table):\n",
    "    # c = ['Model', 'Accuracy', 'precision', 'recall', 'f1-score', 'hate f1', \"non-hate f1\", 'hate support', 'non-hate support']\n",
    "    # result_table = pd.DataFrame(columns=c)\n",
    "\n",
    "    cr = classification_report(y_test, y_test_pred, labels=[\"Hate\",\"Non-Hate\"], output_dict=True)\n",
    "    result_table.loc[len(result_table)] = get_classification_report(model_name, cr)\n",
    "    # return result_table\n",
    "\n",
    "def get_result_multiple(x_test, y_test, model_to_load):\n",
    "    c = ['Model', 'Accuracy', 'precision', 'recall', 'f1-score', 'hate f1', \"non-hate f1\", 'hate support', 'non-hate support']\n",
    "    result_table = pd.DataFrame(columns=c)\n",
    "    for i in model_to_load:\n",
    "        filename = f\"models/{i}\"\n",
    "        print(filename)\n",
    "        old_model = load_model(filename)\n",
    "\n",
    "        y_test_pred = old_model.predict(x_test, verbose=0)\n",
    "        y_test_pred = np.where(y_test_pred > 0.5, \"Hate\", \"Non-Hate\") \n",
    "        y_test_pred = y_test_pred.flatten()\n",
    "\n",
    "        cr = classification_report(y_test, y_test_pred, labels=[\"Hate\",\"Non-Hate\"], output_dict=True)\n",
    "        result_table.loc[len(result_table)] = get_classification_report(i, cr)\n",
    "    return result_table.style.highlight_max(color = 'red', axis = 0)\n",
    "\n",
    "def nn_predict(model,x_test, y_test_binary):\n",
    "    score = model.evaluate(x_test, y_test_binary, verbose=0)\n",
    "    print(\"Score: \", score[0])\n",
    "    print(\"Accuracy: \", score[1])\n",
    "\n",
    "    y_test_pred_percent = model.predict(x_test, verbose=0)\n",
    "    y_test_pred = np.where(y_test_pred_percent > 0.5, \"Hate\", \"Non-Hate\") \n",
    "    y_test_pred = y_test_pred.flatten()\n",
    "\n",
    "    return y_test_pred\n",
    "\n",
    "def save_model_nn(model, model_name, embedding_name, dataset_name):\n",
    "    filename = f\"models/{dataset_name}_{embedding_name}_{model_name}\"\n",
    "    model.save(filename)\n",
    "    return filename\n",
    "\n",
    "def load_model_nn(model_name):\n",
    "    filename = f\"models/{model_name}\"\n",
    "    print(filename)\n",
    "    return load_model(filename) \n",
    "\n",
    "def compile_fit_save(x_train, y_train_binary, x_test,y_test_binary, model, model_name, embedding_name, dataset_name, save, epoch=5, batch_size=32, lr=0.01):    \n",
    "    opt = keras.optimizers.Adam(learning_rate=lr)\n",
    "    model.compile(optimizer=opt,\n",
    "                loss='binary_crossentropy',\n",
    "                metrics=METRICS)\n",
    "    \n",
    "    history = model.fit(x_train, y_train_binary, epochs=epoch,\n",
    "                        validation_data=(x_test,y_test_binary),\n",
    "                        batch_size = batch_size,\n",
    "                        callbacks=[TimingCallback()])\n",
    "\n",
    "    if save: \n",
    "        save_model_nn(model, model_name, embedding_name, dataset_name)        \n",
    "    print(f\"acc {history.history['val_accuracy'][0]}\")\n",
    "    return model, history"
   ]
  },
  {
   "cell_type": "code",
   "execution_count": 8,
   "metadata": {},
   "outputs": [
    {
     "name": "stdout",
     "output_type": "stream",
     "text": [
      "Tensorflow version: 2.10.1\n",
      "Keras Version: 2.10.0\n",
      "GPU is available\n",
      "[PhysicalDevice(name='/physical_device:CPU:0', device_type='CPU'), PhysicalDevice(name='/physical_device:GPU:0', device_type='GPU')]\n"
     ]
    }
   ],
   "source": [
    "print(f\"Tensorflow version: {tf.__version__}\")\n",
    "print(f\"Keras Version: {tf.keras.__version__}\")\n",
    "print(\"GPU is\", \"available\" if tf.config.list_physical_devices('GPU') else \"NOT AVAILABLE\")\n",
    "print(tf.config.list_physical_devices())"
   ]
  },
  {
   "cell_type": "markdown",
   "metadata": {},
   "source": [
    "## embedding"
   ]
  },
  {
   "attachments": {},
   "cell_type": "markdown",
   "metadata": {},
   "source": [
    "### Glove embedding"
   ]
  },
  {
   "cell_type": "code",
   "execution_count": 6,
   "metadata": {},
   "outputs": [],
   "source": [
    "def glove_em(x_train):\n",
    "    embedding_name = \"glove\"\n",
    "    text_length = 50 #pad/truncate text to this long, such that each text after token will be this long\n",
    "\n",
    "    custom_encoder = TextVectorization(\n",
    "        standardize = None,\n",
    "        output_sequence_length=text_length, \n",
    "    )\n",
    "    custom_encoder.adapt(x_train)\n",
    "    vocab = custom_encoder.get_vocabulary()\n",
    "    print(f\"total vocab {len(vocab)}\")\n",
    "    vocab_dict = dict(zip(vocab, range(len(vocab))))\n",
    "\n",
    "    # load glove to dictionay\n",
    "    embeddings_dic = dict()\n",
    "    glove_file = open(\"Dataset/trained/glove.42B.300d.txt\", encoding=\"utf8\")\n",
    "\n",
    "    for line in glove_file:\n",
    "        records = line.split()\n",
    "        word = records[0]\n",
    "        vector_dimensions = np.asarray(records[1:], dtype='float32')\n",
    "        embeddings_dic[word] = vector_dimensions\n",
    "    glove_file.close()\n",
    "    print(\"Total words \", len(embeddings_dic))\n",
    "\n",
    "    # create vocab length is the size of token in dictionary\n",
    "    # Size of the vocabulary\n",
    "    vocab_length = len(vocab) + 1\n",
    "    embedding_dim = 300 #each glove word is 100 long\n",
    "\n",
    "    hits = 0\n",
    "    miss = 0\n",
    "    missWord = []\n",
    "\n",
    "    # create embedding matrix having 100 col\n",
    "    # for all vocab word we give it a vector value from glove\n",
    "    # for those not found in glove will be empty 0\n",
    "    # size of embedding_matriz = size of word_tokenizer.word_index.items()\n",
    "    # embedding_matrix is the weight \n",
    "    embedding_matrix = np.zeros((vocab_length, embedding_dim))\n",
    "    for word, index in vocab_dict.items():\n",
    "        embedding_vector = embeddings_dic.get(word)\n",
    "        if embedding_vector is not None:\n",
    "            embedding_matrix[index] = embedding_vector\n",
    "            hits += 1\n",
    "        else:\n",
    "            miss +=1\n",
    "            missWord.append(word)\n",
    "    print(\"Converted %d words (%d misses)\" % (hits, miss))\n",
    "\n",
    "    custom_embedding = Embedding(vocab_length, embedding_dim, \n",
    "                embeddings_initializer=keras.initializers.Constant(embedding_matrix),\n",
    "                trainable = False,\n",
    "                input_length=text_length,\n",
    "                mask_zero=True)\n",
    "    \n",
    "    return custom_encoder, custom_embedding, embedding_name, missWord"
   ]
  },
  {
   "attachments": {},
   "cell_type": "markdown",
   "metadata": {},
   "source": [
    "### FastText + word2vec"
   ]
  },
  {
   "attachments": {},
   "cell_type": "markdown",
   "metadata": {},
   "source": [
    "- https://medium.com/@93Kryptonian/word-embedding-using-fasttext-62beb0209db9\n",
    "- It treats each word as composed of n-grams. In word2vec each word is represented as a bag of words but in FastText each word is represented as a bag of character n-gram.\n"
   ]
  },
  {
   "cell_type": "code",
   "execution_count": 7,
   "metadata": {},
   "outputs": [],
   "source": [
    "def get_fasttext_model():\n",
    "    model_name=\"fasttext_trained\"\n",
    "    return KeyedVectors.load_word2vec_format(\"./Dataset/trained/wiki-news-300d-1M-subword.vec\", binary=False), model_name\n",
    "\n",
    "def get_word2vec_model():\n",
    "    model_name = \"word2vec_trained\"\n",
    "    return KeyedVectors.load_word2vec_format(\"./Dataset/trained/GoogleNews-vectors-negative300.bin\", binary=True), model_name\n",
    "\n",
    "def pre_trained_em(x_train, model_em, embedding_name):\n",
    "    text_length = 50 #pad/truncate text to this long, such that each text after token will be this long\n",
    "\n",
    "    custom_encoder = TextVectorization(\n",
    "        standardize = None,\n",
    "        output_sequence_length=text_length, \n",
    "    )\n",
    "    custom_encoder.adapt(x_train)\n",
    "    vocab = custom_encoder.get_vocabulary()\n",
    "    print(f\"total vocab {len(vocab)}\")\n",
    "    vocab_dict = dict(zip(vocab, range(len(vocab))))\n",
    "\n",
    "    vocab_length = len(vocab) + 1\n",
    "    embedding_dim = 300 \n",
    "\n",
    "    hits = 0\n",
    "    miss = 0\n",
    "    missWord = []\n",
    "\n",
    "    embedding_matrix = np.zeros((vocab_length, embedding_dim))\n",
    "    keyVector_key = model_em.index_to_key\n",
    "    print(f\"total vector {len(keyVector_key)}\")\n",
    "    for word, index in vocab_dict.items():\n",
    "        if word in keyVector_key:\n",
    "            embedding_vector = np.array(model_em[word])\n",
    "            if embedding_vector is not None:\n",
    "                embedding_matrix[index] = embedding_vector\n",
    "                hits += 1\n",
    "        else:\n",
    "            miss +=1\n",
    "            missWord.append(word)\n",
    "            \n",
    "    print(\"Converted %d words (%d misses)\" % (hits, miss))\n",
    "\n",
    "    custom_embedding = Embedding(vocab_length, embedding_dim, \n",
    "                embeddings_initializer=keras.initializers.Constant(embedding_matrix),\n",
    "                trainable = False,\n",
    "                input_length=text_length,\n",
    "                mask_zero=True)\n",
    "    \n",
    "    return custom_encoder, custom_embedding, embedding_name, missWord"
   ]
  },
  {
   "cell_type": "code",
   "execution_count": 25,
   "metadata": {},
   "outputs": [],
   "source": [
    "from sklearn.metrics.pairwise import cosine_similarity"
   ]
  },
  {
   "cell_type": "code",
   "execution_count": 29,
   "metadata": {},
   "outputs": [],
   "source": [
    "m2 = dict()\n",
    "glove_file = open(\"Dataset/trained/glove.42B.300d.txt\", encoding=\"utf8\")\n",
    "\n",
    "for line in glove_file:\n",
    "    records = line.split()\n",
    "    word = records[0]\n",
    "    vector_dimensions = np.asarray(records[1:], dtype='float32')\n",
    "    m2[word] = vector_dimensions\n",
    "glove_file.close()"
   ]
  },
  {
   "cell_type": "code",
   "execution_count": 19,
   "metadata": {},
   "outputs": [],
   "source": [
    "m = get_word2vec_model()[0]"
   ]
  },
  {
   "cell_type": "code",
   "execution_count": 60,
   "metadata": {},
   "outputs": [
    {
     "data": {
      "text/plain": [
       "array([[0.61790377]], dtype=float32)"
      ]
     },
     "execution_count": 60,
     "metadata": {},
     "output_type": "execute_result"
    }
   ],
   "source": [
    "men = m['hate']\n",
    "women = m['detest']\n",
    "cosine_similarity(men.reshape(1,-1), women.reshape(1,-1))"
   ]
  },
  {
   "cell_type": "code",
   "execution_count": 56,
   "metadata": {},
   "outputs": [
    {
     "data": {
      "text/plain": [
       "array([[0.5600246]], dtype=float32)"
      ]
     },
     "execution_count": 56,
     "metadata": {},
     "output_type": "execute_result"
    }
   ],
   "source": []
  },
  {
   "cell_type": "code",
   "execution_count": 22,
   "metadata": {},
   "outputs": [
    {
     "data": {
      "text/plain": [
       "0.7674937"
      ]
     },
     "execution_count": 22,
     "metadata": {},
     "output_type": "execute_result"
    }
   ],
   "source": [
    "m.similarity(\"men\", \"women\")"
   ]
  },
  {
   "cell_type": "code",
   "execution_count": 14,
   "metadata": {},
   "outputs": [],
   "source": [
    "def fasttext_em(x_train):\n",
    "    embedding_name = \"fasttext\"\n",
    "    text_length = 50 #pad/truncate text to this long, such that each text after token will be this long\n",
    "    vector_size=100\n",
    "\n",
    "    sentences = [sentence.split() for sentence in x_train]\n",
    "    ft_model = FastText(sentences, vector_size=vector_size, window=5, min_count=2, workers=4, seed=42, sg=1, epochs=10) # skip gram or cbow=0\n",
    "    ft = ft_model.wv\n",
    "    ft_vocab = ft.index_to_key\n",
    "\n",
    "    custom_encoder = TextVectorization(\n",
    "        standardize = None,\n",
    "        output_sequence_length=text_length, \n",
    "        vocabulary = ft_vocab\n",
    "    )\n",
    "\n",
    "    vocab = custom_encoder.get_vocabulary()\n",
    "    print(f\"total vocab {len(vocab)}\")\n",
    "    vocab_dict = dict(zip(vocab, range(len(vocab))))\n",
    "\n",
    "    vocab_length = len(vocab) + 1\n",
    "    embedding_dim = vector_size\n",
    "\n",
    "    hits = 0\n",
    "    miss = 0\n",
    "\n",
    "    embedding_matrix = np.zeros((vocab_length, embedding_dim))\n",
    "    for word, index in vocab_dict.items():\n",
    "        embedding_vector = ft[word]\n",
    "        if embedding_vector is not None:\n",
    "            embedding_matrix[index] = embedding_vector\n",
    "            hits += 1\n",
    "        else:\n",
    "            miss +=1\n",
    "    print(\"Converted %d words (%d misses)\" % (hits, miss))\n",
    "\n",
    "    custom_embedding = Embedding(vocab_length, embedding_dim, \n",
    "                embeddings_initializer=keras.initializers.Constant(embedding_matrix), \n",
    "                trainable = False,\n",
    "                input_length=text_length,\n",
    "                mask_zero=True)\n",
    "    return custom_encoder, custom_embedding, embedding_name"
   ]
  },
  {
   "cell_type": "code",
   "execution_count": 9,
   "metadata": {},
   "outputs": [],
   "source": [
    "def word2vec_em(x_train):\n",
    "    embedding_name = \"word2vec\"\n",
    "    text_length = 50 #pad/truncate text to this long, such that each text after token will be this long\n",
    "    vector_size=100\n",
    "\n",
    "    sentences = [sentence.split() for sentence in x_train]\n",
    "    w_model = Word2Vec(sentences, vector_size=100, window=5, min_count=2, workers=4, seed=42, sg=1, epochs=10)\n",
    "    w = w_model.wv\n",
    "    w_vocab = w.index_to_key\n",
    "\n",
    "    custom_encoder = TextVectorization(\n",
    "        standardize = None,\n",
    "        output_sequence_length=text_length, \n",
    "        vocabulary = w_vocab\n",
    "    )\n",
    "\n",
    "    vocab = custom_encoder.get_vocabulary()\n",
    "    print(f\"total vocab {len(vocab)}\")\n",
    "    vocab_dict = dict(zip(vocab, range(len(vocab))))\n",
    "\n",
    "    vocab_length = len(vocab) + 1\n",
    "    embedding_dim = vector_size\n",
    "\n",
    "    hits = 0\n",
    "    miss = 0\n",
    "\n",
    "    embedding_matrix = np.zeros((vocab_length, embedding_dim))\n",
    "    for word, index in vocab_dict.items():\n",
    "        if word in w.key_to_index:\n",
    "            embedding_vector = w[word]\n",
    "            if embedding_vector is not None:\n",
    "                embedding_matrix[index] = embedding_vector\n",
    "                hits += 1\n",
    "            else:\n",
    "                print(word)\n",
    "                miss +=1\n",
    "        else:\n",
    "            print(word)\n",
    "            miss +=1\n",
    "    print(\"Converted %d words (%d misses)\" % (hits, miss))\n",
    "\n",
    "    custom_embedding = Embedding(vocab_length, embedding_dim, \n",
    "                embeddings_initializer=keras.initializers.Constant(embedding_matrix), \n",
    "                trainable = False,\n",
    "                input_length=text_length,\n",
    "                mask_zero=True)\n",
    "    return custom_encoder, custom_embedding, embedding_name"
   ]
  },
  {
   "cell_type": "markdown",
   "metadata": {},
   "source": [
    "### test without pre-trained"
   ]
  },
  {
   "cell_type": "code",
   "execution_count": 38,
   "metadata": {},
   "outputs": [],
   "source": [
    "def noTrained_em(x_train):\n",
    "    embedding_name = \"no_train\"\n",
    "    text_length = 50 #pad/truncate text to this long, such that each text after token will be this long\n",
    "    vector_size= 300\n",
    "\n",
    "    custom_encoder = TextVectorization(\n",
    "        standardize = None,\n",
    "        output_sequence_length=text_length, \n",
    "    )\n",
    "    custom_encoder.adapt(x_train)\n",
    "    vocab = custom_encoder.get_vocabulary()\n",
    "    print(f\"total vocab {len(vocab)}\")\n",
    "    vocab_dict = dict(zip(vocab, range(len(vocab))))\n",
    "\n",
    "    vocab_length = len(vocab) + 1\n",
    "    embedding_dim = vector_size\n",
    "\n",
    "    custom_embedding = Embedding(vocab_length, embedding_dim,\n",
    "                input_length=text_length,\n",
    "                mask_zero=True)\n",
    "    return custom_encoder, custom_embedding, embedding_name"
   ]
  },
  {
   "cell_type": "markdown",
   "metadata": {},
   "source": [
    "## Deep learning Models"
   ]
  },
  {
   "cell_type": "markdown",
   "metadata": {},
   "source": [
    "### helper"
   ]
  },
  {
   "cell_type": "code",
   "execution_count": 53,
   "metadata": {},
   "outputs": [],
   "source": [
    "from keras.layers import BatchNormalization"
   ]
  },
  {
   "cell_type": "code",
   "execution_count": 61,
   "metadata": {},
   "outputs": [],
   "source": [
    "def add_connected_layer(model):\n",
    "    # model.add(Dropout(0.2))\n",
    "    # model.add(Dense(64, activation='relu'))\n",
    "    model.add(Dropout(0.2))\n",
    "    # model.add(BatchNormalization())\n",
    "    model.add(Dense(1, activation='sigmoid'))"
   ]
  },
  {
   "attachments": {},
   "cell_type": "markdown",
   "metadata": {},
   "source": [
    "### models"
   ]
  },
  {
   "cell_type": "code",
   "execution_count": 16,
   "metadata": {},
   "outputs": [],
   "source": [
    "def cnn(x_train, y_train_binary, x_test,y_test_binary,custom_encoder, custom_embedding, embedding_name, dataset_name, save = True, epoch = 10, batch_size=32, lr=0.01):\n",
    "    model_name = \"cnn\"\n",
    "    print(model_name)\n",
    "    model = Sequential()\n",
    "    model.add(custom_encoder)\n",
    "    model.add(custom_embedding)\n",
    "    model.add(Conv1D(128, 3, activation='relu'))\n",
    "    model.add(GlobalMaxPooling1D())\n",
    "    add_connected_layer(model)\n",
    "    return compile_fit_save(x_train, y_train_binary, x_test,y_test_binary,model, model_name, embedding_name, dataset_name, save, epoch, batch_size, lr)\n",
    "\n",
    "def rnn(x_train, y_train_binary, x_test,y_test_binary,custom_encoder, custom_embedding, embedding_name, dataset_name, save = True, epoch = 10, batch_size=32, lr=0.01):\n",
    "    model_name = \"rnn\"\n",
    "    print(model_name)\n",
    "    model = Sequential()\n",
    "    model.add(custom_encoder)\n",
    "    model.add(custom_embedding)\n",
    "    model.add(SimpleRNN(128))\n",
    "    add_connected_layer(model)\n",
    "    return compile_fit_save(x_train, y_train_binary, x_test,y_test_binary,model, model_name, embedding_name, dataset_name, save, epoch, batch_size, lr)\n",
    "\n",
    "def lstm(x_train, y_train_binary, x_test,y_test_binary,custom_encoder, custom_embedding, embedding_name, dataset_name, save = True, epoch = 10, batch_size=32, lr=0.01):\n",
    "    model_name = \"lstm\"\n",
    "    print(model_name)\n",
    "    model = Sequential()\n",
    "    model.add(custom_encoder)\n",
    "    model.add(custom_embedding)\n",
    "    # model.add(SpatialDropout1D(0.2))\n",
    "    model.add(LSTM(128))\n",
    "    add_connected_layer(model)\n",
    "    return compile_fit_save(x_train, y_train_binary, x_test,y_test_binary,model, model_name, embedding_name, dataset_name, save, epoch, batch_size, lr)\n",
    "\n",
    "def gru(x_train, y_train_binary, x_test,y_test_binary,custom_encoder, custom_embedding, embedding_name, dataset_name, save = True, epoch = 10, batch_size=32, lr=0.01):\n",
    "    model_name = \"gru\"\n",
    "    print(model_name)\n",
    "    model = Sequential()\n",
    "    model.add(custom_encoder)\n",
    "    model.add(custom_embedding)\n",
    "    # model.add(SpatialDropout1D(0.2))\n",
    "    model.add(GRU(128))\n",
    "    add_connected_layer(model)\n",
    "    return compile_fit_save(x_train, y_train_binary, x_test,y_test_binary,model, model_name, embedding_name, dataset_name, save, epoch, batch_size, lr)\n",
    "\n"
   ]
  },
  {
   "attachments": {},
   "cell_type": "markdown",
   "metadata": {},
   "source": [
    "### RNN - LSTM"
   ]
  },
  {
   "attachments": {},
   "cell_type": "markdown",
   "metadata": {},
   "source": [
    "- GOOD = https://medium.com/mlearning-ai/the-classification-of-text-messages-using-lstm-bi-lstm-and-gru-f79b207f90ad"
   ]
  },
  {
   "cell_type": "code",
   "execution_count": 33,
   "metadata": {},
   "outputs": [],
   "source": [
    "def lstm(x_train, y_train_binary, x_test,y_test_binary,custom_encoder, custom_embedding, embedding_name, dataset_name, save = True, epoch = 10, batch_size=32, lr=0.01):\n",
    "    model_name = \"lstm\"\n",
    "    print(model_name)\n",
    "    model = Sequential()\n",
    "    model.add(custom_encoder)\n",
    "    model.add(custom_embedding)\n",
    "    # model.add(SpatialDropout1D(0.2))\n",
    "    model.add(LSTM(128))\n",
    "    add_connected_layer(model)\n",
    "\n",
    "    return compile_fit_save(x_train, y_train_binary, x_test,y_test_binary,model, model_name, embedding_name, dataset_name, save, epoch, batch_size, lr)"
   ]
  },
  {
   "attachments": {},
   "cell_type": "markdown",
   "metadata": {},
   "source": [
    "### RNN - BILSTM"
   ]
  },
  {
   "cell_type": "code",
   "execution_count": 13,
   "metadata": {},
   "outputs": [],
   "source": [
    "def bilstm(custom_encoder, custom_embedding, embedding_name):\n",
    "    print(\"bilstm\")\n",
    "    model = Sequential()\n",
    "    model.add(custom_encoder)\n",
    "    model.add(custom_embedding)\n",
    "    model.add(Bidirectional(LSTM(128)))\n",
    "    model.add(Dropout(0.2))\n",
    "    model.add(Dense(1, activation='sigmoid'))\n",
    "\n",
    "    model.compile(optimizer='adam',\n",
    "                loss='binary_crossentropy',\n",
    "                metrics=METRICS)\n",
    "\n",
    "    history = model.fit(x_train, y_train_binary, epochs=10,\n",
    "                        validation_data=(x_test,y_test_binary))\n",
    "\n",
    "    save_model_nn(model, \"bilstm\", embedding_name, dataset_name)\n",
    "    print(f\"acc {history.history['val_accuracy'][0]}\")\n",
    "    return history"
   ]
  },
  {
   "attachments": {},
   "cell_type": "markdown",
   "metadata": {},
   "source": [
    "### RNN - GRU"
   ]
  },
  {
   "cell_type": "code",
   "execution_count": 34,
   "metadata": {},
   "outputs": [],
   "source": [
    "def gru(x_train, y_train_binary, x_test,y_test_binary,custom_encoder, custom_embedding, embedding_name, dataset_name, save = True, epoch = 10, batch_size=32, lr=0.01):\n",
    "    model_name = \"gru\"\n",
    "    print(model_name)\n",
    "    model = Sequential()\n",
    "    model.add(custom_encoder)\n",
    "    model.add(custom_embedding)\n",
    "    # model.add(SpatialDropout1D(0.2))\n",
    "    model.add(GRU(128))\n",
    "    add_connected_layer(model)\n",
    "\n",
    "    return compile_fit_save(x_train, y_train_binary, x_test,y_test_binary,model, model_name, embedding_name, dataset_name, save, epoch, batch_size, lr)\n"
   ]
  },
  {
   "attachments": {},
   "cell_type": "markdown",
   "metadata": {},
   "source": [
    "### RNN "
   ]
  },
  {
   "attachments": {},
   "cell_type": "markdown",
   "metadata": {},
   "source": [
    "- https://www.tensorflow.org/text/tutorials/text_classification_rnn"
   ]
  },
  {
   "cell_type": "code",
   "execution_count": 35,
   "metadata": {},
   "outputs": [],
   "source": [
    "def rnn(x_train, y_train_binary, x_test,y_test_binary,custom_encoder, custom_embedding, embedding_name, dataset_name, save = True, epoch = 10, batch_size=32, lr=0.01):\n",
    "    model_name = \"rnn\"\n",
    "    print(model_name)\n",
    "    model = Sequential()\n",
    "    model.add(custom_encoder)\n",
    "    model.add(custom_embedding)\n",
    "    model.add(SimpleRNN(128))\n",
    "    add_connected_layer(model)\n",
    "\n",
    "    return compile_fit_save(x_train, y_train_binary, x_test,y_test_binary,model, model_name, embedding_name, dataset_name, save, epoch, batch_size, lr)\n"
   ]
  },
  {
   "attachments": {},
   "cell_type": "markdown",
   "metadata": {},
   "source": [
    "## Deep learning transformer\n"
   ]
  },
  {
   "cell_type": "markdown",
   "metadata": {},
   "source": [
    "- gpt word embedding and bert\n",
    "- based on transformer architecture\n",
    "- uses deep learning for word embedding \n",
    "- Yes, transformer-based word embeddings are a form of deep learning. The transformer model architecture, which is the foundation of transformer-based word embeddings, is a deep learning architecture widely used in natural language processing (NLP) tasks.\n",
    "- transformer-based word embeddings are a type of deep learning technique that utilizes the power of deep neural networks to learn contextually rich representations of words or tokens in natural language text."
   ]
  },
  {
   "attachments": {},
   "cell_type": "markdown",
   "metadata": {},
   "source": [
    "### GPT"
   ]
  },
  {
   "attachments": {},
   "cell_type": "markdown",
   "metadata": {},
   "source": [
    "- GPT-2 belongs to a family of deep learning models called “Transformers”. Transformers are the building block of the current state-of-the-art NLP architecture\n",
    "- A typical transformers design contains two parts, encoder and decoders, both working as vectorized representation of word relationships.\n",
    "- https://github.com/openai/openai-cookbook/blob/main/examples/Fine-tuned_classification.ipynb\n",
    "- can do through fine tunning or word embedding \n",
    "- "
   ]
  },
  {
   "cell_type": "code",
   "execution_count": 10,
   "metadata": {},
   "outputs": [],
   "source": [
    "import openai\n",
    "import os"
   ]
  },
  {
   "attachments": {},
   "cell_type": "markdown",
   "metadata": {},
   "source": [
    "#### Fine tuining "
   ]
  },
  {
   "attachments": {},
   "cell_type": "markdown",
   "metadata": {},
   "source": [
    "- https://platform.openai.com/docs/api-reference/fine-tunes"
   ]
  },
  {
   "cell_type": "code",
   "execution_count": 11,
   "metadata": {},
   "outputs": [
    {
     "data": {
      "text/plain": [
       "'SE2019'"
      ]
     },
     "execution_count": 11,
     "metadata": {},
     "output_type": "execute_result"
    }
   ],
   "source": [
    "dataset_name"
   ]
  },
  {
   "cell_type": "code",
   "execution_count": 30,
   "metadata": {},
   "outputs": [
    {
     "name": "stdout",
     "output_type": "stream",
     "text": [
      "17182\n",
      "4296\n"
     ]
    }
   ],
   "source": [
    "# dataset for gpt\n",
    "df_gpt = pd.DataFrame(zip(x_train,y_train_binary), columns = ['prompt', 'completion'])\n",
    "df_gpt.to_json(f\"Dataset/{dataset_name}/gpt_data_train.jsonl\", orient='records', lines=True)\n",
    "print(len(df_gpt))\n",
    "\n",
    "df_gpt = pd.DataFrame(zip(x_test,y_test_binary), columns = ['prompt', 'completion'])\n",
    "df_gpt.to_json(f\"Dataset/{dataset_name}/gpt_data_test.jsonl\", orient='records', lines=True)\n",
    "print(len(df_gpt))"
   ]
  },
  {
   "cell_type": "code",
   "execution_count": 31,
   "metadata": {},
   "outputs": [
    {
     "name": "stdout",
     "output_type": "stream",
     "text": [
      "openai tools fine_tunes.prepare_data -f Dataset/Implicit_hate_corpus/gpt_data_train.jsonl\n",
      "openai tools fine_tunes.prepare_data -f Dataset/Implicit_hate_corpus/gpt_data_test.jsonl\n"
     ]
    }
   ],
   "source": [
    "# prepare dataset for fine tune do in cmd\n",
    "print(f\"openai tools fine_tunes.prepare_data -f Dataset/{dataset_name}/gpt_data_train.jsonl\")\n",
    "print(f\"openai tools fine_tunes.prepare_data -f Dataset/{dataset_name}/gpt_data_test.jsonl\")"
   ]
  },
  {
   "cell_type": "code",
   "execution_count": 157,
   "metadata": {},
   "outputs": [
    {
     "name": "stdout",
     "output_type": "stream",
     "text": [
      "file-cxPIEDLcM27LxmNHvyTaApFk uploaded\n",
      "file-0hSnroAPuDSU8iiCFwTAzaLk uploaded\n"
     ]
    }
   ],
   "source": [
    "# upload file to openai and create fine tune model\n",
    "train_create_output = openai.File.create(\n",
    "  file=open(f\"Dataset/{dataset_name}/gpt_data_train_prepared.jsonl\", \"rb\"),\n",
    "  purpose='fine-tune'\n",
    ")\n",
    "file_train_id = train_create_output.get('id')\n",
    "print(file_train_id, train_create_output.get('status'))\n",
    "\n",
    "test_create_output = openai.File.create(\n",
    "  file=open(f\"Dataset/{dataset_name}/gpt_data_test_prepared.jsonl\", \"rb\"),\n",
    "  purpose='fine-tune'\n",
    ")\n",
    "file_test_id = test_create_output.get('id')\n",
    "print(file_test_id, test_create_output.get('status'))\n"
   ]
  },
  {
   "cell_type": "code",
   "execution_count": 158,
   "metadata": {},
   "outputs": [
    {
     "name": "stdout",
     "output_type": "stream",
     "text": [
      "ft-j51edHpwX7ZfLBe3GRrXKnDT\n"
     ]
    }
   ],
   "source": [
    "fine_tune_create_output = openai.FineTune.create(training_file =file_train_id,\n",
    "                       validation_file=file_test_id,\n",
    "                       model = \"ada\",\n",
    "                       compute_classification_metrics = True,\n",
    "                       classification_positive_class = \" 0\"\n",
    "                       )\n",
    "fine_tune_id = fine_tune_create_output.get('id')\n",
    "print(fine_tune_id)"
   ]
  },
  {
   "cell_type": "markdown",
   "metadata": {},
   "source": [
    "#### Check"
   ]
  },
  {
   "cell_type": "code",
   "execution_count": 4,
   "metadata": {},
   "outputs": [
    {
     "name": "stdout",
     "output_type": "stream",
     "text": [
      "ft-VwKO2vWcNtBJrPoZorUtFTVV succeeded ada:ft-personal-2023-06-26-14-43-42\n",
      "ft-LAcA6GtvgJ0lksqRT8jwtzSx succeeded ada:ft-personal-2023-06-26-17-27-28\n",
      "ft-XGDLqYtbnvM9gy4Mrm8AWGay cancelled None\n",
      "ft-g85PjO2OHcdlpGjn53IPW3Ed succeeded ada:ft-personal-2023-08-01-08-11-24\n",
      "ft-WNSM4A5PrnGNMJOBLcy9SFSY succeeded ada:ft-personal-2023-08-04-09-17-15\n",
      "ft-j51edHpwX7ZfLBe3GRrXKnDT succeeded ada:ft-personal-2023-08-04-20-03-44\n"
     ]
    }
   ],
   "source": [
    "# fine tune list\n",
    "all_finetune = openai.FineTune.list()\n",
    "all_finetune_data = all_finetune.get('data')\n",
    "for i in range(len(all_finetune_data)):\n",
    "    print(all_finetune_data[i].get('id'), all_finetune_data[i].get('status'), all_finetune_data[i].get('fine_tuned_model'))"
   ]
  },
  {
   "cell_type": "code",
   "execution_count": 35,
   "metadata": {},
   "outputs": [
    {
     "name": "stdout",
     "output_type": "stream",
     "text": [
      "{\n",
      "  \"id\": \"ada:ft-personal-2023-08-01-08-11-24\",\n",
      "  \"object\": \"model\",\n",
      "  \"created\": 1690877485,\n",
      "  \"owned_by\": \"user-g61vq7zfiw7gw7twk60losib\",\n",
      "  \"permission\": [\n",
      "    {\n",
      "      \"id\": \"snapperm-4nfXiuUpIdcrwXWgqZt0Th1J\",\n",
      "      \"object\": \"model_permission\",\n",
      "      \"created\": 1690877485,\n",
      "      \"allow_create_engine\": true,\n",
      "      \"allow_sampling\": true,\n",
      "      \"allow_logprobs\": true,\n",
      "      \"allow_search_indices\": false,\n",
      "      \"allow_view\": true,\n",
      "      \"allow_fine_tuning\": true,\n",
      "      \"organization\": \"org-57m2RCBaIU5pd9nsTDikjeLg\",\n",
      "      \"group\": null,\n",
      "      \"is_blocking\": false\n",
      "    }\n",
      "  ],\n",
      "  \"root\": \"ada:2020-05-03\",\n",
      "  \"parent\": \"ada:2020-05-03\"\n",
      "}\n",
      "{\n",
      "  \"id\": \"ada:ft-personal-2023-08-04-20-03-44\",\n",
      "  \"object\": \"model\",\n",
      "  \"created\": 1691179424,\n",
      "  \"owned_by\": \"user-g61vq7zfiw7gw7twk60losib\",\n",
      "  \"permission\": [\n",
      "    {\n",
      "      \"id\": \"snapperm-31KeDobwaofIYMANJBkJRTeP\",\n",
      "      \"object\": \"model_permission\",\n",
      "      \"created\": 1691179424,\n",
      "      \"allow_create_engine\": true,\n",
      "      \"allow_sampling\": true,\n",
      "      \"allow_logprobs\": true,\n",
      "      \"allow_search_indices\": false,\n",
      "      \"allow_view\": true,\n",
      "      \"allow_fine_tuning\": true,\n",
      "      \"organization\": \"org-57m2RCBaIU5pd9nsTDikjeLg\",\n",
      "      \"group\": null,\n",
      "      \"is_blocking\": false\n",
      "    }\n",
      "  ],\n",
      "  \"root\": \"ada:2020-05-03\",\n",
      "  \"parent\": \"ada:2020-05-03\"\n",
      "}\n",
      "{\n",
      "  \"id\": \"ada:ft-personal-2023-08-04-09-17-15\",\n",
      "  \"object\": \"model\",\n",
      "  \"created\": 1691140635,\n",
      "  \"owned_by\": \"user-g61vq7zfiw7gw7twk60losib\",\n",
      "  \"permission\": [\n",
      "    {\n",
      "      \"id\": \"snapperm-ZlfTiBt3ZhUPsNPuvQvFZtFu\",\n",
      "      \"object\": \"model_permission\",\n",
      "      \"created\": 1691140635,\n",
      "      \"allow_create_engine\": true,\n",
      "      \"allow_sampling\": true,\n",
      "      \"allow_logprobs\": true,\n",
      "      \"allow_search_indices\": false,\n",
      "      \"allow_view\": true,\n",
      "      \"allow_fine_tuning\": true,\n",
      "      \"organization\": \"org-57m2RCBaIU5pd9nsTDikjeLg\",\n",
      "      \"group\": null,\n",
      "      \"is_blocking\": false\n",
      "    }\n",
      "  ],\n",
      "  \"root\": \"ada:2020-05-03\",\n",
      "  \"parent\": \"ada:2020-05-03\"\n",
      "}\n"
     ]
    }
   ],
   "source": [
    "# model list\n",
    "all_models = openai.Model.list()\n",
    "all_models_data = all_models.get('data')\n",
    "owned_by_list = ['openai','openai-dev', 'openai-internal']\n",
    "for i in range(len(all_models_data)):\n",
    "    if all_models_data[i].get('owned_by') not in owned_by_list:\n",
    "        print(all_models_data[i])"
   ]
  },
  {
   "cell_type": "code",
   "execution_count": 79,
   "metadata": {},
   "outputs": [
    {
     "data": {
      "text/plain": [
       "<Model model id=ada:ft-personal-2023-06-26-17-27-28 at 0x2153fc084f0> JSON: {\n",
       "  \"id\": \"ada:ft-personal-2023-06-26-17-27-28\",\n",
       "  \"object\": \"model\",\n",
       "  \"deleted\": true\n",
       "}"
      ]
     },
     "execution_count": 79,
     "metadata": {},
     "output_type": "execute_result"
    }
   ],
   "source": [
    "openai.Model.delete()"
   ]
  },
  {
   "cell_type": "code",
   "execution_count": 5,
   "metadata": {},
   "outputs": [],
   "source": [
    "fine_tune_id = \"ft-j51edHpwX7ZfLBe3GRrXKnDT\""
   ]
  },
  {
   "cell_type": "code",
   "execution_count": 6,
   "metadata": {},
   "outputs": [],
   "source": [
    "retrieve_output = openai.FineTune.retrieve(id=fine_tune_id)"
   ]
  },
  {
   "cell_type": "code",
   "execution_count": 39,
   "metadata": {},
   "outputs": [
    {
     "data": {
      "text/plain": [
       "<FineTune fine-tune id=ft-j51edHpwX7ZfLBe3GRrXKnDT at 0x1c0f3b0a200> JSON: {\n",
       "  \"object\": \"fine-tune\",\n",
       "  \"id\": \"ft-j51edHpwX7ZfLBe3GRrXKnDT\",\n",
       "  \"hyperparams\": {\n",
       "    \"n_epochs\": 4,\n",
       "    \"batch_size\": 32,\n",
       "    \"prompt_loss_weight\": 0.01,\n",
       "    \"learning_rate_multiplier\": 0.1,\n",
       "    \"classification_positive_class\": \" 0\",\n",
       "    \"compute_classification_metrics\": true\n",
       "  },\n",
       "  \"organization_id\": \"org-57m2RCBaIU5pd9nsTDikjeLg\",\n",
       "  \"model\": \"ada\",\n",
       "  \"training_files\": [\n",
       "    {\n",
       "      \"object\": \"file\",\n",
       "      \"id\": \"file-cxPIEDLcM27LxmNHvyTaApFk\",\n",
       "      \"purpose\": \"fine-tune\",\n",
       "      \"filename\": \"file\",\n",
       "      \"bytes\": 2285703,\n",
       "      \"created_at\": 1691169517,\n",
       "      \"status\": \"processed\",\n",
       "      \"status_details\": null\n",
       "    }\n",
       "  ],\n",
       "  \"validation_files\": [\n",
       "    {\n",
       "      \"object\": \"file\",\n",
       "      \"id\": \"file-0hSnroAPuDSU8iiCFwTAzaLk\",\n",
       "      \"purpose\": \"fine-tune\",\n",
       "      \"filename\": \"file\",\n",
       "      \"bytes\": 535182,\n",
       "      \"created_at\": 1691169519,\n",
       "      \"status\": \"processed\",\n",
       "      \"status_details\": null\n",
       "    }\n",
       "  ],\n",
       "  \"result_files\": [\n",
       "    {\n",
       "      \"object\": \"file\",\n",
       "      \"id\": \"file-AXj8W44wfdgrfGtoofhXad4X\",\n",
       "      \"purpose\": \"fine-tune-results\",\n",
       "      \"filename\": \"compiled_results.csv\",\n",
       "      \"bytes\": 140189,\n",
       "      \"created_at\": 1691179425,\n",
       "      \"status\": \"processed\",\n",
       "      \"status_details\": null\n",
       "    }\n",
       "  ],\n",
       "  \"created_at\": 1691169531,\n",
       "  \"updated_at\": 1691179425,\n",
       "  \"status\": \"succeeded\",\n",
       "  \"fine_tuned_model\": \"ada:ft-personal-2023-08-04-20-03-44\",\n",
       "  \"events\": [\n",
       "    {\n",
       "      \"object\": \"fine-tune-event\",\n",
       "      \"level\": \"info\",\n",
       "      \"message\": \"Created fine-tune: ft-j51edHpwX7ZfLBe3GRrXKnDT\",\n",
       "      \"created_at\": 1691169531\n",
       "    },\n",
       "    {\n",
       "      \"object\": \"fine-tune-event\",\n",
       "      \"level\": \"info\",\n",
       "      \"message\": \"Fine-tune costs $0.71\",\n",
       "      \"created_at\": 1691177960\n",
       "    },\n",
       "    {\n",
       "      \"object\": \"fine-tune-event\",\n",
       "      \"level\": \"info\",\n",
       "      \"message\": \"Fine-tune enqueued. Queue number: 4\",\n",
       "      \"created_at\": 1691177960\n",
       "    },\n",
       "    {\n",
       "      \"object\": \"fine-tune-event\",\n",
       "      \"level\": \"info\",\n",
       "      \"message\": \"Fine-tune is in the queue. Queue number: 3\",\n",
       "      \"created_at\": 1691178148\n",
       "    },\n",
       "    {\n",
       "      \"object\": \"fine-tune-event\",\n",
       "      \"level\": \"info\",\n",
       "      \"message\": \"Fine-tune is in the queue. Queue number: 2\",\n",
       "      \"created_at\": 1691178194\n",
       "    },\n",
       "    {\n",
       "      \"object\": \"fine-tune-event\",\n",
       "      \"level\": \"info\",\n",
       "      \"message\": \"Fine-tune is in the queue. Queue number: 1\",\n",
       "      \"created_at\": 1691178207\n",
       "    },\n",
       "    {\n",
       "      \"object\": \"fine-tune-event\",\n",
       "      \"level\": \"info\",\n",
       "      \"message\": \"Fine-tune is in the queue. Queue number: 0\",\n",
       "      \"created_at\": 1691178209\n",
       "    },\n",
       "    {\n",
       "      \"object\": \"fine-tune-event\",\n",
       "      \"level\": \"info\",\n",
       "      \"message\": \"Fine-tune started\",\n",
       "      \"created_at\": 1691178229\n",
       "    },\n",
       "    {\n",
       "      \"object\": \"fine-tune-event\",\n",
       "      \"level\": \"info\",\n",
       "      \"message\": \"Completed epoch 1/4\",\n",
       "      \"created_at\": 1691178478\n",
       "    },\n",
       "    {\n",
       "      \"object\": \"fine-tune-event\",\n",
       "      \"level\": \"info\",\n",
       "      \"message\": \"Completed epoch 2/4\",\n",
       "      \"created_at\": 1691178769\n",
       "    },\n",
       "    {\n",
       "      \"object\": \"fine-tune-event\",\n",
       "      \"level\": \"info\",\n",
       "      \"message\": \"Completed epoch 4/4\",\n",
       "      \"created_at\": 1691179343\n",
       "    },\n",
       "    {\n",
       "      \"object\": \"fine-tune-event\",\n",
       "      \"level\": \"info\",\n",
       "      \"message\": \"Uploaded model: ada:ft-personal-2023-08-04-20-03-44\",\n",
       "      \"created_at\": 1691179424\n",
       "    },\n",
       "    {\n",
       "      \"object\": \"fine-tune-event\",\n",
       "      \"level\": \"info\",\n",
       "      \"message\": \"Uploaded result file: file-AXj8W44wfdgrfGtoofhXad4X\",\n",
       "      \"created_at\": 1691179425\n",
       "    },\n",
       "    {\n",
       "      \"object\": \"fine-tune-event\",\n",
       "      \"level\": \"info\",\n",
       "      \"message\": \"Fine-tune succeeded\",\n",
       "      \"created_at\": 1691179425\n",
       "    }\n",
       "  ]\n",
       "}"
      ]
     },
     "execution_count": 39,
     "metadata": {},
     "output_type": "execute_result"
    }
   ],
   "source": [
    "retrieve_output"
   ]
  },
  {
   "cell_type": "code",
   "execution_count": 8,
   "metadata": {},
   "outputs": [
    {
     "name": "stdout",
     "output_type": "stream",
     "text": [
      "succeeded ada:ft-personal-2023-08-04-20-03-44\n"
     ]
    }
   ],
   "source": [
    "if retrieve_output.get(\"status\") == \"succeeded\":\n",
    "    model_id = retrieve_output.get('fine_tuned_model')\n",
    "    print(\"succeeded\", model_id)\n",
    "else:\n",
    "    print(retrieve_output.get(\"status\"))"
   ]
  },
  {
   "cell_type": "code",
   "execution_count": 83,
   "metadata": {},
   "outputs": [
    {
     "data": {
      "text/plain": [
       "<OpenAIObject list at 0x209db1dfb00> JSON: {\n",
       "  \"object\": \"list\",\n",
       "  \"data\": [\n",
       "    {\n",
       "      \"object\": \"fine-tune-event\",\n",
       "      \"level\": \"info\",\n",
       "      \"message\": \"Created fine-tune: ft-WNSM4A5PrnGNMJOBLcy9SFSY\",\n",
       "      \"created_at\": 1691130661\n",
       "    },\n",
       "    {\n",
       "      \"object\": \"fine-tune-event\",\n",
       "      \"level\": \"info\",\n",
       "      \"message\": \"Fine-tune costs $0.61\",\n",
       "      \"created_at\": 1691138888\n",
       "    },\n",
       "    {\n",
       "      \"object\": \"fine-tune-event\",\n",
       "      \"level\": \"info\",\n",
       "      \"message\": \"Fine-tune enqueued. Queue number: 3\",\n",
       "      \"created_at\": 1691138888\n",
       "    },\n",
       "    {\n",
       "      \"object\": \"fine-tune-event\",\n",
       "      \"level\": \"info\",\n",
       "      \"message\": \"Fine-tune is in the queue. Queue number: 2\",\n",
       "      \"created_at\": 1691138896\n",
       "    },\n",
       "    {\n",
       "      \"object\": \"fine-tune-event\",\n",
       "      \"level\": \"info\",\n",
       "      \"message\": \"Fine-tune is in the queue. Queue number: 1\",\n",
       "      \"created_at\": 1691139081\n",
       "    },\n",
       "    {\n",
       "      \"object\": \"fine-tune-event\",\n",
       "      \"level\": \"info\",\n",
       "      \"message\": \"Fine-tune is in the queue. Queue number: 0\",\n",
       "      \"created_at\": 1691139083\n",
       "    },\n",
       "    {\n",
       "      \"object\": \"fine-tune-event\",\n",
       "      \"level\": \"info\",\n",
       "      \"message\": \"Fine-tune started\",\n",
       "      \"created_at\": 1691139147\n",
       "    },\n",
       "    {\n",
       "      \"object\": \"fine-tune-event\",\n",
       "      \"level\": \"info\",\n",
       "      \"message\": \"Completed epoch 1/4\",\n",
       "      \"created_at\": 1691139454\n",
       "    },\n",
       "    {\n",
       "      \"object\": \"fine-tune-event\",\n",
       "      \"level\": \"info\",\n",
       "      \"message\": \"Completed epoch 3/4\",\n",
       "      \"created_at\": 1691140180\n",
       "    },\n",
       "    {\n",
       "      \"object\": \"fine-tune-event\",\n",
       "      \"level\": \"info\",\n",
       "      \"message\": \"Uploaded model: ada:ft-personal-2023-08-04-09-17-15\",\n",
       "      \"created_at\": 1691140635\n",
       "    },\n",
       "    {\n",
       "      \"object\": \"fine-tune-event\",\n",
       "      \"level\": \"info\",\n",
       "      \"message\": \"Uploaded result file: file-ap2NF83oov7SNzKbbIlAqXzk\",\n",
       "      \"created_at\": 1691140636\n",
       "    },\n",
       "    {\n",
       "      \"object\": \"fine-tune-event\",\n",
       "      \"level\": \"info\",\n",
       "      \"message\": \"Fine-tune succeeded\",\n",
       "      \"created_at\": 1691140637\n",
       "    }\n",
       "  ]\n",
       "}"
      ]
     },
     "execution_count": 83,
     "metadata": {},
     "output_type": "execute_result"
    }
   ],
   "source": [
    "openai.FineTune.list_events(id=fine_tune_id)"
   ]
  },
  {
   "cell_type": "markdown",
   "metadata": {},
   "source": [
    "#### Result"
   ]
  },
  {
   "cell_type": "code",
   "execution_count": 135,
   "metadata": {},
   "outputs": [
    {
     "name": "stdout",
     "output_type": "stream",
     "text": [
      "openai api fine_tunes.results -i ft-g85PjO2OHcdlpGjn53IPW3Ed > result.csv\n"
     ]
    }
   ],
   "source": [
    "# get result of model\n",
    "print(f\"openai api fine_tunes.results -i {fine_tune_id} > result.csv\")"
   ]
  },
  {
   "cell_type": "code",
   "execution_count": 189,
   "metadata": {},
   "outputs": [
    {
     "data": {
      "text/html": [
       "<div>\n",
       "<style scoped>\n",
       "    .dataframe tbody tr th:only-of-type {\n",
       "        vertical-align: middle;\n",
       "    }\n",
       "\n",
       "    .dataframe tbody tr th {\n",
       "        vertical-align: top;\n",
       "    }\n",
       "\n",
       "    .dataframe thead th {\n",
       "        text-align: right;\n",
       "    }\n",
       "</style>\n",
       "<table border=\"1\" class=\"dataframe\">\n",
       "  <thead>\n",
       "    <tr style=\"text-align: right;\">\n",
       "      <th></th>\n",
       "      <th>step</th>\n",
       "      <th>elapsed_tokens</th>\n",
       "      <th>elapsed_examples</th>\n",
       "      <th>training_loss</th>\n",
       "      <th>training_sequence_accuracy</th>\n",
       "      <th>training_token_accuracy</th>\n",
       "      <th>validation_loss</th>\n",
       "      <th>validation_sequence_accuracy</th>\n",
       "      <th>validation_token_accuracy</th>\n",
       "      <th>classification/accuracy</th>\n",
       "      <th>classification/precision</th>\n",
       "      <th>classification/recall</th>\n",
       "      <th>classification/auroc</th>\n",
       "      <th>classification/auprc</th>\n",
       "      <th>classification/f1.0</th>\n",
       "    </tr>\n",
       "  </thead>\n",
       "  <tbody>\n",
       "    <tr>\n",
       "      <th>3137</th>\n",
       "      <td>3138</td>\n",
       "      <td>1017808</td>\n",
       "      <td>25104</td>\n",
       "      <td>0.030316</td>\n",
       "      <td>1.0</td>\n",
       "      <td>1.0</td>\n",
       "      <td>NaN</td>\n",
       "      <td>NaN</td>\n",
       "      <td>NaN</td>\n",
       "      <td>0.814333</td>\n",
       "      <td>0.837239</td>\n",
       "      <td>0.844728</td>\n",
       "      <td>0.890362</td>\n",
       "      <td>0.914601</td>\n",
       "      <td>0.840967</td>\n",
       "    </tr>\n",
       "  </tbody>\n",
       "</table>\n",
       "</div>"
      ],
      "text/plain": [
       "      step  elapsed_tokens  elapsed_examples  training_loss   \n",
       "3137  3138         1017808             25104       0.030316  \\\n",
       "\n",
       "      training_sequence_accuracy  training_token_accuracy  validation_loss   \n",
       "3137                         1.0                      1.0              NaN  \\\n",
       "\n",
       "      validation_sequence_accuracy  validation_token_accuracy   \n",
       "3137                           NaN                        NaN  \\\n",
       "\n",
       "      classification/accuracy  classification/precision   \n",
       "3137                 0.814333                  0.837239  \\\n",
       "\n",
       "      classification/recall  classification/auroc  classification/auprc   \n",
       "3137               0.844728              0.890362              0.914601  \\\n",
       "\n",
       "      classification/f1.0  \n",
       "3137             0.840967  "
      ]
     },
     "execution_count": 189,
     "metadata": {},
     "output_type": "execute_result"
    }
   ],
   "source": [
    "# result view\n",
    "results = pd.read_csv('result.csv')\n",
    "results[results['classification/accuracy'].notnull()].tail(1)"
   ]
  },
  {
   "attachments": {},
   "cell_type": "markdown",
   "metadata": {},
   "source": [
    "#### Predict"
   ]
  },
  {
   "cell_type": "code",
   "execution_count": 37,
   "metadata": {},
   "outputs": [],
   "source": [
    "dataset_name = \"Implicit_hate_corpus\""
   ]
  },
  {
   "cell_type": "code",
   "execution_count": 38,
   "metadata": {},
   "outputs": [],
   "source": [
    "model_id = \"ada:ft-personal-2023-08-04-20-03-44\""
   ]
  },
  {
   "cell_type": "code",
   "execution_count": 44,
   "metadata": {},
   "outputs": [],
   "source": [
    "predict_result = None\n",
    "\n",
    "def gpt_complete_create(prompt_text):\n",
    "    #model_id = \"ada:ft-personal-2023-06-26-17-27-28\" \n",
    "    result_gpt = openai.Completion.create(model=model_id, prompt=prompt_text, max_tokens=1, temperature=0)\n",
    "    return result_gpt\n",
    "\n",
    "def gpt_predict(start = 0, step = 10, max_s=10):\n",
    "    prompts_tosend = []\n",
    "    for i in range(start, start+step):\n",
    "        if i == max_s: break\n",
    "        p = df_gpt.loc[i]['prompt']\n",
    "        prompts_tosend.append(p)\n",
    "    \n",
    "    predict_result = gpt_complete_create(prompts_tosend)\n",
    "    choices_gpt = predict_result.get('choices')\n",
    "    \n",
    "    for i in range(len(choices_gpt)):\n",
    "        j = choices_gpt[i]['index']\n",
    "        df_gpt.loc[start+j, 'predicted'] = int(choices_gpt[i]['text']) \n",
    "\n",
    "    print(f\"predicted {start} to {start+len(prompts_tosend)-1}\")\n",
    "\n",
    "    return prompts_tosend, predict_result\n",
    "\n",
    "def loop_gpt(start, end, step, max_s):\n",
    "    for i in range(start, end, step):\n",
    "        bb, cc = gpt_predict(i, step, max_s)\n",
    "        time.sleep(50)\n",
    "    return bb, cc"
   ]
  },
  {
   "cell_type": "code",
   "execution_count": 40,
   "metadata": {},
   "outputs": [
    {
     "data": {
      "text/html": [
       "<div>\n",
       "<style scoped>\n",
       "    .dataframe tbody tr th:only-of-type {\n",
       "        vertical-align: middle;\n",
       "    }\n",
       "\n",
       "    .dataframe tbody tr th {\n",
       "        vertical-align: top;\n",
       "    }\n",
       "\n",
       "    .dataframe thead th {\n",
       "        text-align: right;\n",
       "    }\n",
       "</style>\n",
       "<table border=\"1\" class=\"dataframe\">\n",
       "  <thead>\n",
       "    <tr style=\"text-align: right;\">\n",
       "      <th></th>\n",
       "      <th>prompt</th>\n",
       "      <th>completion</th>\n",
       "      <th>predicted</th>\n",
       "    </tr>\n",
       "  </thead>\n",
       "  <tbody>\n",
       "    <tr>\n",
       "      <th>0</th>\n",
       "      <td>: . poll flawed - didn't offer option of enfor...</td>\n",
       "      <td>0</td>\n",
       "      <td>-1</td>\n",
       "    </tr>\n",
       "    <tr>\n",
       "      <th>1</th>\n",
       "      <td>you will not succeed in your goal of a white e...</td>\n",
       "      <td>0</td>\n",
       "      <td>-1</td>\n",
       "    </tr>\n",
       "    <tr>\n",
       "      <th>2</th>\n",
       "      <td>a white supremacist when they are conservativ...</td>\n",
       "      <td>0</td>\n",
       "      <td>-1</td>\n",
       "    </tr>\n",
       "    <tr>\n",
       "      <th>3</th>\n",
       "      <td>then why do you use the word white ? youre the...</td>\n",
       "      <td>0</td>\n",
       "      <td>-1</td>\n",
       "    </tr>\n",
       "    <tr>\n",
       "      <th>4</th>\n",
       "      <td>retweeted elder lansing ( ): forget this white...</td>\n",
       "      <td>0</td>\n",
       "      <td>-1</td>\n",
       "    </tr>\n",
       "  </tbody>\n",
       "</table>\n",
       "</div>"
      ],
      "text/plain": [
       "                                              prompt  completion  predicted\n",
       "0  : . poll flawed - didn't offer option of enfor...           0         -1\n",
       "1  you will not succeed in your goal of a white e...           0         -1\n",
       "2   a white supremacist when they are conservativ...           0         -1\n",
       "3  then why do you use the word white ? youre the...           0         -1\n",
       "4  retweeted elder lansing ( ): forget this white...           0         -1"
      ]
     },
     "execution_count": 40,
     "metadata": {},
     "output_type": "execute_result"
    }
   ],
   "source": [
    "filepath = f\"Dataset/{dataset_name}/gpt_data_test_prepared.jsonl\"\n",
    "df_gpt = pd.read_json(filepath, lines=True)\n",
    "df_gpt['predicted'] = -1\n",
    "df_gpt.head()"
   ]
  },
  {
   "cell_type": "code",
   "execution_count": 13,
   "metadata": {},
   "outputs": [
    {
     "data": {
      "text/plain": [
       "4296"
      ]
     },
     "execution_count": 13,
     "metadata": {},
     "output_type": "execute_result"
    }
   ],
   "source": [
    "max_s = len(df_gpt)\n",
    "max_s"
   ]
  },
  {
   "cell_type": "code",
   "execution_count": 48,
   "metadata": {},
   "outputs": [
    {
     "name": "stdout",
     "output_type": "stream",
     "text": [
      "predicted 600 to 1099\n",
      "predicted 1100 to 1599\n",
      "predicted 1600 to 2099\n",
      "predicted 2100 to 2599\n",
      "predicted 2600 to 3099\n",
      "predicted 3100 to 3599\n",
      "predicted 3600 to 4099\n",
      "predicted 4100 to 4295\n"
     ]
    }
   ],
   "source": [
    "try:\n",
    "    p, r = loop_gpt(600, max_s, 500, max_s)\n",
    "except Exception as e:\n",
    "    print(e)\n"
   ]
  },
  {
   "cell_type": "code",
   "execution_count": 49,
   "metadata": {},
   "outputs": [
    {
     "data": {
      "text/plain": [
       "0"
      ]
     },
     "execution_count": 49,
     "metadata": {},
     "output_type": "execute_result"
    }
   ],
   "source": [
    "len(df_gpt.loc[df_gpt['predicted'] == -1])"
   ]
  },
  {
   "cell_type": "code",
   "execution_count": 50,
   "metadata": {},
   "outputs": [
    {
     "data": {
      "text/html": [
       "<div>\n",
       "<style scoped>\n",
       "    .dataframe tbody tr th:only-of-type {\n",
       "        vertical-align: middle;\n",
       "    }\n",
       "\n",
       "    .dataframe tbody tr th {\n",
       "        vertical-align: top;\n",
       "    }\n",
       "\n",
       "    .dataframe thead th {\n",
       "        text-align: right;\n",
       "    }\n",
       "</style>\n",
       "<table border=\"1\" class=\"dataframe\">\n",
       "  <thead>\n",
       "    <tr style=\"text-align: right;\">\n",
       "      <th></th>\n",
       "      <th>prompt</th>\n",
       "      <th>completion</th>\n",
       "      <th>predicted</th>\n",
       "    </tr>\n",
       "  </thead>\n",
       "  <tbody>\n",
       "  </tbody>\n",
       "</table>\n",
       "</div>"
      ],
      "text/plain": [
       "Empty DataFrame\n",
       "Columns: [prompt, completion, predicted]\n",
       "Index: []"
      ]
     },
     "execution_count": 50,
     "metadata": {},
     "output_type": "execute_result"
    }
   ],
   "source": [
    "df_gpt.loc[df_gpt['predicted'] == -1]"
   ]
  },
  {
   "cell_type": "code",
   "execution_count": 51,
   "metadata": {},
   "outputs": [],
   "source": [
    "df_gpt.to_json(f\"Dataset/{dataset_name}/gpt_data_test_result1.jsonl\", orient='records', lines=True, index=True)"
   ]
  },
  {
   "cell_type": "markdown",
   "metadata": {},
   "source": [
    "#### result"
   ]
  },
  {
   "cell_type": "code",
   "execution_count": 12,
   "metadata": {},
   "outputs": [],
   "source": [
    "dataset_name = \"SE2019\""
   ]
  },
  {
   "cell_type": "code",
   "execution_count": 17,
   "metadata": {},
   "outputs": [],
   "source": [
    "df_gpt = pd.read_csv(f\"Dataset/{dataset_name}/gpt_data_test_result.csv\")"
   ]
  },
  {
   "cell_type": "code",
   "execution_count": 13,
   "metadata": {},
   "outputs": [
    {
     "ename": "ValueError",
     "evalue": "Expected object or value",
     "output_type": "error",
     "traceback": [
      "\u001b[1;31m---------------------------------------------------------------------------\u001b[0m",
      "\u001b[1;31mValueError\u001b[0m                                Traceback (most recent call last)",
      "Cell \u001b[1;32mIn[13], line 1\u001b[0m\n\u001b[1;32m----> 1\u001b[0m df_gpt \u001b[39m=\u001b[39m pd\u001b[39m.\u001b[39;49mread_json(\u001b[39mf\u001b[39;49m\u001b[39m\"\u001b[39;49m\u001b[39mDataset/\u001b[39;49m\u001b[39m{\u001b[39;49;00mdataset_name\u001b[39m}\u001b[39;49;00m\u001b[39m/gpt_data_test_result1.jsonl\u001b[39;49m\u001b[39m\"\u001b[39;49m, orient\u001b[39m=\u001b[39;49m\u001b[39m'\u001b[39;49m\u001b[39mrecords\u001b[39;49m\u001b[39m'\u001b[39;49m, lines\u001b[39m=\u001b[39;49m\u001b[39mTrue\u001b[39;49;00m)\n\u001b[0;32m      2\u001b[0m df_gpt\n",
      "File \u001b[1;32md:\\FYP codes\\.venv10\\lib\\site-packages\\pandas\\io\\json\\_json.py:784\u001b[0m, in \u001b[0;36mread_json\u001b[1;34m(path_or_buf, orient, typ, dtype, convert_axes, convert_dates, keep_default_dates, precise_float, date_unit, encoding, encoding_errors, lines, chunksize, compression, nrows, storage_options, dtype_backend, engine)\u001b[0m\n\u001b[0;32m    782\u001b[0m     \u001b[39mreturn\u001b[39;00m json_reader\n\u001b[0;32m    783\u001b[0m \u001b[39melse\u001b[39;00m:\n\u001b[1;32m--> 784\u001b[0m     \u001b[39mreturn\u001b[39;00m json_reader\u001b[39m.\u001b[39;49mread()\n",
      "File \u001b[1;32md:\\FYP codes\\.venv10\\lib\\site-packages\\pandas\\io\\json\\_json.py:973\u001b[0m, in \u001b[0;36mJsonReader.read\u001b[1;34m(self)\u001b[0m\n\u001b[0;32m    971\u001b[0m         data \u001b[39m=\u001b[39m ensure_str(\u001b[39mself\u001b[39m\u001b[39m.\u001b[39mdata)\n\u001b[0;32m    972\u001b[0m         data_lines \u001b[39m=\u001b[39m data\u001b[39m.\u001b[39msplit(\u001b[39m\"\u001b[39m\u001b[39m\\n\u001b[39;00m\u001b[39m\"\u001b[39m)\n\u001b[1;32m--> 973\u001b[0m         obj \u001b[39m=\u001b[39m \u001b[39mself\u001b[39;49m\u001b[39m.\u001b[39;49m_get_object_parser(\u001b[39mself\u001b[39;49m\u001b[39m.\u001b[39;49m_combine_lines(data_lines))\n\u001b[0;32m    974\u001b[0m \u001b[39melse\u001b[39;00m:\n\u001b[0;32m    975\u001b[0m     obj \u001b[39m=\u001b[39m \u001b[39mself\u001b[39m\u001b[39m.\u001b[39m_get_object_parser(\u001b[39mself\u001b[39m\u001b[39m.\u001b[39mdata)\n",
      "File \u001b[1;32md:\\FYP codes\\.venv10\\lib\\site-packages\\pandas\\io\\json\\_json.py:1001\u001b[0m, in \u001b[0;36mJsonReader._get_object_parser\u001b[1;34m(self, json)\u001b[0m\n\u001b[0;32m    999\u001b[0m obj \u001b[39m=\u001b[39m \u001b[39mNone\u001b[39;00m\n\u001b[0;32m   1000\u001b[0m \u001b[39mif\u001b[39;00m typ \u001b[39m==\u001b[39m \u001b[39m\"\u001b[39m\u001b[39mframe\u001b[39m\u001b[39m\"\u001b[39m:\n\u001b[1;32m-> 1001\u001b[0m     obj \u001b[39m=\u001b[39m FrameParser(json, \u001b[39m*\u001b[39;49m\u001b[39m*\u001b[39;49mkwargs)\u001b[39m.\u001b[39;49mparse()\n\u001b[0;32m   1003\u001b[0m \u001b[39mif\u001b[39;00m typ \u001b[39m==\u001b[39m \u001b[39m\"\u001b[39m\u001b[39mseries\u001b[39m\u001b[39m\"\u001b[39m \u001b[39mor\u001b[39;00m obj \u001b[39mis\u001b[39;00m \u001b[39mNone\u001b[39;00m:\n\u001b[0;32m   1004\u001b[0m     \u001b[39mif\u001b[39;00m \u001b[39mnot\u001b[39;00m \u001b[39misinstance\u001b[39m(dtype, \u001b[39mbool\u001b[39m):\n",
      "File \u001b[1;32md:\\FYP codes\\.venv10\\lib\\site-packages\\pandas\\io\\json\\_json.py:1134\u001b[0m, in \u001b[0;36mParser.parse\u001b[1;34m(self)\u001b[0m\n\u001b[0;32m   1133\u001b[0m \u001b[39mdef\u001b[39;00m \u001b[39mparse\u001b[39m(\u001b[39mself\u001b[39m):\n\u001b[1;32m-> 1134\u001b[0m     \u001b[39mself\u001b[39;49m\u001b[39m.\u001b[39;49m_parse()\n\u001b[0;32m   1136\u001b[0m     \u001b[39mif\u001b[39;00m \u001b[39mself\u001b[39m\u001b[39m.\u001b[39mobj \u001b[39mis\u001b[39;00m \u001b[39mNone\u001b[39;00m:\n\u001b[0;32m   1137\u001b[0m         \u001b[39mreturn\u001b[39;00m \u001b[39mNone\u001b[39;00m\n",
      "File \u001b[1;32md:\\FYP codes\\.venv10\\lib\\site-packages\\pandas\\io\\json\\_json.py:1347\u001b[0m, in \u001b[0;36mFrameParser._parse\u001b[1;34m(self)\u001b[0m\n\u001b[0;32m   1344\u001b[0m     \u001b[39mself\u001b[39m\u001b[39m.\u001b[39mobj \u001b[39m=\u001b[39m parse_table_schema(json, precise_float\u001b[39m=\u001b[39m\u001b[39mself\u001b[39m\u001b[39m.\u001b[39mprecise_float)\n\u001b[0;32m   1345\u001b[0m \u001b[39melse\u001b[39;00m:\n\u001b[0;32m   1346\u001b[0m     \u001b[39mself\u001b[39m\u001b[39m.\u001b[39mobj \u001b[39m=\u001b[39m DataFrame(\n\u001b[1;32m-> 1347\u001b[0m         loads(json, precise_float\u001b[39m=\u001b[39;49m\u001b[39mself\u001b[39;49m\u001b[39m.\u001b[39;49mprecise_float), dtype\u001b[39m=\u001b[39m\u001b[39mNone\u001b[39;00m\n\u001b[0;32m   1348\u001b[0m     )\n",
      "\u001b[1;31mValueError\u001b[0m: Expected object or value"
     ]
    }
   ],
   "source": [
    "df_gpt = pd.read_json(f\"Dataset/{dataset_name}/gpt_data_test_result1.jsonl\", orient='records', lines=True)\n",
    "df_gpt"
   ]
  },
  {
   "cell_type": "code",
   "execution_count": 21,
   "metadata": {},
   "outputs": [
    {
     "data": {
      "text/html": [
       "<div>\n",
       "<style scoped>\n",
       "    .dataframe tbody tr th:only-of-type {\n",
       "        vertical-align: middle;\n",
       "    }\n",
       "\n",
       "    .dataframe tbody tr th {\n",
       "        vertical-align: top;\n",
       "    }\n",
       "\n",
       "    .dataframe thead th {\n",
       "        text-align: right;\n",
       "    }\n",
       "</style>\n",
       "<table border=\"1\" class=\"dataframe\">\n",
       "  <thead>\n",
       "    <tr style=\"text-align: right;\">\n",
       "      <th></th>\n",
       "      <th>Model</th>\n",
       "      <th>Accuracy</th>\n",
       "      <th>precision</th>\n",
       "      <th>recall</th>\n",
       "      <th>f1-score</th>\n",
       "      <th>hate f1</th>\n",
       "      <th>non-hate f1</th>\n",
       "      <th>hate support</th>\n",
       "      <th>non-hate support</th>\n",
       "    </tr>\n",
       "  </thead>\n",
       "  <tbody>\n",
       "    <tr>\n",
       "      <th>0</th>\n",
       "      <td>SE2019_GPT</td>\n",
       "      <td>0.814333</td>\n",
       "      <td>0.809284</td>\n",
       "      <td>0.809436</td>\n",
       "      <td>0.809359</td>\n",
       "      <td>0.778565</td>\n",
       "      <td>0.840153</td>\n",
       "      <td>1128.0</td>\n",
       "      <td>1565.0</td>\n",
       "    </tr>\n",
       "  </tbody>\n",
       "</table>\n",
       "</div>"
      ],
      "text/plain": [
       "        Model  Accuracy  precision    recall  f1-score   hate f1  non-hate f1  \\\n",
       "0  SE2019_GPT  0.814333   0.809284  0.809436  0.809359  0.778565     0.840153   \n",
       "\n",
       "   hate support  non-hate support  \n",
       "0        1128.0            1565.0  "
      ]
     },
     "execution_count": 21,
     "metadata": {},
     "output_type": "execute_result"
    }
   ],
   "source": [
    "y_test = df_gpt['completion'].to_numpy()\n",
    "y_test_pred = df_gpt['predicted'].to_numpy()\n",
    "\n",
    "y_test = np.where(y_test == 1, \"Hate\", \"Non-Hate\") \n",
    "y_test_pred = np.where(y_test_pred == 1, \"Hate\", \"Non-Hate\") \n",
    "# get_result_single(y_test, y_test_pred, \"GPT\")\n",
    "get_result_single(y_test, y_test_pred, dataset_name+\"_GPT\")"
   ]
  },
  {
   "cell_type": "code",
   "execution_count": 161,
   "metadata": {},
   "outputs": [
    {
     "ename": "ValueError",
     "evalue": "Found input variables with inconsistent numbers of samples: [4296, 5400]",
     "output_type": "error",
     "traceback": [
      "\u001b[1;31m---------------------------------------------------------------------------\u001b[0m",
      "\u001b[1;31mValueError\u001b[0m                                Traceback (most recent call last)",
      "Cell \u001b[1;32mIn[161], line 1\u001b[0m\n\u001b[1;32m----> 1\u001b[0m \u001b[39mprint\u001b[39m(classification_report(y_test, y_test_pred, labels\u001b[39m=\u001b[39;49m[\u001b[39m\"\u001b[39;49m\u001b[39mHate\u001b[39;49m\u001b[39m\"\u001b[39;49m,\u001b[39m\"\u001b[39;49m\u001b[39mNon-Hate\u001b[39;49m\u001b[39m\"\u001b[39;49m], digits\u001b[39m=\u001b[39;49m\u001b[39m3\u001b[39;49m))\n",
      "File \u001b[1;32md:\\FYP codes\\.venv10\\lib\\site-packages\\sklearn\\utils\\_param_validation.py:211\u001b[0m, in \u001b[0;36mvalidate_params.<locals>.decorator.<locals>.wrapper\u001b[1;34m(*args, **kwargs)\u001b[0m\n\u001b[0;32m    205\u001b[0m \u001b[39mtry\u001b[39;00m:\n\u001b[0;32m    206\u001b[0m     \u001b[39mwith\u001b[39;00m config_context(\n\u001b[0;32m    207\u001b[0m         skip_parameter_validation\u001b[39m=\u001b[39m(\n\u001b[0;32m    208\u001b[0m             prefer_skip_nested_validation \u001b[39mor\u001b[39;00m global_skip_validation\n\u001b[0;32m    209\u001b[0m         )\n\u001b[0;32m    210\u001b[0m     ):\n\u001b[1;32m--> 211\u001b[0m         \u001b[39mreturn\u001b[39;00m func(\u001b[39m*\u001b[39margs, \u001b[39m*\u001b[39m\u001b[39m*\u001b[39mkwargs)\n\u001b[0;32m    212\u001b[0m \u001b[39mexcept\u001b[39;00m InvalidParameterError \u001b[39mas\u001b[39;00m e:\n\u001b[0;32m    213\u001b[0m     \u001b[39m# When the function is just a wrapper around an estimator, we allow\u001b[39;00m\n\u001b[0;32m    214\u001b[0m     \u001b[39m# the function to delegate validation to the estimator, but we replace\u001b[39;00m\n\u001b[0;32m    215\u001b[0m     \u001b[39m# the name of the estimator by the name of the function in the error\u001b[39;00m\n\u001b[0;32m    216\u001b[0m     \u001b[39m# message to avoid confusion.\u001b[39;00m\n\u001b[0;32m    217\u001b[0m     msg \u001b[39m=\u001b[39m re\u001b[39m.\u001b[39msub(\n\u001b[0;32m    218\u001b[0m         \u001b[39mr\u001b[39m\u001b[39m\"\u001b[39m\u001b[39mparameter of \u001b[39m\u001b[39m\\\u001b[39m\u001b[39mw+ must be\u001b[39m\u001b[39m\"\u001b[39m,\n\u001b[0;32m    219\u001b[0m         \u001b[39mf\u001b[39m\u001b[39m\"\u001b[39m\u001b[39mparameter of \u001b[39m\u001b[39m{\u001b[39;00mfunc\u001b[39m.\u001b[39m\u001b[39m__qualname__\u001b[39m\u001b[39m}\u001b[39;00m\u001b[39m must be\u001b[39m\u001b[39m\"\u001b[39m,\n\u001b[0;32m    220\u001b[0m         \u001b[39mstr\u001b[39m(e),\n\u001b[0;32m    221\u001b[0m     )\n",
      "File \u001b[1;32md:\\FYP codes\\.venv10\\lib\\site-packages\\sklearn\\metrics\\_classification.py:2539\u001b[0m, in \u001b[0;36mclassification_report\u001b[1;34m(y_true, y_pred, labels, target_names, sample_weight, digits, output_dict, zero_division)\u001b[0m\n\u001b[0;32m   2405\u001b[0m \u001b[39m@validate_params\u001b[39m(\n\u001b[0;32m   2406\u001b[0m     {\n\u001b[0;32m   2407\u001b[0m         \u001b[39m\"\u001b[39m\u001b[39my_true\u001b[39m\u001b[39m\"\u001b[39m: [\u001b[39m\"\u001b[39m\u001b[39marray-like\u001b[39m\u001b[39m\"\u001b[39m, \u001b[39m\"\u001b[39m\u001b[39msparse matrix\u001b[39m\u001b[39m\"\u001b[39m],\n\u001b[1;32m   (...)\u001b[0m\n\u001b[0;32m   2430\u001b[0m     zero_division\u001b[39m=\u001b[39m\u001b[39m\"\u001b[39m\u001b[39mwarn\u001b[39m\u001b[39m\"\u001b[39m,\n\u001b[0;32m   2431\u001b[0m ):\n\u001b[0;32m   2432\u001b[0m \u001b[39m    \u001b[39m\u001b[39m\"\"\"Build a text report showing the main classification metrics.\u001b[39;00m\n\u001b[0;32m   2433\u001b[0m \n\u001b[0;32m   2434\u001b[0m \u001b[39m    Read more in the :ref:`User Guide <classification_report>`.\u001b[39;00m\n\u001b[1;32m   (...)\u001b[0m\n\u001b[0;32m   2536\u001b[0m \u001b[39m    <BLANKLINE>\u001b[39;00m\n\u001b[0;32m   2537\u001b[0m \u001b[39m    \"\"\"\u001b[39;00m\n\u001b[1;32m-> 2539\u001b[0m     y_type, y_true, y_pred \u001b[39m=\u001b[39m _check_targets(y_true, y_pred)\n\u001b[0;32m   2541\u001b[0m     \u001b[39mif\u001b[39;00m labels \u001b[39mis\u001b[39;00m \u001b[39mNone\u001b[39;00m:\n\u001b[0;32m   2542\u001b[0m         labels \u001b[39m=\u001b[39m unique_labels(y_true, y_pred)\n",
      "File \u001b[1;32md:\\FYP codes\\.venv10\\lib\\site-packages\\sklearn\\metrics\\_classification.py:84\u001b[0m, in \u001b[0;36m_check_targets\u001b[1;34m(y_true, y_pred)\u001b[0m\n\u001b[0;32m     57\u001b[0m \u001b[39mdef\u001b[39;00m \u001b[39m_check_targets\u001b[39m(y_true, y_pred):\n\u001b[0;32m     58\u001b[0m \u001b[39m    \u001b[39m\u001b[39m\"\"\"Check that y_true and y_pred belong to the same classification task.\u001b[39;00m\n\u001b[0;32m     59\u001b[0m \n\u001b[0;32m     60\u001b[0m \u001b[39m    This converts multiclass or binary types to a common shape, and raises a\u001b[39;00m\n\u001b[1;32m   (...)\u001b[0m\n\u001b[0;32m     82\u001b[0m \u001b[39m    y_pred : array or indicator matrix\u001b[39;00m\n\u001b[0;32m     83\u001b[0m \u001b[39m    \"\"\"\u001b[39;00m\n\u001b[1;32m---> 84\u001b[0m     check_consistent_length(y_true, y_pred)\n\u001b[0;32m     85\u001b[0m     type_true \u001b[39m=\u001b[39m type_of_target(y_true, input_name\u001b[39m=\u001b[39m\u001b[39m\"\u001b[39m\u001b[39my_true\u001b[39m\u001b[39m\"\u001b[39m)\n\u001b[0;32m     86\u001b[0m     type_pred \u001b[39m=\u001b[39m type_of_target(y_pred, input_name\u001b[39m=\u001b[39m\u001b[39m\"\u001b[39m\u001b[39my_pred\u001b[39m\u001b[39m\"\u001b[39m)\n",
      "File \u001b[1;32md:\\FYP codes\\.venv10\\lib\\site-packages\\sklearn\\utils\\validation.py:409\u001b[0m, in \u001b[0;36mcheck_consistent_length\u001b[1;34m(*arrays)\u001b[0m\n\u001b[0;32m    407\u001b[0m uniques \u001b[39m=\u001b[39m np\u001b[39m.\u001b[39munique(lengths)\n\u001b[0;32m    408\u001b[0m \u001b[39mif\u001b[39;00m \u001b[39mlen\u001b[39m(uniques) \u001b[39m>\u001b[39m \u001b[39m1\u001b[39m:\n\u001b[1;32m--> 409\u001b[0m     \u001b[39mraise\u001b[39;00m \u001b[39mValueError\u001b[39;00m(\n\u001b[0;32m    410\u001b[0m         \u001b[39m\"\u001b[39m\u001b[39mFound input variables with inconsistent numbers of samples: \u001b[39m\u001b[39m%r\u001b[39;00m\u001b[39m\"\u001b[39m\n\u001b[0;32m    411\u001b[0m         \u001b[39m%\u001b[39m [\u001b[39mint\u001b[39m(l) \u001b[39mfor\u001b[39;00m l \u001b[39min\u001b[39;00m lengths]\n\u001b[0;32m    412\u001b[0m     )\n",
      "\u001b[1;31mValueError\u001b[0m: Found input variables with inconsistent numbers of samples: [4296, 5400]"
     ]
    }
   ],
   "source": [
    "print(classification_report(y_test, y_test_pred, labels=[\"Hate\",\"Non-Hate\"], digits=3))"
   ]
  },
  {
   "cell_type": "code",
   "execution_count": 24,
   "metadata": {},
   "outputs": [
    {
     "name": "stdout",
     "output_type": "stream",
     "text": [
      "Count: Actual\n",
      "Non-Hate    1565\n",
      "Hate        1128\n",
      "Name: count, dtype: int64\n",
      "\n",
      "Count: Predict\n",
      "Non-Hate    1563\n",
      "Hate        1130\n",
      "Name: count, dtype: int64\n",
      "\n"
     ]
    },
    {
     "data": {
      "image/png": "[encoded data removed]",
      "text/plain": [
       "<Figure size 640x480 with 2 Axes>"
      ]
     },
     "metadata": {},
     "output_type": "display_data"
    }
   ],
   "source": [
    "plot_heatmap(y_test, y_test_pred)"
   ]
  },
  {
   "attachments": {},
   "cell_type": "markdown",
   "metadata": {},
   "source": [
    "### BERT"
   ]
  },
  {
   "attachments": {},
   "cell_type": "markdown",
   "metadata": {},
   "source": [
    "- https://towardsdatascience.com/bert-explained-state-of-the-art-language-model-for-nlp-f8b21a9b6270\n",
    "- https://www.youtube.com/watch?v=hOCDJyZ6quA\n",
    "- tensorflow hub bert https://tfhub.dev/tensorflow/bert_en_uncased_L-12_H-768_A-12/4\n",
    "- bert will convert sentence into embeding vector which will feed to neural network for training \n",
    "- consist of preprocess and embeding \n",
    "- (4)BERT-RNN: The corresponding representational word vectors were trained by BERT model for the input text, which were then classified by RNN neural network. (5)word2vec-RNN: This model is a traditional text classification model. 4.3.\n",
    "- BERT is a neural-network-based technique for language processing pre-training\n",
    "- it is not a classification algorithm \n",
    "- BERT generates <b>contextual embeddings</b>, the input to the model is a sentence rather than a single word.\n",
    "- BERT learns contextualized word representations, often referred to as contextual word embeddings or contextualized embeddings. Unlike traditional word embeddings, which assign a fixed vector representation to each word, BERT's word representations are sensitive to the context in which the word appears."
   ]
  },
  {
   "cell_type": "markdown",
   "metadata": {},
   "source": [
    "## Result Display"
   ]
  },
  {
   "attachments": {},
   "cell_type": "markdown",
   "metadata": {},
   "source": [
    "### Visualise"
   ]
  },
  {
   "cell_type": "code",
   "execution_count": 33,
   "metadata": {},
   "outputs": [],
   "source": [
    "def plot_history(model_history, model_name):\n",
    "    # Model performance charts\n",
    "    plt.figure(figsize=(8, 4))\n",
    "    plt.subplot(1, 2, 1)\n",
    "\n",
    "    plt.plot(model_history.history['accuracy'])\n",
    "    plt.plot(model_history.history['val_accuracy'])\n",
    "\n",
    "    plt.title(f'{model_name} model accuracy')\n",
    "    plt.ylabel('accuracy')\n",
    "    plt.xlabel('epoch')\n",
    "    plt.legend(['train', 'test'], loc='upper left')\n",
    "    plt.ylim(None, 1)\n",
    "    plt.subplot(1, 2, 2)\n",
    "\n",
    "    plt.plot(model_history.history['loss'])\n",
    "    plt.plot(model_history.history['val_loss'])\n",
    "\n",
    "    plt.title(f'{model_name} model loss')\n",
    "    plt.ylabel('loss')\n",
    "    plt.xlabel('epoch')\n",
    "    plt.legend(['train', 'test'], loc='lower right')\n",
    "    plt.ylim(0, None)\n",
    "    \n",
    "    \n",
    "    # plt.figure(figsize=(4,4))\n",
    "    # plt.plot(model_history.history['loss'])\n",
    "    # plt.plot(model_history.history['val_loss'])\n",
    "    \n",
    "    # plt.title(f'{model_name} model loss')\n",
    "    # plt.ylabel('loss')\n",
    "    # plt.xlabel('epoch')\n",
    "    # plt.legend(['train', 'test'], loc='lower right')"
   ]
  },
  {
   "attachments": {},
   "cell_type": "markdown",
   "metadata": {},
   "source": [
    "### Results - confusion"
   ]
  },
  {
   "cell_type": "code",
   "execution_count": 30,
   "metadata": {},
   "outputs": [],
   "source": [
    "def plot_heatmap(y_test, y_test_pred):\n",
    "    # Heatmap\n",
    "    ax = plt.subplot()\n",
    "\n",
    "    # Plot the two-way Confusion Matrix\n",
    "    sb.heatmap(confusion_matrix(y_test, y_test_pred, labels=[\"Hate\",\"Non-Hate\"]), \n",
    "            annot = True, fmt=\".0f\", annot_kws={\"size\": 18}, ax=ax)\n",
    "\n",
    "    ax.set_xlabel('Predicted')\n",
    "    ax.set_ylabel('Actual')\n",
    "    ax.xaxis.set_ticklabels([\"Hate\",\"Non-Hate\"])\n",
    "    ax.yaxis.set_ticklabels([\"Hate\",\"Non-Hate\"])\n",
    "\n",
    "    # Count\n",
    "    df1 = pd.DataFrame({'Actual':y_test, 'Predict':y_test_pred})\n",
    "    # print(df1.describe())\n",
    "    print(f\"Count: {df1['Actual'].value_counts()}\")\n",
    "    print()\n",
    "    print(f\"Count: {df1['Predict'].value_counts()}\")\n",
    "    print()"
   ]
  },
  {
   "attachments": {},
   "cell_type": "markdown",
   "metadata": {},
   "source": [
    "# test"
   ]
  },
  {
   "cell_type": "code",
   "execution_count": 64,
   "metadata": {},
   "outputs": [
    {
     "name": "stdout",
     "output_type": "stream",
     "text": [
      "class\n",
      "Non-Hate    0.578737\n",
      "Hate        0.421263\n",
      "Name: proportion, dtype: float64\n",
      "Train Set : (10384,) (10384,)\n",
      "Test Set  : (2596,) (2596,)\n",
      "Total  12980\n",
      "SE2019\n"
     ]
    },
    {
     "data": {
      "text/plain": [
       "'best gift ever '"
      ]
     },
     "execution_count": 64,
     "metadata": {},
     "output_type": "execute_result"
    }
   ],
   "source": [
    "df, dataset_name = load_dataset(3,2) \n",
    "x_train, y_train, y_train_binary, x_test, y_test, y_test_binary = split_data(df)\n",
    "df_result = get_result_table()\n",
    "print(dataset_name)\n",
    "x_train[0]"
   ]
  },
  {
   "cell_type": "markdown",
   "metadata": {},
   "source": [
    "gab \n",
    "'white people post ww stupid allowing bullshit happen right noses western civilization smart cunning superior rest envy'\n",
    "\n",
    "implicit\n",
    "'dividing country small groups hate kkk neonazis etc droves crazies flocking well done dnc'\n",
    "\n",
    "se \n",
    "'yeah bad bitch looking hoe kind average'\n",
    "\n",
    "balanced\n",
    "'reason poem woman '"
   ]
  },
  {
   "cell_type": "markdown",
   "metadata": {},
   "source": [
    "### test single"
   ]
  },
  {
   "cell_type": "code",
   "execution_count": 25,
   "metadata": {},
   "outputs": [
    {
     "name": "stdout",
     "output_type": "stream",
     "text": [
      "total vocab 34671\n",
      "Converted 22504 words (12167 misses)\n",
      "word2vec_trained\n",
      "GabHateCorpus\n"
     ]
    }
   ],
   "source": [
    "pre_trained_model,em_model_name = get_word2vec_model()\n",
    "custom_encoder, custom_embedding, embedding_name = pre_trained_em(x_train, pre_trained_model, em_model_name)\n",
    "print(embedding_name)\n",
    "print(dataset_name)"
   ]
  },
  {
   "cell_type": "code",
   "execution_count": 22,
   "metadata": {},
   "outputs": [
    {
     "name": "stdout",
     "output_type": "stream",
     "text": [
      "total vocab 34666\n",
      "Converted 22627 words (12039 misses)\n",
      "word2vec_trained\n",
      "GabHateCorpus\n"
     ]
    }
   ],
   "source": [
    "# pre trained word embedding \n",
    "pre_trained_model,em_model_name = get_word2vec_model()\n",
    "custom_encoder, custom_embedding, embedding_name = pre_trained_em(x_train, pre_trained_model, em_model_name)\n",
    "print(embedding_name)\n",
    "print(dataset_name)"
   ]
  },
  {
   "cell_type": "code",
   "execution_count": 62,
   "metadata": {},
   "outputs": [
    {
     "name": "stdout",
     "output_type": "stream",
     "text": [
      "total vocab 34819\n"
     ]
    },
    {
     "ename": "KeyboardInterrupt",
     "evalue": "",
     "output_type": "error",
     "traceback": [
      "\u001b[1;31m---------------------------------------------------------------------------\u001b[0m",
      "\u001b[1;31mKeyboardInterrupt\u001b[0m                         Traceback (most recent call last)",
      "Cell \u001b[1;32mIn[62], line 2\u001b[0m\n\u001b[0;32m      1\u001b[0m \u001b[39m# learned word embedding\u001b[39;00m\n\u001b[1;32m----> 2\u001b[0m custom_encoder, custom_embedding, embedding_name \u001b[39m=\u001b[39m glove_em(x_train)\n\u001b[0;32m      3\u001b[0m \u001b[39mprint\u001b[39m(embedding_name)\n\u001b[0;32m      4\u001b[0m \u001b[39mprint\u001b[39m(dataset_name)\n",
      "Cell \u001b[1;32mIn[39], line 18\u001b[0m, in \u001b[0;36mglove_em\u001b[1;34m(x_train)\u001b[0m\n\u001b[0;32m     15\u001b[0m embeddings_dic \u001b[39m=\u001b[39m \u001b[39mdict\u001b[39m()\n\u001b[0;32m     16\u001b[0m glove_file \u001b[39m=\u001b[39m \u001b[39mopen\u001b[39m(\u001b[39m\"\u001b[39m\u001b[39mDataset/trained/glove.42B.300d.txt\u001b[39m\u001b[39m\"\u001b[39m, encoding\u001b[39m=\u001b[39m\u001b[39m\"\u001b[39m\u001b[39mutf8\u001b[39m\u001b[39m\"\u001b[39m)\n\u001b[1;32m---> 18\u001b[0m \u001b[39mfor\u001b[39;00m line \u001b[39min\u001b[39;00m glove_file:\n\u001b[0;32m     19\u001b[0m     records \u001b[39m=\u001b[39m line\u001b[39m.\u001b[39msplit()\n\u001b[0;32m     20\u001b[0m     word \u001b[39m=\u001b[39m records[\u001b[39m0\u001b[39m]\n",
      "File \u001b[1;32m~\\AppData\\Local\\Programs\\Python\\Python310\\lib\\codecs.py:319\u001b[0m, in \u001b[0;36mBufferedIncrementalDecoder.decode\u001b[1;34m(self, input, final)\u001b[0m\n\u001b[0;32m    314\u001b[0m \u001b[39mdef\u001b[39;00m \u001b[39m_buffer_decode\u001b[39m(\u001b[39mself\u001b[39m, \u001b[39minput\u001b[39m, errors, final):\n\u001b[0;32m    315\u001b[0m     \u001b[39m# Overwrite this method in subclasses: It must decode input\u001b[39;00m\n\u001b[0;32m    316\u001b[0m     \u001b[39m# and return an (output, length consumed) tuple\u001b[39;00m\n\u001b[0;32m    317\u001b[0m     \u001b[39mraise\u001b[39;00m \u001b[39mNotImplementedError\u001b[39;00m\n\u001b[1;32m--> 319\u001b[0m \u001b[39mdef\u001b[39;00m \u001b[39mdecode\u001b[39m(\u001b[39mself\u001b[39m, \u001b[39minput\u001b[39m, final\u001b[39m=\u001b[39m\u001b[39mFalse\u001b[39;00m):\n\u001b[0;32m    320\u001b[0m     \u001b[39m# decode input (taking the buffer into account)\u001b[39;00m\n\u001b[0;32m    321\u001b[0m     data \u001b[39m=\u001b[39m \u001b[39mself\u001b[39m\u001b[39m.\u001b[39mbuffer \u001b[39m+\u001b[39m \u001b[39minput\u001b[39m\n\u001b[0;32m    322\u001b[0m     (result, consumed) \u001b[39m=\u001b[39m \u001b[39mself\u001b[39m\u001b[39m.\u001b[39m_buffer_decode(data, \u001b[39mself\u001b[39m\u001b[39m.\u001b[39merrors, final)\n",
      "\u001b[1;31mKeyboardInterrupt\u001b[0m: "
     ]
    }
   ],
   "source": [
    "# learned word embedding\n",
    "custom_encoder, custom_embedding, embedding_name = glove_em(x_train)\n",
    "print(embedding_name)\n",
    "print(dataset_name)"
   ]
  },
  {
   "cell_type": "code",
   "execution_count": null,
   "metadata": {},
   "outputs": [],
   "source": [
    "model, h = cnn(custom_encoder,custom_embedding, embedding_name,save=False, epoch=8, batch_size=256, lr=0.001)\n",
    "model, h = rnn(custom_encoder,custom_embedding, embedding_name,save=False, epoch=8, batch_size=256, lr=0.001)\n",
    "model, h = lstm(custom_encoder,custom_embedding, embedding_name,save=False, epoch=8, batch_size=256, lr=0.001)\n",
    "model, h = gru(custom_encoder,custom_embedding, embedding_name,save=False, epoch=8, batch_size=256, lr=0.001)\n"
   ]
  },
  {
   "cell_type": "code",
   "execution_count": 26,
   "metadata": {},
   "outputs": [
    {
     "name": "stdout",
     "output_type": "stream",
     "text": [
      "gru\n",
      "Epoch 1/8\n",
      "107/107 [==============================] - 11s 47ms/step - loss: 0.6128 - accuracy: 0.6726 - precision: 0.6724 - recall: 0.6734 - val_loss: 0.5889 - val_accuracy: 0.6898 - val_precision: 0.7260 - val_recall: 0.6006\n",
      "Epoch 2/8\n",
      "107/107 [==============================] - 3s 25ms/step - loss: 0.5746 - accuracy: 0.7017 - precision: 0.7014 - recall: 0.7050 - val_loss: 0.5724 - val_accuracy: 0.7070 - val_precision: 0.6928 - val_recall: 0.7341\n",
      "Epoch 3/8\n",
      "107/107 [==============================] - 2s 20ms/step - loss: 0.5614 - accuracy: 0.7118 - precision: 0.7067 - recall: 0.7265 - val_loss: 0.5664 - val_accuracy: 0.7077 - val_precision: 0.6850 - val_recall: 0.7593\n",
      "Epoch 4/8\n",
      "107/107 [==============================] - 2s 20ms/step - loss: 0.5491 - accuracy: 0.7169 - precision: 0.7087 - recall: 0.7387 - val_loss: 0.5596 - val_accuracy: 0.7130 - val_precision: 0.7108 - val_recall: 0.7095\n",
      "Epoch 5/8\n",
      "107/107 [==============================] - 2s 20ms/step - loss: 0.5381 - accuracy: 0.7284 - precision: 0.7228 - recall: 0.7430 - val_loss: 0.5582 - val_accuracy: 0.7137 - val_precision: 0.6938 - val_recall: 0.7558\n",
      "Epoch 6/8\n",
      "107/107 [==============================] - 2s 21ms/step - loss: 0.5256 - accuracy: 0.7358 - precision: 0.7281 - recall: 0.7546 - val_loss: 0.5569 - val_accuracy: 0.7167 - val_precision: 0.6938 - val_recall: 0.7665\n",
      "Epoch 7/8\n",
      "107/107 [==============================] - 2s 21ms/step - loss: 0.5159 - accuracy: 0.7427 - precision: 0.7379 - recall: 0.7545 - val_loss: 0.5628 - val_accuracy: 0.7220 - val_precision: 0.6978 - val_recall: 0.7742\n",
      "Epoch 8/8\n",
      "107/107 [==============================] - 3s 24ms/step - loss: 0.5001 - accuracy: 0.7502 - precision: 0.7440 - recall: 0.7645 - val_loss: 0.5591 - val_accuracy: 0.7230 - val_precision: 0.7066 - val_recall: 0.7540\n",
      "acc 0.6897515058517456\n",
      "Score:  0.5590667724609375\n",
      "Accuracy:  0.7229819297790527\n"
     ]
    },
    {
     "data": {
      "text/html": [
       "<div>\n",
       "<style scoped>\n",
       "    .dataframe tbody tr th:only-of-type {\n",
       "        vertical-align: middle;\n",
       "    }\n",
       "\n",
       "    .dataframe tbody tr th {\n",
       "        vertical-align: top;\n",
       "    }\n",
       "\n",
       "    .dataframe thead th {\n",
       "        text-align: right;\n",
       "    }\n",
       "</style>\n",
       "<table border=\"1\" class=\"dataframe\">\n",
       "  <thead>\n",
       "    <tr style=\"text-align: right;\">\n",
       "      <th></th>\n",
       "      <th>Model</th>\n",
       "      <th>Accuracy</th>\n",
       "      <th>precision</th>\n",
       "      <th>recall</th>\n",
       "      <th>f1-score</th>\n",
       "      <th>hate f1</th>\n",
       "      <th>non-hate f1</th>\n",
       "      <th>hate support</th>\n",
       "      <th>non-hate support</th>\n",
       "    </tr>\n",
       "  </thead>\n",
       "  <tbody>\n",
       "    <tr>\n",
       "      <th>0</th>\n",
       "      <td>Balanced_word2vec_trained</td>\n",
       "      <td>0.722982</td>\n",
       "      <td>0.72398</td>\n",
       "      <td>0.723258</td>\n",
       "      <td>0.722819</td>\n",
       "      <td>0.729543</td>\n",
       "      <td>0.716094</td>\n",
       "      <td>3370.0</td>\n",
       "      <td>3431.0</td>\n",
       "    </tr>\n",
       "  </tbody>\n",
       "</table>\n",
       "</div>"
      ],
      "text/plain": [
       "                       Model  Accuracy  precision    recall  f1-score  \\\n",
       "0  Balanced_word2vec_trained  0.722982    0.72398  0.723258  0.722819   \n",
       "\n",
       "    hate f1  non-hate f1  hate support  non-hate support  \n",
       "0  0.729543     0.716094        3370.0            3431.0  "
      ]
     },
     "execution_count": 26,
     "metadata": {},
     "output_type": "execute_result"
    }
   ],
   "source": [
    "model, h = gru(custom_encoder,custom_embedding, embedding_name,save=False, epoch=8, batch_size=256, lr=0.001)\n",
    "y_test_pred = nn_predict(model)\n",
    "get_result_single(y_test, y_test_pred, dataset_name+\"_\"+embedding_name+\"cnn\")"
   ]
  },
  {
   "cell_type": "markdown",
   "metadata": {},
   "source": [
    "### load test single"
   ]
  },
  {
   "cell_type": "code",
   "execution_count": 76,
   "metadata": {},
   "outputs": [
    {
     "name": "stdout",
     "output_type": "stream",
     "text": [
      "models/Balanced_glove_lstm\n",
      "Score:  0.44131216406822205\n",
      "Accuracy:  0.810621440410614\n",
      "              precision    recall  f1-score   support\n",
      "\n",
      "        Hate      0.370     0.865     0.519       639\n",
      "    Non-Hate      0.978     0.803     0.882      4784\n",
      "\n",
      "    accuracy                          0.811      5423\n",
      "   macro avg      0.674     0.834     0.700      5423\n",
      "weighted avg      0.906     0.811     0.839      5423\n",
      "\n"
     ]
    },
    {
     "data": {
      "text/html": [
       "<div>\n",
       "<style scoped>\n",
       "    .dataframe tbody tr th:only-of-type {\n",
       "        vertical-align: middle;\n",
       "    }\n",
       "\n",
       "    .dataframe tbody tr th {\n",
       "        vertical-align: top;\n",
       "    }\n",
       "\n",
       "    .dataframe thead th {\n",
       "        text-align: right;\n",
       "    }\n",
       "</style>\n",
       "<table border=\"1\" class=\"dataframe\">\n",
       "  <thead>\n",
       "    <tr style=\"text-align: right;\">\n",
       "      <th></th>\n",
       "      <th>Model</th>\n",
       "      <th>Accuracy</th>\n",
       "      <th>precision</th>\n",
       "      <th>recall</th>\n",
       "      <th>f1-score</th>\n",
       "      <th>hate f1</th>\n",
       "      <th>non-hate f1</th>\n",
       "      <th>hate support</th>\n",
       "      <th>non-hate support</th>\n",
       "    </tr>\n",
       "  </thead>\n",
       "  <tbody>\n",
       "    <tr>\n",
       "      <th>0</th>\n",
       "      <td>test</td>\n",
       "      <td>0.810621</td>\n",
       "      <td>0.674129</td>\n",
       "      <td>0.834359</td>\n",
       "      <td>0.700324</td>\n",
       "      <td>0.518519</td>\n",
       "      <td>0.88213</td>\n",
       "      <td>639.0</td>\n",
       "      <td>4784.0</td>\n",
       "    </tr>\n",
       "  </tbody>\n",
       "</table>\n",
       "</div>"
      ],
      "text/plain": [
       "  Model  Accuracy  precision    recall  f1-score   hate f1  non-hate f1  \\\n",
       "0  test  0.810621   0.674129  0.834359  0.700324  0.518519      0.88213   \n",
       "\n",
       "   hate support  non-hate support  \n",
       "0         639.0            4784.0  "
      ]
     },
     "execution_count": 76,
     "metadata": {},
     "output_type": "execute_result"
    }
   ],
   "source": [
    "m = load_model_nn(\"Balanced_glove_lstm\")\n",
    "y_test_pred = nn_predict(m)\n",
    "print(classification_report(y_test, y_test_pred, digits=3))\n",
    "get_result_single(y_test, y_test_pred)\n",
    "# plot_heatmap(y_test, y_test_pred)"
   ]
  },
  {
   "cell_type": "markdown",
   "metadata": {},
   "source": [
    "### Multi test"
   ]
  },
  {
   "cell_type": "code",
   "execution_count": 31,
   "metadata": {},
   "outputs": [],
   "source": [
    "def model_start_train(x_train, y_train_binary, x_test,y_test_binary,custom_encoder, custom_embedding, embedding_name, dataset_name):\n",
    "    model, h = cnn(x_train, y_train_binary, x_test,y_test_binary,custom_encoder, custom_embedding, embedding_name, dataset_name,save=False, epoch=8, batch_size=256, lr=0.001)\n",
    "    y_test_pred = nn_predict(model, x_test, y_test_binary)\n",
    "    get_result_single(y_test, y_test_pred, dataset_name+\"_\"+embedding_name+\"_cnn\", df_result)\n",
    "\n",
    "    model, h = rnn(x_train, y_train_binary, x_test,y_test_binary,custom_encoder, custom_embedding, embedding_name, dataset_name,save=False, epoch=8, batch_size=256, lr=0.001)\n",
    "    y_test_pred = nn_predict(model, x_test, y_test_binary)\n",
    "    get_result_single(y_test, y_test_pred, dataset_name+\"_\"+embedding_name+\"_rnn\", df_result)\n",
    "\n",
    "    model, h = lstm(x_train, y_train_binary, x_test,y_test_binary,custom_encoder, custom_embedding, embedding_name, dataset_name,save=False, epoch=8, batch_size=256, lr=0.001)\n",
    "    y_test_pred = nn_predict(model, x_test, y_test_binary)\n",
    "    get_result_single(y_test, y_test_pred, dataset_name+\"_\"+embedding_name+\"_lstm\", df_result)\n",
    "\n",
    "    model, h = gru(x_train, y_train_binary, x_test,y_test_binary,custom_encoder, custom_embedding, embedding_name, dataset_name,save=False, epoch=8, batch_size=256, lr=0.001)\n",
    "    y_test_pred = nn_predict(model, x_test, y_test_binary)\n",
    "    get_result_single(y_test, y_test_pred, dataset_name+\"_\"+embedding_name+\"_gru\", df_result)"
   ]
  },
  {
   "cell_type": "code",
   "execution_count": 32,
   "metadata": {},
   "outputs": [
    {
     "name": "stdout",
     "output_type": "stream",
     "text": [
      "total vocab 33332\n",
      "total vector 3000000\n",
      "Converted 21403 words (11929 misses)\n",
      "word2vec_trained\n",
      "Balanced\n"
     ]
    },
    {
     "ename": "NameError",
     "evalue": "name 'model_start_train' is not defined",
     "output_type": "error",
     "traceback": [
      "\u001b[1;31m---------------------------------------------------------------------------\u001b[0m",
      "\u001b[1;31mNameError\u001b[0m                                 Traceback (most recent call last)",
      "Cell \u001b[1;32mIn[32], line 7\u001b[0m\n\u001b[0;32m      4\u001b[0m \u001b[39mprint\u001b[39m(embedding_name)\n\u001b[0;32m      5\u001b[0m \u001b[39mprint\u001b[39m(dataset_name)\n\u001b[1;32m----> 7\u001b[0m model_start_train(x_train, y_train_binary, x_test,y_test_binary,custom_encoder, custom_embedding, embedding_name, dataset_name)\n",
      "\u001b[1;31mNameError\u001b[0m: name 'model_start_train' is not defined"
     ]
    }
   ],
   "source": [
    "# word2vec word embedding \n",
    "pre_trained_model, model_name = get_word2vec_model()\n",
    "custom_encoder, custom_embedding, embedding_name, missWord = pre_trained_em(x_train, pre_trained_model, model_name)\n",
    "print(embedding_name)\n",
    "print(dataset_name)\n",
    "\n",
    "#model_start_train(x_train, y_train_binary, x_test,y_test_binary,custom_encoder, custom_embedding, embedding_name, dataset_name)"
   ]
  },
  {
   "cell_type": "code",
   "execution_count": 48,
   "metadata": {},
   "outputs": [
    {
     "name": "stdout",
     "output_type": "stream",
     "text": [
      "total vocab 33332\n",
      "total vector 999994\n",
      "Converted 22650 words (10682 misses)\n",
      "fasttext_trained\n",
      "Balanced\n"
     ]
    }
   ],
   "source": [
    "# fasttext word embedding \n",
    "pre_trained_model, model_name = get_fasttext_model()\n",
    "custom_encoder, custom_embedding, embedding_name, missWord = pre_trained_em(x_train, pre_trained_model, model_name)\n",
    "print(embedding_name)\n",
    "print(dataset_name)\n",
    "\n",
    "#model_start_train(x_train, y_train_binary, x_test,y_test_binary,custom_encoder, custom_embedding, embedding_name, dataset_name)"
   ]
  },
  {
   "cell_type": "code",
   "execution_count": 65,
   "metadata": {},
   "outputs": [
    {
     "name": "stdout",
     "output_type": "stream",
     "text": [
      "total vocab 19393\n",
      "Total words  1917494\n",
      "Converted 15043 words (4350 misses)\n",
      "glove\n",
      "SE2019\n"
     ]
    }
   ],
   "source": [
    "# glove word embedding\n",
    "custom_encoder, custom_embedding, embedding_name, missWord = glove_em(x_train)\n",
    "print(embedding_name)\n",
    "print(dataset_name)\n",
    "\n",
    "#model_start_train(x_train, y_train_binary, x_test,y_test_binary,custom_encoder, custom_embedding, embedding_name, dataset_name)"
   ]
  },
  {
   "cell_type": "code",
   "execution_count": 39,
   "metadata": {},
   "outputs": [
    {
     "name": "stdout",
     "output_type": "stream",
     "text": [
      "total vocab 33332\n",
      "no_train\n",
      "Balanced\n"
     ]
    }
   ],
   "source": [
    "# learned word embedding\n",
    "custom_encoder, custom_embedding, embedding_name = noTrained_em(x_train)\n",
    "print(embedding_name)\n",
    "print(dataset_name)\n",
    "\n",
    "#model_start_train(x_train, y_train_binary, x_test,y_test_binary,custom_encoder, custom_embedding, embedding_name, dataset_name)"
   ]
  },
  {
   "cell_type": "code",
   "execution_count": 62,
   "metadata": {},
   "outputs": [
    {
     "name": "stdout",
     "output_type": "stream",
     "text": [
      "cnn\n",
      "Epoch 1/8\n",
      "107/107 [==============================] - 2s 14ms/step - loss: 0.6676 - accuracy: 0.6228 - precision: 0.6119 - recall: 0.6736 - val_loss: 0.6365 - val_accuracy: 0.6586 - val_precision: 0.6692 - val_recall: 0.6217\n",
      "Epoch 2/8\n",
      "107/107 [==============================] - 1s 10ms/step - loss: 0.6160 - accuracy: 0.6762 - precision: 0.6812 - recall: 0.6651 - val_loss: 0.6041 - val_accuracy: 0.6898 - val_precision: 0.6727 - val_recall: 0.7343\n",
      "Epoch 3/8\n",
      "107/107 [==============================] - 1s 10ms/step - loss: 0.5881 - accuracy: 0.6958 - precision: 0.6999 - recall: 0.6877 - val_loss: 0.5888 - val_accuracy: 0.6911 - val_precision: 0.7271 - val_recall: 0.6079\n",
      "Epoch 4/8\n",
      "107/107 [==============================] - 1s 10ms/step - loss: 0.5691 - accuracy: 0.7114 - precision: 0.7204 - recall: 0.6928 - val_loss: 0.5773 - val_accuracy: 0.7045 - val_precision: 0.7114 - val_recall: 0.6841\n",
      "Epoch 5/8\n",
      "107/107 [==============================] - 1s 10ms/step - loss: 0.5545 - accuracy: 0.7214 - precision: 0.7285 - recall: 0.7076 - val_loss: 0.5717 - val_accuracy: 0.7052 - val_precision: 0.7146 - val_recall: 0.6794\n",
      "Epoch 6/8\n",
      "107/107 [==============================] - 1s 10ms/step - loss: 0.5436 - accuracy: 0.7297 - precision: 0.7387 - recall: 0.7124 - val_loss: 0.5705 - val_accuracy: 0.7124 - val_precision: 0.6917 - val_recall: 0.7624\n",
      "Epoch 7/8\n",
      "107/107 [==============================] - 1s 10ms/step - loss: 0.5326 - accuracy: 0.7381 - precision: 0.7440 - recall: 0.7275 - val_loss: 0.5631 - val_accuracy: 0.7138 - val_precision: 0.7126 - val_recall: 0.7128\n",
      "Epoch 8/8\n",
      "107/107 [==============================] - 1s 10ms/step - loss: 0.5222 - accuracy: 0.7459 - precision: 0.7527 - recall: 0.7340 - val_loss: 0.5599 - val_accuracy: 0.7142 - val_precision: 0.7250 - val_recall: 0.6865\n",
      "training time 9.815820693969727\n",
      "acc 0.6585724949836731\n",
      "Score:  0.5599043965339661\n",
      "Accuracy:  0.7142016291618347\n"
     ]
    }
   ],
   "source": [
    "model, h = cnn(x_train, y_train_binary, x_test,y_test_binary,custom_encoder, custom_embedding, embedding_name, dataset_name,save=False, epoch=8, batch_size=256, lr=0.001)\n",
    "y_test_pred = nn_predict(model, x_test, y_test_binary)\n",
    "get_result_single(y_test, y_test_pred, dataset_name+\"_\"+embedding_name+\"_cnn\", df_result)"
   ]
  },
  {
   "cell_type": "code",
   "execution_count": 63,
   "metadata": {},
   "outputs": [
    {
     "data": {
      "text/html": [
       "<div>\n",
       "<style scoped>\n",
       "    .dataframe tbody tr th:only-of-type {\n",
       "        vertical-align: middle;\n",
       "    }\n",
       "\n",
       "    .dataframe tbody tr th {\n",
       "        vertical-align: top;\n",
       "    }\n",
       "\n",
       "    .dataframe thead th {\n",
       "        text-align: right;\n",
       "    }\n",
       "</style>\n",
       "<table border=\"1\" class=\"dataframe\">\n",
       "  <thead>\n",
       "    <tr style=\"text-align: right;\">\n",
       "      <th></th>\n",
       "      <th>Model</th>\n",
       "      <th>Accuracy</th>\n",
       "      <th>precision</th>\n",
       "      <th>recall</th>\n",
       "      <th>f1-score</th>\n",
       "      <th>hate f1</th>\n",
       "      <th>non-hate f1</th>\n",
       "      <th>hate support</th>\n",
       "      <th>non-hate support</th>\n",
       "    </tr>\n",
       "  </thead>\n",
       "  <tbody>\n",
       "    <tr>\n",
       "      <th>0</th>\n",
       "      <td>Balanced_glove_cnn</td>\n",
       "      <td>0.723032</td>\n",
       "      <td>0.724296</td>\n",
       "      <td>0.723176</td>\n",
       "      <td>0.722722</td>\n",
       "      <td>0.731985</td>\n",
       "      <td>0.713459</td>\n",
       "      <td>3384.0</td>\n",
       "      <td>3411.0</td>\n",
       "    </tr>\n",
       "    <tr>\n",
       "      <th>1</th>\n",
       "      <td>Balanced_glove_cnn</td>\n",
       "      <td>0.720677</td>\n",
       "      <td>0.721007</td>\n",
       "      <td>0.720594</td>\n",
       "      <td>0.720520</td>\n",
       "      <td>0.713898</td>\n",
       "      <td>0.727142</td>\n",
       "      <td>3384.0</td>\n",
       "      <td>3411.0</td>\n",
       "    </tr>\n",
       "    <tr>\n",
       "      <th>2</th>\n",
       "      <td>Balanced_word2vec_trained_cnn</td>\n",
       "      <td>0.729065</td>\n",
       "      <td>0.729507</td>\n",
       "      <td>0.728973</td>\n",
       "      <td>0.728879</td>\n",
       "      <td>0.721777</td>\n",
       "      <td>0.735982</td>\n",
       "      <td>3384.0</td>\n",
       "      <td>3411.0</td>\n",
       "    </tr>\n",
       "    <tr>\n",
       "      <th>3</th>\n",
       "      <td>Balanced_no_train_cnn</td>\n",
       "      <td>0.673878</td>\n",
       "      <td>0.673894</td>\n",
       "      <td>0.673847</td>\n",
       "      <td>0.673842</td>\n",
       "      <td>0.670434</td>\n",
       "      <td>0.677250</td>\n",
       "      <td>3384.0</td>\n",
       "      <td>3411.0</td>\n",
       "    </tr>\n",
       "    <tr>\n",
       "      <th>4</th>\n",
       "      <td>Balanced_no_train_cnn</td>\n",
       "      <td>0.657837</td>\n",
       "      <td>0.657987</td>\n",
       "      <td>0.657889</td>\n",
       "      <td>0.657798</td>\n",
       "      <td>0.661424</td>\n",
       "      <td>0.654172</td>\n",
       "      <td>3384.0</td>\n",
       "      <td>3411.0</td>\n",
       "    </tr>\n",
       "    <tr>\n",
       "      <th>5</th>\n",
       "      <td>Balanced_no_train_cnn</td>\n",
       "      <td>0.645769</td>\n",
       "      <td>0.646015</td>\n",
       "      <td>0.645675</td>\n",
       "      <td>0.645526</td>\n",
       "      <td>0.636240</td>\n",
       "      <td>0.654811</td>\n",
       "      <td>3384.0</td>\n",
       "      <td>3411.0</td>\n",
       "    </tr>\n",
       "    <tr>\n",
       "      <th>6</th>\n",
       "      <td>Balanced_no_train_cnn</td>\n",
       "      <td>0.646358</td>\n",
       "      <td>0.647428</td>\n",
       "      <td>0.646516</td>\n",
       "      <td>0.645863</td>\n",
       "      <td>0.659101</td>\n",
       "      <td>0.632625</td>\n",
       "      <td>3384.0</td>\n",
       "      <td>3411.0</td>\n",
       "    </tr>\n",
       "    <tr>\n",
       "      <th>7</th>\n",
       "      <td>Balanced_fasttext_trained_cnn</td>\n",
       "      <td>0.713171</td>\n",
       "      <td>0.714054</td>\n",
       "      <td>0.713038</td>\n",
       "      <td>0.712789</td>\n",
       "      <td>0.702306</td>\n",
       "      <td>0.723271</td>\n",
       "      <td>3384.0</td>\n",
       "      <td>3411.0</td>\n",
       "    </tr>\n",
       "    <tr>\n",
       "      <th>8</th>\n",
       "      <td>Balanced_fasttext_trained_cnn</td>\n",
       "      <td>0.718617</td>\n",
       "      <td>0.718721</td>\n",
       "      <td>0.718655</td>\n",
       "      <td>0.718603</td>\n",
       "      <td>0.720550</td>\n",
       "      <td>0.716657</td>\n",
       "      <td>3384.0</td>\n",
       "      <td>3411.0</td>\n",
       "    </tr>\n",
       "    <tr>\n",
       "      <th>9</th>\n",
       "      <td>Balanced_fasttext_trained_cnn</td>\n",
       "      <td>0.700809</td>\n",
       "      <td>0.709040</td>\n",
       "      <td>0.700409</td>\n",
       "      <td>0.697563</td>\n",
       "      <td>0.666229</td>\n",
       "      <td>0.728897</td>\n",
       "      <td>3384.0</td>\n",
       "      <td>3411.0</td>\n",
       "    </tr>\n",
       "    <tr>\n",
       "      <th>10</th>\n",
       "      <td>Balanced_fasttext_trained_cnn</td>\n",
       "      <td>0.703753</td>\n",
       "      <td>0.706727</td>\n",
       "      <td>0.703985</td>\n",
       "      <td>0.702833</td>\n",
       "      <td>0.719364</td>\n",
       "      <td>0.686302</td>\n",
       "      <td>3384.0</td>\n",
       "      <td>3411.0</td>\n",
       "    </tr>\n",
       "    <tr>\n",
       "      <th>11</th>\n",
       "      <td>Balanced_fasttext_trained_cnn</td>\n",
       "      <td>0.696247</td>\n",
       "      <td>0.699581</td>\n",
       "      <td>0.696497</td>\n",
       "      <td>0.695143</td>\n",
       "      <td>0.713493</td>\n",
       "      <td>0.676793</td>\n",
       "      <td>3384.0</td>\n",
       "      <td>3411.0</td>\n",
       "    </tr>\n",
       "    <tr>\n",
       "      <th>12</th>\n",
       "      <td>Balanced_fasttext_trained_cnn</td>\n",
       "      <td>0.714202</td>\n",
       "      <td>0.714785</td>\n",
       "      <td>0.714092</td>\n",
       "      <td>0.713936</td>\n",
       "      <td>0.705222</td>\n",
       "      <td>0.722651</td>\n",
       "      <td>3384.0</td>\n",
       "      <td>3411.0</td>\n",
       "    </tr>\n",
       "  </tbody>\n",
       "</table>\n",
       "</div>"
      ],
      "text/plain": [
       "                            Model  Accuracy  precision    recall  f1-score  \\\n",
       "0              Balanced_glove_cnn  0.723032   0.724296  0.723176  0.722722   \n",
       "1              Balanced_glove_cnn  0.720677   0.721007  0.720594  0.720520   \n",
       "2   Balanced_word2vec_trained_cnn  0.729065   0.729507  0.728973  0.728879   \n",
       "3           Balanced_no_train_cnn  0.673878   0.673894  0.673847  0.673842   \n",
       "4           Balanced_no_train_cnn  0.657837   0.657987  0.657889  0.657798   \n",
       "5           Balanced_no_train_cnn  0.645769   0.646015  0.645675  0.645526   \n",
       "6           Balanced_no_train_cnn  0.646358   0.647428  0.646516  0.645863   \n",
       "7   Balanced_fasttext_trained_cnn  0.713171   0.714054  0.713038  0.712789   \n",
       "8   Balanced_fasttext_trained_cnn  0.718617   0.718721  0.718655  0.718603   \n",
       "9   Balanced_fasttext_trained_cnn  0.700809   0.709040  0.700409  0.697563   \n",
       "10  Balanced_fasttext_trained_cnn  0.703753   0.706727  0.703985  0.702833   \n",
       "11  Balanced_fasttext_trained_cnn  0.696247   0.699581  0.696497  0.695143   \n",
       "12  Balanced_fasttext_trained_cnn  0.714202   0.714785  0.714092  0.713936   \n",
       "\n",
       "     hate f1  non-hate f1  hate support  non-hate support  \n",
       "0   0.731985     0.713459        3384.0            3411.0  \n",
       "1   0.713898     0.727142        3384.0            3411.0  \n",
       "2   0.721777     0.735982        3384.0            3411.0  \n",
       "3   0.670434     0.677250        3384.0            3411.0  \n",
       "4   0.661424     0.654172        3384.0            3411.0  \n",
       "5   0.636240     0.654811        3384.0            3411.0  \n",
       "6   0.659101     0.632625        3384.0            3411.0  \n",
       "7   0.702306     0.723271        3384.0            3411.0  \n",
       "8   0.720550     0.716657        3384.0            3411.0  \n",
       "9   0.666229     0.728897        3384.0            3411.0  \n",
       "10  0.719364     0.686302        3384.0            3411.0  \n",
       "11  0.713493     0.676793        3384.0            3411.0  \n",
       "12  0.705222     0.722651        3384.0            3411.0  "
      ]
     },
     "execution_count": 63,
     "metadata": {},
     "output_type": "execute_result"
    }
   ],
   "source": [
    "df_result"
   ]
  },
  {
   "cell_type": "code",
   "execution_count": 38,
   "metadata": {},
   "outputs": [
    {
     "name": "stdout",
     "output_type": "stream",
     "text": [
      "              precision    recall  f1-score   support\n",
      "\n",
      "        Hate       0.55      0.44      0.49       639\n",
      "    Non-Hate       0.93      0.95      0.94      4784\n",
      "\n",
      "    accuracy                           0.89      5423\n",
      "   macro avg       0.74      0.70      0.71      5423\n",
      "weighted avg       0.88      0.89      0.89      5423\n",
      "\n"
     ]
    }
   ],
   "source": [
    "print(classification_report(y_test, y_test_pred, labels=[\"Hate\",\"Non-Hate\"]))"
   ]
  },
  {
   "cell_type": "code",
   "execution_count": 35,
   "metadata": {},
   "outputs": [
    {
     "name": "stdout",
     "output_type": "stream",
     "text": [
      "Count: Actual\n",
      "Non-Hate    4784\n",
      "Hate         639\n",
      "Name: count, dtype: int64\n",
      "\n",
      "Count: Predict\n",
      "Non-Hate    4909\n",
      "Hate         514\n",
      "Name: count, dtype: int64\n",
      "\n"
     ]
    },
    {
     "data": {
      "image/png": "[encoded data removed]",
      "text/plain": [
       "<Figure size 640x480 with 2 Axes>"
      ]
     },
     "metadata": {},
     "output_type": "display_data"
    }
   ],
   "source": [
    "plot_heatmap(y_test,y_test_pred)"
   ]
  },
  {
   "cell_type": "code",
   "execution_count": 77,
   "metadata": {},
   "outputs": [
    {
     "name": "stdout",
     "output_type": "stream",
     "text": [
      "models/Balanced_word2vec_trained_cnn\n"
     ]
    },
    {
     "data": {
      "text/html": [
       "<style type=\"text/css\">\n",
       "#T_e4755_row0_col0, #T_e4755_row0_col1, #T_e4755_row0_col2, #T_e4755_row0_col3, #T_e4755_row0_col4, #T_e4755_row0_col5, #T_e4755_row0_col6, #T_e4755_row0_col7, #T_e4755_row0_col8 {\n",
       "  background-color: red;\n",
       "}\n",
       "</style>\n",
       "<table id=\"T_e4755\">\n",
       "  <thead>\n",
       "    <tr>\n",
       "      <th class=\"blank level0\" >&nbsp;</th>\n",
       "      <th id=\"T_e4755_level0_col0\" class=\"col_heading level0 col0\" >Model</th>\n",
       "      <th id=\"T_e4755_level0_col1\" class=\"col_heading level0 col1\" >Accuracy</th>\n",
       "      <th id=\"T_e4755_level0_col2\" class=\"col_heading level0 col2\" >precision</th>\n",
       "      <th id=\"T_e4755_level0_col3\" class=\"col_heading level0 col3\" >recall</th>\n",
       "      <th id=\"T_e4755_level0_col4\" class=\"col_heading level0 col4\" >f1-score</th>\n",
       "      <th id=\"T_e4755_level0_col5\" class=\"col_heading level0 col5\" >hate f1</th>\n",
       "      <th id=\"T_e4755_level0_col6\" class=\"col_heading level0 col6\" >non-hate f1</th>\n",
       "      <th id=\"T_e4755_level0_col7\" class=\"col_heading level0 col7\" >hate support</th>\n",
       "      <th id=\"T_e4755_level0_col8\" class=\"col_heading level0 col8\" >non-hate support</th>\n",
       "    </tr>\n",
       "  </thead>\n",
       "  <tbody>\n",
       "    <tr>\n",
       "      <th id=\"T_e4755_level0_row0\" class=\"row_heading level0 row0\" >0</th>\n",
       "      <td id=\"T_e4755_row0_col0\" class=\"data row0 col0\" >Balanced_word2vec_trained_cnn</td>\n",
       "      <td id=\"T_e4755_row0_col1\" class=\"data row0 col1\" >0.708425</td>\n",
       "      <td id=\"T_e4755_row0_col2\" class=\"data row0 col2\" >0.709118</td>\n",
       "      <td id=\"T_e4755_row0_col3\" class=\"data row0 col3\" >0.708131</td>\n",
       "      <td id=\"T_e4755_row0_col4\" class=\"data row0 col4\" >0.707979</td>\n",
       "      <td id=\"T_e4755_row0_col5\" class=\"data row0 col5\" >0.696557</td>\n",
       "      <td id=\"T_e4755_row0_col6\" class=\"data row0 col6\" >0.719400</td>\n",
       "      <td id=\"T_e4755_row0_col7\" class=\"data row0 col7\" >3370.000000</td>\n",
       "      <td id=\"T_e4755_row0_col8\" class=\"data row0 col8\" >3431.000000</td>\n",
       "    </tr>\n",
       "  </tbody>\n",
       "</table>\n"
      ],
      "text/plain": [
       "<pandas.io.formats.style.Styler at 0x1d80c07b220>"
      ]
     },
     "execution_count": 77,
     "metadata": {},
     "output_type": "execute_result"
    }
   ],
   "source": [
    "ds = dataset_name\n",
    "em = embedding_name\n",
    "get_result_multiple(x_test, y_test, [ds+\"_\"+em+\"_cnn\"])"
   ]
  },
  {
   "cell_type": "code",
   "execution_count": 60,
   "metadata": {},
   "outputs": [
    {
     "name": "stdout",
     "output_type": "stream",
     "text": [
      "models/GabHateCorpus_fasttext_trained_cnn\n",
      "models/GabHateCorpus_fasttext_trained_rnn\n",
      "models/GabHateCorpus_fasttext_trained_lstm\n",
      "models/GabHateCorpus_fasttext_trained_gru\n"
     ]
    },
    {
     "data": {
      "text/html": [
       "<style type=\"text/css\">\n",
       "#T_c02ba_row0_col3, #T_c02ba_row0_col4, #T_c02ba_row0_col5, #T_c02ba_row0_col7, #T_c02ba_row0_col8, #T_c02ba_row1_col0, #T_c02ba_row1_col7, #T_c02ba_row1_col8, #T_c02ba_row2_col1, #T_c02ba_row2_col6, #T_c02ba_row2_col7, #T_c02ba_row2_col8, #T_c02ba_row3_col2, #T_c02ba_row3_col7, #T_c02ba_row3_col8 {\n",
       "  background-color: red;\n",
       "}\n",
       "</style>\n",
       "<table id=\"T_c02ba\">\n",
       "  <thead>\n",
       "    <tr>\n",
       "      <th class=\"blank level0\" >&nbsp;</th>\n",
       "      <th id=\"T_c02ba_level0_col0\" class=\"col_heading level0 col0\" >Model</th>\n",
       "      <th id=\"T_c02ba_level0_col1\" class=\"col_heading level0 col1\" >Accuracy</th>\n",
       "      <th id=\"T_c02ba_level0_col2\" class=\"col_heading level0 col2\" >precision</th>\n",
       "      <th id=\"T_c02ba_level0_col3\" class=\"col_heading level0 col3\" >recall</th>\n",
       "      <th id=\"T_c02ba_level0_col4\" class=\"col_heading level0 col4\" >f1-score</th>\n",
       "      <th id=\"T_c02ba_level0_col5\" class=\"col_heading level0 col5\" >hate f1</th>\n",
       "      <th id=\"T_c02ba_level0_col6\" class=\"col_heading level0 col6\" >non-hate f1</th>\n",
       "      <th id=\"T_c02ba_level0_col7\" class=\"col_heading level0 col7\" >hate support</th>\n",
       "      <th id=\"T_c02ba_level0_col8\" class=\"col_heading level0 col8\" >non-hate support</th>\n",
       "    </tr>\n",
       "  </thead>\n",
       "  <tbody>\n",
       "    <tr>\n",
       "      <th id=\"T_c02ba_level0_row0\" class=\"row_heading level0 row0\" >0</th>\n",
       "      <td id=\"T_c02ba_row0_col0\" class=\"data row0 col0\" >GabHateCorpus_fasttext_trained_cnn</td>\n",
       "      <td id=\"T_c02ba_row0_col1\" class=\"data row0 col1\" >0.895814</td>\n",
       "      <td id=\"T_c02ba_row0_col2\" class=\"data row0 col2\" >0.753715</td>\n",
       "      <td id=\"T_c02ba_row0_col3\" class=\"data row0 col3\" >0.681969</td>\n",
       "      <td id=\"T_c02ba_row0_col4\" class=\"data row0 col4\" >0.709260</td>\n",
       "      <td id=\"T_c02ba_row0_col5\" class=\"data row0 col5\" >0.476367</td>\n",
       "      <td id=\"T_c02ba_row0_col6\" class=\"data row0 col6\" >0.942152</td>\n",
       "      <td id=\"T_c02ba_row0_col7\" class=\"data row0 col7\" >639.000000</td>\n",
       "      <td id=\"T_c02ba_row0_col8\" class=\"data row0 col8\" >4784.000000</td>\n",
       "    </tr>\n",
       "    <tr>\n",
       "      <th id=\"T_c02ba_level0_row1\" class=\"row_heading level0 row1\" >1</th>\n",
       "      <td id=\"T_c02ba_row1_col0\" class=\"data row1 col0\" >GabHateCorpus_fasttext_trained_rnn</td>\n",
       "      <td id=\"T_c02ba_row1_col1\" class=\"data row1 col1\" >0.888069</td>\n",
       "      <td id=\"T_c02ba_row1_col2\" class=\"data row1 col2\" >0.763584</td>\n",
       "      <td id=\"T_c02ba_row1_col3\" class=\"data row1 col3\" >0.554869</td>\n",
       "      <td id=\"T_c02ba_row1_col4\" class=\"data row1 col4\" >0.570044</td>\n",
       "      <td id=\"T_c02ba_row1_col5\" class=\"data row1 col5\" >0.200264</td>\n",
       "      <td id=\"T_c02ba_row1_col6\" class=\"data row1 col6\" >0.939824</td>\n",
       "      <td id=\"T_c02ba_row1_col7\" class=\"data row1 col7\" >639.000000</td>\n",
       "      <td id=\"T_c02ba_row1_col8\" class=\"data row1 col8\" >4784.000000</td>\n",
       "    </tr>\n",
       "    <tr>\n",
       "      <th id=\"T_c02ba_level0_row2\" class=\"row_heading level0 row2\" >2</th>\n",
       "      <td id=\"T_c02ba_row2_col0\" class=\"data row2 col0\" >GabHateCorpus_fasttext_trained_lstm</td>\n",
       "      <td id=\"T_c02ba_row2_col1\" class=\"data row2 col1\" >0.902821</td>\n",
       "      <td id=\"T_c02ba_row2_col2\" class=\"data row2 col2\" >0.822903</td>\n",
       "      <td id=\"T_c02ba_row2_col3\" class=\"data row2 col3\" >0.630348</td>\n",
       "      <td id=\"T_c02ba_row2_col4\" class=\"data row2 col4\" >0.673112</td>\n",
       "      <td id=\"T_c02ba_row2_col5\" class=\"data row2 col5\" >0.399088</td>\n",
       "      <td id=\"T_c02ba_row2_col6\" class=\"data row2 col6\" >0.947136</td>\n",
       "      <td id=\"T_c02ba_row2_col7\" class=\"data row2 col7\" >639.000000</td>\n",
       "      <td id=\"T_c02ba_row2_col8\" class=\"data row2 col8\" >4784.000000</td>\n",
       "    </tr>\n",
       "    <tr>\n",
       "      <th id=\"T_c02ba_level0_row3\" class=\"row_heading level0 row3\" >3</th>\n",
       "      <td id=\"T_c02ba_row3_col0\" class=\"data row3 col0\" >GabHateCorpus_fasttext_trained_gru</td>\n",
       "      <td id=\"T_c02ba_row3_col1\" class=\"data row3 col1\" >0.900240</td>\n",
       "      <td id=\"T_c02ba_row3_col2\" class=\"data row3 col2\" >0.844451</td>\n",
       "      <td id=\"T_c02ba_row3_col3\" class=\"data row3 col3\" >0.601767</td>\n",
       "      <td id=\"T_c02ba_row3_col4\" class=\"data row3 col4\" >0.639506</td>\n",
       "      <td id=\"T_c02ba_row3_col5\" class=\"data row3 col5\" >0.332922</td>\n",
       "      <td id=\"T_c02ba_row3_col6\" class=\"data row3 col6\" >0.946089</td>\n",
       "      <td id=\"T_c02ba_row3_col7\" class=\"data row3 col7\" >639.000000</td>\n",
       "      <td id=\"T_c02ba_row3_col8\" class=\"data row3 col8\" >4784.000000</td>\n",
       "    </tr>\n",
       "  </tbody>\n",
       "</table>\n"
      ],
      "text/plain": [
       "<pandas.io.formats.style.Styler at 0x1434ea1c070>"
      ]
     },
     "execution_count": 60,
     "metadata": {},
     "output_type": "execute_result"
    }
   ],
   "source": [
    "ds =\"GabHateCorpus\"\n",
    "em = 'fasttext_trained'\n",
    "get_result_nn([ds+\"_\"+em+\"_cnn\",ds+\"_\"+em+\"_rnn\",ds+\"_\"+em+\"_lstm\",ds+\"_\"+em+\"_gru\"])"
   ]
  },
  {
   "cell_type": "code",
   "execution_count": 38,
   "metadata": {},
   "outputs": [
    {
     "name": "stdout",
     "output_type": "stream",
     "text": [
      "models/SE2019_word2vec_cnn\n",
      "models/SE2019_word2vec3_cnn\n",
      "models/SE2019_no_train_cnn\n",
      "models/SE2019_no_train3_cnn\n"
     ]
    },
    {
     "data": {
      "text/html": [
       "<style type=\"text/css\">\n",
       "#T_b1774_row0_col0, #T_b1774_row0_col1, #T_b1774_row0_col2, #T_b1774_row0_col6, #T_b1774_row0_col7, #T_b1774_row0_col8, #T_b1774_row1_col1, #T_b1774_row1_col3, #T_b1774_row1_col4, #T_b1774_row1_col7, #T_b1774_row1_col8, #T_b1774_row2_col7, #T_b1774_row2_col8, #T_b1774_row3_col5, #T_b1774_row3_col7, #T_b1774_row3_col8 {\n",
       "  background-color: red;\n",
       "}\n",
       "</style>\n",
       "<table id=\"T_b1774\">\n",
       "  <thead>\n",
       "    <tr>\n",
       "      <th class=\"blank level0\" >&nbsp;</th>\n",
       "      <th id=\"T_b1774_level0_col0\" class=\"col_heading level0 col0\" >Model</th>\n",
       "      <th id=\"T_b1774_level0_col1\" class=\"col_heading level0 col1\" >Accuracy</th>\n",
       "      <th id=\"T_b1774_level0_col2\" class=\"col_heading level0 col2\" >precision</th>\n",
       "      <th id=\"T_b1774_level0_col3\" class=\"col_heading level0 col3\" >recall</th>\n",
       "      <th id=\"T_b1774_level0_col4\" class=\"col_heading level0 col4\" >f1-score</th>\n",
       "      <th id=\"T_b1774_level0_col5\" class=\"col_heading level0 col5\" >hate f1</th>\n",
       "      <th id=\"T_b1774_level0_col6\" class=\"col_heading level0 col6\" >non-hate f1</th>\n",
       "      <th id=\"T_b1774_level0_col7\" class=\"col_heading level0 col7\" >hate support</th>\n",
       "      <th id=\"T_b1774_level0_col8\" class=\"col_heading level0 col8\" >non-hate support</th>\n",
       "    </tr>\n",
       "  </thead>\n",
       "  <tbody>\n",
       "    <tr>\n",
       "      <th id=\"T_b1774_level0_row0\" class=\"row_heading level0 row0\" >0</th>\n",
       "      <td id=\"T_b1774_row0_col0\" class=\"data row0 col0\" >SE2019_word2vec_cnn</td>\n",
       "      <td id=\"T_b1774_row0_col1\" class=\"data row0 col1\" >0.731895</td>\n",
       "      <td id=\"T_b1774_row0_col2\" class=\"data row0 col2\" >0.730780</td>\n",
       "      <td id=\"T_b1774_row0_col3\" class=\"data row0 col3\" >0.719644</td>\n",
       "      <td id=\"T_b1774_row0_col4\" class=\"data row0 col4\" >0.722074</td>\n",
       "      <td id=\"T_b1774_row0_col5\" class=\"data row0 col5\" >0.669829</td>\n",
       "      <td id=\"T_b1774_row0_col6\" class=\"data row0 col6\" >0.774319</td>\n",
       "      <td id=\"T_b1774_row0_col7\" class=\"data row0 col7\" >568.000000</td>\n",
       "      <td id=\"T_b1774_row0_col8\" class=\"data row0 col8\" >730.000000</td>\n",
       "    </tr>\n",
       "    <tr>\n",
       "      <th id=\"T_b1774_level0_row1\" class=\"row_heading level0 row1\" >1</th>\n",
       "      <td id=\"T_b1774_row1_col0\" class=\"data row1 col0\" >SE2019_word2vec3_cnn</td>\n",
       "      <td id=\"T_b1774_row1_col1\" class=\"data row1 col1\" >0.731895</td>\n",
       "      <td id=\"T_b1774_row1_col2\" class=\"data row1 col2\" >0.730117</td>\n",
       "      <td id=\"T_b1774_row1_col3\" class=\"data row1 col3\" >0.720425</td>\n",
       "      <td id=\"T_b1774_row1_col4\" class=\"data row1 col4\" >0.722729</td>\n",
       "      <td id=\"T_b1774_row1_col5\" class=\"data row1 col5\" >0.672316</td>\n",
       "      <td id=\"T_b1774_row1_col6\" class=\"data row1 col6\" >0.773142</td>\n",
       "      <td id=\"T_b1774_row1_col7\" class=\"data row1 col7\" >568.000000</td>\n",
       "      <td id=\"T_b1774_row1_col8\" class=\"data row1 col8\" >730.000000</td>\n",
       "    </tr>\n",
       "    <tr>\n",
       "      <th id=\"T_b1774_level0_row2\" class=\"row_heading level0 row2\" >2</th>\n",
       "      <td id=\"T_b1774_row2_col0\" class=\"data row2 col0\" >SE2019_no_train_cnn</td>\n",
       "      <td id=\"T_b1774_row2_col1\" class=\"data row2 col1\" >0.710324</td>\n",
       "      <td id=\"T_b1774_row2_col2\" class=\"data row2 col2\" >0.706902</td>\n",
       "      <td id=\"T_b1774_row2_col3\" class=\"data row2 col3\" >0.699098</td>\n",
       "      <td id=\"T_b1774_row2_col4\" class=\"data row2 col4\" >0.700933</td>\n",
       "      <td id=\"T_b1774_row2_col5\" class=\"data row2 col5\" >0.647940</td>\n",
       "      <td id=\"T_b1774_row2_col6\" class=\"data row2 col6\" >0.753927</td>\n",
       "      <td id=\"T_b1774_row2_col7\" class=\"data row2 col7\" >568.000000</td>\n",
       "      <td id=\"T_b1774_row2_col8\" class=\"data row2 col8\" >730.000000</td>\n",
       "    </tr>\n",
       "    <tr>\n",
       "      <th id=\"T_b1774_level0_row3\" class=\"row_heading level0 row3\" >3</th>\n",
       "      <td id=\"T_b1774_row3_col0\" class=\"data row3 col0\" >SE2019_no_train3_cnn</td>\n",
       "      <td id=\"T_b1774_row3_col1\" class=\"data row3 col1\" >0.705701</td>\n",
       "      <td id=\"T_b1774_row3_col2\" class=\"data row3 col2\" >0.702347</td>\n",
       "      <td id=\"T_b1774_row3_col3\" class=\"data row3 col3\" >0.704561</td>\n",
       "      <td id=\"T_b1774_row3_col4\" class=\"data row3 col4\" >0.702902</td>\n",
       "      <td id=\"T_b1774_row3_col5\" class=\"data row3 col5\" >0.674061</td>\n",
       "      <td id=\"T_b1774_row3_col6\" class=\"data row3 col6\" >0.731742</td>\n",
       "      <td id=\"T_b1774_row3_col7\" class=\"data row3 col7\" >568.000000</td>\n",
       "      <td id=\"T_b1774_row3_col8\" class=\"data row3 col8\" >730.000000</td>\n",
       "    </tr>\n",
       "  </tbody>\n",
       "</table>\n"
      ],
      "text/plain": [
       "<pandas.io.formats.style.Styler at 0x183cf06c2e0>"
      ]
     },
     "execution_count": 38,
     "metadata": {},
     "output_type": "execute_result"
    }
   ],
   "source": [
    "ds =\"SE2019\"\n",
    "em = 'word2vec'\n",
    "get_result_nn([ds+\"_\"+em+\"_cnn\",ds+\"_\"+em+\"3_cnn\",ds+\"_no_train_cnn\",ds+\"_no_train3_cnn\"])"
   ]
  },
  {
   "cell_type": "code",
   "execution_count": 43,
   "metadata": {},
   "outputs": [
    {
     "name": "stdout",
     "output_type": "stream",
     "text": [
      "cnn\n",
      "Epoch 1/10\n",
      "763/763 [==============================] - 35s 44ms/step - loss: 0.3068 - accuracy: 0.8880 - precision: 0.6301 - recall: 0.2231 - val_loss: 0.2695 - val_accuracy: 0.8931 - val_precision: 0.6594 - val_recall: 0.2725\n",
      "Epoch 2/10\n",
      "763/763 [==============================] - 31s 41ms/step - loss: 0.1754 - accuracy: 0.9336 - precision: 0.8073 - recall: 0.6066 - val_loss: 0.3079 - val_accuracy: 0.8879 - val_precision: 0.5798 - val_recall: 0.3263\n",
      "Epoch 3/10\n",
      "763/763 [==============================] - 33s 43ms/step - loss: 0.0583 - accuracy: 0.9812 - precision: 0.9525 - recall: 0.8920 - val_loss: 0.4039 - val_accuracy: 0.8831 - val_precision: 0.5392 - val_recall: 0.3503\n",
      "Epoch 4/10\n",
      "763/763 [==============================] - 31s 41ms/step - loss: 0.0180 - accuracy: 0.9947 - precision: 0.9885 - recall: 0.9684 - val_loss: 0.4873 - val_accuracy: 0.8779 - val_precision: 0.5059 - val_recall: 0.3862\n",
      "Epoch 5/10\n",
      "763/763 [==============================] - 31s 41ms/step - loss: 0.0082 - accuracy: 0.9976 - precision: 0.9943 - recall: 0.9864 - val_loss: 0.5623 - val_accuracy: 0.8802 - val_precision: 0.5204 - val_recall: 0.3443\n",
      "Epoch 6/10\n",
      "763/763 [==============================] - 31s 40ms/step - loss: 0.0050 - accuracy: 0.9986 - precision: 0.9963 - recall: 0.9924 - val_loss: 0.6261 - val_accuracy: 0.8772 - val_precision: 0.5024 - val_recall: 0.3084\n",
      "Epoch 7/10\n",
      "763/763 [==============================] - 35s 46ms/step - loss: 0.0041 - accuracy: 0.9990 - precision: 0.9970 - recall: 0.9950 - val_loss: 0.6674 - val_accuracy: 0.8791 - val_precision: 0.5146 - val_recall: 0.3174\n",
      "Epoch 8/10\n",
      "763/763 [==============================] - 33s 44ms/step - loss: 0.0033 - accuracy: 0.9992 - precision: 0.9973 - recall: 0.9960 - val_loss: 0.6752 - val_accuracy: 0.8721 - val_precision: 0.4780 - val_recall: 0.4222\n",
      "Epoch 9/10\n",
      "763/763 [==============================] - 30s 39ms/step - loss: 0.0033 - accuracy: 0.9991 - precision: 0.9967 - recall: 0.9960 - val_loss: 0.7314 - val_accuracy: 0.8768 - val_precision: 0.5000 - val_recall: 0.3234\n",
      "Epoch 10/10\n",
      "763/763 [==============================] - 35s 46ms/step - loss: 0.0032 - accuracy: 0.9993 - precision: 0.9973 - recall: 0.9967 - val_loss: 0.7651 - val_accuracy: 0.8798 - val_precision: 0.5185 - val_recall: 0.3353\n"
     ]
    },
    {
     "name": "stderr",
     "output_type": "stream",
     "text": [
      "WARNING:absl:Found untraced functions such as _jit_compiled_convolution_op, _update_step_xla while saving (showing 2 of 2). These functions will not be directly callable after loading.\n"
     ]
    },
    {
     "name": "stdout",
     "output_type": "stream",
     "text": [
      "INFO:tensorflow:Assets written to: models/GabHateCorpus_no_train_cnn\\assets\n"
     ]
    },
    {
     "name": "stderr",
     "output_type": "stream",
     "text": [
      "INFO:tensorflow:Assets written to: models/GabHateCorpus_no_train_cnn\\assets\n"
     ]
    },
    {
     "name": "stdout",
     "output_type": "stream",
     "text": [
      "acc 0.8930678367614746\n",
      "rnn\n",
      "Epoch 1/10\n",
      "763/763 [==============================] - 115s 148ms/step - loss: 0.1489 - accuracy: 0.9422 - precision: 0.8159 - recall: 0.6863 - val_loss: 0.4125 - val_accuracy: 0.8698 - val_precision: 0.4570 - val_recall: 0.3024\n",
      "Epoch 2/10\n",
      "763/763 [==============================] - 121s 158ms/step - loss: 0.0597 - accuracy: 0.9793 - precision: 0.9230 - recall: 0.9083 - val_loss: 0.4803 - val_accuracy: 0.8551 - val_precision: 0.4013 - val_recall: 0.3593\n",
      "Epoch 3/10\n",
      "763/763 [==============================] - 119s 156ms/step - loss: 0.0302 - accuracy: 0.9889 - precision: 0.9576 - recall: 0.9525 - val_loss: 0.6529 - val_accuracy: 0.8654 - val_precision: 0.4317 - val_recall: 0.2934\n",
      "Epoch 4/10\n",
      "763/763 [==============================] - 117s 154ms/step - loss: 0.0173 - accuracy: 0.9945 - precision: 0.9813 - recall: 0.9744 - val_loss: 0.7736 - val_accuracy: 0.8595 - val_precision: 0.4041 - val_recall: 0.2964\n",
      "Epoch 5/10\n",
      "763/763 [==============================] - 115s 150ms/step - loss: 0.0107 - accuracy: 0.9967 - precision: 0.9870 - recall: 0.9864 - val_loss: 0.6590 - val_accuracy: 0.8448 - val_precision: 0.2995 - val_recall: 0.1946\n",
      "Epoch 6/10\n",
      "763/763 [==============================] - 109s 144ms/step - loss: 0.0118 - accuracy: 0.9961 - precision: 0.9870 - recall: 0.9814 - val_loss: 0.8400 - val_accuracy: 0.8422 - val_precision: 0.3601 - val_recall: 0.3623\n",
      "Epoch 7/10\n",
      "763/763 [==============================] - 103s 135ms/step - loss: 0.0109 - accuracy: 0.9966 - precision: 0.9887 - recall: 0.9841 - val_loss: 0.7830 - val_accuracy: 0.8459 - val_precision: 0.3779 - val_recall: 0.3892\n",
      "Epoch 8/10\n",
      "763/763 [==============================] - 94s 124ms/step - loss: 0.0120 - accuracy: 0.9961 - precision: 0.9850 - recall: 0.9834 - val_loss: 0.8460 - val_accuracy: 0.8322 - val_precision: 0.3315 - val_recall: 0.3563\n",
      "Epoch 9/10\n",
      "763/763 [==============================] - 112s 147ms/step - loss: 0.0079 - accuracy: 0.9972 - precision: 0.9890 - recall: 0.9880 - val_loss: 1.0179 - val_accuracy: 0.8348 - val_precision: 0.3304 - val_recall: 0.3323\n",
      "Epoch 10/10\n",
      "763/763 [==============================] - 102s 133ms/step - loss: 0.0064 - accuracy: 0.9979 - precision: 0.9930 - recall: 0.9897 - val_loss: 0.9482 - val_accuracy: 0.8326 - val_precision: 0.3137 - val_recall: 0.3024\n"
     ]
    },
    {
     "name": "stderr",
     "output_type": "stream",
     "text": [
      "WARNING:absl:Found untraced functions such as _update_step_xla while saving (showing 1 of 1). These functions will not be directly callable after loading.\n"
     ]
    },
    {
     "name": "stdout",
     "output_type": "stream",
     "text": [
      "INFO:tensorflow:Assets written to: models/GabHateCorpus_no_train_rnn\\assets\n"
     ]
    },
    {
     "name": "stderr",
     "output_type": "stream",
     "text": [
      "INFO:tensorflow:Assets written to: models/GabHateCorpus_no_train_rnn\\assets\n"
     ]
    },
    {
     "name": "stdout",
     "output_type": "stream",
     "text": [
      "acc 0.869837760925293\n",
      "lstm\n",
      "Epoch 1/10\n",
      "763/763 [==============================] - 358s 464ms/step - loss: 0.0824 - accuracy: 0.9579 - precision: 0.8641 - recall: 0.7814 - val_loss: 0.5779 - val_accuracy: 0.8426 - val_precision: 0.3786 - val_recall: 0.4341\n",
      "Epoch 2/10\n",
      "763/763 [==============================] - 296s 388ms/step - loss: 0.0180 - accuracy: 0.9944 - precision: 0.9809 - recall: 0.9734 - val_loss: 0.7569 - val_accuracy: 0.8510 - val_precision: 0.3776 - val_recall: 0.3234\n",
      "Epoch 3/10\n",
      "763/763 [==============================] - 301s 394ms/step - loss: 0.0100 - accuracy: 0.9971 - precision: 0.9897 - recall: 0.9867 - val_loss: 0.7764 - val_accuracy: 0.8459 - val_precision: 0.3679 - val_recall: 0.3503\n",
      "Epoch 4/10\n",
      "763/763 [==============================] - 307s 402ms/step - loss: 0.0070 - accuracy: 0.9979 - precision: 0.9927 - recall: 0.9900 - val_loss: 0.9544 - val_accuracy: 0.8462 - val_precision: 0.3754 - val_recall: 0.3743\n",
      "Epoch 5/10\n",
      "763/763 [==============================] - 311s 408ms/step - loss: 0.0056 - accuracy: 0.9981 - precision: 0.9933 - recall: 0.9914 - val_loss: 0.8721 - val_accuracy: 0.8319 - val_precision: 0.3342 - val_recall: 0.3683\n",
      "Epoch 6/10\n",
      "763/763 [==============================] - 305s 400ms/step - loss: 0.0062 - accuracy: 0.9982 - precision: 0.9927 - recall: 0.9930 - val_loss: 0.9005 - val_accuracy: 0.8566 - val_precision: 0.3799 - val_recall: 0.2605\n",
      "Epoch 7/10\n",
      "763/763 [==============================] - 316s 415ms/step - loss: 0.0033 - accuracy: 0.9990 - precision: 0.9970 - recall: 0.9947 - val_loss: 1.0540 - val_accuracy: 0.8647 - val_precision: 0.4225 - val_recall: 0.2695\n",
      "Epoch 8/10\n",
      "763/763 [==============================] - 245s 322ms/step - loss: 0.0053 - accuracy: 0.9981 - precision: 0.9930 - recall: 0.9917 - val_loss: 0.9419 - val_accuracy: 0.8485 - val_precision: 0.3695 - val_recall: 0.3263\n",
      "Epoch 9/10\n",
      "763/763 [==============================] - 159s 208ms/step - loss: 0.0037 - accuracy: 0.9985 - precision: 0.9953 - recall: 0.9924 - val_loss: 0.9320 - val_accuracy: 0.8555 - val_precision: 0.3811 - val_recall: 0.2784\n",
      "Epoch 10/10\n",
      "763/763 [==============================] - 159s 208ms/step - loss: 0.0035 - accuracy: 0.9989 - precision: 0.9967 - recall: 0.9947 - val_loss: 1.0141 - val_accuracy: 0.8426 - val_precision: 0.3514 - val_recall: 0.3293\n"
     ]
    },
    {
     "name": "stderr",
     "output_type": "stream",
     "text": [
      "WARNING:absl:Found untraced functions such as _update_step_xla, lstm_cell_24_layer_call_fn, lstm_cell_24_layer_call_and_return_conditional_losses while saving (showing 3 of 3). These functions will not be directly callable after loading.\n"
     ]
    },
    {
     "name": "stdout",
     "output_type": "stream",
     "text": [
      "INFO:tensorflow:Assets written to: models/GabHateCorpus_no_train_lstm\\assets\n"
     ]
    },
    {
     "name": "stderr",
     "output_type": "stream",
     "text": [
      "INFO:tensorflow:Assets written to: models/GabHateCorpus_no_train_lstm\\assets\n"
     ]
    },
    {
     "name": "stdout",
     "output_type": "stream",
     "text": [
      "acc 0.8425516486167908\n",
      "bilstm\n",
      "Epoch 1/10\n",
      "763/763 [==============================] - 306s 392ms/step - loss: 0.0464 - accuracy: 0.9696 - precision: 0.9083 - recall: 0.8382 - val_loss: 0.7997 - val_accuracy: 0.8448 - val_precision: 0.3724 - val_recall: 0.3802\n",
      "Epoch 2/10\n",
      "763/763 [==============================] - 310s 407ms/step - loss: 0.0054 - accuracy: 0.9984 - precision: 0.9957 - recall: 0.9910 - val_loss: 0.9759 - val_accuracy: 0.8414 - val_precision: 0.3605 - val_recall: 0.3713\n",
      "Epoch 3/10\n",
      "763/763 [==============================] - 314s 411ms/step - loss: 0.0057 - accuracy: 0.9983 - precision: 0.9937 - recall: 0.9924 - val_loss: 0.8995 - val_accuracy: 0.8392 - val_precision: 0.3500 - val_recall: 0.3563\n",
      "Epoch 4/10\n",
      "763/763 [==============================] - 309s 405ms/step - loss: 0.0032 - accuracy: 0.9988 - precision: 0.9963 - recall: 0.9940 - val_loss: 1.0786 - val_accuracy: 0.8367 - val_precision: 0.3507 - val_recall: 0.3832\n",
      "Epoch 5/10\n",
      "763/763 [==============================] - 316s 414ms/step - loss: 0.0029 - accuracy: 0.9991 - precision: 0.9973 - recall: 0.9957 - val_loss: 0.9066 - val_accuracy: 0.8426 - val_precision: 0.3690 - val_recall: 0.3922\n",
      "Epoch 6/10\n",
      "763/763 [==============================] - 325s 426ms/step - loss: 0.0029 - accuracy: 0.9989 - precision: 0.9963 - recall: 0.9944 - val_loss: 1.1307 - val_accuracy: 0.8389 - val_precision: 0.3648 - val_recall: 0.4162\n",
      "Epoch 7/10\n",
      "763/763 [==============================] - 326s 428ms/step - loss: 0.0024 - accuracy: 0.9989 - precision: 0.9967 - recall: 0.9940 - val_loss: 1.0283 - val_accuracy: 0.8285 - val_precision: 0.3235 - val_recall: 0.3593\n",
      "Epoch 8/10\n",
      "763/763 [==============================] - 314s 411ms/step - loss: 0.0020 - accuracy: 0.9993 - precision: 0.9983 - recall: 0.9957 - val_loss: 1.1044 - val_accuracy: 0.8407 - val_precision: 0.3497 - val_recall: 0.3413\n",
      "Epoch 9/10\n",
      "763/763 [==============================] - 307s 402ms/step - loss: 0.0018 - accuracy: 0.9993 - precision: 0.9980 - recall: 0.9960 - val_loss: 1.1312 - val_accuracy: 0.8352 - val_precision: 0.3408 - val_recall: 0.3623\n",
      "Epoch 10/10\n",
      "763/763 [==============================] - 303s 397ms/step - loss: 0.0022 - accuracy: 0.9991 - precision: 0.9970 - recall: 0.9960 - val_loss: 1.0695 - val_accuracy: 0.8027 - val_precision: 0.2994 - val_recall: 0.4491\n"
     ]
    },
    {
     "name": "stderr",
     "output_type": "stream",
     "text": [
      "WARNING:absl:Found untraced functions such as _update_step_xla, lstm_cell_26_layer_call_fn, lstm_cell_26_layer_call_and_return_conditional_losses, lstm_cell_27_layer_call_fn, lstm_cell_27_layer_call_and_return_conditional_losses while saving (showing 5 of 5). These functions will not be directly callable after loading.\n"
     ]
    },
    {
     "name": "stdout",
     "output_type": "stream",
     "text": [
      "INFO:tensorflow:Assets written to: models/GabHateCorpus_no_train_bilstm\\assets\n"
     ]
    },
    {
     "name": "stderr",
     "output_type": "stream",
     "text": [
      "INFO:tensorflow:Assets written to: models/GabHateCorpus_no_train_bilstm\\assets\n"
     ]
    },
    {
     "name": "stdout",
     "output_type": "stream",
     "text": [
      "acc 0.844763994216919\n",
      "gru\n",
      "Epoch 1/10\n",
      "763/763 [==============================] - 216s 278ms/step - loss: 0.0371 - accuracy: 0.9689 - precision: 0.8759 - recall: 0.8717 - val_loss: 0.8563 - val_accuracy: 0.8378 - val_precision: 0.3209 - val_recall: 0.2844\n",
      "Epoch 2/10\n",
      "763/763 [==============================] - 199s 261ms/step - loss: 0.0039 - accuracy: 0.9990 - precision: 0.9983 - recall: 0.9937 - val_loss: 1.0127 - val_accuracy: 0.8355 - val_precision: 0.3427 - val_recall: 0.3653\n",
      "Epoch 3/10\n",
      "763/763 [==============================] - 201s 264ms/step - loss: 0.0038 - accuracy: 0.9990 - precision: 0.9970 - recall: 0.9947 - val_loss: 0.9929 - val_accuracy: 0.8348 - val_precision: 0.3443 - val_recall: 0.3772\n",
      "Epoch 4/10\n",
      "763/763 [==============================] - 204s 268ms/step - loss: 0.0040 - accuracy: 0.9988 - precision: 0.9963 - recall: 0.9937 - val_loss: 1.0385 - val_accuracy: 0.8274 - val_precision: 0.3255 - val_recall: 0.3743\n",
      "Epoch 5/10\n",
      "763/763 [==============================] - 205s 269ms/step - loss: 0.0024 - accuracy: 0.9991 - precision: 0.9960 - recall: 0.9963 - val_loss: 1.2110 - val_accuracy: 0.8378 - val_precision: 0.3520 - val_recall: 0.3772\n",
      "Epoch 6/10\n",
      "763/763 [==============================] - 211s 276ms/step - loss: 0.0022 - accuracy: 0.9992 - precision: 0.9980 - recall: 0.9957 - val_loss: 1.1862 - val_accuracy: 0.8385 - val_precision: 0.3514 - val_recall: 0.3683\n",
      "Epoch 7/10\n",
      "763/763 [==============================] - 207s 272ms/step - loss: 0.0018 - accuracy: 0.9993 - precision: 0.9970 - recall: 0.9970 - val_loss: 1.2740 - val_accuracy: 0.8274 - val_precision: 0.3299 - val_recall: 0.3892\n",
      "Epoch 8/10\n",
      "763/763 [==============================] - 198s 259ms/step - loss: 0.0015 - accuracy: 0.9994 - precision: 0.9987 - recall: 0.9963 - val_loss: 1.4557 - val_accuracy: 0.8355 - val_precision: 0.3519 - val_recall: 0.3982\n",
      "Epoch 9/10\n",
      "763/763 [==============================] - 212s 277ms/step - loss: 0.0045 - accuracy: 0.9984 - precision: 0.9940 - recall: 0.9927 - val_loss: 1.0820 - val_accuracy: 0.8348 - val_precision: 0.3476 - val_recall: 0.3892\n",
      "Epoch 10/10\n",
      "763/763 [==============================] - 200s 262ms/step - loss: 0.0020 - accuracy: 0.9993 - precision: 0.9980 - recall: 0.9960 - val_loss: 1.1602 - val_accuracy: 0.8359 - val_precision: 0.3419 - val_recall: 0.3593\n"
     ]
    },
    {
     "name": "stderr",
     "output_type": "stream",
     "text": [
      "WARNING:absl:Found untraced functions such as _update_step_xla, gru_cell_6_layer_call_fn, gru_cell_6_layer_call_and_return_conditional_losses while saving (showing 3 of 3). These functions will not be directly callable after loading.\n"
     ]
    },
    {
     "name": "stdout",
     "output_type": "stream",
     "text": [
      "INFO:tensorflow:Assets written to: models/GabHateCorpus_no_train_gru\\assets\n"
     ]
    },
    {
     "name": "stderr",
     "output_type": "stream",
     "text": [
      "INFO:tensorflow:Assets written to: models/GabHateCorpus_no_train_gru\\assets\n"
     ]
    },
    {
     "name": "stdout",
     "output_type": "stream",
     "text": [
      "acc 0.8377581238746643\n"
     ]
    }
   ],
   "source": [
    "h = cnn(custom_encoder,custom_embedding,embedding_name)\n",
    "h = rnn(custom_encoder,custom_embedding,embedding_name)\n",
    "h = lstm(custom_encoder,custom_embedding,embedding_name)\n",
    "h = bilstm(custom_encoder,custom_embedding,embedding_name)\n",
    "h = gru(custom_encoder,custom_embedding,embedding_name)"
   ]
  },
  {
   "cell_type": "code",
   "execution_count": 51,
   "metadata": {},
   "outputs": [
    {
     "name": "stdout",
     "output_type": "stream",
     "text": [
      "models/Implicit_hate_corpus_fasttext_cnn\n",
      "models/Implicit_hate_corpus_fasttext_rnn\n",
      "models/Implicit_hate_corpus_fasttext_lstm\n",
      "models/Implicit_hate_corpus_fasttext_bilstm\n",
      "models/Implicit_hate_corpus_fasttext_gru\n"
     ]
    },
    {
     "data": {
      "text/html": [
       "<style type=\"text/css\">\n",
       "#T_e754e_row0_col5, #T_e754e_row0_col7, #T_e754e_row0_col8, #T_e754e_row1_col0, #T_e754e_row1_col7, #T_e754e_row1_col8, #T_e754e_row2_col7, #T_e754e_row2_col8, #T_e754e_row3_col1, #T_e754e_row3_col3, #T_e754e_row3_col4, #T_e754e_row3_col7, #T_e754e_row3_col8, #T_e754e_row4_col2, #T_e754e_row4_col6, #T_e754e_row4_col7, #T_e754e_row4_col8 {\n",
       "  background-color: red;\n",
       "}\n",
       "</style>\n",
       "<table id=\"T_e754e\">\n",
       "  <thead>\n",
       "    <tr>\n",
       "      <th class=\"blank level0\" >&nbsp;</th>\n",
       "      <th id=\"T_e754e_level0_col0\" class=\"col_heading level0 col0\" >Model</th>\n",
       "      <th id=\"T_e754e_level0_col1\" class=\"col_heading level0 col1\" >Accuracy</th>\n",
       "      <th id=\"T_e754e_level0_col2\" class=\"col_heading level0 col2\" >precision</th>\n",
       "      <th id=\"T_e754e_level0_col3\" class=\"col_heading level0 col3\" >recall</th>\n",
       "      <th id=\"T_e754e_level0_col4\" class=\"col_heading level0 col4\" >f1-score</th>\n",
       "      <th id=\"T_e754e_level0_col5\" class=\"col_heading level0 col5\" >hate f1</th>\n",
       "      <th id=\"T_e754e_level0_col6\" class=\"col_heading level0 col6\" >non-hate f1</th>\n",
       "      <th id=\"T_e754e_level0_col7\" class=\"col_heading level0 col7\" >hate support</th>\n",
       "      <th id=\"T_e754e_level0_col8\" class=\"col_heading level0 col8\" >non-hate support</th>\n",
       "    </tr>\n",
       "  </thead>\n",
       "  <tbody>\n",
       "    <tr>\n",
       "      <th id=\"T_e754e_level0_row0\" class=\"row_heading level0 row0\" >0</th>\n",
       "      <td id=\"T_e754e_row0_col0\" class=\"data row0 col0\" >Implicit_hate_corpus_fasttext_cnn</td>\n",
       "      <td id=\"T_e754e_row0_col1\" class=\"data row0 col1\" >0.691962</td>\n",
       "      <td id=\"T_e754e_row0_col2\" class=\"data row0 col2\" >0.672204</td>\n",
       "      <td id=\"T_e754e_row0_col3\" class=\"data row0 col3\" >0.673499</td>\n",
       "      <td id=\"T_e754e_row0_col4\" class=\"data row0 col4\" >0.672811</td>\n",
       "      <td id=\"T_e754e_row0_col5\" class=\"data row0 col5\" >0.593654</td>\n",
       "      <td id=\"T_e754e_row0_col6\" class=\"data row0 col6\" >0.751968</td>\n",
       "      <td id=\"T_e754e_row0_col7\" class=\"data row0 col7\" >2419</td>\n",
       "      <td id=\"T_e754e_row0_col8\" class=\"data row0 col8\" >4025</td>\n",
       "    </tr>\n",
       "    <tr>\n",
       "      <th id=\"T_e754e_level0_row1\" class=\"row_heading level0 row1\" >1</th>\n",
       "      <td id=\"T_e754e_row1_col0\" class=\"data row1 col0\" >Implicit_hate_corpus_fasttext_rnn</td>\n",
       "      <td id=\"T_e754e_row1_col1\" class=\"data row1 col1\" >0.699876</td>\n",
       "      <td id=\"T_e754e_row1_col2\" class=\"data row1 col2\" >0.682861</td>\n",
       "      <td id=\"T_e754e_row1_col3\" class=\"data row1 col3\" >0.647670</td>\n",
       "      <td id=\"T_e754e_row1_col4\" class=\"data row1 col4\" >0.652007</td>\n",
       "      <td id=\"T_e754e_row1_col5\" class=\"data row1 col5\" >0.522940</td>\n",
       "      <td id=\"T_e754e_row1_col6\" class=\"data row1 col6\" >0.781073</td>\n",
       "      <td id=\"T_e754e_row1_col7\" class=\"data row1 col7\" >2419</td>\n",
       "      <td id=\"T_e754e_row1_col8\" class=\"data row1 col8\" >4025</td>\n",
       "    </tr>\n",
       "    <tr>\n",
       "      <th id=\"T_e754e_level0_row2\" class=\"row_heading level0 row2\" >2</th>\n",
       "      <td id=\"T_e754e_row2_col0\" class=\"data row2 col0\" >Implicit_hate_corpus_fasttext_lstm</td>\n",
       "      <td id=\"T_e754e_row2_col1\" class=\"data row2 col1\" >0.714618</td>\n",
       "      <td id=\"T_e754e_row2_col2\" class=\"data row2 col2\" >0.698594</td>\n",
       "      <td id=\"T_e754e_row2_col3\" class=\"data row2 col3\" >0.669451</td>\n",
       "      <td id=\"T_e754e_row2_col4\" class=\"data row2 col4\" >0.675276</td>\n",
       "      <td id=\"T_e754e_row2_col5\" class=\"data row2 col5\" >0.562247</td>\n",
       "      <td id=\"T_e754e_row2_col6\" class=\"data row2 col6\" >0.788304</td>\n",
       "      <td id=\"T_e754e_row2_col7\" class=\"data row2 col7\" >2419</td>\n",
       "      <td id=\"T_e754e_row2_col8\" class=\"data row2 col8\" >4025</td>\n",
       "    </tr>\n",
       "    <tr>\n",
       "      <th id=\"T_e754e_level0_row3\" class=\"row_heading level0 row3\" >3</th>\n",
       "      <td id=\"T_e754e_row3_col0\" class=\"data row3 col0\" >Implicit_hate_corpus_fasttext_bilstm</td>\n",
       "      <td id=\"T_e754e_row3_col1\" class=\"data row3 col1\" >0.717722</td>\n",
       "      <td id=\"T_e754e_row3_col2\" class=\"data row3 col2\" >0.700199</td>\n",
       "      <td id=\"T_e754e_row3_col3\" class=\"data row3 col3\" >0.677956</td>\n",
       "      <td id=\"T_e754e_row3_col4\" class=\"data row3 col4\" >0.683571</td>\n",
       "      <td id=\"T_e754e_row3_col5\" class=\"data row3 col5\" >0.579616</td>\n",
       "      <td id=\"T_e754e_row3_col6\" class=\"data row3 col6\" >0.787525</td>\n",
       "      <td id=\"T_e754e_row3_col7\" class=\"data row3 col7\" >2419</td>\n",
       "      <td id=\"T_e754e_row3_col8\" class=\"data row3 col8\" >4025</td>\n",
       "    </tr>\n",
       "    <tr>\n",
       "      <th id=\"T_e754e_level0_row4\" class=\"row_heading level0 row4\" >4</th>\n",
       "      <td id=\"T_e754e_row4_col0\" class=\"data row4 col0\" >Implicit_hate_corpus_fasttext_gru</td>\n",
       "      <td id=\"T_e754e_row4_col1\" class=\"data row4 col1\" >0.714618</td>\n",
       "      <td id=\"T_e754e_row4_col2\" class=\"data row4 col2\" >0.703246</td>\n",
       "      <td id=\"T_e754e_row4_col3\" class=\"data row4 col3\" >0.662193</td>\n",
       "      <td id=\"T_e754e_row4_col4\" class=\"data row4 col4\" >0.667807</td>\n",
       "      <td id=\"T_e754e_row4_col5\" class=\"data row4 col5\" >0.543106</td>\n",
       "      <td id=\"T_e754e_row4_col6\" class=\"data row4 col6\" >0.792508</td>\n",
       "      <td id=\"T_e754e_row4_col7\" class=\"data row4 col7\" >2419</td>\n",
       "      <td id=\"T_e754e_row4_col8\" class=\"data row4 col8\" >4025</td>\n",
       "    </tr>\n",
       "  </tbody>\n",
       "</table>\n"
      ],
      "text/plain": [
       "<pandas.io.formats.style.Styler at 0x19db4958210>"
      ]
     },
     "execution_count": 51,
     "metadata": {},
     "output_type": "execute_result"
    }
   ],
   "source": [
    "ds =\"Implicit_hate_corpus\"\n",
    "em = 'fasttext'\n",
    "get_result_nn([ds+\"_\"+em+\"_cnn\", ds+\"_\"+em+\"_rnn\", ds+\"_\"+em+\"_lstm\",ds+\"_\"+em+\"_bilstm\",ds+\"_\"+em+\"_gru\"])"
   ]
  },
  {
   "cell_type": "code",
   "execution_count": 44,
   "metadata": {},
   "outputs": [
    {
     "name": "stdout",
     "output_type": "stream",
     "text": [
      "models/GabHateCorpus_no_train_cnn\n",
      "models/GabHateCorpus_no_train_rnn\n",
      "models/GabHateCorpus_no_train_lstm\n",
      "models/GabHateCorpus_no_train_bilstm\n",
      "models/GabHateCorpus_no_train_gru\n"
     ]
    },
    {
     "data": {
      "text/html": [
       "<style type=\"text/css\">\n",
       "#T_994a8_row0_col1, #T_994a8_row0_col2, #T_994a8_row0_col4, #T_994a8_row0_col5, #T_994a8_row0_col6, #T_994a8_row0_col7, #T_994a8_row0_col8, #T_994a8_row1_col0, #T_994a8_row1_col7, #T_994a8_row1_col8, #T_994a8_row2_col7, #T_994a8_row2_col8, #T_994a8_row3_col3, #T_994a8_row3_col7, #T_994a8_row3_col8, #T_994a8_row4_col7, #T_994a8_row4_col8 {\n",
       "  background-color: red;\n",
       "}\n",
       "</style>\n",
       "<table id=\"T_994a8\">\n",
       "  <thead>\n",
       "    <tr>\n",
       "      <th class=\"blank level0\" >&nbsp;</th>\n",
       "      <th id=\"T_994a8_level0_col0\" class=\"col_heading level0 col0\" >Model</th>\n",
       "      <th id=\"T_994a8_level0_col1\" class=\"col_heading level0 col1\" >Accuracy</th>\n",
       "      <th id=\"T_994a8_level0_col2\" class=\"col_heading level0 col2\" >precision</th>\n",
       "      <th id=\"T_994a8_level0_col3\" class=\"col_heading level0 col3\" >recall</th>\n",
       "      <th id=\"T_994a8_level0_col4\" class=\"col_heading level0 col4\" >f1-score</th>\n",
       "      <th id=\"T_994a8_level0_col5\" class=\"col_heading level0 col5\" >hate f1</th>\n",
       "      <th id=\"T_994a8_level0_col6\" class=\"col_heading level0 col6\" >non-hate f1</th>\n",
       "      <th id=\"T_994a8_level0_col7\" class=\"col_heading level0 col7\" >hate support</th>\n",
       "      <th id=\"T_994a8_level0_col8\" class=\"col_heading level0 col8\" >non-hate support</th>\n",
       "    </tr>\n",
       "  </thead>\n",
       "  <tbody>\n",
       "    <tr>\n",
       "      <th id=\"T_994a8_level0_row0\" class=\"row_heading level0 row0\" >0</th>\n",
       "      <td id=\"T_994a8_row0_col0\" class=\"data row0 col0\" >GabHateCorpus_no_train_cnn</td>\n",
       "      <td id=\"T_994a8_row0_col1\" class=\"data row0 col1\" >0.879794</td>\n",
       "      <td id=\"T_994a8_row0_col2\" class=\"data row0 col2\" >0.714788</td>\n",
       "      <td id=\"T_994a8_row0_col3\" class=\"data row0 col3\" >0.645798</td>\n",
       "      <td id=\"T_994a8_row0_col4\" class=\"data row0 col4\" >0.670194</td>\n",
       "      <td id=\"T_994a8_row0_col5\" class=\"data row0 col5\" >0.407273</td>\n",
       "      <td id=\"T_994a8_row0_col6\" class=\"data row0 col6\" >0.933114</td>\n",
       "      <td id=\"T_994a8_row0_col7\" class=\"data row0 col7\" >334</td>\n",
       "      <td id=\"T_994a8_row0_col8\" class=\"data row0 col8\" >2378</td>\n",
       "    </tr>\n",
       "    <tr>\n",
       "      <th id=\"T_994a8_level0_row1\" class=\"row_heading level0 row1\" >1</th>\n",
       "      <td id=\"T_994a8_row1_col0\" class=\"data row1 col0\" >GabHateCorpus_no_train_rnn</td>\n",
       "      <td id=\"T_994a8_row1_col1\" class=\"data row1 col1\" >0.832596</td>\n",
       "      <td id=\"T_994a8_row1_col2\" class=\"data row1 col2\" >0.608088</td>\n",
       "      <td id=\"T_994a8_row1_col3\" class=\"data row1 col3\" >0.604730</td>\n",
       "      <td id=\"T_994a8_row1_col4\" class=\"data row1 col4\" >0.606354</td>\n",
       "      <td id=\"T_994a8_row1_col5\" class=\"data row1 col5\" >0.307927</td>\n",
       "      <td id=\"T_994a8_row1_col6\" class=\"data row1 col6\" >0.904782</td>\n",
       "      <td id=\"T_994a8_row1_col7\" class=\"data row1 col7\" >334</td>\n",
       "      <td id=\"T_994a8_row1_col8\" class=\"data row1 col8\" >2378</td>\n",
       "    </tr>\n",
       "    <tr>\n",
       "      <th id=\"T_994a8_level0_row2\" class=\"row_heading level0 row2\" >2</th>\n",
       "      <td id=\"T_994a8_row2_col0\" class=\"data row2 col0\" >GabHateCorpus_no_train_lstm</td>\n",
       "      <td id=\"T_994a8_row2_col1\" class=\"data row2 col1\" >0.842552</td>\n",
       "      <td id=\"T_994a8_row2_col2\" class=\"data row2 col2\" >0.629033</td>\n",
       "      <td id=\"T_994a8_row2_col3\" class=\"data row2 col3\" >0.621988</td>\n",
       "      <td id=\"T_994a8_row2_col4\" class=\"data row2 col4\" >0.625322</td>\n",
       "      <td id=\"T_994a8_row2_col5\" class=\"data row2 col5\" >0.340031</td>\n",
       "      <td id=\"T_994a8_row2_col6\" class=\"data row2 col6\" >0.910613</td>\n",
       "      <td id=\"T_994a8_row2_col7\" class=\"data row2 col7\" >334</td>\n",
       "      <td id=\"T_994a8_row2_col8\" class=\"data row2 col8\" >2378</td>\n",
       "    </tr>\n",
       "    <tr>\n",
       "      <th id=\"T_994a8_level0_row3\" class=\"row_heading level0 row3\" >3</th>\n",
       "      <td id=\"T_994a8_row3_col0\" class=\"data row3 col0\" >GabHateCorpus_no_train_bilstm</td>\n",
       "      <td id=\"T_994a8_row3_col1\" class=\"data row3 col1\" >0.802729</td>\n",
       "      <td id=\"T_994a8_row3_col2\" class=\"data row3 col2\" >0.608090</td>\n",
       "      <td id=\"T_994a8_row3_col3\" class=\"data row3 col3\" >0.650749</td>\n",
       "      <td id=\"T_994a8_row3_col4\" class=\"data row3 col4\" >0.621349</td>\n",
       "      <td id=\"T_994a8_row3_col5\" class=\"data row3 col5\" >0.359281</td>\n",
       "      <td id=\"T_994a8_row3_col6\" class=\"data row3 col6\" >0.883417</td>\n",
       "      <td id=\"T_994a8_row3_col7\" class=\"data row3 col7\" >334</td>\n",
       "      <td id=\"T_994a8_row3_col8\" class=\"data row3 col8\" >2378</td>\n",
       "    </tr>\n",
       "    <tr>\n",
       "      <th id=\"T_994a8_level0_row4\" class=\"row_heading level0 row4\" >4</th>\n",
       "      <td id=\"T_994a8_row4_col0\" class=\"data row4 col0\" >GabHateCorpus_no_train_gru</td>\n",
       "      <td id=\"T_994a8_row4_col1\" class=\"data row4 col1\" >0.835914</td>\n",
       "      <td id=\"T_994a8_row4_col2\" class=\"data row4 col2\" >0.625620</td>\n",
       "      <td id=\"T_994a8_row4_col3\" class=\"data row4 col3\" >0.631070</td>\n",
       "      <td id=\"T_994a8_row4_col4\" class=\"data row4 col4\" >0.628232</td>\n",
       "      <td id=\"T_994a8_row4_col5\" class=\"data row4 col5\" >0.350365</td>\n",
       "      <td id=\"T_994a8_row4_col6\" class=\"data row4 col6\" >0.906098</td>\n",
       "      <td id=\"T_994a8_row4_col7\" class=\"data row4 col7\" >334</td>\n",
       "      <td id=\"T_994a8_row4_col8\" class=\"data row4 col8\" >2378</td>\n",
       "    </tr>\n",
       "  </tbody>\n",
       "</table>\n"
      ],
      "text/plain": [
       "<pandas.io.formats.style.Styler at 0x1fae94e13d0>"
      ]
     },
     "execution_count": 44,
     "metadata": {},
     "output_type": "execute_result"
    }
   ],
   "source": [
    "ds =\"GabHateCorpus\"\n",
    "em = 'no_train'\n",
    "get_result_nn([ds+\"_\"+em+\"_cnn\", ds+\"_\"+em+\"_rnn\", ds+\"_\"+em+\"_lstm\",ds+\"_\"+em+\"_bilstm\",ds+\"_\"+em+\"_gru\"])"
   ]
  },
  {
   "cell_type": "code",
   "execution_count": 32,
   "metadata": {},
   "outputs": [
    {
     "name": "stdout",
     "output_type": "stream",
     "text": [
      "models/GabHateCorpus_word2vec_cnn\n",
      "models/GabHateCorpus_word2vec_rnn\n",
      "models/GabHateCorpus_word2vec_lstm\n",
      "models/GabHateCorpus_word2vec_bilstm\n",
      "models/GabHateCorpus_word2vec_gru\n"
     ]
    },
    {
     "data": {
      "text/html": [
       "<style type=\"text/css\">\n",
       "#T_043a0_row0_col3, #T_043a0_row0_col4, #T_043a0_row0_col5, #T_043a0_row0_col7, #T_043a0_row0_col8, #T_043a0_row1_col0, #T_043a0_row1_col7, #T_043a0_row1_col8, #T_043a0_row2_col7, #T_043a0_row2_col8, #T_043a0_row3_col7, #T_043a0_row3_col8, #T_043a0_row4_col1, #T_043a0_row4_col2, #T_043a0_row4_col6, #T_043a0_row4_col7, #T_043a0_row4_col8 {\n",
       "  background-color: red;\n",
       "}\n",
       "</style>\n",
       "<table id=\"T_043a0\">\n",
       "  <thead>\n",
       "    <tr>\n",
       "      <th class=\"blank level0\" >&nbsp;</th>\n",
       "      <th id=\"T_043a0_level0_col0\" class=\"col_heading level0 col0\" >Model</th>\n",
       "      <th id=\"T_043a0_level0_col1\" class=\"col_heading level0 col1\" >Accuracy</th>\n",
       "      <th id=\"T_043a0_level0_col2\" class=\"col_heading level0 col2\" >precision</th>\n",
       "      <th id=\"T_043a0_level0_col3\" class=\"col_heading level0 col3\" >recall</th>\n",
       "      <th id=\"T_043a0_level0_col4\" class=\"col_heading level0 col4\" >f1-score</th>\n",
       "      <th id=\"T_043a0_level0_col5\" class=\"col_heading level0 col5\" >hate f1</th>\n",
       "      <th id=\"T_043a0_level0_col6\" class=\"col_heading level0 col6\" >non-hate f1</th>\n",
       "      <th id=\"T_043a0_level0_col7\" class=\"col_heading level0 col7\" >hate support</th>\n",
       "      <th id=\"T_043a0_level0_col8\" class=\"col_heading level0 col8\" >non-hate support</th>\n",
       "    </tr>\n",
       "  </thead>\n",
       "  <tbody>\n",
       "    <tr>\n",
       "      <th id=\"T_043a0_level0_row0\" class=\"row_heading level0 row0\" >0</th>\n",
       "      <td id=\"T_043a0_row0_col0\" class=\"data row0 col0\" >GabHateCorpus_word2vec_cnn</td>\n",
       "      <td id=\"T_043a0_row0_col1\" class=\"data row0 col1\" >0.887906</td>\n",
       "      <td id=\"T_043a0_row0_col2\" class=\"data row0 col2\" >0.746150</td>\n",
       "      <td id=\"T_043a0_row0_col3\" class=\"data row0 col3\" >0.642703</td>\n",
       "      <td id=\"T_043a0_row0_col4\" class=\"data row0 col4\" >0.674457</td>\n",
       "      <td id=\"T_043a0_row0_col5\" class=\"data row0 col5\" >0.410853</td>\n",
       "      <td id=\"T_043a0_row0_col6\" class=\"data row0 col6\" >0.938060</td>\n",
       "      <td id=\"T_043a0_row0_col7\" class=\"data row0 col7\" >334</td>\n",
       "      <td id=\"T_043a0_row0_col8\" class=\"data row0 col8\" >2378</td>\n",
       "    </tr>\n",
       "    <tr>\n",
       "      <th id=\"T_043a0_level0_row1\" class=\"row_heading level0 row1\" >1</th>\n",
       "      <td id=\"T_043a0_row1_col0\" class=\"data row1 col0\" >GabHateCorpus_word2vec_rnn</td>\n",
       "      <td id=\"T_043a0_row1_col1\" class=\"data row1 col1\" >0.873894</td>\n",
       "      <td id=\"T_043a0_row1_col2\" class=\"data row1 col2\" >0.694916</td>\n",
       "      <td id=\"T_043a0_row1_col3\" class=\"data row1 col3\" >0.633426</td>\n",
       "      <td id=\"T_043a0_row1_col4\" class=\"data row1 col4\" >0.655119</td>\n",
       "      <td id=\"T_043a0_row1_col5\" class=\"data row1 col5\" >0.380435</td>\n",
       "      <td id=\"T_043a0_row1_col6\" class=\"data row1 col6\" >0.929803</td>\n",
       "      <td id=\"T_043a0_row1_col7\" class=\"data row1 col7\" >334</td>\n",
       "      <td id=\"T_043a0_row1_col8\" class=\"data row1 col8\" >2378</td>\n",
       "    </tr>\n",
       "    <tr>\n",
       "      <th id=\"T_043a0_level0_row2\" class=\"row_heading level0 row2\" >2</th>\n",
       "      <td id=\"T_043a0_row2_col0\" class=\"data row2 col0\" >GabHateCorpus_word2vec_lstm</td>\n",
       "      <td id=\"T_043a0_row2_col1\" class=\"data row2 col1\" >0.888274</td>\n",
       "      <td id=\"T_043a0_row2_col2\" class=\"data row2 col2\" >0.775411</td>\n",
       "      <td id=\"T_043a0_row2_col3\" class=\"data row2 col3\" >0.591443</td>\n",
       "      <td id=\"T_043a0_row2_col4\" class=\"data row2 col4\" >0.621357</td>\n",
       "      <td id=\"T_043a0_row2_col5\" class=\"data row2 col5\" >0.303448</td>\n",
       "      <td id=\"T_043a0_row2_col6\" class=\"data row2 col6\" >0.939266</td>\n",
       "      <td id=\"T_043a0_row2_col7\" class=\"data row2 col7\" >334</td>\n",
       "      <td id=\"T_043a0_row2_col8\" class=\"data row2 col8\" >2378</td>\n",
       "    </tr>\n",
       "    <tr>\n",
       "      <th id=\"T_043a0_level0_row3\" class=\"row_heading level0 row3\" >3</th>\n",
       "      <td id=\"T_043a0_row3_col0\" class=\"data row3 col0\" >GabHateCorpus_word2vec_bilstm</td>\n",
       "      <td id=\"T_043a0_row3_col1\" class=\"data row3 col1\" >0.884956</td>\n",
       "      <td id=\"T_043a0_row3_col2\" class=\"data row3 col2\" >0.734727</td>\n",
       "      <td id=\"T_043a0_row3_col3\" class=\"data row3 col3\" >0.633300</td>\n",
       "      <td id=\"T_043a0_row3_col4\" class=\"data row3 col4\" >0.663554</td>\n",
       "      <td id=\"T_043a0_row3_col5\" class=\"data row3 col5\" >0.390625</td>\n",
       "      <td id=\"T_043a0_row3_col6\" class=\"data row3 col6\" >0.936482</td>\n",
       "      <td id=\"T_043a0_row3_col7\" class=\"data row3 col7\" >334</td>\n",
       "      <td id=\"T_043a0_row3_col8\" class=\"data row3 col8\" >2378</td>\n",
       "    </tr>\n",
       "    <tr>\n",
       "      <th id=\"T_043a0_level0_row4\" class=\"row_heading level0 row4\" >4</th>\n",
       "      <td id=\"T_043a0_row4_col0\" class=\"data row4 col0\" >GabHateCorpus_word2vec_gru</td>\n",
       "      <td id=\"T_043a0_row4_col1\" class=\"data row4 col1\" >0.893437</td>\n",
       "      <td id=\"T_043a0_row4_col2\" class=\"data row4 col2\" >0.807469</td>\n",
       "      <td id=\"T_043a0_row4_col3\" class=\"data row4 col3\" >0.605968</td>\n",
       "      <td id=\"T_043a0_row4_col4\" class=\"data row4 col4\" >0.641856</td>\n",
       "      <td id=\"T_043a0_row4_col5\" class=\"data row4 col5\" >0.341686</td>\n",
       "      <td id=\"T_043a0_row4_col6\" class=\"data row4 col6\" >0.942026</td>\n",
       "      <td id=\"T_043a0_row4_col7\" class=\"data row4 col7\" >334</td>\n",
       "      <td id=\"T_043a0_row4_col8\" class=\"data row4 col8\" >2378</td>\n",
       "    </tr>\n",
       "  </tbody>\n",
       "</table>\n"
      ],
      "text/plain": [
       "<pandas.io.formats.style.Styler at 0x1fb282f6510>"
      ]
     },
     "execution_count": 32,
     "metadata": {},
     "output_type": "execute_result"
    }
   ],
   "source": [
    "ds =\"GabHateCorpus\"\n",
    "em = 'word2vec'\n",
    "get_result_nn([ds+\"_\"+em+\"_cnn\", ds+\"_\"+em+\"_rnn\", ds+\"_\"+em+\"_lstm\",ds+\"_\"+em+\"_bilstm\",ds+\"_\"+em+\"_gru\"])"
   ]
  },
  {
   "cell_type": "code",
   "execution_count": 40,
   "metadata": {},
   "outputs": [
    {
     "data": {
      "text/html": [
       "<style type=\"text/css\">\n",
       "#T_f5372_row0_col6, #T_f5372_row0_col8, #T_f5372_row1_col0, #T_f5372_row1_col6, #T_f5372_row1_col8, #T_f5372_row2_col1, #T_f5372_row2_col2, #T_f5372_row2_col6, #T_f5372_row2_col7, #T_f5372_row2_col8, #T_f5372_row3_col6, #T_f5372_row3_col8, #T_f5372_row4_col3, #T_f5372_row4_col4, #T_f5372_row4_col5, #T_f5372_row4_col6, #T_f5372_row4_col8 {\n",
       "  background-color: red;\n",
       "}\n",
       "</style>\n",
       "<table id=\"T_f5372\">\n",
       "  <thead>\n",
       "    <tr>\n",
       "      <th class=\"blank level0\" >&nbsp;</th>\n",
       "      <th id=\"T_f5372_level0_col0\" class=\"col_heading level0 col0\" >Model</th>\n",
       "      <th id=\"T_f5372_level0_col1\" class=\"col_heading level0 col1\" >Accuracy</th>\n",
       "      <th id=\"T_f5372_level0_col2\" class=\"col_heading level0 col2\" >precision</th>\n",
       "      <th id=\"T_f5372_level0_col3\" class=\"col_heading level0 col3\" >recall</th>\n",
       "      <th id=\"T_f5372_level0_col4\" class=\"col_heading level0 col4\" >f1-score</th>\n",
       "      <th id=\"T_f5372_level0_col5\" class=\"col_heading level0 col5\" >hate f1</th>\n",
       "      <th id=\"T_f5372_level0_col6\" class=\"col_heading level0 col6\" >hate support</th>\n",
       "      <th id=\"T_f5372_level0_col7\" class=\"col_heading level0 col7\" >non-hate f1</th>\n",
       "      <th id=\"T_f5372_level0_col8\" class=\"col_heading level0 col8\" >non-hate support</th>\n",
       "    </tr>\n",
       "  </thead>\n",
       "  <tbody>\n",
       "    <tr>\n",
       "      <th id=\"T_f5372_level0_row0\" class=\"row_heading level0 row0\" >0</th>\n",
       "      <td id=\"T_f5372_row0_col0\" class=\"data row0 col0\" >GabHateCorpus_fasttext_cnn</td>\n",
       "      <td id=\"T_f5372_row0_col1\" class=\"data row0 col1\" >0.883944</td>\n",
       "      <td id=\"T_f5372_row0_col2\" class=\"data row0 col2\" >0.724345</td>\n",
       "      <td id=\"T_f5372_row0_col3\" class=\"data row0 col3\" >0.603634</td>\n",
       "      <td id=\"T_f5372_row0_col4\" class=\"data row0 col4\" >0.632063</td>\n",
       "      <td id=\"T_f5372_row0_col5\" class=\"data row0 col5\" >0.327635</td>\n",
       "      <td id=\"T_f5372_row0_col6\" class=\"data row0 col6\" >983</td>\n",
       "      <td id=\"T_f5372_row0_col7\" class=\"data row0 col7\" >0.936491</td>\n",
       "      <td id=\"T_f5372_row0_col8\" class=\"data row0 col8\" >7151</td>\n",
       "    </tr>\n",
       "    <tr>\n",
       "      <th id=\"T_f5372_level0_row1\" class=\"row_heading level0 row1\" >1</th>\n",
       "      <td id=\"T_f5372_row1_col0\" class=\"data row1 col0\" >GabHateCorpus_fasttext_rnn</td>\n",
       "      <td id=\"T_f5372_row1_col1\" class=\"data row1 col1\" >0.879149</td>\n",
       "      <td id=\"T_f5372_row1_col2\" class=\"data row1 col2\" >0.689995</td>\n",
       "      <td id=\"T_f5372_row1_col3\" class=\"data row1 col3\" >0.503949</td>\n",
       "      <td id=\"T_f5372_row1_col4\" class=\"data row1 col4\" >0.476797</td>\n",
       "      <td id=\"T_f5372_row1_col5\" class=\"data row1 col5\" >0.017982</td>\n",
       "      <td id=\"T_f5372_row1_col6\" class=\"data row1 col6\" >983</td>\n",
       "      <td id=\"T_f5372_row1_col7\" class=\"data row1 col7\" >0.935613</td>\n",
       "      <td id=\"T_f5372_row1_col8\" class=\"data row1 col8\" >7151</td>\n",
       "    </tr>\n",
       "    <tr>\n",
       "      <th id=\"T_f5372_level0_row2\" class=\"row_heading level0 row2\" >2</th>\n",
       "      <td id=\"T_f5372_row2_col0\" class=\"data row2 col0\" >GabHateCorpus_fasttext_lstm</td>\n",
       "      <td id=\"T_f5372_row2_col1\" class=\"data row2 col1\" >0.891320</td>\n",
       "      <td id=\"T_f5372_row2_col2\" class=\"data row2 col2\" >0.795910</td>\n",
       "      <td id=\"T_f5372_row2_col3\" class=\"data row2 col3\" >0.584577</td>\n",
       "      <td id=\"T_f5372_row2_col4\" class=\"data row2 col4\" >0.613565</td>\n",
       "      <td id=\"T_f5372_row2_col5\" class=\"data row2 col5\" >0.285945</td>\n",
       "      <td id=\"T_f5372_row2_col6\" class=\"data row2 col6\" >983</td>\n",
       "      <td id=\"T_f5372_row2_col7\" class=\"data row2 col7\" >0.941184</td>\n",
       "      <td id=\"T_f5372_row2_col8\" class=\"data row2 col8\" >7151</td>\n",
       "    </tr>\n",
       "    <tr>\n",
       "      <th id=\"T_f5372_level0_row3\" class=\"row_heading level0 row3\" >3</th>\n",
       "      <td id=\"T_f5372_row3_col0\" class=\"data row3 col0\" >GabHateCorpus_fasttext_bilstm</td>\n",
       "      <td id=\"T_f5372_row3_col1\" class=\"data row3 col1\" >0.890214</td>\n",
       "      <td id=\"T_f5372_row3_col2\" class=\"data row3 col2\" >0.755402</td>\n",
       "      <td id=\"T_f5372_row3_col3\" class=\"data row3 col3\" >0.620362</td>\n",
       "      <td id=\"T_f5372_row3_col4\" class=\"data row3 col4\" >0.653948</td>\n",
       "      <td id=\"T_f5372_row3_col5\" class=\"data row3 col5\" >0.368011</td>\n",
       "      <td id=\"T_f5372_row3_col6\" class=\"data row3 col6\" >983</td>\n",
       "      <td id=\"T_f5372_row3_col7\" class=\"data row3 col7\" >0.939886</td>\n",
       "      <td id=\"T_f5372_row3_col8\" class=\"data row3 col8\" >7151</td>\n",
       "    </tr>\n",
       "    <tr>\n",
       "      <th id=\"T_f5372_level0_row4\" class=\"row_heading level0 row4\" >4</th>\n",
       "      <td id=\"T_f5372_row4_col0\" class=\"data row4 col0\" >GabHateCorpus_fasttext_gru</td>\n",
       "      <td id=\"T_f5372_row4_col1\" class=\"data row4 col1\" >0.889107</td>\n",
       "      <td id=\"T_f5372_row4_col2\" class=\"data row4 col2\" >0.740086</td>\n",
       "      <td id=\"T_f5372_row4_col3\" class=\"data row4 col3\" >0.664044</td>\n",
       "      <td id=\"T_f5372_row4_col4\" class=\"data row4 col4\" >0.691493</td>\n",
       "      <td id=\"T_f5372_row4_col5\" class=\"data row4 col5\" >0.444581</td>\n",
       "      <td id=\"T_f5372_row4_col6\" class=\"data row4 col6\" >983</td>\n",
       "      <td id=\"T_f5372_row4_col7\" class=\"data row4 col7\" >0.938405</td>\n",
       "      <td id=\"T_f5372_row4_col8\" class=\"data row4 col8\" >7151</td>\n",
       "    </tr>\n",
       "  </tbody>\n",
       "</table>\n"
      ],
      "text/plain": [
       "<pandas.io.formats.style.Styler at 0x22adb39c2d0>"
      ]
     },
     "execution_count": 40,
     "metadata": {},
     "output_type": "execute_result"
    }
   ],
   "source": [
    "ds =\"GabHateCorpus\"\n",
    "em = 'fasttext'\n",
    "get_result_nn([ds+\"_\"+em+\"_cnn\", ds+\"_\"+em+\"_rnn\", ds+\"_\"+em+\"_lstm\",ds+\"_\"+em+\"_bilstm\",ds+\"_\"+em+\"_gru\"])"
   ]
  },
  {
   "cell_type": "code",
   "execution_count": 38,
   "metadata": {},
   "outputs": [
    {
     "data": {
      "text/html": [
       "<style type=\"text/css\">\n",
       "#T_26f23_row1_col0, #T_26f23_row2_col1, #T_26f23_row2_col2, #T_26f23_row2_col3, #T_26f23_row2_col4 {\n",
       "  background-color: red;\n",
       "}\n",
       "</style>\n",
       "<table id=\"T_26f23\">\n",
       "  <thead>\n",
       "    <tr>\n",
       "      <th class=\"blank level0\" >&nbsp;</th>\n",
       "      <th id=\"T_26f23_level0_col0\" class=\"col_heading level0 col0\" >Model</th>\n",
       "      <th id=\"T_26f23_level0_col1\" class=\"col_heading level0 col1\" >Accuracy</th>\n",
       "      <th id=\"T_26f23_level0_col2\" class=\"col_heading level0 col2\" >Precision</th>\n",
       "      <th id=\"T_26f23_level0_col3\" class=\"col_heading level0 col3\" >Recall</th>\n",
       "      <th id=\"T_26f23_level0_col4\" class=\"col_heading level0 col4\" >F1-Score</th>\n",
       "    </tr>\n",
       "  </thead>\n",
       "  <tbody>\n",
       "    <tr>\n",
       "      <th id=\"T_26f23_level0_row0\" class=\"row_heading level0 row0\" >0</th>\n",
       "      <td id=\"T_26f23_row0_col0\" class=\"data row0 col0\" >GabHateCorpus_glove_cnn</td>\n",
       "      <td id=\"T_26f23_row0_col1\" class=\"data row0 col1\" >0.887755</td>\n",
       "      <td id=\"T_26f23_row0_col2\" class=\"data row0 col2\" >0.864472</td>\n",
       "      <td id=\"T_26f23_row0_col3\" class=\"data row0 col3\" >0.887755</td>\n",
       "      <td id=\"T_26f23_row0_col4\" class=\"data row0 col4\" >0.864063</td>\n",
       "    </tr>\n",
       "    <tr>\n",
       "      <th id=\"T_26f23_level0_row1\" class=\"row_heading level0 row1\" >1</th>\n",
       "      <td id=\"T_26f23_row1_col0\" class=\"data row1 col0\" >GabHateCorpus_glove_rnn</td>\n",
       "      <td id=\"T_26f23_row1_col1\" class=\"data row1 col1\" >0.885050</td>\n",
       "      <td id=\"T_26f23_row1_col2\" class=\"data row1 col2\" >0.858332</td>\n",
       "      <td id=\"T_26f23_row1_col3\" class=\"data row1 col3\" >0.885050</td>\n",
       "      <td id=\"T_26f23_row1_col4\" class=\"data row1 col4\" >0.852100</td>\n",
       "    </tr>\n",
       "    <tr>\n",
       "      <th id=\"T_26f23_level0_row2\" class=\"row_heading level0 row2\" >2</th>\n",
       "      <td id=\"T_26f23_row2_col0\" class=\"data row2 col0\" >GabHateCorpus_glove_lstm</td>\n",
       "      <td id=\"T_26f23_row2_col1\" class=\"data row2 col1\" >0.892304</td>\n",
       "      <td id=\"T_26f23_row2_col2\" class=\"data row2 col2\" >0.880023</td>\n",
       "      <td id=\"T_26f23_row2_col3\" class=\"data row2 col3\" >0.892304</td>\n",
       "      <td id=\"T_26f23_row2_col4\" class=\"data row2 col4\" >0.884057</td>\n",
       "    </tr>\n",
       "    <tr>\n",
       "      <th id=\"T_26f23_level0_row3\" class=\"row_heading level0 row3\" >3</th>\n",
       "      <td id=\"T_26f23_row3_col0\" class=\"data row3 col0\" >GabHateCorpus_glove_bilstm</td>\n",
       "      <td id=\"T_26f23_row3_col1\" class=\"data row3 col1\" >0.880747</td>\n",
       "      <td id=\"T_26f23_row3_col2\" class=\"data row3 col2\" >0.872886</td>\n",
       "      <td id=\"T_26f23_row3_col3\" class=\"data row3 col3\" >0.880747</td>\n",
       "      <td id=\"T_26f23_row3_col4\" class=\"data row3 col4\" >0.876315</td>\n",
       "    </tr>\n",
       "    <tr>\n",
       "      <th id=\"T_26f23_level0_row4\" class=\"row_heading level0 row4\" >4</th>\n",
       "      <td id=\"T_26f23_row4_col0\" class=\"data row4 col0\" >GabHateCorpus_glove_gru</td>\n",
       "      <td id=\"T_26f23_row4_col1\" class=\"data row4 col1\" >0.882837</td>\n",
       "      <td id=\"T_26f23_row4_col2\" class=\"data row4 col2\" >0.876953</td>\n",
       "      <td id=\"T_26f23_row4_col3\" class=\"data row4 col3\" >0.882837</td>\n",
       "      <td id=\"T_26f23_row4_col4\" class=\"data row4 col4\" >0.879606</td>\n",
       "    </tr>\n",
       "  </tbody>\n",
       "</table>\n"
      ],
      "text/plain": [
       "<pandas.io.formats.style.Styler at 0x23b9d55ce10>"
      ]
     },
     "execution_count": 38,
     "metadata": {},
     "output_type": "execute_result"
    }
   ],
   "source": [
    "ds = 'GabHateCorpus'\n",
    "em = 'glove'\n",
    "get_result_nn([ds+\"_\"+em+\"_cnn\", ds+\"_\"+em+\"_rnn\", ds+\"_\"+em+\"_lstm\",ds+\"_\"+em+\"_bilstm\",ds+\"_\"+em+\"_gru\"])"
   ]
  },
  {
   "cell_type": "code",
   "execution_count": 7,
   "metadata": {},
   "outputs": [
    {
     "name": "stdout",
     "output_type": "stream",
     "text": [
      "models/SE2019_word2vec_cnn\n",
      "models/SE2019_word2vec_rnn\n",
      "models/SE2019_word2vec_lstm\n",
      "models/SE2019_word2vec_bilstm\n",
      "models/SE2019_word2vec_gru\n"
     ]
    },
    {
     "data": {
      "text/html": [
       "<style type=\"text/css\">\n",
       "#T_aeaa9_row0_col5, #T_aeaa9_row0_col7, #T_aeaa9_row0_col8, #T_aeaa9_row1_col0, #T_aeaa9_row1_col7, #T_aeaa9_row1_col8, #T_aeaa9_row2_col2, #T_aeaa9_row2_col6, #T_aeaa9_row2_col7, #T_aeaa9_row2_col8, #T_aeaa9_row3_col7, #T_aeaa9_row3_col8, #T_aeaa9_row4_col1, #T_aeaa9_row4_col3, #T_aeaa9_row4_col4, #T_aeaa9_row4_col7, #T_aeaa9_row4_col8 {\n",
       "  background-color: red;\n",
       "}\n",
       "</style>\n",
       "<table id=\"T_aeaa9\">\n",
       "  <thead>\n",
       "    <tr>\n",
       "      <th class=\"blank level0\" >&nbsp;</th>\n",
       "      <th id=\"T_aeaa9_level0_col0\" class=\"col_heading level0 col0\" >Model</th>\n",
       "      <th id=\"T_aeaa9_level0_col1\" class=\"col_heading level0 col1\" >Accuracy</th>\n",
       "      <th id=\"T_aeaa9_level0_col2\" class=\"col_heading level0 col2\" >precision</th>\n",
       "      <th id=\"T_aeaa9_level0_col3\" class=\"col_heading level0 col3\" >recall</th>\n",
       "      <th id=\"T_aeaa9_level0_col4\" class=\"col_heading level0 col4\" >f1-score</th>\n",
       "      <th id=\"T_aeaa9_level0_col5\" class=\"col_heading level0 col5\" >hate f1</th>\n",
       "      <th id=\"T_aeaa9_level0_col6\" class=\"col_heading level0 col6\" >non-hate f1</th>\n",
       "      <th id=\"T_aeaa9_level0_col7\" class=\"col_heading level0 col7\" >hate support</th>\n",
       "      <th id=\"T_aeaa9_level0_col8\" class=\"col_heading level0 col8\" >non-hate support</th>\n",
       "    </tr>\n",
       "  </thead>\n",
       "  <tbody>\n",
       "    <tr>\n",
       "      <th id=\"T_aeaa9_level0_row0\" class=\"row_heading level0 row0\" >0</th>\n",
       "      <td id=\"T_aeaa9_row0_col0\" class=\"data row0 col0\" >SE2019_word2vec_cnn</td>\n",
       "      <td id=\"T_aeaa9_row0_col1\" class=\"data row0 col1\" >0.700488</td>\n",
       "      <td id=\"T_aeaa9_row0_col2\" class=\"data row0 col2\" >0.696548</td>\n",
       "      <td id=\"T_aeaa9_row0_col3\" class=\"data row0 col3\" >0.700337</td>\n",
       "      <td id=\"T_aeaa9_row0_col4\" class=\"data row0 col4\" >0.697045</td>\n",
       "      <td id=\"T_aeaa9_row0_col5\" class=\"data row0 col5\" >0.664750</td>\n",
       "      <td id=\"T_aeaa9_row0_col6\" class=\"data row0 col6\" >0.729341</td>\n",
       "      <td id=\"T_aeaa9_row0_col7\" class=\"data row0 col7\" >1653</td>\n",
       "      <td id=\"T_aeaa9_row0_col8\" class=\"data row0 col8\" >2240</td>\n",
       "    </tr>\n",
       "    <tr>\n",
       "      <th id=\"T_aeaa9_level0_row1\" class=\"row_heading level0 row1\" >1</th>\n",
       "      <td id=\"T_aeaa9_row1_col0\" class=\"data row1 col0\" >SE2019_word2vec_rnn</td>\n",
       "      <td id=\"T_aeaa9_row1_col1\" class=\"data row1 col1\" >0.669407</td>\n",
       "      <td id=\"T_aeaa9_row1_col2\" class=\"data row1 col2\" >0.660556</td>\n",
       "      <td id=\"T_aeaa9_row1_col3\" class=\"data row1 col3\" >0.655255</td>\n",
       "      <td id=\"T_aeaa9_row1_col4\" class=\"data row1 col4\" >0.656664</td>\n",
       "      <td id=\"T_aeaa9_row1_col5\" class=\"data row1 col5\" >0.590519</td>\n",
       "      <td id=\"T_aeaa9_row1_col6\" class=\"data row1 col6\" >0.722809</td>\n",
       "      <td id=\"T_aeaa9_row1_col7\" class=\"data row1 col7\" >1653</td>\n",
       "      <td id=\"T_aeaa9_row1_col8\" class=\"data row1 col8\" >2240</td>\n",
       "    </tr>\n",
       "    <tr>\n",
       "      <th id=\"T_aeaa9_level0_row2\" class=\"row_heading level0 row2\" >2</th>\n",
       "      <td id=\"T_aeaa9_row2_col0\" class=\"data row2 col0\" >SE2019_word2vec_lstm</td>\n",
       "      <td id=\"T_aeaa9_row2_col1\" class=\"data row2 col1\" >0.713332</td>\n",
       "      <td id=\"T_aeaa9_row2_col2\" class=\"data row2 col2\" >0.711090</td>\n",
       "      <td id=\"T_aeaa9_row2_col3\" class=\"data row2 col3\" >0.693266</td>\n",
       "      <td id=\"T_aeaa9_row2_col4\" class=\"data row2 col4\" >0.696179</td>\n",
       "      <td id=\"T_aeaa9_row2_col5\" class=\"data row2 col5\" >0.623989</td>\n",
       "      <td id=\"T_aeaa9_row2_col6\" class=\"data row2 col6\" >0.768369</td>\n",
       "      <td id=\"T_aeaa9_row2_col7\" class=\"data row2 col7\" >1653</td>\n",
       "      <td id=\"T_aeaa9_row2_col8\" class=\"data row2 col8\" >2240</td>\n",
       "    </tr>\n",
       "    <tr>\n",
       "      <th id=\"T_aeaa9_level0_row3\" class=\"row_heading level0 row3\" >3</th>\n",
       "      <td id=\"T_aeaa9_row3_col0\" class=\"data row3 col0\" >SE2019_word2vec_bilstm</td>\n",
       "      <td id=\"T_aeaa9_row3_col1\" class=\"data row3 col1\" >0.713075</td>\n",
       "      <td id=\"T_aeaa9_row3_col2\" class=\"data row3 col2\" >0.708568</td>\n",
       "      <td id=\"T_aeaa9_row3_col3\" class=\"data row3 col3\" >0.695976</td>\n",
       "      <td id=\"T_aeaa9_row3_col4\" class=\"data row3 col4\" >0.698712</td>\n",
       "      <td id=\"T_aeaa9_row3_col5\" class=\"data row3 col5\" >0.632928</td>\n",
       "      <td id=\"T_aeaa9_row3_col6\" class=\"data row3 col6\" >0.764495</td>\n",
       "      <td id=\"T_aeaa9_row3_col7\" class=\"data row3 col7\" >1653</td>\n",
       "      <td id=\"T_aeaa9_row3_col8\" class=\"data row3 col8\" >2240</td>\n",
       "    </tr>\n",
       "    <tr>\n",
       "      <th id=\"T_aeaa9_level0_row4\" class=\"row_heading level0 row4\" >4</th>\n",
       "      <td id=\"T_aeaa9_row4_col0\" class=\"data row4 col0\" >SE2019_word2vec_gru</td>\n",
       "      <td id=\"T_aeaa9_row4_col1\" class=\"data row4 col1\" >0.717185</td>\n",
       "      <td id=\"T_aeaa9_row4_col2\" class=\"data row4 col2\" >0.710524</td>\n",
       "      <td id=\"T_aeaa9_row4_col3\" class=\"data row4 col3\" >0.706840</td>\n",
       "      <td id=\"T_aeaa9_row4_col4\" class=\"data row4 col4\" >0.708230</td>\n",
       "      <td id=\"T_aeaa9_row4_col5\" class=\"data row4 col5\" >0.657116</td>\n",
       "      <td id=\"T_aeaa9_row4_col6\" class=\"data row4 col6\" >0.759344</td>\n",
       "      <td id=\"T_aeaa9_row4_col7\" class=\"data row4 col7\" >1653</td>\n",
       "      <td id=\"T_aeaa9_row4_col8\" class=\"data row4 col8\" >2240</td>\n",
       "    </tr>\n",
       "  </tbody>\n",
       "</table>\n"
      ],
      "text/plain": [
       "<pandas.io.formats.style.Styler at 0x1faff4f8510>"
      ]
     },
     "execution_count": 7,
     "metadata": {},
     "output_type": "execute_result"
    }
   ],
   "source": [
    "ds = 'SE2019'\n",
    "em = 'word2vec'\n",
    "get_result_nn([ds+\"_\"+em+\"_cnn\", ds+\"_\"+em+\"_rnn\", ds+\"_\"+em+\"_lstm\",ds+\"_\"+em+\"_bilstm\",ds+\"_\"+em+\"_gru\"])"
   ]
  },
  {
   "cell_type": "code",
   "execution_count": 36,
   "metadata": {},
   "outputs": [
    {
     "name": "stdout",
     "output_type": "stream",
     "text": [
      "models/SE2019_fasttext_cnn\n",
      "models/SE2019_fasttext_rnn\n",
      "models/SE2019_fasttext_lstm\n",
      "models/SE2019_fasttext_bilstm\n",
      "models/SE2019_fasttext_gru\n"
     ]
    },
    {
     "data": {
      "text/html": [
       "<style type=\"text/css\">\n",
       "#T_bd23c_row0_col7, #T_bd23c_row0_col8, #T_bd23c_row1_col0, #T_bd23c_row1_col7, #T_bd23c_row1_col8, #T_bd23c_row2_col6, #T_bd23c_row2_col7, #T_bd23c_row2_col8, #T_bd23c_row3_col1, #T_bd23c_row3_col2, #T_bd23c_row3_col3, #T_bd23c_row3_col4, #T_bd23c_row3_col5, #T_bd23c_row3_col7, #T_bd23c_row3_col8, #T_bd23c_row4_col7, #T_bd23c_row4_col8 {\n",
       "  background-color: red;\n",
       "}\n",
       "</style>\n",
       "<table id=\"T_bd23c\">\n",
       "  <thead>\n",
       "    <tr>\n",
       "      <th class=\"blank level0\" >&nbsp;</th>\n",
       "      <th id=\"T_bd23c_level0_col0\" class=\"col_heading level0 col0\" >Model</th>\n",
       "      <th id=\"T_bd23c_level0_col1\" class=\"col_heading level0 col1\" >Accuracy</th>\n",
       "      <th id=\"T_bd23c_level0_col2\" class=\"col_heading level0 col2\" >precision</th>\n",
       "      <th id=\"T_bd23c_level0_col3\" class=\"col_heading level0 col3\" >recall</th>\n",
       "      <th id=\"T_bd23c_level0_col4\" class=\"col_heading level0 col4\" >f1-score</th>\n",
       "      <th id=\"T_bd23c_level0_col5\" class=\"col_heading level0 col5\" >hate f1</th>\n",
       "      <th id=\"T_bd23c_level0_col6\" class=\"col_heading level0 col6\" >non-hate f1</th>\n",
       "      <th id=\"T_bd23c_level0_col7\" class=\"col_heading level0 col7\" >hate support</th>\n",
       "      <th id=\"T_bd23c_level0_col8\" class=\"col_heading level0 col8\" >non-hate support</th>\n",
       "    </tr>\n",
       "  </thead>\n",
       "  <tbody>\n",
       "    <tr>\n",
       "      <th id=\"T_bd23c_level0_row0\" class=\"row_heading level0 row0\" >0</th>\n",
       "      <td id=\"T_bd23c_row0_col0\" class=\"data row0 col0\" >SE2019_fasttext_cnn</td>\n",
       "      <td id=\"T_bd23c_row0_col1\" class=\"data row0 col1\" >0.701259</td>\n",
       "      <td id=\"T_bd23c_row0_col2\" class=\"data row0 col2\" >0.696076</td>\n",
       "      <td id=\"T_bd23c_row0_col3\" class=\"data row0 col3\" >0.699025</td>\n",
       "      <td id=\"T_bd23c_row0_col4\" class=\"data row0 col4\" >0.696878</td>\n",
       "      <td id=\"T_bd23c_row0_col5\" class=\"data row0 col5\" >0.660438</td>\n",
       "      <td id=\"T_bd23c_row0_col6\" class=\"data row0 col6\" >0.733318</td>\n",
       "      <td id=\"T_bd23c_row0_col7\" class=\"data row0 col7\" >1653</td>\n",
       "      <td id=\"T_bd23c_row0_col8\" class=\"data row0 col8\" >2240</td>\n",
       "    </tr>\n",
       "    <tr>\n",
       "      <th id=\"T_bd23c_level0_row1\" class=\"row_heading level0 row1\" >1</th>\n",
       "      <td id=\"T_bd23c_row1_col0\" class=\"data row1 col0\" >SE2019_fasttext_rnn</td>\n",
       "      <td id=\"T_bd23c_row1_col1\" class=\"data row1 col1\" >0.682764</td>\n",
       "      <td id=\"T_bd23c_row1_col2\" class=\"data row1 col2\" >0.679793</td>\n",
       "      <td id=\"T_bd23c_row1_col3\" class=\"data row1 col3\" >0.658064</td>\n",
       "      <td id=\"T_bd23c_row1_col4\" class=\"data row1 col4\" >0.659184</td>\n",
       "      <td id=\"T_bd23c_row1_col5\" class=\"data row1 col5\" >0.569536</td>\n",
       "      <td id=\"T_bd23c_row1_col6\" class=\"data row1 col6\" >0.748831</td>\n",
       "      <td id=\"T_bd23c_row1_col7\" class=\"data row1 col7\" >1653</td>\n",
       "      <td id=\"T_bd23c_row1_col8\" class=\"data row1 col8\" >2240</td>\n",
       "    </tr>\n",
       "    <tr>\n",
       "      <th id=\"T_bd23c_level0_row2\" class=\"row_heading level0 row2\" >2</th>\n",
       "      <td id=\"T_bd23c_row2_col0\" class=\"data row2 col0\" >SE2019_fasttext_lstm</td>\n",
       "      <td id=\"T_bd23c_row2_col1\" class=\"data row2 col1\" >0.704598</td>\n",
       "      <td id=\"T_bd23c_row2_col2\" class=\"data row2 col2\" >0.697699</td>\n",
       "      <td id=\"T_bd23c_row2_col3\" class=\"data row2 col3\" >0.691701</td>\n",
       "      <td id=\"T_bd23c_row2_col4\" class=\"data row2 col4\" >0.693555</td>\n",
       "      <td id=\"T_bd23c_row2_col5\" class=\"data row2 col5\" >0.635384</td>\n",
       "      <td id=\"T_bd23c_row2_col6\" class=\"data row2 col6\" >0.751727</td>\n",
       "      <td id=\"T_bd23c_row2_col7\" class=\"data row2 col7\" >1653</td>\n",
       "      <td id=\"T_bd23c_row2_col8\" class=\"data row2 col8\" >2240</td>\n",
       "    </tr>\n",
       "    <tr>\n",
       "      <th id=\"T_bd23c_level0_row3\" class=\"row_heading level0 row3\" >3</th>\n",
       "      <td id=\"T_bd23c_row3_col0\" class=\"data row3 col0\" >SE2019_fasttext_bilstm</td>\n",
       "      <td id=\"T_bd23c_row3_col1\" class=\"data row3 col1\" >0.711790</td>\n",
       "      <td id=\"T_bd23c_row3_col2\" class=\"data row3 col2\" >0.705390</td>\n",
       "      <td id=\"T_bd23c_row3_col3\" class=\"data row3 col3\" >0.706433</td>\n",
       "      <td id=\"T_bd23c_row3_col4\" class=\"data row3 col4\" >0.705855</td>\n",
       "      <td id=\"T_bd23c_row3_col5\" class=\"data row3 col5\" >0.664072</td>\n",
       "      <td id=\"T_bd23c_row3_col6\" class=\"data row3 col6\" >0.747638</td>\n",
       "      <td id=\"T_bd23c_row3_col7\" class=\"data row3 col7\" >1653</td>\n",
       "      <td id=\"T_bd23c_row3_col8\" class=\"data row3 col8\" >2240</td>\n",
       "    </tr>\n",
       "    <tr>\n",
       "      <th id=\"T_bd23c_level0_row4\" class=\"row_heading level0 row4\" >4</th>\n",
       "      <td id=\"T_bd23c_row4_col0\" class=\"data row4 col0\" >SE2019_fasttext_gru</td>\n",
       "      <td id=\"T_bd23c_row4_col1\" class=\"data row4 col1\" >0.708965</td>\n",
       "      <td id=\"T_bd23c_row4_col2\" class=\"data row4 col2\" >0.702250</td>\n",
       "      <td id=\"T_bd23c_row4_col3\" class=\"data row4 col3\" >0.702471</td>\n",
       "      <td id=\"T_bd23c_row4_col4\" class=\"data row4 col4\" >0.702358</td>\n",
       "      <td id=\"T_bd23c_row4_col5\" class=\"data row4 col5\" >0.658014</td>\n",
       "      <td id=\"T_bd23c_row4_col6\" class=\"data row4 col6\" >0.746702</td>\n",
       "      <td id=\"T_bd23c_row4_col7\" class=\"data row4 col7\" >1653</td>\n",
       "      <td id=\"T_bd23c_row4_col8\" class=\"data row4 col8\" >2240</td>\n",
       "    </tr>\n",
       "  </tbody>\n",
       "</table>\n"
      ],
      "text/plain": [
       "<pandas.io.formats.style.Styler at 0x19dc079f490>"
      ]
     },
     "execution_count": 36,
     "metadata": {},
     "output_type": "execute_result"
    }
   ],
   "source": [
    "ds = 'SE2019'\n",
    "em = 'fasttext'\n",
    "get_result_nn([ds+\"_\"+em+\"_cnn\", ds+\"_\"+em+\"_rnn\", ds+\"_\"+em+\"_lstm\",ds+\"_\"+em+\"_bilstm\",ds+\"_\"+em+\"_gru\"])"
   ]
  },
  {
   "cell_type": "code",
   "execution_count": 45,
   "metadata": {},
   "outputs": [
    {
     "data": {
      "text/html": [
       "<style type=\"text/css\">\n",
       "#T_3f5ec_row1_col0, #T_3f5ec_row4_col1, #T_3f5ec_row4_col2, #T_3f5ec_row4_col3, #T_3f5ec_row4_col4 {\n",
       "  background-color: red;\n",
       "}\n",
       "</style>\n",
       "<table id=\"T_3f5ec\">\n",
       "  <thead>\n",
       "    <tr>\n",
       "      <th class=\"blank level0\" >&nbsp;</th>\n",
       "      <th id=\"T_3f5ec_level0_col0\" class=\"col_heading level0 col0\" >Model</th>\n",
       "      <th id=\"T_3f5ec_level0_col1\" class=\"col_heading level0 col1\" >Accuracy</th>\n",
       "      <th id=\"T_3f5ec_level0_col2\" class=\"col_heading level0 col2\" >Precision</th>\n",
       "      <th id=\"T_3f5ec_level0_col3\" class=\"col_heading level0 col3\" >Recall</th>\n",
       "      <th id=\"T_3f5ec_level0_col4\" class=\"col_heading level0 col4\" >F1-Score</th>\n",
       "    </tr>\n",
       "  </thead>\n",
       "  <tbody>\n",
       "    <tr>\n",
       "      <th id=\"T_3f5ec_level0_row0\" class=\"row_heading level0 row0\" >0</th>\n",
       "      <td id=\"T_3f5ec_row0_col0\" class=\"data row0 col0\" >SE2019_glove_cnn</td>\n",
       "      <td id=\"T_3f5ec_row0_col1\" class=\"data row0 col1\" >0.709989</td>\n",
       "      <td id=\"T_3f5ec_row0_col2\" class=\"data row0 col2\" >0.707252</td>\n",
       "      <td id=\"T_3f5ec_row0_col3\" class=\"data row0 col3\" >0.709989</td>\n",
       "      <td id=\"T_3f5ec_row0_col4\" class=\"data row0 col4\" >0.707052</td>\n",
       "    </tr>\n",
       "    <tr>\n",
       "      <th id=\"T_3f5ec_level0_row1\" class=\"row_heading level0 row1\" >1</th>\n",
       "      <td id=\"T_3f5ec_row1_col0\" class=\"data row1 col0\" >SE2019_glove_rnn</td>\n",
       "      <td id=\"T_3f5ec_row1_col1\" class=\"data row1 col1\" >0.661344</td>\n",
       "      <td id=\"T_3f5ec_row1_col2\" class=\"data row1 col2\" >0.661685</td>\n",
       "      <td id=\"T_3f5ec_row1_col3\" class=\"data row1 col3\" >0.661344</td>\n",
       "      <td id=\"T_3f5ec_row1_col4\" class=\"data row1 col4\" >0.661509</td>\n",
       "    </tr>\n",
       "    <tr>\n",
       "      <th id=\"T_3f5ec_level0_row2\" class=\"row_heading level0 row2\" >2</th>\n",
       "      <td id=\"T_3f5ec_row2_col0\" class=\"data row2 col0\" >SE2019_glove_lstm</td>\n",
       "      <td id=\"T_3f5ec_row2_col1\" class=\"data row2 col1\" >0.732269</td>\n",
       "      <td id=\"T_3f5ec_row2_col2\" class=\"data row2 col2\" >0.746559</td>\n",
       "      <td id=\"T_3f5ec_row2_col3\" class=\"data row2 col3\" >0.732269</td>\n",
       "      <td id=\"T_3f5ec_row2_col4\" class=\"data row2 col4\" >0.734036</td>\n",
       "    </tr>\n",
       "    <tr>\n",
       "      <th id=\"T_3f5ec_level0_row3\" class=\"row_heading level0 row3\" >3</th>\n",
       "      <td id=\"T_3f5ec_row3_col0\" class=\"data row3 col0\" >SE2019_glove_bilstm</td>\n",
       "      <td id=\"T_3f5ec_row3_col1\" class=\"data row3 col1\" >0.726328</td>\n",
       "      <td id=\"T_3f5ec_row3_col2\" class=\"data row3 col2\" >0.730623</td>\n",
       "      <td id=\"T_3f5ec_row3_col3\" class=\"data row3 col3\" >0.726328</td>\n",
       "      <td id=\"T_3f5ec_row3_col4\" class=\"data row3 col4\" >0.727574</td>\n",
       "    </tr>\n",
       "    <tr>\n",
       "      <th id=\"T_3f5ec_level0_row4\" class=\"row_heading level0 row4\" >4</th>\n",
       "      <td id=\"T_3f5ec_row4_col0\" class=\"data row4 col0\" >SE2019_glove_gru</td>\n",
       "      <td id=\"T_3f5ec_row4_col1\" class=\"data row4 col1\" >0.756034</td>\n",
       "      <td id=\"T_3f5ec_row4_col2\" class=\"data row4 col2\" >0.754855</td>\n",
       "      <td id=\"T_3f5ec_row4_col3\" class=\"data row4 col3\" >0.756034</td>\n",
       "      <td id=\"T_3f5ec_row4_col4\" class=\"data row4 col4\" >0.755169</td>\n",
       "    </tr>\n",
       "  </tbody>\n",
       "</table>\n"
      ],
      "text/plain": [
       "<pandas.io.formats.style.Styler at 0x23b5dc99bd0>"
      ]
     },
     "execution_count": 45,
     "metadata": {},
     "output_type": "execute_result"
    }
   ],
   "source": [
    "ds = 'SE2019'\n",
    "em = 'glove'\n",
    "get_result_nn([ds+\"_\"+em+\"_cnn\", ds+\"_\"+em+\"_rnn\", ds+\"_\"+em+\"_lstm\",ds+\"_\"+em+\"_bilstm\",ds+\"_\"+em+\"_gru\"])"
   ]
  },
  {
   "cell_type": "code",
   "execution_count": 149,
   "metadata": {},
   "outputs": [
    {
     "data": {
      "text/html": [
       "<style type=\"text/css\">\n",
       "#T_52f0a_row3_col1, #T_52f0a_row3_col2, #T_52f0a_row3_col3, #T_52f0a_row3_col4, #T_52f0a_row5_col0 {\n",
       "  background-color: red;\n",
       "}\n",
       "</style>\n",
       "<table id=\"T_52f0a\">\n",
       "  <thead>\n",
       "    <tr>\n",
       "      <th class=\"blank level0\" >&nbsp;</th>\n",
       "      <th id=\"T_52f0a_level0_col0\" class=\"col_heading level0 col0\" >Model</th>\n",
       "      <th id=\"T_52f0a_level0_col1\" class=\"col_heading level0 col1\" >Accuracy</th>\n",
       "      <th id=\"T_52f0a_level0_col2\" class=\"col_heading level0 col2\" >Precision</th>\n",
       "      <th id=\"T_52f0a_level0_col3\" class=\"col_heading level0 col3\" >Recall</th>\n",
       "      <th id=\"T_52f0a_level0_col4\" class=\"col_heading level0 col4\" >F1-Score</th>\n",
       "    </tr>\n",
       "  </thead>\n",
       "  <tbody>\n",
       "    <tr>\n",
       "      <th id=\"T_52f0a_level0_row0\" class=\"row_heading level0 row0\" >0</th>\n",
       "      <td id=\"T_52f0a_row0_col0\" class=\"data row0 col0\" >dtc</td>\n",
       "      <td id=\"T_52f0a_row0_col1\" class=\"data row0 col1\" >0.749350</td>\n",
       "      <td id=\"T_52f0a_row0_col2\" class=\"data row0 col2\" >0.747932</td>\n",
       "      <td id=\"T_52f0a_row0_col3\" class=\"data row0 col3\" >0.749350</td>\n",
       "      <td id=\"T_52f0a_row0_col4\" class=\"data row0 col4\" >0.748249</td>\n",
       "    </tr>\n",
       "    <tr>\n",
       "      <th id=\"T_52f0a_level0_row1\" class=\"row_heading level0 row1\" >1</th>\n",
       "      <td id=\"T_52f0a_row1_col0\" class=\"data row1 col0\" >dtc-tfid</td>\n",
       "      <td id=\"T_52f0a_row1_col1\" class=\"data row1 col1\" >0.743780</td>\n",
       "      <td id=\"T_52f0a_row1_col2\" class=\"data row1 col2\" >0.743531</td>\n",
       "      <td id=\"T_52f0a_row1_col3\" class=\"data row1 col3\" >0.743780</td>\n",
       "      <td id=\"T_52f0a_row1_col4\" class=\"data row1 col4\" >0.743649</td>\n",
       "    </tr>\n",
       "    <tr>\n",
       "      <th id=\"T_52f0a_level0_row2\" class=\"row_heading level0 row2\" >2</th>\n",
       "      <td id=\"T_52f0a_row2_col0\" class=\"data row2 col0\" >dtc-w2v</td>\n",
       "      <td id=\"T_52f0a_row2_col1\" class=\"data row2 col1\" >0.586706</td>\n",
       "      <td id=\"T_52f0a_row2_col2\" class=\"data row2 col2\" >0.589898</td>\n",
       "      <td id=\"T_52f0a_row2_col3\" class=\"data row2 col3\" >0.586706</td>\n",
       "      <td id=\"T_52f0a_row2_col4\" class=\"data row2 col4\" >0.588024</td>\n",
       "    </tr>\n",
       "    <tr>\n",
       "      <th id=\"T_52f0a_level0_row3\" class=\"row_heading level0 row3\" >3</th>\n",
       "      <td id=\"T_52f0a_row3_col0\" class=\"data row3 col0\" >svm</td>\n",
       "      <td id=\"T_52f0a_row3_col1\" class=\"data row3 col1\" >0.768659</td>\n",
       "      <td id=\"T_52f0a_row3_col2\" class=\"data row3 col2\" >0.767394</td>\n",
       "      <td id=\"T_52f0a_row3_col3\" class=\"data row3 col3\" >0.768659</td>\n",
       "      <td id=\"T_52f0a_row3_col4\" class=\"data row3 col4\" >0.766195</td>\n",
       "    </tr>\n",
       "    <tr>\n",
       "      <th id=\"T_52f0a_level0_row4\" class=\"row_heading level0 row4\" >4</th>\n",
       "      <td id=\"T_52f0a_row4_col0\" class=\"data row4 col0\" >svm-tfid</td>\n",
       "      <td id=\"T_52f0a_row4_col1\" class=\"data row4 col1\" >0.746008</td>\n",
       "      <td id=\"T_52f0a_row4_col2\" class=\"data row4 col2\" >0.760112</td>\n",
       "      <td id=\"T_52f0a_row4_col3\" class=\"data row4 col3\" >0.746008</td>\n",
       "      <td id=\"T_52f0a_row4_col4\" class=\"data row4 col4\" >0.731861</td>\n",
       "    </tr>\n",
       "    <tr>\n",
       "      <th id=\"T_52f0a_level0_row5\" class=\"row_heading level0 row5\" >5</th>\n",
       "      <td id=\"T_52f0a_row5_col0\" class=\"data row5 col0\" >svm-w2v</td>\n",
       "      <td id=\"T_52f0a_row5_col1\" class=\"data row5 col1\" >0.590048</td>\n",
       "      <td id=\"T_52f0a_row5_col2\" class=\"data row5 col2\" >0.611645</td>\n",
       "      <td id=\"T_52f0a_row5_col3\" class=\"data row5 col3\" >0.590048</td>\n",
       "      <td id=\"T_52f0a_row5_col4\" class=\"data row5 col4\" >0.461541</td>\n",
       "    </tr>\n",
       "    <tr>\n",
       "      <th id=\"T_52f0a_level0_row6\" class=\"row_heading level0 row6\" >6</th>\n",
       "      <td id=\"T_52f0a_row6_col0\" class=\"data row6 col0\" >lr</td>\n",
       "      <td id=\"T_52f0a_row6_col1\" class=\"data row6 col1\" >0.684738</td>\n",
       "      <td id=\"T_52f0a_row6_col2\" class=\"data row6 col2\" >0.690064</td>\n",
       "      <td id=\"T_52f0a_row6_col3\" class=\"data row6 col3\" >0.684738</td>\n",
       "      <td id=\"T_52f0a_row6_col4\" class=\"data row6 col4\" >0.686326</td>\n",
       "    </tr>\n",
       "    <tr>\n",
       "      <th id=\"T_52f0a_level0_row7\" class=\"row_heading level0 row7\" >7</th>\n",
       "      <td id=\"T_52f0a_row7_col0\" class=\"data row7 col0\" >lr-tfid</td>\n",
       "      <td id=\"T_52f0a_row7_col1\" class=\"data row7 col1\" >0.694393</td>\n",
       "      <td id=\"T_52f0a_row7_col2\" class=\"data row7 col2\" >0.697312</td>\n",
       "      <td id=\"T_52f0a_row7_col3\" class=\"data row7 col3\" >0.694393</td>\n",
       "      <td id=\"T_52f0a_row7_col4\" class=\"data row7 col4\" >0.695449</td>\n",
       "    </tr>\n",
       "    <tr>\n",
       "      <th id=\"T_52f0a_level0_row8\" class=\"row_heading level0 row8\" >8</th>\n",
       "      <td id=\"T_52f0a_row8_col0\" class=\"data row8 col0\" >lr-w2v</td>\n",
       "      <td id=\"T_52f0a_row8_col1\" class=\"data row8 col1\" >0.708504</td>\n",
       "      <td id=\"T_52f0a_row8_col2\" class=\"data row8 col2\" >0.705758</td>\n",
       "      <td id=\"T_52f0a_row8_col3\" class=\"data row8 col3\" >0.708504</td>\n",
       "      <td id=\"T_52f0a_row8_col4\" class=\"data row8 col4\" >0.705809</td>\n",
       "    </tr>\n",
       "  </tbody>\n",
       "</table>\n"
      ],
      "text/plain": [
       "<pandas.io.formats.style.Styler at 0x1f954ed6450>"
      ]
     },
     "execution_count": 149,
     "metadata": {},
     "output_type": "execute_result"
    }
   ],
   "source": [
    "get_result()"
   ]
  }
 ],
 "metadata": {
  "kernelspec": {
   "display_name": ".venv",
   "language": "python",
   "name": "python3"
  },
  "language_info": {
   "codemirror_mode": {
    "name": "ipython",
    "version": 3
   },
   "file_extension": ".py",
   "mimetype": "text/x-python",
   "name": "python",
   "nbconvert_exporter": "python",
   "pygments_lexer": "ipython3",
   "version": "3.10.10"
  },
  "orig_nbformat": 4
 },
 "nbformat": 4,
 "nbformat_minor": 2
}
