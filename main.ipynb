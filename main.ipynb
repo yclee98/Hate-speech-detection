{
 "cells": [
  {
   "attachments": {},
   "cell_type": "markdown",
   "metadata": {},
   "source": [
    "Exploratory Data Analysis (EDA) \n",
    "- is used to analyze the datasets using pandas, numpy, matplotlib, etc., and dealing with missing values. By doing EDA, we summarize their main importance.\n",
    "\n",
    "Feature Engineering \n",
    " - is the process of extracting features from raw data with some domain knowledge.\n",
    "\n",
    "Feature Selection \n",
    "- is where we select those features from the dataframe that will give a high impact on the estimator.\n",
    "\n",
    "Model creation \n",
    " - in this, we create a machine learning model using suitable algorithms, e.g., regressor or classifier.\n",
    "\n",
    "Deployment \n",
    " - where we deploy our ML model on the web."
   ]
  },
  {
   "cell_type": "code",
   "execution_count": 2,
   "metadata": {},
   "outputs": [],
   "source": [
    "import pandas as pd\n",
    "import numpy as np\n",
    "\n",
    "import seaborn as sb\n",
    "import matplotlib.pyplot as plt\n",
    "\n",
    "from sklearn.model_selection import train_test_split\n",
    "\n",
    "from sklearn.metrics import confusion_matrix\n",
    "from sklearn.metrics import classification_report\n",
    "\n",
    "import re\n",
    "import nltk\n",
    "from nltk.util import pr\n",
    "from nltk.corpus import stopwords\n",
    "import string "
   ]
  },
  {
   "cell_type": "code",
   "execution_count": 3,
   "metadata": {},
   "outputs": [],
   "source": [
    "sb.set()\n",
    "pd.set_option('display.max_colwidth', None)"
   ]
  },
  {
   "cell_type": "code",
   "execution_count": 4,
   "metadata": {},
   "outputs": [],
   "source": [
    "#download stopwords\n",
    "#nltk.download('stopwords')\n",
    "stemmer = nltk.SnowballStemmer(\"english\") #to reduce word to its stem > Lemmatization???\n",
    "stopword = set(stopwords.words(\"english\")) #to elimiate unimportand words, allowing applications to focus on the important word"
   ]
  },
  {
   "attachments": {},
   "cell_type": "markdown",
   "metadata": {},
   "source": [
    "## Helper functions"
   ]
  },
  {
   "cell_type": "code",
   "execution_count": 5,
   "metadata": {},
   "outputs": [],
   "source": [
    "def clean(text):\n",
    "    text = str(text).lower()\n",
    "    text = re.sub('\\[.*?\\]', '', text)\n",
    "    text = re.sub('https?://\\S+|www\\.\\S+', '', text) #replace URL\n",
    "    text = re.sub('<.*?>+', '', text)\n",
    "    text = re.sub('[%s]' % re.escape(string.punctuation), '', text) #remove punctuation\n",
    "    text = re.sub('\\n', '', text) #remove line break\n",
    "    text = re.sub('\\w*\\d\\w*', '', text) #\n",
    "    text = [word for word in text.split(' ') if word not in stopword]\n",
    "    text = [stemmer.stem(word) for word in text]\n",
    "    text = \" \".join(text)\n",
    "    return text"
   ]
  },
  {
   "cell_type": "code",
   "execution_count": null,
   "metadata": {},
   "outputs": [],
   "source": []
  },
  {
   "attachments": {},
   "cell_type": "markdown",
   "metadata": {},
   "source": [
    "### SE2019 dataset"
   ]
  },
  {
   "cell_type": "code",
   "execution_count": 34,
   "metadata": {},
   "outputs": [
    {
     "name": "stdout",
     "output_type": "stream",
     "text": [
      "<class 'pandas.core.frame.DataFrame'>\n",
      "RangeIndex: 9000 entries, 0 to 8999\n",
      "Data columns (total 2 columns):\n",
      " #   Column  Non-Null Count  Dtype \n",
      "---  ------  --------------  ----- \n",
      " 0   class   9000 non-null   object\n",
      " 1   text    9000 non-null   object\n",
      "dtypes: object(2)\n",
      "memory usage: 140.8+ KB\n"
     ]
    }
   ],
   "source": [
    "df = pd.read_csv(\"Dataset/SE2019/cleaned_data.csv\")\n",
    "df.info()"
   ]
  },
  {
   "cell_type": "code",
   "execution_count": 35,
   "metadata": {},
   "outputs": [
    {
     "data": {
      "text/html": [
       "<div>\n",
       "<style scoped>\n",
       "    .dataframe tbody tr th:only-of-type {\n",
       "        vertical-align: middle;\n",
       "    }\n",
       "\n",
       "    .dataframe tbody tr th {\n",
       "        vertical-align: top;\n",
       "    }\n",
       "\n",
       "    .dataframe thead th {\n",
       "        text-align: right;\n",
       "    }\n",
       "</style>\n",
       "<table border=\"1\" class=\"dataframe\">\n",
       "  <thead>\n",
       "    <tr style=\"text-align: right;\">\n",
       "      <th></th>\n",
       "      <th>class</th>\n",
       "      <th>text</th>\n",
       "    </tr>\n",
       "  </thead>\n",
       "  <tbody>\n",
       "    <tr>\n",
       "      <th>0</th>\n",
       "      <td>Hate</td>\n",
       "      <td>hurray save us  mani way potus realdonaldtrump lockthemup buildthewal enddaca boycottnfl boycottnik</td>\n",
       "    </tr>\n",
       "    <tr>\n",
       "      <th>1</th>\n",
       "      <td>Hate</td>\n",
       "      <td>would young fight age men vast major one escap war amp cannot fight like women children elderlyit major refuge actual refuge econom migrant tri get europ</td>\n",
       "    </tr>\n",
       "    <tr>\n",
       "      <th>2</th>\n",
       "      <td>Hate</td>\n",
       "      <td>kamalaharri illeg dump kid border like road kill refus unit hope get amnesti free educ welfar illeg familesbelongtogeth countri taxpay dime scam nodaca noamnesti sendth</td>\n",
       "    </tr>\n",
       "    <tr>\n",
       "      <th>3</th>\n",
       "      <td>Non-Hate</td>\n",
       "      <td>ny time near white state pose array problem immigr</td>\n",
       "    </tr>\n",
       "    <tr>\n",
       "      <th>4</th>\n",
       "      <td>Non-Hate</td>\n",
       "      <td>orban brussel european leader ignor peopl want migrant</td>\n",
       "    </tr>\n",
       "  </tbody>\n",
       "</table>\n",
       "</div>"
      ],
      "text/plain": [
       "      class   \n",
       "0      Hate  \\\n",
       "1      Hate   \n",
       "2      Hate   \n",
       "3  Non-Hate   \n",
       "4  Non-Hate   \n",
       "\n",
       "                                                                                                                                                                       text  \n",
       "0                                                                       hurray save us  mani way potus realdonaldtrump lockthemup buildthewal enddaca boycottnfl boycottnik  \n",
       "1                would young fight age men vast major one escap war amp cannot fight like women children elderlyit major refuge actual refuge econom migrant tri get europ   \n",
       "2  kamalaharri illeg dump kid border like road kill refus unit hope get amnesti free educ welfar illeg familesbelongtogeth countri taxpay dime scam nodaca noamnesti sendth  \n",
       "3                                                                                                                      ny time near white state pose array problem immigr    \n",
       "4                                                                                                                   orban brussel european leader ignor peopl want migrant   "
      ]
     },
     "execution_count": 35,
     "metadata": {},
     "output_type": "execute_result"
    }
   ],
   "source": [
    "df['text'] = df['text'].apply(clean)\n",
    "df.head()"
   ]
  },
  {
   "attachments": {},
   "cell_type": "markdown",
   "metadata": {},
   "source": [
    "## DecisionTreeClassifier"
   ]
  },
  {
   "cell_type": "code",
   "execution_count": 8,
   "metadata": {},
   "outputs": [],
   "source": [
    "#convert given text to a vector base\n",
    "from sklearn.feature_extraction.text import CountVectorizer\n",
    "from sklearn.tree import DecisionTreeClassifier"
   ]
  },
  {
   "attachments": {},
   "cell_type": "markdown",
   "metadata": {},
   "source": [
    "- The fit() method helps in fitting the training dataset into an estimator (ML algorithms).\n",
    "- The transform() helps in transforming the data into a more suitable form for the model.\n",
    "- The fit_transform() method combines the functionalities of both fit() and transform()."
   ]
  },
  {
   "cell_type": "code",
   "execution_count": 33,
   "metadata": {},
   "outputs": [
    {
     "name": "stdout",
     "output_type": "stream",
     "text": [
      "Train Set : (6300, 16324) (6300,)\n",
      "Test Set  : (2700, 16324) (2700,)\n",
      "\n",
      "Test Data Accuracy  :\t 0.7537037037037037\n",
      "\n",
      "              precision    recall  f1-score   support\n",
      "\n",
      "        Hate       0.71      0.68      0.69      1106\n",
      "    Non-Hate       0.78      0.81      0.79      1594\n",
      "\n",
      "    accuracy                           0.75      2700\n",
      "   macro avg       0.75      0.74      0.74      2700\n",
      "weighted avg       0.75      0.75      0.75      2700\n",
      "\n",
      "\n",
      "          Actual   Predict\n",
      "count       2700      2700\n",
      "unique         2         2\n",
      "top     Non-Hate  Non-Hate\n",
      "freq        1594      1639\n",
      "\n"
     ]
    },
    {
     "data": {
      "image/png": "[encoded data removed]",
      "text/plain": [
       "<Figure size 640x480 with 2 Axes>"
      ]
     },
     "metadata": {},
     "output_type": "display_data"
    }
   ],
   "source": [
    "x = np.array(df[\"text\"])\n",
    "y = np.array(df[\"class\"])\n",
    "\n",
    "# Initialize \n",
    "cv = CountVectorizer()\n",
    "x = cv.fit_transform(x)\n",
    "x_train, x_test, y_train, y_test = train_test_split(x,y, test_size = 0.30, random_state=42)\n",
    "\n",
    "print(\"Train Set :\", x_train.shape, y_train.shape) \n",
    "print(\"Test Set  :\", x_test.shape, y_test.shape) \n",
    "print()\n",
    "\n",
    "# Train data\n",
    "dtc = DecisionTreeClassifier()\n",
    "dtc.fit(x_train, y_train)\n",
    "\n",
    "\n",
    "# Predict data\n",
    "print(\"Test Data Accuracy  :\\t\", dtc.score(x_test, y_test))\n",
    "y_test_pred = dtc.predict(x_test)\n",
    "print()\n",
    "\n",
    "\n",
    "# Classification report\n",
    "print(classification_report(y_test, y_test_pred, labels=[\"Hate\",\"Non-Hate\"]))\n",
    "print()\n",
    "\n",
    "\n",
    "# Heatmap\n",
    "ax = plt.subplot()\n",
    "\n",
    "# Plot the two-way Confusion Matrix\n",
    "sb.heatmap(confusion_matrix(y_test, y_test_pred, labels=[\"Hate\",\"Non-Hate\"]), \n",
    "           annot = True, fmt=\".0f\", annot_kws={\"size\": 18}, ax=ax)\n",
    "\n",
    "ax.set_xlabel('Predicted')\n",
    "ax.set_ylabel('Actual')\n",
    "ax.xaxis.set_ticklabels([\"Hate\",\"Non-Hate\"])\n",
    "ax.yaxis.set_ticklabels([\"Hate\",\"Non-Hate\"])\n",
    "\n",
    "# Count\n",
    "df1 = pd.DataFrame({'Actual':y_test, 'Predict':y_test_pred})\n",
    "print(df1.describe())\n",
    "print()"
   ]
  },
  {
   "attachments": {},
   "cell_type": "markdown",
   "metadata": {},
   "source": [
    "## BERT\n",
    "\n",
    "- https://towardsdatascience.com/bert-explained-state-of-the-art-language-model-for-nlp-f8b21a9b6270\n",
    "- https://www.youtube.com/watch?v=hOCDJyZ6quA\n"
   ]
  },
  {
   "cell_type": "code",
   "execution_count": null,
   "metadata": {},
   "outputs": [],
   "source": []
  },
  {
   "attachments": {},
   "cell_type": "markdown",
   "metadata": {},
   "source": [
    "## SVM"
   ]
  },
  {
   "attachments": {},
   "cell_type": "markdown",
   "metadata": {},
   "source": [
    "## GPT"
   ]
  }
 ],
 "metadata": {
  "kernelspec": {
   "display_name": ".venv",
   "language": "python",
   "name": "python3"
  },
  "language_info": {
   "codemirror_mode": {
    "name": "ipython",
    "version": 3
   },
   "file_extension": ".py",
   "mimetype": "text/x-python",
   "name": "python",
   "nbconvert_exporter": "python",
   "pygments_lexer": "ipython3",
   "version": "3.11.1"
  },
  "orig_nbformat": 4
 },
 "nbformat": 4,
 "nbformat_minor": 2
}
